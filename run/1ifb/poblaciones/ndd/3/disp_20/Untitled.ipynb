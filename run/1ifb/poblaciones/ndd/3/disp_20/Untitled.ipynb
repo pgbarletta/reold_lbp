{
 "cells": [
  {
   "cell_type": "markdown",
   "metadata": {},
   "source": [
    "# Tengo q hacer esto pq no me está andando el script original. En algún momento lo arreglaré"
   ]
  },
  {
   "cell_type": "code",
   "execution_count": 1,
   "metadata": {},
   "outputs": [
    {
     "data": {
      "text/plain": [
       "displaceAA (generic function with 1 method)"
      ]
     },
     "execution_count": 1,
     "metadata": {},
     "output_type": "execute_result"
    }
   ],
   "source": [
    "#! /usr/local/env julia\n",
    "###############################################################################\n",
    "# Utility to displace a PDB along many vectors, generating 1 PDB for each\n",
    "# vector, useful for NDD analysis.\n",
    "# Calpha only.\n",
    "# by https://github.com/pgbarletta\n",
    "###############################################################################\n",
    "using Chemfiles, JUMD\n",
    "using StaticArrays\n",
    "using ArgParse\n",
    "using DelimitedFiles, LinearAlgebra, FileIO\n",
    "\n",
    "function displaceAA(in_frm, aa, aa_3, in_vec)\n",
    "    # Preparo variables\n",
    "    in_top = Topology(in_frm)\n",
    "    natoms = convert(Int64, size(in_top))\n",
    "    in_xyz = positions(in_frm)\n",
    "\n",
    "    # Determino orden de residuos (hay q actualizar el Julia Chemfiles)\n",
    "    tmp = Array{Int64}(undef, aa)\n",
    "    ids = Array{Int64}(undef, aa)\n",
    "    [ ids[i+1] = convert(Int64, id((Residue(in_top, i)))) for i = 0:aa-1 ]\n",
    "    idx = sortperm(ids)\n",
    "    # Determino el nro de atomos de c/ aminoácido\n",
    "    [ tmp[i+1] = size(Residue(in_top, i)) for i = 0:aa-1 ]\n",
    "    natom_aa = tmp[idx]\n",
    "\n",
    "    # Paso el vector columna de tamaño 1xaa_3 a 3xaa\n",
    "    vector = reshape(in_vec, 3, aa)\n",
    "    # Adapto el vector p/ darle la misma forma q la matriz de coordenadas\n",
    "    sum_mat = Array{Float64}(undef, 3, natoms)\n",
    "    cursor = 0\n",
    "    for i = 1:aa\n",
    "        if i == 1\n",
    "            sum_mat[:, 1:natom_aa[i]] = repeat(vector[:, 1], 1, natom_aa[i])\n",
    "            cursor = natom_aa[i]\n",
    "            continue\n",
    "        end\n",
    "        rango = collect(cursor+1:cursor + natom_aa[i])\n",
    "        sum_mat[:, rango] = repeat(vector[:, i], 1, natom_aa[i])\n",
    "        cursor += natom_aa[i]\n",
    "    end\n",
    "\n",
    "    # Listo, ahora puedo mover el pdb\n",
    "    out_frm = deepcopy(in_frm)\n",
    "    out_xyz = positions(out_frm)\n",
    "\n",
    "    # Tengo q hacer esto por ahora. Hasta q arreglemos Chemfiles.\n",
    "    for i = 1:size(in_xyz)[1]\n",
    "        for j = 1:size(in_xyz)[2]\n",
    "            out_xyz[i, j]  = round(in_xyz[i, j] + sum_mat[i, j], digits = 3)\n",
    "        end\n",
    "    end\n",
    "    return out_frm\n",
    "end"
   ]
  },
  {
   "cell_type": "code",
   "execution_count": 6,
   "metadata": {},
   "outputs": [
    {
     "name": "stderr",
     "output_type": "stream",
     "text": [
      "WARNING: redefining constant in_trj\n",
      "WARNING: redefining constant in_frm\n",
      "WARNING: redefining constant in_top\n"
     ]
    },
    {
     "data": {
      "text/plain": [
       "354"
      ]
     },
     "execution_count": 6,
     "metadata": {},
     "output_type": "execute_result"
    }
   ],
   "source": [
    "in_pdb_filename = \"../avg_1ifb.pdb\"\n",
    "modes_filename = \"../../../pca/3/3vol_modes_1ifb\"\n",
    "mul = 5\n",
    "suffix = \"1ifb\"\n",
    "amber_modes = true\n",
    "weights_filename = \"none\"\n",
    "\n",
    "# Read PDB\n",
    "const in_trj = Trajectory(in_pdb_filename)\n",
    "const in_frm = read(in_trj)\n",
    "const in_top = Topology(in_frm)\n",
    "const aa = convert(Int64, count_residues(in_top))\n",
    "const aa_3 = aa * 3\n",
    "nmodes = aa_3 - 6"
   ]
  },
  {
   "cell_type": "code",
   "execution_count": 7,
   "metadata": {},
   "outputs": [],
   "source": [
    "# Read input vectors and weights\n",
    "in_modes, weights = JUMD.readPtrajModes(modes_filename);"
   ]
  },
  {
   "cell_type": "code",
   "execution_count": 8,
   "metadata": {},
   "outputs": [],
   "source": [
    "# Ahora desplazo\n",
    "pdb_names = Array{String}(undef, nmodes)\n",
    "for i = 1:nmodes\n",
    "    # Escalo vector\n",
    "    modo = in_modes[:, i] .* mul ./ weights[i]\n",
    "    # Desplazo\n",
    "    out_frm = displaceAA(in_frm, aa, aa_3, modo);\n",
    "    # Y guardo\n",
    "    pdb_names[i] = joinpath(pwd(), string(i, \"_\", suffix, \".pdb\"))\n",
    "    out_trj = Trajectory(pdb_names[i], 'w')\n",
    "    write(out_trj, out_frm)\n",
    "    close(out_trj)\n",
    "end"
   ]
  },
  {
   "cell_type": "code",
   "execution_count": 9,
   "metadata": {},
   "outputs": [],
   "source": [
    "# Write in_ndd file\n",
    "in_ndd_filename = string(\"in_ndd_\", splitext(basename(in_pdb_filename))[1])\n",
    "in_ndd_location = dirname(in_pdb_filename)\n",
    "writedlm(joinpath(in_ndd_location, in_ndd_filename), pdb_names)"
   ]
  }
 ],
 "metadata": {
  "kernelspec": {
   "display_name": "Julia 1.0.1",
   "language": "julia",
   "name": "julia-1.0.1"
  },
  "language_info": {
   "file_extension": ".jl",
   "mimetype": "application/julia",
   "name": "julia",
   "version": "1.0.1"
  }
 },
 "nbformat": 4,
 "nbformat_minor": 2
}
