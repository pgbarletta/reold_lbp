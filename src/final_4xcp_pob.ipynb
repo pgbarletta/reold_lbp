{
 "cells": [
  {
   "cell_type": "code",
   "execution_count": 1,
   "metadata": {},
   "outputs": [
    {
     "data": {
      "text/plain": [
       "\"/home/pbarletta/labo/18/lbp/rtdos_log\""
      ]
     },
     "execution_count": 1,
     "metadata": {},
     "output_type": "execute_result"
    }
   ],
   "source": [
    "using DelimitedFiles, HDF5, FileIO\n",
    "using Plots, Rsvg, LaTeXStrings, AverageShiftedHistograms\n",
    "using Chemfiles, JUMD\n",
    "using LinearAlgebra, Statistics\n",
    "home = \"/home/pbarletta/labo/18/lbp/run\"\n",
    "rtdos = \"/home/pbarletta/labo/18/lbp/rtdos_log\"\n",
    "pyplot()"
   ]
  },
  {
   "cell_type": "markdown",
   "metadata": {},
   "source": [
    "### Lee modos, volumen original y  volúmenes NDD. Obtiene VGV"
   ]
  },
  {
   "cell_type": "code",
   "execution_count": 2,
   "metadata": {
    "collapsed": true
   },
   "outputs": [],
   "source": [
    "pdb = \"4xcp\"\n",
    "# Leo modos\n",
    "modes_4xcp, evals_4xcp = JUMD.read_ptraj_modes(\n",
    "    joinpath(home, pdb,  \"pca\", string(\"full_modes_\", pdb)))\n",
    "\n",
    "# AAs\n",
    "aa3 = convert(Int64, length(evals_4xcp))\n",
    "aa = convert(Int64, aa3 / 3)\n",
    "\n",
    "# Leo volumen de la traj\n",
    "trj_vol = convert(Array{Float64, 1}, \n",
    "    readdlm(joinpath(home, pdb, \"cavidad\", string(\"vol_trj_\", pdb)))[:, 3]);\n",
    "\n",
    "# Leo volúmene del average\n",
    "vol_avg_4xcp = convert(Float64, readdlm(joinpath(home, pdb,  \"ndd\", string(\"vol_avg_\", pdb)))[3])\n",
    "\n",
    "# Leo volúmenes NDD\n",
    "ndd_out_4xcp = convert(Array{Float64, 1},\n",
    "    readdlm(joinpath(home, pdb,  \"ndd\", string(\"out_ndd_\", pdb)))[2:end, 2])\n",
    "\n",
    "# VGV\n",
    "vgv_4xcp = (ndd_out_4xcp .- vol_avg_4xcp) .* evals_4xcp\n",
    "vgv_4xcp = vgv_4xcp ./ norm(vgv_4xcp);"
   ]
  },
  {
   "cell_type": "markdown",
   "metadata": {},
   "source": [
    "### Obtengo proyecciones de PCA sobre trayectoria"
   ]
  },
  {
   "cell_type": "code",
   "execution_count": 3,
   "metadata": {},
   "outputs": [],
   "source": [
    "dif = h5read(joinpath(rtdos, string(\"diff_\", pdb, \".h5\")), \"dif\")\n",
    "norm_dif = mapslices(x -> x ./ norm(x), dif,  dims = 1)\n",
    "nframes = size(dif)[2]\n",
    "\n",
    "prj_1_4xcp = Array{Float64, 1}(undef, nframes)\n",
    "prj_2_4xcp = Array{Float64, 1}(undef, nframes)\n",
    "prj_3_4xcp = Array{Float64, 1}(undef, nframes)\n",
    "\n",
    "for i = 1:nframes\n",
    "    prj_1_4xcp[i] = dot(norm_dif[:, i], modes_4xcp[:, 1])\n",
    "    prj_2_4xcp[i] = dot(norm_dif[:, i], modes_4xcp[:, 2])\n",
    "    prj_3_4xcp[i] = dot(norm_dif[:, i], modes_4xcp[:, 3])\n",
    "end\n",
    "\n",
    "# Smooth\n",
    "smooth_prj_1_4xcp = [ mean(prj_1_4xcp[i:i+9]) for i = 1:10:length(prj_1_4xcp)-9 ]\n",
    "smooth_prj_2_4xcp = [ mean(prj_2_4xcp[i:i+9]) for i = 1:10:length(prj_2_4xcp)-9 ]\n",
    "smooth_prj_3_4xcp = [ mean(prj_3_4xcp[i:i+9]) for i = 1:10:length(prj_3_4xcp)-9 ];"
   ]
  },
  {
   "cell_type": "markdown",
   "metadata": {},
   "source": [
    "# Energía de poblaciones"
   ]
  },
  {
   "cell_type": "code",
   "execution_count": null,
   "metadata": {},
   "outputs": [],
   "source": [
    "# Leo modos\n",
    "modes_0, evals_0 = JUMD.read_ptraj_modes(joinpath(home, pdb, \"poblaciones\", \"pca\", string(\"full_modes_\", pdb, \"_0\")))\n",
    "modes_1, evals_1 = JUMD.read_ptraj_modes(joinpath(home, pdb, \"poblaciones\", \"pca\", string(\"full_modes_\", pdb, \"_1\")))\n",
    "modes_2, evals_2 = JUMD.read_ptraj_modes(joinpath(home, pdb, \"poblaciones\", \"pca\", string(\"full_modes_\", pdb, \"_2\")))\n",
    "\n",
    "# Leo volúmenes originales\n",
    "vol_avg_0 = convert(Float64, readdlm(joinpath(home, pdb, \"poblaciones\", \"ndd\", \"0\", string(\"vol_avg_\", pdb, \"_0\")))[2])\n",
    "vol_avg_1 = convert(Float64, readdlm(joinpath(home, pdb, \"poblaciones\", \"ndd\", \"1\", string(\"vol_avg_\", pdb, \"_1\")))[2])\n",
    "vol_avg_2 = convert(Float64, readdlm(joinpath(home, pdb, \"poblaciones\", \"ndd\", \"2\", string(\"vol_avg_\", pdb, \"_2\")))[2])\n",
    "\n",
    "# Leo volúmenes NDD\n",
    "ndd_out_0 = convert(Array{Float64, 1},\n",
    "    readdlm(joinpath(home, pdb, \"poblaciones\", \"ndd\", \"0\", string(\"out_ndd_\", pdb, \"_0\")))[2:end, 2])\n",
    "# VGV\n",
    "vgv_0 = ndd_out_0 .- vol_avg_0\n",
    "vgv_0 = vgv_0 ./ norm(vgv_0);\n",
    "\n",
    "# Leo volúmenes NDD\n",
    "ndd_out_1 = convert(Array{Float64, 1},\n",
    "    readdlm(joinpath(home, pdb, \"poblaciones\", \"ndd\", \"1\", string(\"out_ndd_\", pdb, \"_1\")))[2:end, 2])\n",
    "# VGV\n",
    "vgv_1 = ndd_out_1 .- vol_avg_1\n",
    "vgv_1 = vgv_1 ./ norm(vgv_1);\n",
    "\n",
    "# Leo volúmenes NDD\n",
    "ndd_out_2 = convert(Array{Float64, 1},\n",
    "    readdlm(joinpath(home, pdb, \"poblaciones\", \"ndd\", \"2\", string(\"out_ndd_\", pdb, \"_2\")))[2:end, 2])\n",
    "# VGV\n",
    "vgv_2 = ndd_out_2 .- vol_avg_2\n",
    "vgv_2 = vgv_2 ./ norm(vgv_2);"
   ]
  },
  {
   "cell_type": "code",
   "execution_count": null,
   "metadata": {},
   "outputs": [],
   "source": [
    "points = 21\n",
    "maxi = floor(points / 2)\n",
    "mini = -maxi\n",
    "RT = 0.693\n",
    "\n",
    "E_0 = Array{Float64,1}(points)\n",
    "i = 0\n",
    "for d = mini:maxi\n",
    "    i+=1\n",
    "    E_0[i] = JUMD.energia_gdte(evals_0, vgv_0, d * 5E-1)\n",
    "end\n",
    "\n",
    "points = 21\n",
    "maxi = floor(points / 2)\n",
    "mini = -maxi\n",
    "RT = 0.693\n",
    "\n",
    "E_1 = Array{Float64,1}(points)\n",
    "i = 0\n",
    "for d = mini:maxi\n",
    "    i+=1\n",
    "    E_1[i] = JUMD.energia_gdte(evals_1, vgv_1, d * 5E-1)\n",
    "end\n",
    "\n",
    "points = 21\n",
    "maxi = floor(points / 2)\n",
    "mini = -maxi\n",
    "RT = 0.693\n",
    "\n",
    "E_2 = Array{Float64,1}(points)\n",
    "i = 0\n",
    "for d = mini:maxi\n",
    "    i+=1\n",
    "    E_2[i] = JUMD.energia_gdte(evals_2, vgv_2, d * 5E-1)\n",
    "end"
   ]
  },
  {
   "cell_type": "code",
   "execution_count": null,
   "metadata": {},
   "outputs": [],
   "source": [
    "plt_u = plot(collect(-5:.5:5), E_0,\n",
    "    yaxis = \"U\", xaxis = \"Displacement\", title = \"Energia\",\n",
    "    xticks = -5:1:5,\n",
    "    ylims = (0, 1.),\n",
    "    lab = \"E_0\", size = (750, 400))\n",
    "plot!(plt_u, collect(-5:.5:5), E_1, lab = \"E_1\")\n",
    "plot!(plt_u, collect(-5:.5:5), E_2, lab = \"E_2\")\n",
    "hline!(plt_u, [RT], lab = \"RT\")"
   ]
  },
  {
   "cell_type": "markdown",
   "metadata": {},
   "source": [
    "#### Leo los vectores diferencia y los normalizo\n",
    "#### Obtengo las proyecciónes de vectores diferencia sobre los 1eros PCA"
   ]
  },
  {
   "cell_type": "markdown",
   "metadata": {},
   "source": [
    "## Separo las poblaciones según PCA"
   ]
  },
  {
   "cell_type": "markdown",
   "metadata": {},
   "source": [
    "cuentas = 125\n",
    "in_bins = collect(-1:.025:1)\n",
    "his_ind_12, his_12 = JUMD.MatHisInd2D(prj_1_4xcp, prj_2_4xcp, in_bins, in_bins);\n",
    "his_ind_13, his_13 = JUMD.MatHisInd2D(prj_1_4xcp, prj_3_4xcp, in_bins, in_bins);\n",
    "his_ind_23, his_23 = JUMD.MatHisInd2D(prj_2_4xcp, prj_3_4xcp, in_bins, in_bins);\n",
    "\n",
    "msk_12 = his_12 .> cuentas\n",
    "main_his_12 = his_12[msk_12]\n",
    "main_his_ind_12 = his_ind_12[msk_12];\n",
    "\n",
    "msk_13 = his_13 .> cuentas\n",
    "main_his_13 = his_13[msk_13]\n",
    "main_his_ind_13 = his_ind_13[msk_13];\n",
    "\n",
    "msk_23 = his_23 .> cuentas\n",
    "main_his_23 = his_23[msk_23]\n",
    "main_his_ind_23 = his_ind_23[msk_23];\n",
    "\n",
    "# 1\n",
    "spy(msk_12[15:50, 20:32])\n",
    "# 2\n",
    "spy(msk_12[69:80, 25:55])\n",
    "# 3\n",
    "spy(msk_12[25:48, 70:80])\n",
    "\n",
    "idx_vol1 = collect(Iterators.flatten(his_ind_12[15:50, 20:32]))\n",
    "idx_vol2 = collect(Iterators.flatten(his_ind_12[69:80, 25:55]))\n",
    "idx_vol3 = collect(Iterators.flatten(his_ind_12[25:48, 70:80]));\n",
    "\n",
    "# Indices de poblaciones\n",
    "writedlm(joinpath(rtdos, string(pdb, \"_idx_vol1\")), idx_vol1)\n",
    "writedlm(joinpath(rtdos, string(pdb, \"_idx_vol2\")), idx_vol2)\n",
    "writedlm(joinpath(rtdos, string(pdb, \"_idx_vol3\")), idx_vol3)"
   ]
  },
  {
   "cell_type": "markdown",
   "metadata": {},
   "source": [
    "# Preparo\n",
    "in_trj = Trajectory(joinpath(home, pdb, \"pca\", string(\"full_avgfit_\", pdb, \".nc\")))\n",
    "nframes = convert(Int64, nsteps(in_trj))\n",
    "close(in_trj)\n",
    "\n",
    "# Uso esto p/ dividir las trayectorias a escribir en 10 partes y q\n",
    "# no me llenen la memoria\n",
    "function filter_trj(indices::Array{Int64, 1},\n",
    "    in_filename::AbstractString, ou_filename::AbstractString)\n",
    "    # Divide la corrida en 10 secciones\n",
    "    idx_ = convert(Int64, ceil(length(indices) / 10))\n",
    "    secc = [ collect(1:idx_:length(indices)) ; length(indices) ]\n",
    "    secc[end] += 1\n",
    "    \n",
    "    ou_trj = Trajectory(ou_filename, 'w')\n",
    "    for j in 1:length(secc) - 1\n",
    "        in_trj = Trajectory(in_filename)\n",
    "        for i in secc[j]:secc[j+1]-1\n",
    "            in_frm = read_step(in_trj, indices[i] - 1)\n",
    "            write(ou_trj, in_frm)\n",
    "        end\n",
    "        close(in_trj)\n",
    "        println(j)\n",
    "        GC.gc()\n",
    "    end\n",
    "    close(ou_trj)\n",
    "end\n",
    "\n",
    "filter_trj(idx_vol1, joinpath(home, pdb, \"pca\", string(\"full_avgfit_\", pdb, \".nc\")),\n",
    "    joinpath(home, pdb, string(\"poblaciones/vol1_\", pdb, \".nc\")))\n",
    "filter_trj(idx_vol2, joinpath(home, pdb, \"pca\", string(\"full_avgfit_\", pdb, \".nc\")),\n",
    "    joinpath(home, pdb, string(\"poblaciones/vol2_\", pdb, \".nc\")))\n",
    "filter_trj(idx_vol3, joinpath(home, pdb, \"pca\", string(\"full_avgfit_\", pdb, \".nc\")),\n",
    "    joinpath(home, pdb, string(\"poblaciones/vol3_\", pdb, \".nc\")))"
   ]
  },
  {
   "cell_type": "code",
   "execution_count": 6,
   "metadata": {
    "collapsed": true
   },
   "outputs": [],
   "source": [
    "idx_vol1 = convert(Array{Int64}, readdlm(joinpath(rtdos, string(pdb, \"_idx_vol1\")))[:, 1])\n",
    "idx_vol2 = convert(Array{Int64}, readdlm(joinpath(rtdos, string(pdb, \"_idx_vol2\")))[:, 1])\n",
    "idx_vol3 = convert(Array{Int64}, readdlm(joinpath(rtdos, string(pdb, \"_idx_vol3\")))[:, 1])\n",
    "\n",
    "# Estiro el volumen \n",
    "full_trj_vol = Array{Float64}(undef, length(trj_vol)*10)\n",
    "for i = 1:length(trj_vol)\n",
    "    k = (i-1) * 10 + 1\n",
    "    full_trj_vol[k:k+9] =  fill(trj_vol[i], 10)\n",
    "end\n",
    "\n",
    "trj_vol1 = full_trj_vol[idx_vol1]\n",
    "trj_vol2 = full_trj_vol[idx_vol2]\n",
    "trj_vol3 = full_trj_vol[idx_vol3];"
   ]
  },
  {
   "cell_type": "code",
   "execution_count": 59,
   "metadata": {},
   "outputs": [
    {
     "data": {
      "image/png": "[encoded data removed]"
     },
     "execution_count": 59,
     "metadata": {},
     "output_type": "execute_result"
    }
   ],
   "source": [
    "st = 40\n",
    "bw = 28\n",
    "fa = .7\n",
    "bin_range = 700:st:2300\n",
    "bin_vol = collect(bin_range)\n",
    "\n",
    "# Histograma ponderado\n",
    "\n",
    "wgh_vol = fill(1.0, length(idx_vol1))\n",
    "bin_vol1_4xcp, his_vol1_4xcp = JUMD.WeightedHist(trj_vol1, bin_vol, wgh_vol, true, false)\n",
    "\n",
    "wgh_vol = fill(1.0, length(idx_vol2))\n",
    "bin_vol2_4xcp, his_vol2_4xcp = JUMD.WeightedHist(trj_vol2, bin_vol, wgh_vol, true, false)\n",
    "\n",
    "wgh_vol = fill(1.0, length(idx_vol3))\n",
    "bin_vol3_4xcp, his_vol3_4xcp = JUMD.WeightedHist(trj_vol3, bin_vol, wgh_vol, true, false)\n",
    "\n",
    "plt_his_vols = bar(bin_vol1_4xcp .+ st/3, his_vol1_4xcp, label = \"pop 1\", fillalpha = fa,\n",
    "    bar_width = bw, fillcolor = colorant\"#3DDAD7\",\n",
    "    \n",
    "    xticks = 1E3:250:2E3, yticks = .05:.05:.2,\n",
    "    xlims = (700, 2300), ylims = (0, .2),\n",
    "    linecolor = false, legend = (.9, .95),\n",
    "    \n",
    "    grid = false, guidefont = font(16, \"cursive\"), tickfont = font(11, \"cursive\"),\n",
    "    yaxis = L\"Frequency $[cm^{-1}]$\", xaxis = L\"Volume $[\\AA^3]$ \")\n",
    "\n",
    "bar!(bin_vol2_4xcp, his_vol2_4xcp, label = \"pop 2\", fillalpha = fa,\n",
    "    bar_width = bw, fillcolor = colorant\"#2A93D5\", linecolor = false)\n",
    "\n",
    "bar!(bin_vol3_4xcp .- st/3, his_vol3_4xcp, label = \"pop 3\", fillalpha = fa,\n",
    "    bar_width = bw, fillcolor = colorant\"#6d138b\", linecolor = false)"
   ]
  },
  {
   "cell_type": "code",
   "execution_count": 52,
   "metadata": {},
   "outputs": [],
   "source": [
    "savefig(plt_his_vols, joinpath(rtdos, \"papel\", \"3\", string(\"3_VolHis_bars_\", pdb, \".svg\")))"
   ]
  },
  {
   "cell_type": "code",
   "execution_count": 60,
   "metadata": {},
   "outputs": [
    {
     "data": {
      "image/png": "[encoded data removed]"
     },
     "execution_count": 60,
     "metadata": {},
     "output_type": "execute_result"
    }
   ],
   "source": [
    "# Suavizado\n",
    "m_ = 2\n",
    "ash_vol_1 = ash(trj_vol1, rng = bin_range, m = m_, kernel = AverageShiftedHistograms.Kernels.gaussian)\n",
    "xy_ash_vol_1 = xy(ash_vol_1)\n",
    "xy_ash_vol_1[2][:] = xy_ash_vol_1[2] .*  (maximum(his_vol1_4xcp) / maximum(xy_ash_vol_1[2]))\n",
    "\n",
    "ash_vol_2 = ash(trj_vol2, rng = bin_range, m = m_, kernel = AverageShiftedHistograms.Kernels.gaussian)\n",
    "xy_ash_vol_2 = xy(ash_vol_2)\n",
    "xy_ash_vol_2[2][:] = xy_ash_vol_2[2] .*  (maximum(his_vol2_4xcp) / maximum(xy_ash_vol_2[2]))\n",
    "\n",
    "ash_vol_3 = ash(trj_vol3, rng = bin_range, m = m_, kernel = AverageShiftedHistograms.Kernels.gaussian)\n",
    "xy_ash_vol_3 = xy(ash_vol_3)\n",
    "xy_ash_vol_3[2][:] = xy_ash_vol_3[2] .*  (maximum(his_vol3_4xcp) / maximum(xy_ash_vol_3[2]))\n",
    "\n",
    "plt_his_vols = plot(xy_ash_vol_1, linecolor = colorant\"#3DDAD7\",\n",
    "    label = \"pop 1\", linewidth = 3, \n",
    "    \n",
    "    xticks = 1E3:250:2E3, yticks = .05:.05:.2,\n",
    "    xlims = (700, 2300), ylims = (0, .2),\n",
    "    legend = (.9, .95),\n",
    "    grid = false, guidefont = font(16, \"cursive\"), tickfont = font(11, \"cursive\"),\n",
    "    yaxis = L\"Frequency $[cm^{-1}]$\", xaxis = L\"Volume $[\\AA^3]$ \")\n",
    "\n",
    "plot!(xy_ash_vol_2, linecolor = colorant\"#2A93D5\", label = \"pop 2\", linewidth = 3)\n",
    "plot!(xy_ash_vol_3, linecolor = colorant\"#6d138b\", label = \"pop 3\", linewidth = 3)"
   ]
  },
  {
   "cell_type": "code",
   "execution_count": 61,
   "metadata": {},
   "outputs": [],
   "source": [
    "savefig(plt_his_vols, joinpath(rtdos, \"papel\", \"3\", string(\"3_VolHis_\", pdb, \".svg\")))"
   ]
  },
  {
   "cell_type": "code",
   "execution_count": 7,
   "metadata": {},
   "outputs": [
    {
     "data": {
      "text/plain": [
       "3×2 Array{Float64,2}:\n",
       " 1567.64  222.059\n",
       " 1211.21  150.376\n",
       " 1130.05  125.841"
      ]
     },
     "execution_count": 7,
     "metadata": {},
     "output_type": "execute_result"
    }
   ],
   "source": [
    "hcat([ mean(trj_vol1) ; mean(trj_vol2) ; mean(trj_vol3) ],\n",
    "    [ std(trj_vol1) ; std(trj_vol2) ; std(trj_vol3) ])"
   ]
  },
  {
   "cell_type": "code",
   "execution_count": 14,
   "metadata": {},
   "outputs": [],
   "source": [
    "trj_vol1_smooth = [ mean(trj_vol1[i:i+10]) for i = 1:10:length(trj_vol1)-10 ]\n",
    "trj_vol2_smooth = [ mean(trj_vol2[i:i+10]) for i = 1:10:length(trj_vol2)-10 ]\n",
    "trj_vol3_smooth = [ mean(trj_vol3[i:i+10]) for i = 1:10:length(trj_vol3)-10 ]\n",
    "\n",
    "idx_vol1_smooth = [ idx_vol1[i] for i = 1:10:length(idx_vol1)-10 ]\n",
    "idx_vol2_smooth = [ idx_vol2[i] for i = 1:10:length(idx_vol2)-10 ]\n",
    "idx_vol3_smooth = [ idx_vol3[i] for i = 1:10:length(idx_vol3)-10 ];\n",
    "\n",
    "grupos = [ fill(\"pop 1\", length(idx_vol1_smooth)) ; fill(\"pop 2\", length(idx_vol2_smooth)) ; \n",
    "    fill(\"pop 3\", length(idx_vol3_smooth)) ];"
   ]
  },
  {
   "cell_type": "code",
   "execution_count": 48,
   "metadata": {},
   "outputs": [],
   "source": [
    "plt_vol_pop = scatter(idx_vol1_smooth, trj_vol1_smooth,  label = \"pop 1\",\n",
    "    markersize = 2., markeralpha = .3, markerstrokewidth = .1, seriescolor = colorant\"##3DDAD7\",\n",
    "    \n",
    "    grid = false, guidefont = font(16, \"cursive\"), tickfont = font(11, \"cursive\"),\n",
    "    yaxis = L\"Frequency $[cm^{-1}]$\", xaxis = L\"Volume $[\\AA^3]$ \",\n",
    "    legend = (.9, .95))\n",
    "\n",
    "scatter!(idx_vol2_smooth, trj_vol2_smooth, label = \"pop 2\",\n",
    "    markersize = 2., markeralpha = .3, markerstrokewidth = .1, seriescolor = colorant\"#2A93D5\")\n",
    "\n",
    "scatter!(idx_vol3_smooth, trj_vol3_smooth, label = \"pop 3\",\n",
    "    markersize = 2., markeralpha = .3, markerstrokewidth = .1, seriescolor = colorant\"#6d138b\");"
   ]
  },
  {
   "cell_type": "code",
   "execution_count": 47,
   "metadata": {},
   "outputs": [],
   "source": [
    "savefig(plt_vol_pop, joinpath(rtdos, \"papel\", \"3\", string(\"3_Vol_\", pdb, \".svg\")))"
   ]
  },
  {
   "cell_type": "markdown",
   "metadata": {},
   "source": [
    "### RMSD de lig en poblaciones prot. Guardo el frame más similar al avg"
   ]
  },
  {
   "cell_type": "markdown",
   "metadata": {},
   "source": [
    "rmsd_vol1 = convert(Array{Float64, 1}, readdlm(joinpath(\n",
    "            home, pdb, \"poblaciones\", \"intra\", string(\"rmsd_vol1\")))[2:end, 2])\n",
    "rmsd_vol2 = convert(Array{Float64, 1}, readdlm(joinpath(\n",
    "                home, pdb, \"poblaciones\", \"intra\", string(\"rmsd_vol2\")))[2:end, 2])\n",
    "rmsd_vol3 = convert(Array{Float64, 1}, readdlm(joinpath(\n",
    "                    home, pdb, \"poblaciones\", \"intra\", string(\"rmsd_vol3\")))[2:end, 2]);\n",
    "\n",
    "### Volume 1\n",
    "trj_in = Trajectory(joinpath(home, pdb, \"poblaciones\", string(\"vol1_\", pdb, \".nc\")))\n",
    "in_top_trj = Trajectory(joinpath(home, pdb, \"poblaciones\", \"intra\", string(\"avg_vol1_\", pdb, \".pdb\")))\n",
    "in_top_frm = read(in_top_trj)\n",
    "in_top = Topology(in_top_frm)\n",
    "in_frm = read_step(trj_in, argmin(rmsd_vol1) - 1)\n",
    "set_topology!(in_frm, in_top)\n",
    "trj_out = Trajectory(joinpath(home, pdb, \"poblaciones\", \"intra\", string(\"top_vol1_\", pdb, \".pdb\")), 'w')\n",
    "write(trj_out, in_frm)\n",
    "close(trj_out)\n",
    "close(trj_in)\n",
    "\n",
    "### Volume 2\n",
    "trj_in = Trajectory(joinpath(home, pdb, \"poblaciones\", string(\"vol2_\", pdb, \".nc\")))\n",
    "in_top_trj = Trajectory(joinpath(home, pdb, \"poblaciones\", \"intra\", string(\"avg_vol2_\", pdb, \".pdb\")))\n",
    "in_top_frm = read(in_top_trj)\n",
    "in_top = Topology(in_top_frm)\n",
    "in_frm = read_step(trj_in, argmin(rmsd_vol2) - 1)\n",
    "set_topology!(in_frm, in_top)\n",
    "trj_out = Trajectory(joinpath(home, pdb, \"poblaciones\", \"intra\", string(\"top_vol2_\", pdb, \".pdb\")), 'w')\n",
    "write(trj_out, in_frm)\n",
    "close(trj_out)\n",
    "close(trj_in)\n",
    "\n",
    "### Volume 3\n",
    "trj_in = Trajectory(joinpath(home, pdb, \"poblaciones\", string(\"vol3_\", pdb, \".nc\")))\n",
    "in_top_trj = Trajectory(joinpath(home, pdb, \"poblaciones\", \"intra\", string(\"avg_vol3_\", pdb, \".pdb\")))\n",
    "in_top_frm = read(in_top_trj)\n",
    "in_top = Topology(in_top_frm)\n",
    "in_frm = read_step(trj_in, argmin(rmsd_vol3) - 1)\n",
    "set_topology!(in_frm, in_top)\n",
    "trj_out = Trajectory(joinpath(home, pdb, \"poblaciones\", \"intra\", string(\"top_vol3_\", pdb, \".pdb\")), 'w')\n",
    "write(trj_out, in_frm)\n",
    "close(trj_out)\n",
    "close(trj_in)"
   ]
  }
 ],
 "metadata": {
  "anaconda-cloud": {},
  "kernelspec": {
   "display_name": "Julia 1.0.1",
   "language": "julia",
   "name": "julia-1.0.1"
  },
  "language_info": {
   "file_extension": ".jl",
   "mimetype": "application/julia",
   "name": "julia",
   "version": "1.0.1"
  }
 },
 "nbformat": 4,
 "nbformat_minor": 2
}
