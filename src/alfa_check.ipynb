{
 "cells": [
  {
   "cell_type": "code",
   "execution_count": 12,
   "metadata": {},
   "outputs": [
    {
     "data": {
      "text/plain": [
       "\"/home/german/labo/18/lbp/run\""
      ]
     },
     "execution_count": 12,
     "metadata": {},
     "output_type": "execute_result"
    }
   ],
   "source": [
    "using DataFrames\n",
    "using Gadfly\n",
    "set_default_plot_size(30cm, 12cm)\n",
    "home = \"/home/german/labo/18/lbp/run\""
   ]
  },
  {
   "cell_type": "code",
   "execution_count": 6,
   "metadata": {},
   "outputs": [
    {
     "data": {
      "text/plain": [
       "tognm (generic function with 1 method)"
      ]
     },
     "execution_count": 6,
     "metadata": {},
     "output_type": "execute_result"
    }
   ],
   "source": [
    "function tognm(vtor_anm)\n",
    "    vtor_gnm = Array{Float64}(convert(Int64, length(vtor_anm)/3));\n",
    "    vtor_anm =  vtor_anm.^2\n",
    "    for i=1:convert(Int64, length(vtor_anm)/3)\n",
    "        vtor_gnm[i] = sqrt(vtor_anm[i*3-2] + vtor_anm[i*3-1] + vtor_anm[i*3])\n",
    "    end\n",
    "    return vtor_gnm\n",
    "end"
   ]
  },
  {
   "cell_type": "code",
   "execution_count": null,
   "metadata": {
    "collapsed": true
   },
   "outputs": [],
   "source": [
    "function dist_mode(freq::Float64)\n",
    "    # Declaro cte de boltzmann, avogadro, y temperatura.\n",
    "    Kb = 1.38064852e-23\n",
    "    A = 6.0221409e+23\n",
    "    T = 298\n",
    "    AKbT = A * Kb * T\n",
    "    \n",
    "    return d^2 * 0.5 * KBT * evals.^2 / cte # KJ/mol\n",
    "end"
   ]
  },
  {
   "cell_type": "code",
   "execution_count": null,
   "metadata": {
    "collapsed": true
   },
   "outputs": [],
   "source": [
    "function energia_gdte(evals::Array{Float64, 1}, gdte::Array{Float64, 1}, d::Float64 = 1.)\n",
    "\n",
    "    if length(evals) != length(gdte)\n",
    "        error(\"Lengths of evals and gdte don't match. Aborting.\") \n",
    "    end\n",
    "    \n",
    "    # Declaro cte de boltzmann, avogadro, y temperatura.\n",
    "    KB = 1.38064852e-23\n",
    "    avgdro = 6.0221409e+23\n",
    "    T = 298\n",
    "    KBT = 0.593 # \n",
    "    cte = 11792.08316093831\n",
    "    \n",
    "    return d^2 * 0.5 * KBT * sum(evals.^2 .* gdte.^2) / cte # KJ/mol\n",
    "end"
   ]
  },
  {
   "cell_type": "code",
   "execution_count": null,
   "metadata": {
    "collapsed": true
   },
   "outputs": [],
   "source": [
    "function energia_modes(evals::Array{Float64, 1}, d::Float64 = 1.)\n",
    "    \n",
    "    # Declaro cte de boltzmann, avogadro, y temperatura.\n",
    "    KB = 1.38064852e-23\n",
    "    avgdro = 6.0221409e+23\n",
    "    T = 298\n",
    "    KBT = 0.593 # \n",
    "    cte = 11792.08316093831\n",
    "\n",
    "    return d^2 * 0.5 * KBT * sum(evals.^2) / cte # KJ/mol\n",
    "end"
   ]
  },
  {
   "cell_type": "code",
   "execution_count": null,
   "metadata": {
    "collapsed": true
   },
   "outputs": [],
   "source": [
    "function E_modes_wvgv(evals::Array{Float64, 1}, gdte::Array{Float64, 1}, d::Float64 = 1.)\n",
    "\n",
    "    if length(evals) != length(gdte)\n",
    "        error(\"Lengths of evals and gdte don't match. Aborting.\") \n",
    "    end\n",
    "    \n",
    "    # Declaro cte de boltzmann, avogadro, y temperatura.\n",
    "    KB = 1.38064852e-23\n",
    "    avgdro = 6.0221409e+23\n",
    "    T = 298\n",
    "    KBT = 0.593 # \n",
    "    cte = 11792.08316093831\n",
    "    \n",
    "    return d^2 * 0.5 * KBT * (evals.^2 .* gdte.^2) / cte # KJ/mol\n",
    "end"
   ]
  },
  {
   "cell_type": "code",
   "execution_count": null,
   "metadata": {
    "collapsed": true
   },
   "outputs": [],
   "source": [
    "function E_modes(evals::Array{Float64, 1}, d::Float64 = 1.)\n",
    "    \n",
    "    # Declaro cte de boltzmann, avogadro, y temperatura.\n",
    "    KB = 1.38064852e-23\n",
    "    avgdro = 6.0221409e+23\n",
    "    T = 298\n",
    "    KBT = 0.593 # \n",
    "    cte = 11792.08316093831\n",
    "    \n",
    "    return d^2 * 0.5 * KBT * evals.^2 / cte # KJ/mol\n",
    "end"
   ]
  },
  {
   "cell_type": "code",
   "execution_count": 5,
   "metadata": {},
   "outputs": [
    {
     "data": {
      "text/plain": [
       "read_ptraj_modes (generic function with 3 methods)"
      ]
     },
     "execution_count": 5,
     "metadata": {},
     "output_type": "execute_result"
    }
   ],
   "source": [
    "function read_ptraj_modes(filename, nmodes::Int64=0, norma::Bool=true)\n",
    "    modes_text = readdlm(filename, skipstart=0, skipblanks=true, comments=true,\n",
    "        comment_char='\\*')\n",
    "\n",
    "    if nmodes == 0\n",
    "        nmodes = modes_text[1, 5]\n",
    "    end\n",
    "    modes_elements = modes_text[2, 1]\n",
    "\n",
    "    ncoords = convert(Int64, modes_elements)\n",
    "    lines = ceil(Int64, ncoords/7)\n",
    "    rest = convert(Int64, ncoords % 7)\n",
    "\n",
    "    eval = Array{Float64}(nmodes);\n",
    "    mode = Array{Float64}(ncoords, nmodes);\n",
    "    temp1 = Array{Float64}(ncoords, 1);\n",
    "    temp2 = Array{Float64}(ncoords+(7-rest));\n",
    "\n",
    "    j=lines + 1 + 2 # 1 p/ q lea la prox linea 2 por el header\n",
    "    for i=1:nmodes\n",
    "        eval[i] = modes_text[j, 2]\n",
    "        temp = permutedims(modes_text[(j+1):(lines+j), :], [2, 1])\n",
    "        temp2 = reshape(temp, ncoords+(7-rest))\n",
    "        for k=(rest+1):7\n",
    "            pop!(temp2)\n",
    "        end\n",
    "        mode[:, i] = temp2\n",
    "        j = j + lines + 1\n",
    "    end\n",
    "\n",
    "    if norma == true\n",
    "        for i=1:nmodes\n",
    "            mode[: ,i] = mode[:, i] / norm(mode[:, i])\n",
    "        end\n",
    "    end\n",
    "\n",
    "    return mode, eval\n",
    "end"
   ]
  },
  {
   "cell_type": "markdown",
   "metadata": {},
   "source": [
    "## Lee modos, volumen original y  volúmenes NDD.\n",
    "## Obtiene VGV"
   ]
  },
  {
   "cell_type": "code",
   "execution_count": 66,
   "metadata": {},
   "outputs": [],
   "source": [
    "pdb_list = [ \"1ael\" ; \"1ure\" ; \"4uet\" ; \"4xcp\" ]\n",
    "\n",
    "# Leo modos\n",
    "for each in pdb_list\n",
    "    sym_mode = Symbol(\"modes_\", each)\n",
    "    sym_eval = Symbol(\"evals_\", each)\n",
    "    tmp_mode, tmp_eval = read_ptraj_modes(joinpath(home, each,  \"pca\", string(\"full_modes_\", each)))\n",
    "    eval(:($sym_mode = $tmp_mode))\n",
    "    eval(:($sym_eval = $tmp_eval))\n",
    "end\n",
    "\n",
    "# Leo volúmenes originales\n",
    "for each in pdb_list\n",
    "    sym_vol = Symbol(\"vol_avg_\", each)\n",
    "    tmp_vol = convert(Float64,\n",
    "        readdlm(joinpath(home, each,  \"ndd\", string(\"vol_avg_\", each)))[3])\n",
    "    eval(:($sym_vol = $tmp_vol))\n",
    "end\n",
    "\n",
    "# Leo volúmenes NDD\n",
    "for each in pdb_list\n",
    "    sym_ndd_out = Symbol(\"ndd_out_\", each)\n",
    "    tmp_dd_out = convert(Array{Float64, 1},\n",
    "        readdlm(joinpath(home, each,  \"ndd\", string(\"out_ndd_\", each)))[2:end, 2])\n",
    "    eval(:($sym_ndd_out = $tmp_dd_out))\n",
    "end\n",
    "\n",
    "# VGV\n",
    "# 1AEL\n",
    "tmp_vgv = ndd_out_1ael .- vol_avg_1ael\n",
    "vgv_1ael = tmp_vgv ./ norm(tmp_vgv)\n",
    "# 1URE\n",
    "tmp_vgv = ndd_out_1ure .- vol_avg_1ure\n",
    "vgv_1ure = tmp_vgv ./ norm(tmp_vgv)\n",
    "# 4UET\n",
    "tmp_vgv = ndd_out_4uet .- vol_avg_4uet\n",
    "vgv_4uet = tmp_vgv ./ norm(tmp_vgv)\n",
    "# 4XCP\n",
    "tmp_vgv = ndd_out_4xcp .- vol_avg_4xcp\n",
    "vgv_4xcp = tmp_vgv ./ norm(tmp_vgv);"
   ]
  },
  {
   "cell_type": "code",
   "execution_count": 61,
   "metadata": {},
   "outputs": [],
   "source": [
    "# Obtengo el pnumber\n",
    "pnumber_gdte = convert(Int64, round(sum(gdte_whole .^ 4) .^ -1))\n",
    "# Obtengo los índices de los 1eros \"pnumber\" modos\n",
    "indices_pnum_modes = sortperm(abs(gdte_whole), rev=true)[1:pnumber_gdte]\n",
    "indices_pnum_modes = sort(indices_pnum_modes)\n",
    "\n",
    "# Ahora recorto los modos, el gradiente, las frecuencias, las colectividades, los pnumber\n",
    "\n",
    "# Me quedo con los \"pnumber\" modos. Uso los modos q ya fueron rellenados\n",
    "modes_prt_pnum = modes_prt_1[:, indices_pnum_modes];\n",
    "# Ahora los modos q fueron recortados. Normalizados y sin normalizar\n",
    "modes_prt_1_whole_pnum_nonnorm = modes_prt_1_whole_nonnorm[:, indices_pnum_modes];\n",
    "modes_prt_1_whole_pnum = modes_prt_1_whole[:, indices_pnum_modes];\n",
    "\n",
    "# Me quedo con los ∇Volumen de los \"pnumber\" modos\n",
    "gdte_whole_pnum = gdte_whole[indices_pnum_modes];\n",
    "# Me quedo con las frequencias de los \"pnumber\" modos\n",
    "evals_prt_pnum = evals_prt[indices_pnum_modes]\n",
    "# Me quedo con las colectividades \"pnumber\" modos\n",
    "κ_pnum = κ[indices_pnum_modes]\n",
    "κ_whole_pnum = κ_whole[indices_pnum_modes]\n",
    "# Me quedo con los pnumber (de aa's) de los \"pnumber\" modos\n",
    "pn_modes_prt_pnum = pn_modes_prt[indices_pnum_modes];\n",
    "pn_modes_prt_whole_pnum = pn_modes_prt_whole[indices_pnum_modes];"
   ]
  },
  {
   "cell_type": "markdown",
   "metadata": {},
   "source": [
    "### Según frecuencia"
   ]
  },
  {
   "cell_type": "code",
   "execution_count": null,
   "metadata": {
    "collapsed": true
   },
   "outputs": [],
   "source": [
    "# Calculo 3 histogramas por las dudas, pero solo gráfico  df_mode_freq_Whis\n",
    "\n",
    "# Los bins van de 0 a la fqcia más alta + 10%\n",
    "top_freq = maximum(evals_prt_pnum) * 1.1\n",
    "bins_freq = collect(0:50:top_freq)\n",
    "unos_freq = repeat([1.0], inner=[length(evals_prt_pnum)])\n",
    "\n",
    "# Histograma no ponderado\n",
    "mode_freq_his, mode_freq_bins = WeightedHist(evals_prt_pnum, bins_freq, unos_freq, true);\n",
    "df_mode_freq_pnum_his = DataFrame(Probability = mode_freq_his, Frequency = mode_freq_bins);\n",
    "\n",
    "# Histograma ponderado\n",
    "mode_freq_Whis, mode_freq_Wbins = WeightedHist(evals_prt_pnum, bins_freq, abs(gdte_whole_pnum), true);\n",
    "df_mode_freq_pnum_Whis = DataFrame(Probability = mode_freq_Whis, Frequency = mode_freq_Wbins);\n",
    "\n",
    "# Histograma ponderado y dividido por densidad de estados\n",
    "mode_freq_Whis_state_dens = mode_freq_Whis ./ mode_freq_his\n",
    "# Fix some NaNs caused by \"divide by zero\" error\n",
    "mode_freq_Whis_state_dens[isnan(mode_freq_Whis_state_dens)] = 0\n",
    "# Turn to density\n",
    "mode_freq_Whis_state_dens = mode_freq_Whis_state_dens ./ sum(mode_freq_Whis_state_dens)\n",
    "df_mode_freq_pnum_Whis_state_dens = DataFrame(Probability = mode_freq_Whis_state_dens, Frequency = mode_freq_Wbins);"
   ]
  },
  {
   "cell_type": "markdown",
   "metadata": {},
   "source": [
    "### Según pnumber"
   ]
  },
  {
   "cell_type": "code",
   "execution_count": null,
   "metadata": {
    "collapsed": true
   },
   "outputs": [],
   "source": [
    "# Calculo 3 histogramas por las dudas, pero solo gráfico  df_mode_pn_pnum_his\n",
    "\n",
    "# Los bins van de 0 al pnumber más alto + 10%\n",
    "top_pn_a = maximum(pn_modes_prt_pnum) * 1.1\n",
    "top_pn_whole_a = maximum(pn_modes_prt_whole_pnum) * 1.1\n",
    "bins_pn_a = collect(0:0.05:top_pn_a)\n",
    "bins_pn_whole_a = collect(0:0.05:top_pn_whole_a)\n",
    "unos_pn = repeat([1.0], inner=[length(pn_modes_prt_pnum)])\n",
    "\n",
    "# Pnumber de modos enteros\n",
    "\n",
    "# Histograma no ponderado\n",
    "mode_pn_his, mode_pn_bins = WeightedHist(pn_modes_prt_pnum, bins_pn_a, unos_pn, true);\n",
    "df_mode_pn_pnum_his = DataFrame(Probability = mode_pn_his, Pnumber = mode_pn_bins);\n",
    "\n",
    "# Histograma por colectividad de modo\n",
    "mode_pn_Whis, mode_pn_Wbins = WeightedHist(pn_modes_prt_pnum, bins_pn_a, abs(gdte_whole_pnum), true);\n",
    "df_mode_pn_pnum_Whis = DataFrame(Probability = mode_pn_Whis, Pnumber = mode_pn_Wbins);\n",
    "\n",
    "# Histograma ponderado y dividido por densidad de estados\n",
    "mode_pn_Whis_state_dens = mode_pn_Whis ./ mode_pn_his\n",
    "# Fix some NaNs caused by \"divide by zero\" error\n",
    "mode_pn_Whis_state_dens[isnan(mode_pn_Whis_state_dens)] = 0\n",
    "# Turn to density\n",
    "mode_pn_Whis_state_dens = mode_pn_Whis_state_dens ./ sum(mode_pn_Whis_state_dens)\n",
    "df_mode_pn_pnum_Whis_state_dens = DataFrame(Probability = mode_pn_Whis_state_dens,\n",
    "    Pnumber = mode_pn_Wbins);\n",
    "\n",
    "\n",
    "# Pnumber de modos recortados\n",
    "\n",
    "# Histograma no ponderado\n",
    "mode_pn_whole_his, mode_pn_whole_bins = WeightedHist(pn_modes_prt_whole_pnum, bins_pn_whole_a, unos_pn, true);\n",
    "df_mode_pn_whole_pnum_his = DataFrame(Probability = mode_pn_whole_his, Pnumber = mode_pn_whole_bins);\n",
    "\n",
    "# Histograma por colectividad de modo\n",
    "mode_pn_whole_Whis, mode_pn_whole_Wbins = WeightedHist(pn_modes_prt_whole_pnum, bins_pn_whole_a, abs(gdte_whole_pnum), true);\n",
    "df_mode_pn_whole_pnum_Whis = DataFrame(Probability = mode_pn_whole_Whis, Pnumber = mode_pn_whole_Wbins);\n",
    "\n",
    "# Histograma ponderado y dividido por densidad de estados\n",
    "mode_pn_whole_Whis_state_dens = mode_pn_whole_Whis ./ mode_pn_whole_his\n",
    "# Fix some NaNs caused by \"divide by zero\" error\n",
    "mode_pn_whole_Whis_state_dens[isnan(mode_pn_whole_Whis_state_dens)] = 0\n",
    "# Turn to density\n",
    "mode_pn_whole_pnum_Whis_state_dens = mode_pn_whole_Whis_state_dens ./ sum(mode_pn_whole_Whis_state_dens)\n",
    "df_mode_pn_whole_Whis_state_dens = DataFrame(Probability = mode_pn_whole_Whis_state_dens,\n",
    "    Pnumber = mode_pn_whole_Wbins);"
   ]
  },
  {
   "cell_type": "markdown",
   "metadata": {},
   "source": [
    "### Según colectividad"
   ]
  },
  {
   "cell_type": "code",
   "execution_count": null,
   "metadata": {
    "collapsed": true
   },
   "outputs": [],
   "source": [
    "# Calculo 3 histogramas por las dudas, pero solo gráfico  df_mode_κ_pnum_his\n",
    "\n",
    "# Los bins van de 0 al valor del elemento más alto del gradiente + 10%\n",
    "top_κ_pnum = maximum(κ_pnum) * 1.1\n",
    "top_κ_whole_pnum = maximum(κ_whole_pnum) * 1.1 \n",
    "bins_κ_pnum = collect(0:0.05:top_κ_pnum)\n",
    "bins_κ_whole_pnum = collect(0:0.05:top_κ_whole_pnum)\n",
    "unos_κ_pnum = repeat([1.0], inner=[length(κ_pnum)])\n",
    "\n",
    "# Colectividad de modos enteros\n",
    "\n",
    "# Histograma no ponderado\n",
    "mode_κ_pnum_his, mode_κ_pnum_bins = WeightedHist(κ_pnum, bins_κ_pnum, unos_κ_pnum, true);\n",
    "df_mode_κ_pnum_his = DataFrame(Probability = mode_κ_pnum_his, Collectivity = mode_κ_pnum_bins);\n",
    "\n",
    "# Histograma por colectividad de modo\n",
    "mode_κ_pnum_Whis, mode_κ_pnum_Wbins = WeightedHist(κ_pnum, bins_κ_pnum, abs(gdte_whole_pnum), true);\n",
    "df_mode_κ_pnum_Whis = DataFrame(Probability = mode_κ_pnum_Whis, Collectivity = mode_κ_pnum_Wbins);\n",
    "\n",
    "# Histograma ponderado y dividido por densidad de estados\n",
    "mode_κ_pnum_Whis_state_dens = mode_κ_pnum_Whis ./ mode_κ_pnum_his\n",
    "# Fix some NaNs caused by \"divide by zero\" error\n",
    "mode_κ_pnum_Whis_state_dens[isnan(mode_κ_pnum_Whis_state_dens)] = 0\n",
    "# Turn to density\n",
    "mode_κ_pnum_Whis_state_dens = mode_κ_pnum_Whis_state_dens ./ sum(mode_κ_pnum_Whis_state_dens)\n",
    "df_mode_κ_pnum_Whis_state_dens = DataFrame(Probability = mode_κ_pnum_Whis_state_dens,\n",
    "    Collectivity = mode_κ_pnum_Wbins);\n",
    "\n",
    "\n",
    "# Colectividad de modos recortados\n",
    "\n",
    "# Histograma no ponderado\n",
    "mode_κ_whole_pnum_his, mode_κ_whole_pnum_bins = WeightedHist(κ_whole_pnum, bins_κ_whole_pnum, unos_κ_pnum, true); \n",
    "df_mode_κ_whole_pnum_his = DataFrame(Probability = mode_κ_whole_pnum_his, Collectivity = mode_κ_whole_pnum_bins);\n",
    "\n",
    "# Histograma por colectividad de modo\n",
    "mode_κ_whole_pnum_Whis, mode_κ_whole_pnum_Wbins = WeightedHist(κ_whole_pnum, bins_κ_whole_pnum, abs(gdte_whole_pnum), true);\n",
    "df_mode_κ_whole_pnum_Whis = DataFrame(Probability = mode_κ_whole_pnum_Whis, Collectivity = mode_κ_whole_pnum_Wbins);\n",
    "\n",
    "# Histograma ponderado y dividido por densidad de estados\n",
    "mode_κ_whole_pnum_Whis_state_dens = mode_κ_whole_pnum_Whis ./ mode_κ_whole_pnum_his\n",
    "# Fix some NaNs caused by \"divide by zero\" error\n",
    "mode_κ_whole_pnum_Whis_state_dens[isnan(mode_κ_whole_pnum_Whis_state_dens)] = 0\n",
    "# Turn to density\n",
    "mode_κ_whole_pnum_Whis_state_dens = mode_κ_whole_pnum_Whis_state_dens ./ sum(mode_κ_whole_pnum_Whis_state_dens)\n",
    "df_mode_κ_whole_pnum_Whis_state_dens = DataFrame(Probability = mode_κ_whole_pnum_Whis_state_dens,\n",
    "    Collectivity = mode_κ_whole_pnum_Wbins);"
   ]
  },
  {
   "cell_type": "code",
   "execution_count": null,
   "metadata": {
    "collapsed": true
   },
   "outputs": [],
   "source": []
  },
  {
   "cell_type": "code",
   "execution_count": null,
   "metadata": {
    "collapsed": true
   },
   "outputs": [],
   "source": []
  },
  {
   "cell_type": "code",
   "execution_count": null,
   "metadata": {
    "collapsed": true
   },
   "outputs": [],
   "source": []
  },
  {
   "cell_type": "code",
   "execution_count": null,
   "metadata": {
    "collapsed": true
   },
   "outputs": [],
   "source": []
  },
  {
   "cell_type": "code",
   "execution_count": null,
   "metadata": {
    "collapsed": true
   },
   "outputs": [],
   "source": []
  }
 ],
 "metadata": {
  "anaconda-cloud": {},
  "kernelspec": {
   "display_name": "Julia 0.6.0",
   "language": "julia",
   "name": "julia-0.6"
  },
  "language_info": {
   "file_extension": ".jl",
   "mimetype": "application/julia",
   "name": "julia",
   "version": "0.6.0"
  }
 },
 "nbformat": 4,
 "nbformat_minor": 1
}
