{
 "cells": [
  {
   "cell_type": "code",
   "execution_count": 1,
   "metadata": {},
   "outputs": [
    {
     "data": {
      "text/plain": [
       "Plots.PyPlotBackend()"
      ]
     },
     "execution_count": 1,
     "metadata": {},
     "output_type": "execute_result"
    }
   ],
   "source": [
    "using DelimitedFiles, HDF5, FileIO\n",
    "using Plots, Rsvg, LaTeXStrings, AverageShiftedHistograms\n",
    "using Chemfiles, JUMD\n",
    "using LinearAlgebra, Statistics\n",
    "home = \"/home/pbarletta/labo/18/lbp/run\"\n",
    "rtdos = \"/home/pbarletta/labo/18/lbp/rtdos_log\"\n",
    "pyplot()"
   ]
  },
  {
   "cell_type": "markdown",
   "metadata": {},
   "source": [
    "### Lee modos, volumen original y  volúmenes NDD. Obtiene VGV"
   ]
  },
  {
   "cell_type": "code",
   "execution_count": 2,
   "metadata": {
    "collapsed": true
   },
   "outputs": [],
   "source": [
    "pdb = \"4xcp\"\n",
    "# Leo modos\n",
    "modes_4xcp, evals_4xcp = JUMD.read_ptraj_modes(\n",
    "    joinpath(home, pdb,  \"pca\", string(\"full_modes_\", pdb)))\n",
    "\n",
    "# AAs\n",
    "aa3 = convert(Int64, length(evals_4xcp))\n",
    "aa = convert(Int64, aa3 / 3)\n",
    "\n",
    "# Leo volumen de la traj\n",
    "trj_vol = convert(Array{Float64, 1}, \n",
    "    readdlm(joinpath(home, pdb, \"cavidad\", string(\"vol_trj_\", pdb)))[:, 3]);\n",
    "nframes = length(trj_vol)\n",
    "\n",
    "# Leo volúmene del average\n",
    "vol_avg_4xcp = convert(Float64, readdlm(joinpath(home, pdb,  \"ndd\", string(\"vol_avg_\", pdb)))[3])\n",
    "\n",
    "# Leo volúmenes NDD\n",
    "ndd_out_4xcp = convert(Array{Float64, 1},\n",
    "    readdlm(joinpath(home, pdb,  \"ndd\", string(\"out_ndd_\", pdb)))[2:end, 2])\n",
    "\n",
    "# VGV\n",
    "vgv_4xcp = (ndd_out_4xcp .- vol_avg_4xcp) .* evals_4xcp\n",
    "vgv_4xcp = vgv_4xcp ./ norm(vgv_4xcp);"
   ]
  },
  {
   "cell_type": "markdown",
   "metadata": {},
   "source": [
    "##### tempor_res = readdlm(joinpath(home, pdb, \"cont\", \"res\", \"nn_series_lig_prt\"))\n",
    "##### trj_contactos_res = convert(Array{Int64, 2}, tempor_res[2:end, 2:end]);\n",
    "##### header_contactos_res = convert(Array{String, 1}, tempor_res[1, 2:end]);\n",
    "##### nctc_res = length(header_contactos_res)\n",
    "\n",
    "tempor_atm = readdlm(joinpath(home, pdb, \"cont\", \"atm\", \"nn_series_lig_prt\"))\n",
    "trj_contactos_atm = convert(Array{Int64, 2}, tempor_atm[2:end, 2:end]);\n",
    "header_contactos_atm = convert(Array{String, 1}, tempor_atm[1, 2:end]);\n",
    "nctc_atm = length(header_contactos_atm);\n",
    "\n",
    "# Headers\n",
    "fid = h5open(joinpath(home, pdb, \"cont\", \"header_ctcto.h5\"), \"w\")\n",
    "write(fid, \"headers\", header_contactos_atm)\n",
    "close(fid)\n",
    "\n",
    "# Contactos\n",
    "fid = h5open(joinpath(home, pdb, \"cont\", \"ctcto.h5\"), \"w\")\n",
    "write(fid, \"contactos\", trj_contactos_atm)\n",
    "close(fid)"
   ]
  },
  {
   "cell_type": "code",
   "execution_count": 192,
   "metadata": {},
   "outputs": [],
   "source": [
    "header_contactos = h5read(joinpath(home, pdb, \"cont\", \"header_ctcto.h5\"), \"headers\")\n",
    "trj_contactos = h5read(joinpath(home, pdb, \"cont\", \"ctcto.h5\"), \"contactos\");\n",
    "nctc = length(header_contactos)\n",
    "\n",
    "header_contactos_prt_res = Array{Int64, 1}(undef, nctc)\n",
    "header_contactos_prtAtm = Array{String, 1}(undef, nctc)\n",
    "header_contactos_ligAtm = Array{String, 1}(undef, nctc);\n",
    "\n",
    "for i in eachindex(header_contactos)\n",
    "    tmp = split(header_contactos[i], \"@\")\n",
    "\n",
    "    header_contactos_prt_res[i] = parse(Int64, tmp[1][2:end])\n",
    "    header_contactos_prtAtm[i] = convert(String, split(tmp[2], \"_\")[1])\n",
    "    header_contactos_ligAtm[i] = convert(String, tmp[end])\n",
    "end"
   ]
  },
  {
   "cell_type": "code",
   "execution_count": 194,
   "metadata": {},
   "outputs": [
    {
     "data": {
      "text/plain": [
       "1-element Array{Int64,1}:\n",
       " 10"
      ]
     },
     "execution_count": 194,
     "metadata": {},
     "output_type": "execute_result"
    }
   ],
   "source": [
    "prt_res = Array{Int64, 1}(undef, 0)\n",
    "\n",
    "push!(prt_res, header_contactos_prt_res[1])"
   ]
  },
  {
   "cell_type": "code",
   "execution_count": 195,
   "metadata": {},
   "outputs": [
    {
     "data": {
      "text/plain": [
       "1-element Array{Int64,1}:\n",
       " 10"
      ]
     },
     "execution_count": 195,
     "metadata": {},
     "output_type": "execute_result"
    }
   ],
   "source": [
    "prt_res"
   ]
  },
  {
   "cell_type": "code",
   "execution_count": 191,
   "metadata": {},
   "outputs": [
    {
     "data": {
      "text/plain": [
       "4940-element Array{Int64,1}:\n",
       "  10\n",
       "  10\n",
       "  10\n",
       "  10\n",
       "  10\n",
       "  10\n",
       "  10\n",
       "  10\n",
       "  13\n",
       "  13\n",
       "  14\n",
       "  14\n",
       "  14\n",
       "   ⋮\n",
       "  17\n",
       " 136\n",
       " 138\n",
       " 138\n",
       " 137\n",
       " 139\n",
       " 138\n",
       " 138\n",
       " 138\n",
       " 136\n",
       "  15\n",
       " 136"
      ]
     },
     "execution_count": 191,
     "metadata": {},
     "output_type": "execute_result"
    }
   ],
   "source": [
    "header_contactos_prtRes"
   ]
  },
  {
   "cell_type": "code",
   "execution_count": null,
   "metadata": {},
   "outputs": [],
   "source": []
  }
 ],
 "metadata": {
  "anaconda-cloud": {},
  "kernelspec": {
   "display_name": "Julia 1.0.1",
   "language": "julia",
   "name": "julia-1.0.1"
  },
  "language_info": {
   "file_extension": ".jl",
   "mimetype": "application/julia",
   "name": "julia",
   "version": "1.0.1"
  }
 },
 "nbformat": 4,
 "nbformat_minor": 2
}
