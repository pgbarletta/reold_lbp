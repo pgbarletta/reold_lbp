{
 "cells": [
  {
   "cell_type": "code",
   "execution_count": 1,
   "metadata": {},
   "outputs": [
    {
     "name": "stderr",
     "output_type": "stream",
     "text": [
      "WARNING: Method definition info(Any...) in module Base at util.jl:534 overwritten in module Logging at /home/german/.julia/v0.6/Logging/src/Logging.jl:115.\n",
      "WARNING: Method definition warn(Any...) in module Base at util.jl:589 overwritten in module Logging at /home/german/.julia/v0.6/Logging/src/Logging.jl:115.\n"
     ]
    },
    {
     "data": {
      "text/plain": [
       "\"/home/german/labo/18/lbp/rtdos_log\""
      ]
     },
     "execution_count": 1,
     "metadata": {},
     "output_type": "execute_result"
    }
   ],
   "source": [
    "using DataFrames\n",
    "using Gadfly\n",
    "using GaussianMixtures\n",
    "using Distributions\n",
    "using Chemfiles\n",
    "using StaticArrays\n",
    "using Colors\n",
    "using DataStructures\n",
    "set_default_plot_size(30cm, 12cm)\n",
    "home = \"/home/german/labo/18/lbp/run\"\n",
    "rtdos = \"/home/german/labo/18/lbp/rtdos_log\""
   ]
  },
  {
   "cell_type": "code",
   "execution_count": 2,
   "metadata": {},
   "outputs": [
    {
     "data": {
      "text/plain": [
       "format_pca_atom (generic function with 2 methods)"
      ]
     },
     "execution_count": 2,
     "metadata": {},
     "output_type": "execute_result"
    }
   ],
   "source": [
    "# Agarra una matriz de PCA en Calpha de 3Nx3N-6 y devuelve\n",
    "# una lista de 3N-6 matrices, c/u de 3x3N. C/ mtx es 1 modo reordenado\n",
    "# p/ matchear las matrices de coordenadas de carbonos alfa\n",
    "function format_pca_aa(in_mtx::Array{Float64, 2})\n",
    "    v_length = size(in_mtx)[1]\n",
    "    v_nbr = size(in_mtx)[2]\n",
    "\n",
    "    aa = Int64\n",
    "    try\n",
    "        aa = convert(Int64, v_length / 3)\n",
    "    catch\n",
    "        error(\"Vector length: \", v_length, \" is not divisible by 3.\")\n",
    "    end\n",
    "\n",
    "    list_out_mtx = Array{Array{Float64, 2}, 1}(v_nbr);\n",
    "    for j = 1:v_nbr\n",
    "        list_out_mtx[j] = reshape(in_mtx[:, j], 3, aa)\n",
    "    end\n",
    "\n",
    "    return list_out_mtx\n",
    "end\n",
    "\n",
    "\n",
    "# Agarra la topología una matriz de PCA en Calpha de 3Nx3N-6 y devuelve\n",
    "# una lista de 3N-6 matrices, c/u de 3xNatomos. C/ mtx es 1 modo reordenado\n",
    "# p/ matchear las matrices de coordenadas del pdb q dió lugar a la topología.\n",
    "\n",
    "# También devuelve un array con el nro de atomos q tiene c/ aa\n",
    "function format_pca_atom(in_top::Topology, in_mtx::Array{Float64, 2}, mask::Array{Float64, 1} = 0)\n",
    "    # Preparo variables\n",
    "    aa = Int64\n",
    "    aa_3 = Int64\n",
    "    if mask == 0 \n",
    "        aa = convert(Int64, count_residues(in_top))\n",
    "    else\n",
    "        aa = length(mask)\n",
    "    end\n",
    "    aa_3 = aa * 3\n",
    "    \n",
    "    v_length = size(in_mtx)[1]\n",
    "    v_nbr = size(in_mtx)[2]\n",
    "    if v_length != aa_3\n",
    "        error(\"Input vector with wrong dimensions: \", v_length, \"  \", (aa_3, 1))\n",
    "    end\n",
    "\n",
    "    # Determino orden de residuos (hay q actualizar el Julia Chemfiles)\n",
    "    tmp = Array{Int64}(aa)\n",
    "    ids = Array{Int64}(aa)\n",
    "    [ ids[i+1] = convert(Int64, id((Residue(in_top, i)))) for i = 0:aa-1 ]\n",
    "    idx = sortperm(ids)\n",
    "    # Determino el nro de atomos de c/ aminoácido. Resto 1 pq Chemfiles tiene 0-indexing\n",
    "    [ tmp[i] = size(Residue(in_top, mask[i] - 1)) for i = 1:aa ]\n",
    "    natom_aa = tmp[idx]\n",
    "    natoms = sum(natom_aa)\n",
    "\n",
    "    # Adapto el vector p/ darle la misma forma q la matriz de coordenadas\n",
    "    list_out_mtx = Array{Array{Float64, 2}, 1}(v_nbr);\n",
    "    \n",
    "    for j in 1:v_nbr\n",
    "        vector = reshape(in_mtx[:, j], 3, aa)\n",
    "        list_out_mtx[j] = Array{Float64}(3, natoms)\n",
    "        cursor = 0\n",
    "        for i = 1:aa\n",
    "            rango = Array{Int64}(natom_aa[i])\n",
    "            if i == 1\n",
    "                list_out_mtx[j][:, 1:natom_aa[i]] = repmat(vector[:, i], 1, natom_aa[i])\n",
    "                cursor = natom_aa[i]\n",
    "                continue\n",
    "            end\n",
    "            rango = collect(cursor+1:cursor + natom_aa[i])\n",
    "            list_out_mtx[j][:, rango] = repmat(vector[:, i], 1, natom_aa[i])\n",
    "            cursor += natom_aa[i]\n",
    "        end\n",
    "    end\n",
    "\n",
    "    return list_out_mtx, natom_aa\n",
    "end"
   ]
  },
  {
   "cell_type": "code",
   "execution_count": 3,
   "metadata": {},
   "outputs": [
    {
     "data": {
      "text/plain": [
       "energia_gdte (generic function with 2 methods)"
      ]
     },
     "execution_count": 3,
     "metadata": {},
     "output_type": "execute_result"
    }
   ],
   "source": [
    "function get_κ(in_vec::Array{Float64, 1})\n",
    "    not_null = copy(in_vec)\n",
    "    not_null[not_null .== 0] = 0.000001\n",
    "    const κ = (exp.(-mapslices(x -> sum(x), mapslices(x->x.^2 .* log.(x.^2), not_null, 1), 1))\n",
    "        / length(not_null))[1]\n",
    "    return κ\n",
    "end\n",
    "\n",
    "function get_pnum(in_vec::Array{Float64, 1})\n",
    "    nor_vec = in_vec ./ norm(in_vec) \n",
    "    return convert(Int64, round(sum(nor_vec .^ 4) .^ -1))\n",
    "end\n",
    "\n",
    "function tognm(vtor_anm)\n",
    "    vtor_gnm = Array{Float64}\n",
    "    try\n",
    "        vtor_gnm = Array{Float64}(convert(Int64, length(vtor_anm)/3));\n",
    "    catch e\n",
    "        warn(\"Input vector's length is not a 3 multiplier\")\n",
    "        error(e)\n",
    "    end\n",
    "    vtor_anm =  vtor_anm.^2\n",
    "    for i=1:convert(Int64, length(vtor_anm)/3)\n",
    "        vtor_gnm[i] = sqrt(vtor_anm[i*3-2] + vtor_anm[i*3-1] + vtor_anm[i*3])\n",
    "    end\n",
    "    return vtor_gnm\n",
    "end\n",
    "\n",
    "function WeightedHist(in_vec, in_bins, in_weight, density = false, include_bounds = true)\n",
    "    # Safety check    \n",
    "    if length(in_vec) != length(in_weight)\n",
    "        error(\"Each element of the input vector needs one weight\")\n",
    "        return\n",
    "    end\n",
    "    \n",
    "    # Prepare variables\n",
    "    out_counts = Array{Float64}(length(in_bins)-1)\n",
    "    \n",
    "    # Get weighted histogram\n",
    "    if include_bounds\n",
    "        for i=1:length(in_bins)-1\n",
    "            if i == 1\n",
    "                # Include those that fall before the beggining of the bins\n",
    "                temp_bool = (in_vec .>= in_bins[i]) .& (in_vec .< in_bins[i+1]) .| (in_vec .<= in_bins[i])\n",
    "                out_counts[i] = sum(in_weight[temp_bool])\n",
    "            elseif i == length(in_bins)-1\n",
    "                # Include those that fall after the end of the bins\n",
    "                temp_bool = (in_vec .>= in_bins[i]) .& (in_vec .< in_bins[i+1]) .| (in_vec .>= in_bins[end])\n",
    "                out_counts[i] = sum(in_weight[temp_bool])\n",
    "            else\n",
    "                temp_bool = (in_vec .>= in_bins[i]) .& (in_vec .< in_bins[i+1])\n",
    "                out_counts[i] = sum(in_weight[temp_bool])\n",
    "            end\n",
    "        end\n",
    "    else\n",
    "        for i=1:length(in_bins)-1\n",
    "            temp_bool = (in_vec .>= in_bins[i]) .& (in_vec .< in_bins[i+1])\n",
    "            out_counts[i] = sum(in_weight[temp_bool])\n",
    "        end\n",
    "    end\n",
    "    \n",
    "    # Get bins middle points\n",
    "    out_middle = (in_bins[1:end-1] + in_bins[2:end]) / 2\n",
    "    \n",
    "    # Turn counts into density\n",
    "    if (density == true)\n",
    "        out_counts = out_counts ./ sum(out_counts) \n",
    "    end\n",
    "    return out_counts, out_middle\n",
    "end\n",
    "\n",
    "function MatHisInd2D(in_vec_x::AbstractArray, in_vec_y::AbstractArray,\n",
    "    in_bins_x::AbstractArray, in_bins_y::AbstractArray,\n",
    "    include_bounds = true)\n",
    "\n",
    "    const cnt = length(in_vec_x)\n",
    "    if  length(in_vec_y) != cnt\n",
    "        error(\"Input vectors length don't match. X: \", in_vec_x, \" Y: \", in_vec_y)\n",
    "    end\n",
    "         \n",
    "    const n_x = length(in_bins_x)\n",
    "    const n_y = length(in_bins_y)\n",
    "    \n",
    "    his_ind = [Int[] for i=1:n_x, j=1:n_y]\n",
    "    his = zeros(Int64, n_x, n_y)\n",
    "    if include_bounds\n",
    "        for i in 1:cnt\n",
    "            x = searchsortedfirst(in_bins_x, in_vec_x[i])\n",
    "            y = searchsortedfirst(in_bins_y, in_vec_y[i])\n",
    "            if x > n_x\n",
    "                x = n_x\n",
    "            end\n",
    "            if y > n_y\n",
    "                y = n_y\n",
    "            end\n",
    "            \n",
    "            push!(his_ind[x, y], i)\n",
    "            his[x, y] += 1\n",
    "        end\n",
    "    else\n",
    "        for i in 1:cnt\n",
    "            const x = searchsortedfirst(in_bins_x, in_vec_x[i])\n",
    "            const y = searchsortedfirst(in_bins_y, in_vec_y[i])\n",
    "        \n",
    "            if x > n_x || y > n_y\n",
    "                continue\n",
    "            end\n",
    "            if (x == 1 && isless(x, in_vec_x[x])) || (y == 1 && isless(y, in_vec_y[y]))\n",
    "                continue\n",
    "            end\n",
    "\n",
    "            push!(his_ind[x, y], i)\n",
    "            his[x, y] += 1\n",
    "        end\n",
    "    end\n",
    "    \n",
    "    return his_ind, his\n",
    "end\n",
    "\n",
    "function read_ptraj_modes(filename, nmodes::Int64=0, norma::Bool=true)\n",
    "    modes_text = readdlm(filename, skipstart=0, skipblanks=true, comments=true,\n",
    "        comment_char='\\*')\n",
    "\n",
    "    if nmodes == 0\n",
    "        nmodes = modes_text[1, 5]\n",
    "    end\n",
    "    modes_elements = modes_text[2, 1]\n",
    "\n",
    "    ncoords = convert(Int64, modes_elements)\n",
    "    lines = ceil(Int64, ncoords/7)\n",
    "    rest = convert(Int64, ncoords % 7)\n",
    "\n",
    "    eval = Array{Float64}(nmodes);\n",
    "    mode = Array{Float64}(ncoords, nmodes);\n",
    "    temp1 = Array{Float64}(ncoords, 1);\n",
    "    temp2 = Array{Float64}(ncoords+(7-rest));\n",
    "\n",
    "    j=lines + 1 + 2 # 1 p/ q lea la prox linea 2 por el header\n",
    "    for i=1:nmodes\n",
    "        eval[i] = modes_text[j, 2]\n",
    "        temp = permutedims(modes_text[(j+1):(lines+j), :], [2, 1])\n",
    "        temp2 = reshape(temp, ncoords+(7-rest))\n",
    "        for k=(rest+1):7\n",
    "            pop!(temp2)\n",
    "        end\n",
    "        mode[:, i] = temp2\n",
    "        j = j + lines + 1\n",
    "    end\n",
    "\n",
    "    if norma == true\n",
    "        for i=1:nmodes\n",
    "            mode[: ,i] = mode[:, i] / norm(mode[:, i])\n",
    "        end\n",
    "    end\n",
    "\n",
    "    return mode, eval\n",
    "end\n",
    "\n",
    "function energia_gdte(evals::Array{Float64, 1}, gdte::Array{Float64, 1}, d::Float64 = 1.)\n",
    "\n",
    "    if length(evals) != length(gdte)\n",
    "        error(\"Lengths of evals and gdte don't match. Aborting.\") \n",
    "    end\n",
    "    \n",
    "    # Declaro cte de boltzmann, avogadro, y temperatura.\n",
    "    const k = 1.38064852e-23\n",
    "    const avgdro = 6.0221409e+23\n",
    "    const T = 298\n",
    "    const RT =  k * avgdro * T * 1E-3 * 0.239006 # Kcal/mol\n",
    "    const cte = 11792.08316093831\n",
    "    \n",
    "    return d^2 * 0.5 * RT * sum(evals.^2 .* gdte.^2) / cte # Kcal/mol\n",
    "end"
   ]
  },
  {
   "cell_type": "code",
   "execution_count": 4,
   "metadata": {},
   "outputs": [
    {
     "data": {
      "text/plain": [
       "133"
      ]
     },
     "execution_count": 4,
     "metadata": {},
     "output_type": "execute_result"
    }
   ],
   "source": [
    "pdb = \"4xcp\"\n",
    "# Leo modos\n",
    "modes_4xcp, evals_4xcp = read_ptraj_modes(joinpath(home, pdb,  \"pca\", string(\"full_modes_\", pdb)))\n",
    "\n",
    "# AAs\n",
    "aa3 = convert(Int64, length(evals_4xcp))\n",
    "aa = convert(Int64,aa3 / 3)"
   ]
  },
  {
   "cell_type": "raw",
   "metadata": {},
   "source": [
    "rmsd_all = readdlm(joinpath(home, pdb, \"poblaciones\", string(\"rmsd_\", pdb)))\n",
    "df_rmsd_all = DataFrame(rmsd_all[:, 2:end]);\n",
    "vec_rmsd_all = collect(Iterators.flatten(rmsd_all[:, 2:end]));\n",
    "df_vec_rmsd_all = DataFrame(RMSD = vec_rmsd_all);"
   ]
  },
  {
   "cell_type": "raw",
   "metadata": {},
   "source": [
    "pdf_prj_4xcp = plot(df_vec_rmsd_all, x = \"RMSD\",\n",
    "    #color = \"Time\",\n",
    "    Geom.histogram,\n",
    "    #Geom.smooth(method=:loess,smoothing=0.001),\n",
    "    #Guide.title(\"Cut\"),\n",
    "\n",
    "    #Coord.cartesian(xmin = -1., xmax = 1., ymin = -1., ymax = 1.),\n",
    "    #Guide.xlabel(\"Frecuency (cm<sup>-1</sup>)\"), \n",
    "    #Guide.ylabel(\"δV * Probability\", orientation=:vertical),\n",
    "    #Guide.xticks(ticks=collect(-1:.2:1)),\n",
    "    #Guide.yticks(ticks=collect(-1:.2:1)),\n",
    "    \n",
    "    #Scale.color_continuous(colormap=Scale.lab_gradient(\"#f2f2f2\", \"Indigo\", \"DarkMagenta\", \"Black\")),\n",
    "    #Scale.color_continuous(minvalue = 100, maxvalue = 1000),\n",
    "    #Scale.x_continuous(minvalue = 200),\n",
    "    #Scale.y_continuous(minvalue = 200),\n",
    "    \n",
    "    Theme(bar_spacing=2pt, grid_line_width = 1pt, line_width = 2pt, point_size = 0.75pt,\n",
    "        minor_label_font_size = 14pt, major_label_font_size = 20pt,\n",
    "        key_title_font_size = 20pt, key_label_font_size = 20pt))"
   ]
  },
  {
   "cell_type": "code",
   "execution_count": 5,
   "metadata": {},
   "outputs": [],
   "source": [
    "rmsd_hi_avg = readdlm(joinpath(home, pdb, \"poblaciones\", string(\"rmsd_hi_avg\")))[:, 2]\n",
    "indmin(rmsd_hi_avg)\n",
    "rmsd_lo1_avg = readdlm(joinpath(home, pdb, \"poblaciones\", string(\"rmsd_lo1_avg\")))[:, 2]\n",
    "indmin(rmsd_lo1_avg)\n",
    "rmsd_lo2_avg = readdlm(joinpath(home, pdb, \"poblaciones\", string(\"rmsd_lo2_avg\")))[:, 2]\n",
    "indmin(rmsd_lo2_avg);"
   ]
  },
  {
   "cell_type": "markdown",
   "metadata": {},
   "source": [
    "### High volume"
   ]
  },
  {
   "cell_type": "code",
   "execution_count": 6,
   "metadata": {},
   "outputs": [],
   "source": [
    "in_trj = Trajectory(joinpath(home, pdb, \"poblaciones\", string(\"hivol_\", pdb, \".nc\")))\n",
    "in_top_trj = Trajectory(joinpath(home, pdb, \"poblaciones\", string(\"avg_hivol_\", pdb, \".pdb\")))\n",
    "in_top_frm = read(in_top_trj)\n",
    "in_top = Topology(in_top_frm)\n",
    "in_frm = read_step(in_trj, indmin(rmsd_hi_avg) - 1)\n",
    "set_topology!(in_frm, in_top)\n",
    "trj_out = Trajectory(joinpath(home, pdb, \"poblaciones\", string(\"top_hivol_\", pdb, \".pdb\")), 'w')\n",
    "write(trj_out, in_frm)\n",
    "close(trj_out)"
   ]
  },
  {
   "cell_type": "markdown",
   "metadata": {},
   "source": [
    "### Low volume 1"
   ]
  },
  {
   "cell_type": "code",
   "execution_count": 7,
   "metadata": {},
   "outputs": [],
   "source": [
    "in_trj = Trajectory(joinpath(home, pdb, \"poblaciones\", string(\"lovol1_\", pdb, \".nc\")))\n",
    "in_top_trj = Trajectory(joinpath(home, pdb, \"poblaciones\", string(\"avg_lovol1_\", pdb, \".pdb\")))\n",
    "in_top_frm = read(in_top_trj)\n",
    "in_top = Topology(in_top_frm)\n",
    "in_frm = read_step(in_trj, indmin(rmsd_lo1_avg) - 1)\n",
    "set_topology!(in_frm, in_top)\n",
    "trj_out = Trajectory(joinpath(home, pdb, \"poblaciones\", string(\"top_lovol1_\", pdb, \".pdb\")), 'w')\n",
    "write(trj_out, in_frm)\n",
    "close(trj_out)"
   ]
  },
  {
   "cell_type": "markdown",
   "metadata": {},
   "source": [
    "### Low volume 2"
   ]
  },
  {
   "cell_type": "code",
   "execution_count": 8,
   "metadata": {
    "collapsed": true
   },
   "outputs": [],
   "source": [
    "in_trj = Trajectory(joinpath(home, pdb, \"poblaciones\", string(\"lovol2_\", pdb, \".nc\")))\n",
    "in_top_trj = Trajectory(joinpath(home, pdb, \"poblaciones\", string(\"avg_lovol2_\", pdb, \".pdb\")))\n",
    "in_top_frm = read(in_top_trj)\n",
    "in_top = Topology(in_top_frm)\n",
    "in_frm = read_step(in_trj, indmin(rmsd_lo2_avg) - 1)\n",
    "set_topology!(in_frm, in_top)\n",
    "trj_out = Trajectory(joinpath(home, pdb, \"poblaciones\", string(\"top_lovol2_\", pdb, \".pdb\")), 'w')\n",
    "write(trj_out, in_frm)\n",
    "close(trj_out)"
   ]
  },
  {
   "cell_type": "markdown",
   "metadata": {},
   "source": [
    "## RMSDs"
   ]
  },
  {
   "cell_type": "code",
   "execution_count": 9,
   "metadata": {},
   "outputs": [],
   "source": [
    "# Hi top vs Low 1 trj\n",
    "rmsd_hi_lo1 = readdlm(joinpath(home, pdb, \"poblaciones\", \"rmsd_hi_lo1\"))[:, 2]\n",
    "# Hi top vs Low 2 trj\n",
    "rmsd_hi_lo2 = readdlm(joinpath(home, pdb, \"poblaciones\", \"rmsd_hi_lo2\"))[:, 2]\n",
    "# Low 1 top vs Low 2 trj\n",
    "rmsd_lo1_lo2 = readdlm(joinpath(home, pdb, \"poblaciones\", \"rmsd_lo1_lo2\"))[:, 2]\n",
    "\n",
    "# Compilo en dataframe\n",
    "df_rmsd_par = DataFrame(RMSD = [ rmsd_hi_lo1 ; rmsd_hi_lo2 ; rmsd_lo1_lo2 ],\n",
    "    Frame = [ collect(1:length(rmsd_hi_lo1)) ; collect(1:length(rmsd_hi_lo2)) ;\n",
    "        collect(1:length(rmsd_lo1_lo2)) ],\n",
    "    Par = [ fill(\"HI_LO1\", length(rmsd_hi_lo1)) ; fill(\"HI_LO2\", length(rmsd_hi_lo2)) ;\n",
    "        fill(\"LO1_LO2\", length(rmsd_lo1_lo2))]);"
   ]
  },
  {
   "cell_type": "code",
   "execution_count": 10,
   "metadata": {},
   "outputs": [],
   "source": [
    "bin_rms = collect(1.:.1:3.)\n",
    "\n",
    "# Histograma ponderado\n",
    "his_hi_lo1, bin_hi_lo1 = WeightedHist(rmsd_hi_lo1, bin_rms, fill(1., length(rmsd_hi_lo1)), true);\n",
    "his_hi_lo2, bin_hi_lo2 = WeightedHist(rmsd_hi_lo2, bin_rms, fill(1., length(rmsd_hi_lo2)), true);\n",
    "his_lo1_lo2, bin_lo1_lo2 = WeightedHist(rmsd_lo1_lo2, bin_rms, fill(1., length(rmsd_lo1_lo2)), true);\n",
    "\n",
    "df_his_rms = DataFrame(Probability = [ his_hi_lo1 ; his_hi_lo2 ; his_lo1_lo2 ],\n",
    "    RMSD = [ bin_hi_lo1 ; bin_hi_lo2 ; bin_lo1_lo2 ],\n",
    "    Par = [ fill(\"HI_LO1\", length(his_hi_lo1)) ;\n",
    "        fill(\"HI_LO2\", length(his_hi_lo2)) ; fill(\"LO1_LO2\", length(his_lo1_lo2)) ]);"
   ]
  },
  {
   "cell_type": "code",
   "execution_count": null,
   "metadata": {},
   "outputs": [],
   "source": [
    "pdf_his_rms = plot(df_his_rms, x = \"RMSD\", y = \"Probability\", color = \"Par\",\n",
    "    Geom.bar(position = :dodge),\n",
    "    #Guide.title(\"Cut\"),\n",
    "\n",
    "    #Coord.cartesian(xmin = -1., xmax = 1., ymin = -1., ymax = 1.),\n",
    "    #Guide.xlabel(\"Frecuency (cm<sup>-1</sup>)\"), \n",
    "    #Guide.ylabel(\"δV * Probability\", orientation=:vertical),\n",
    "    #Guide.xticks(ticks=collect(-1:.2:1)),\n",
    "    #Guide.yticks(ticks=collect(-1:.2:1)),\n",
    "    \n",
    "    Theme(bar_spacing=0pt, grid_line_width = 1pt,\n",
    "        minor_label_font_size = 14pt, major_label_font_size = 20pt,\n",
    "        key_title_font_size = 20pt, key_label_font_size = 20pt))"
   ]
  }
 ],
 "metadata": {
  "kernelspec": {
   "display_name": "Julia 0.6.3",
   "language": "julia",
   "name": "julia-0.6"
  },
  "language_info": {
   "file_extension": ".jl",
   "mimetype": "application/julia",
   "name": "julia",
   "version": "0.6.3"
  }
 },
 "nbformat": 4,
 "nbformat_minor": 2
}
