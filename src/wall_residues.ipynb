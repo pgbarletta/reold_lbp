{
 "cells": [
  {
   "cell_type": "code",
   "execution_count": 1,
   "metadata": {},
   "outputs": [
    {
     "data": {
      "text/plain": [
       "\"/home/pbarletta/labo/18/lbp/rtdos_log\""
      ]
     },
     "execution_count": 1,
     "metadata": {},
     "output_type": "execute_result"
    }
   ],
   "source": [
    "using DataFrames, DelimitedFiles, DataStructures\n",
    "using Plots, JUMD\n",
    "home = \"/home/pbarletta/labo/18/lbp/run\"\n",
    "rtdos = \"/home/pbarletta/labo/18/lbp/rtdos_log\""
   ]
  },
  {
   "cell_type": "code",
   "execution_count": 57,
   "metadata": {},
   "outputs": [],
   "source": [
    "# 4UET\n",
    "cutoff = .1\n",
    "nframes = 3000\n",
    "msk = collect(3:4:nframes*4)\n",
    "\n",
    "wall_4uet = readdlm(joinpath(home, \"4uet\", \"cavidad\", \"100\", \"wall_avg_4uet\"));\n",
    "proto_res_4uet = wall_4uet[msk, 3:end]\n",
    "\n",
    "# Contar ocurrencias de c/ residuo\n",
    "conteo_4uet = OrderedDict{Int64, Float64}()\n",
    "for i in proto_res_4uet\n",
    "    if typeof(i) == Int64\n",
    "        conteo_4uet[i] = get(conteo_4uet, i, 0) + 1.\n",
    "    end\n",
    "end\n",
    "\n",
    "# Pasar de conteo a fracción relativa\n",
    "conteo_4uet.vals = conteo_4uet.vals / nframes\n",
    "res_4uet = sort(conteo_4uet.keys[conteo_4uet.vals .> cutoff]);\n",
    "\n",
    "# 4XCP\n",
    "wall_4xcp = readdlm(joinpath(home, \"4xcp\", \"cavidad\", \"100\", \"wall_avg_4xcp\"));\n",
    "proto_res_4xcp = wall_4xcp[msk, 3:end]\n",
    "\n",
    "# Contar ocurrencias de c/ residuo\n",
    "conteo_4xcp = OrderedDict{Int64, Float64}()\n",
    "for i in proto_res_4xcp\n",
    "    if typeof(i) == Int64\n",
    "        conteo_4xcp[i] = get(conteo_4xcp, i, 0) + 1.\n",
    "    end\n",
    "end\n",
    "\n",
    "# Pasar de conteo a fracción relativa\n",
    "conteo_4xcp.vals = conteo_4xcp.vals / nframes\n",
    "res_4xcp = sort(conteo_4xcp.keys[conteo_4xcp.vals .> cutoff]);"
   ]
  },
  {
   "cell_type": "code",
   "execution_count": 58,
   "metadata": {},
   "outputs": [
    {
     "data": {
      "text/plain": [
       "68"
      ]
     },
     "execution_count": 58,
     "metadata": {},
     "output_type": "execute_result"
    }
   ],
   "source": [
    "length(union(res_4uet, res_4xcp))"
   ]
  },
  {
   "cell_type": "code",
   "execution_count": 60,
   "metadata": {},
   "outputs": [
    {
     "name": "stdout",
     "output_type": "stream",
     "text": [
      "[1, 3, 4, 6, 7, 10, 11, 12, 13, 14, 15, 16, 17, 18, 20, 22, 23, 24, 26, 33, 45, 46, 49, 53, 63, 66, 67, 68, 71, 72, 73, 75, 76, 77, 78, 81, 83, 84, 85, 86, 88, 89, 90, 91, 92, 93, 95, 96, 97, 99, 100, 101, 102, 110, 112, 113, 116, 117, 118, 119, 122, 123, 126, 130, 132, 135, 19, 70]"
     ]
    }
   ],
   "source": [
    "print(union(res_4uet, res_4xcp))"
   ]
  },
  {
   "cell_type": "code",
   "execution_count": 61,
   "metadata": {},
   "outputs": [
    {
     "data": {
      "text/plain": [
       "38"
      ]
     },
     "execution_count": 61,
     "metadata": {},
     "output_type": "execute_result"
    }
   ],
   "source": [
    "poc_apo = [13;14;15;18;21;22;33;37;45;63;66;67;70;89;92;93;96;100;139] .- 9\n",
    "poc_extra_hol = [25;30;34;36;48;49;52;69;84;85;91;95;99;110;113;132;136;142;148] .- 9;\n",
    "length(union(poc_apo, poc_extra_hol))"
   ]
  },
  {
   "cell_type": "code",
   "execution_count": 62,
   "metadata": {},
   "outputs": [
    {
     "name": "stdout",
     "output_type": "stream",
     "text": [
      "[4, 5, 6, 9, 12, 13, 24, 28, 36, 54, 57, 58, 61, 80, 83, 84, 87, 91, 130, 16, 21, 25, 27, 39, 40, 43, 60, 75, 76, 82, 86, 90, 101, 104, 123, 127, 133, 139]"
     ]
    }
   ],
   "source": [
    "print(union(poc_apo, poc_extra_hol))"
   ]
  }
 ],
 "metadata": {
  "kernelspec": {
   "display_name": "Julia 1.0.1",
   "language": "julia",
   "name": "julia-1.0.1"
  },
  "language_info": {
   "file_extension": ".jl",
   "mimetype": "application/julia",
   "name": "julia",
   "version": "1.0.1"
  }
 },
 "nbformat": 4,
 "nbformat_minor": 2
}
