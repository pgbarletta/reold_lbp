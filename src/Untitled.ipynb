{
 "cells": [
  {
   "cell_type": "code",
   "execution_count": 1,
   "metadata": {},
   "outputs": [],
   "source": [
    "#pragma cling add_include_path(\"/home/german/chemfiles/build/install/include\")\n",
    "#pragma cling add_library_path(\"/home/german/chemfiles/build/install/lib\")\n",
    "#include <chemfiles.hpp>\n",
    "#include <iostream>\n",
    "#include <fstream>\n",
    "#include <string>\n",
    "#include <vector>\n",
    "#pragma cling load(\"libchemfiles.so\")"
   ]
  },
  {
   "cell_type": "code",
   "execution_count": 2,
   "metadata": {},
   "outputs": [],
   "source": [
    "std::string home = \"/home/german/labo/18/lbp/run\";\n",
    "std::string rtdos = \"/home/german/labo/18/lbp/rtdos_log\";\n",
    "std::string pdb = \"4xcp\";\n",
    "auto infile = home + \"/\" + pdb + \"/pca\" + \"/full_avgfit_\" + pdb + \".nc\";\n",
    "auto in_trj = chemfiles::Trajectory(infile);"
   ]
  },
  {
   "cell_type": "code",
   "execution_count": 3,
   "metadata": {},
   "outputs": [],
   "source": [
    "// Preparo\n",
    "auto nframes = in_trj.nsteps();\n",
    "in_trj.close()"
   ]
  },
  {
   "cell_type": "code",
   "execution_count": 4,
   "metadata": {},
   "outputs": [],
   "source": [
    "std::ifstream fh(rtdos + \"/4xcp_idx_vol0\")\n",
    "std::vector<std::string> idx_vol0;\n",
    "if (fh) {\n",
    "    std::string temp;\n",
    "    while(!fh.eof()) {\n",
    "        fh >> temp;\n",
    "        idx_vol0.push_back(temp);\n",
    "    }\n",
    "}"
   ]
  },
  {
   "cell_type": "code",
   "execution_count": 10,
   "metadata": {},
   "outputs": [
    {
     "data": {
      "text/plain": [
       "75000"
      ]
     },
     "execution_count": 10,
     "metadata": {},
     "output_type": "execute_result"
    }
   ],
   "source": [
    "nframes / 4"
   ]
  },
  {
   "cell_type": "code",
   "execution_count": 11,
   "metadata": {},
   "outputs": [
    {
     "data": {
      "text/plain": [
       "300000"
      ]
     },
     "execution_count": 11,
     "metadata": {},
     "output_type": "execute_result"
    }
   ],
   "source": [
    "nframes"
   ]
  },
  {
   "cell_type": "code",
   "execution_count": 8,
   "metadata": {},
   "outputs": [
    {
     "name": "stdout",
     "output_type": "stream",
     "text": [
      "8227\n"
     ]
    },
    {
     "data": {
      "text/plain": [
       "@0x349af40"
      ]
     },
     "execution_count": 8,
     "metadata": {},
     "output_type": "execute_result"
    }
   ],
   "source": [
    "std::cout << idx_vol0[0] << '\\n'"
   ]
  },
  {
   "cell_type": "code",
   "execution_count": null,
   "metadata": {},
   "outputs": [],
   "source": [
    "\n",
    "\n",
    "# Uso esto p/ dividir las trayectorias a escribir en 4 partes y q\n",
    "# no me llenen la memoria\n",
    "# Escribo la trayectoria de la población 0\n",
    "function scope(idx_vol0, home, pdb)\n",
    "    idx_0 = convert(Int64, ceil(length(idx_vol0) / 4))\n",
    "    for j in [ collect(1:idx_0:length(idx_vol0)) ; length(idx_vol0) ]\n",
    "        if j == 1\n",
    "            println(j)\n",
    "            ou_trj =\n",
    "            Trajectory(joinpath(home, pdb, string(\"poblaciones/vol0_\", pdb, \".nc\")), 'w')\n",
    "            in_trj =\n",
    "            Trajectory(joinpath(home, pdb, \"pca\", string(\"full_avgfit_\", pdb, \".nc\")))\n",
    "            for i in collect(idx_vol0[j]:idx_vol0[j+1])\n",
    "                in_frm = read_step(in_trj, idx_vol0[i] - 1)\n",
    "                write(ou_trj, in_frm)\n",
    "            end\n",
    "            close(in_trj)\n",
    "            close(ou_trj)\n",
    "            println(j)\n",
    "            gc()\n",
    "        else\n",
    "            println(j)\n",
    "            ou_trj =\n",
    "            Trajectory(joinpath(home, pdb, string(\"poblaciones/vol0_\", pdb, \".nc\")), 'a')\n",
    "            in_trj =\n",
    "            Trajectory(joinpath(home, pdb, \"pca\", string(\"full_avgfit_\", pdb, \".nc\")))\n",
    "            for i in collect(idx_vol0[j]-1:idx_vol0[j+1])\n",
    "                in_frm = read_step(in_trj, idx_vol0[i] - 1)\n",
    "                write(ou_trj, in_frm)\n",
    "            end\n",
    "            close(in_trj)\n",
    "            close(ou_trj)\n",
    "            println(j)\n",
    "            gc()\n",
    "        end\n",
    "    end\n",
    "end"
   ]
  }
 ],
 "metadata": {
  "kernelspec": {
   "display_name": "C++17",
   "language": "C++17",
   "name": "xeus-cling-cpp17"
  },
  "language_info": {
   "codemirror_mode": "text/x-c++src",
   "file_extension": ".cpp",
   "mimetype": "text/x-c++src",
   "name": "c++",
   "version": "17"
  }
 },
 "nbformat": 4,
 "nbformat_minor": 2
}
