{
 "cells": [
  {
   "cell_type": "code",
   "execution_count": 1,
   "metadata": {},
   "outputs": [
    {
     "name": "stderr",
     "output_type": "stream",
     "text": [
      "\u001b[1m\u001b[36mINFO: \u001b[39m\u001b[22m\u001b[36mPrecompiling module GaussianMixtures.\n",
      "\u001b[39m\n",
      "WARNING: deprecated syntax \"typealias AbstractTriangular Triangular\" at /home/german/.julia/v0.6/GaussianMixtures/src/compat.jl:5.\n",
      "Use \"const AbstractTriangular = Triangular\" instead.\n",
      "\n",
      "WARNING: deprecated syntax \"typealias UpperTriangular{T,M} Triangular{T,M,:U,false}\" at /home/german/.julia/v0.6/GaussianMixtures/src/compat.jl:6.\n",
      "Use \"UpperTriangular{T,M} = Triangular{T,M,:U,false}\" instead.\n",
      "\n",
      "WARNING: deprecated syntax \"abstract GaussianMixture{T,CT}\" at /home/german/.julia/v0.6/GaussianMixtures/src/gmmtypes.jl:37.\n",
      "Use \"abstract type GaussianMixture{T,CT} end\" instead.\n",
      "\n",
      "WARNING: deprecated syntax \"typealias DiagCov{T} Matrix{T}\" at /home/german/.julia/v0.6/GaussianMixtures/src/gmmtypes.jl:42.\n",
      "Use \"DiagCov{T} = Matrix{T}\" instead.\n",
      "\n",
      "WARNING: deprecated syntax \"typealias FullCov{T} Vector{UpperTriangular{T,Matrix{T}}}\" at /home/german/.julia/v0.6/GaussianMixtures/src/gmmtypes.jl:43.\n",
      "Use \"FullCov{T} = Vector{UpperTriangular{T,Matrix{T}}}\" instead.\n",
      "\n",
      "WARNING: deprecated syntax \"typealias VecOrMat Union{Vector,Matrix}\" at /home/german/.julia/v0.6/GaussianMixtures/src/gmmtypes.jl:45.\n",
      "Use \"const VecOrMat = Union{Vector,Matrix}\" instead.\n",
      "\n",
      "WARNING: deprecated syntax \"typealias MatOrVecMat{T} Union{Matrix{T},Vector{Matrix{T}}}\" at /home/german/.julia/v0.6/GaussianMixtures/src/gmmtypes.jl:46.\n",
      "Use \"MatOrVecMat{T} = Union{Matrix{T},Vector{Matrix{T}}}\" instead.\n",
      "\n",
      "WARNING: deprecated syntax \"typealias DataOrMatrix{T} Union{Data{T},Matrix{T}}\" at /home/german/.julia/v0.6/GaussianMixtures/src/gmmtypes.jl:204.\n",
      "Use \"DataOrMatrix{T} = Union{Data{T},Matrix{T}}\" instead.\n",
      "\n",
      "WARNING: deprecated syntax \"inner constructor GMM(...) around /home/german/.julia/v0.6/GaussianMixtures/src/gmmtypes.jl:69\".\n",
      "Use \"GMM{T,CT}(...) where {T,CT}\" instead.\n",
      "\u001b[1m\u001b[91mERROR: \u001b[39m\u001b[22mLoadError: LoadError: \u001b[91minvalid subtyping in definition of VGMM\u001b[39m\n",
      "Stacktrace:\n",
      " [1] \u001b[1minclude_from_node1\u001b[22m\u001b[22m\u001b[1m(\u001b[22m\u001b[22m::String\u001b[1m)\u001b[22m\u001b[22m at \u001b[1m./loading.jl:576\u001b[22m\u001b[22m\n",
      " [2] \u001b[1minclude\u001b[22m\u001b[22m\u001b[1m(\u001b[22m\u001b[22m::String\u001b[1m)\u001b[22m\u001b[22m at \u001b[1m./sysimg.jl:14\u001b[22m\u001b[22m\n",
      " [3] \u001b[1minclude_from_node1\u001b[22m\u001b[22m\u001b[1m(\u001b[22m\u001b[22m::String\u001b[1m)\u001b[22m\u001b[22m at \u001b[1m./loading.jl:576\u001b[22m\u001b[22m\n",
      " [4] \u001b[1minclude\u001b[22m\u001b[22m\u001b[1m(\u001b[22m\u001b[22m::String\u001b[1m)\u001b[22m\u001b[22m at \u001b[1m./sysimg.jl:14\u001b[22m\u001b[22m\n",
      " [5] \u001b[1manonymous\u001b[22m\u001b[22m at \u001b[1m./<missing>:2\u001b[22m\u001b[22m\n",
      "while loading /home/german/.julia/v0.6/GaussianMixtures/src/gmmtypes.jl, in expression starting on line 521\n",
      "while loading /home/german/.julia/v0.6/GaussianMixtures/src/GaussianMixtures.jl, in expression starting on line 15\n"
     ]
    },
    {
     "ename": "LoadError",
     "evalue": "\u001b[91mFailed to precompile GaussianMixtures to /home/german/.julia/lib/v0.6/GaussianMixtures.ji.\u001b[39m",
     "output_type": "error",
     "traceback": [
      "\u001b[91mFailed to precompile GaussianMixtures to /home/german/.julia/lib/v0.6/GaussianMixtures.ji.\u001b[39m",
      "",
      "Stacktrace:",
      " [1] \u001b[1mcompilecache\u001b[22m\u001b[22m\u001b[1m(\u001b[22m\u001b[22m::String\u001b[1m)\u001b[22m\u001b[22m at \u001b[1m./loading.jl:710\u001b[22m\u001b[22m",
      " [2] \u001b[1m_require\u001b[22m\u001b[22m\u001b[1m(\u001b[22m\u001b[22m::Symbol\u001b[1m)\u001b[22m\u001b[22m at \u001b[1m./loading.jl:497\u001b[22m\u001b[22m",
      " [3] \u001b[1mrequire\u001b[22m\u001b[22m\u001b[1m(\u001b[22m\u001b[22m::Symbol\u001b[1m)\u001b[22m\u001b[22m at \u001b[1m./loading.jl:405\u001b[22m\u001b[22m",
      " [4] \u001b[1minclude_string\u001b[22m\u001b[22m\u001b[1m(\u001b[22m\u001b[22m::String, ::String\u001b[1m)\u001b[22m\u001b[22m at \u001b[1m./loading.jl:522\u001b[22m\u001b[22m"
     ]
    }
   ],
   "source": [
    "using GaussianMixtures"
   ]
  }
 ],
 "metadata": {
  "kernelspec": {
   "display_name": "Julia 0.6.3",
   "language": "julia",
   "name": "julia-0.6"
  },
  "language_info": {
   "file_extension": ".jl",
   "mimetype": "application/julia",
   "name": "julia",
   "version": "0.6.3"
  }
 },
 "nbformat": 4,
 "nbformat_minor": 2
}
