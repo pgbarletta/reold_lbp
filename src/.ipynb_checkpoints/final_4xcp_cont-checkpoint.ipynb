{
 "cells": [
  {
   "cell_type": "code",
   "execution_count": 1,
   "metadata": {},
   "outputs": [
    {
     "name": "stderr",
     "output_type": "stream",
     "text": [
      "┌ Info: Precompiling StatPlots [60ddc479-9b66-56df-82fc-76a74619b69c]\n",
      "└ @ Base loading.jl:1189\n"
     ]
    },
    {
     "data": {
      "text/plain": [
       "Plots.PyPlotBackend()"
      ]
     },
     "execution_count": 1,
     "metadata": {},
     "output_type": "execute_result"
    }
   ],
   "source": [
    "using DelimitedFiles, HDF5, FileIO\n",
    "using Plots, Rsvg, LaTeXStrings, AverageShiftedHistograms, StatPlots\n",
    "using Chemfiles, JUMD, DataStructures\n",
    "using LinearAlgebra, Statistics\n",
    "home = \"/home/pbarletta/labo/18/lbp/run\"\n",
    "rtdos = \"/home/pbarletta/labo/18/lbp/rtdos_log\"\n",
    "pyplot()"
   ]
  },
  {
   "cell_type": "markdown",
   "metadata": {},
   "source": [
    "### Lee modos, volumen original y  volúmenes NDD. Obtiene VGV"
   ]
  },
  {
   "cell_type": "code",
   "execution_count": 3,
   "metadata": {
    "collapsed": true
   },
   "outputs": [],
   "source": [
    "pdb = \"4xcp\"\n",
    "# Leo modos\n",
    "modes_4xcp, evals_4xcp = JUMD.read_ptraj_modes(\n",
    "    joinpath(home, pdb,  \"pca\", string(\"full_modes_\", pdb)))\n",
    "\n",
    "# AAs\n",
    "aa3 = convert(Int64, length(evals_4xcp))\n",
    "aa = convert(Int64, aa3 / 3)\n",
    "\n",
    "# Leo volumen de la traj\n",
    "trj_vol = convert(Array{Float64, 1}, \n",
    "    readdlm(joinpath(home, pdb, \"cavidad\", string(\"vol_trj_\", pdb)))[:, 3]);\n",
    "nframes = length(trj_vol)\n",
    "\n",
    "# Leo volúmene del average\n",
    "vol_avg_4xcp = convert(Float64, readdlm(joinpath(home, pdb,  \"ndd\", string(\"vol_avg_\", pdb)))[3])\n",
    "\n",
    "# Leo volúmenes NDD\n",
    "ndd_out_4xcp = convert(Array{Float64, 1},\n",
    "    readdlm(joinpath(home, pdb,  \"ndd\", string(\"out_ndd_\", pdb)))[2:end, 2])\n",
    "\n",
    "# VGV\n",
    "vgv_4xcp = (ndd_out_4xcp .- vol_avg_4xcp) .* evals_4xcp\n",
    "vgv_4xcp = vgv_4xcp ./ norm(vgv_4xcp);"
   ]
  },
  {
   "cell_type": "markdown",
   "metadata": {},
   "source": [
    "### Full"
   ]
  },
  {
   "cell_type": "raw",
   "metadata": {},
   "source": [
    "tmp_full = readdlm(joinpath(home, pdb, \"cont\", \"full\", \"nn_series_lig_prt\"))\n",
    "trj_contactos_full = convert(Array{Int64, 2}, tmp_full[2:end, 2:end]);\n",
    "header_contactos_full = convert(Array{String, 1}, tmp_full[1, 2:end]);\n",
    "nctc_full = length(header_contactos_full);\n",
    "\n",
    "#### Headers\n",
    "fid = h5open(joinpath(home, pdb, \"cont\", \"full\", \"header_ctcto.h5\"), \"w\")\n",
    "write(fid, \"headers\", header_contactos_full)\n",
    "close(fid)ls\n",
    "\n",
    "#### Contactos\n",
    "fid = h5open(joinpath(home, pdb, \"cont\", \"full\", \"ctcto.h5\"), \"w\")\n",
    "write(fid, \"contactos\", trj_contactos_full)\n",
    "close(fid)"
   ]
  },
  {
   "cell_type": "markdown",
   "metadata": {},
   "source": [
    "### Vol 1"
   ]
  },
  {
   "cell_type": "raw",
   "metadata": {},
   "source": [
    "tmp_v1 = readdlm(joinpath(home, pdb, \"cont\", \"v1\", \"nn_series_lig_prt\"))\n",
    "trj_contactos_v1 = convert(Array{Int64, 2}, tmp_v1[2:end, 2:end]);\n",
    "header_contactos_v1 = convert(Array{String, 1}, tmp_v1[1, 2:end]);\n",
    "nctc_v1 = length(header_contactos_v1);\n",
    "\n",
    "#### Headers\n",
    "fid = h5open(joinpath(home, pdb, \"cont\", \"v1\", \"header_ctcto.h5\"), \"w\")\n",
    "write(fid, \"headers\", header_contactos_v1)\n",
    "close(fid)\n",
    "\n",
    "#### Contactos\n",
    "fid = h5open(joinpath(home, pdb, \"cont\", \"v1\", \"ctcto.h5\"), \"w\")\n",
    "write(fid, \"contactos\", trj_contactos_v1)\n",
    "close(fid)"
   ]
  },
  {
   "cell_type": "markdown",
   "metadata": {},
   "source": [
    "### Vol 2"
   ]
  },
  {
   "cell_type": "raw",
   "metadata": {},
   "source": [
    "tmp_v2 = readdlm(joinpath(home, pdb, \"cont\", \"v2\", \"nn_series_lig_prt\"))\n",
    "trj_contactos_v2 = convert(Array{Int64, 2}, tmp_v2[2:end, 2:end]);\n",
    "header_contactos_v2 = convert(Array{String, 1}, tmp_v2[1, 2:end]);\n",
    "nctc_v2 = length(header_contactos_v2);\n",
    "\n",
    "#### Headers\n",
    "fid = h5open(joinpath(home, pdb, \"cont\", \"v2\", \"header_ctcto.h5\"), \"w\")\n",
    "write(fid, \"headers\", header_contactos_v2)\n",
    "close(fid)\n",
    "\n",
    "#### Contactos\n",
    "fid = h5open(joinpath(home, pdb, \"cont\", \"v2\", \"ctcto.h5\"), \"w\")\n",
    "write(fid, \"contactos\", trj_contactos_v2)\n",
    "close(fid)"
   ]
  },
  {
   "cell_type": "markdown",
   "metadata": {},
   "source": [
    "### Vol 3"
   ]
  },
  {
   "cell_type": "raw",
   "metadata": {},
   "source": [
    "tmp_v3 = readdlm(joinpath(home, pdb, \"cont\", \"v3\", \"nn_series_lig_prt\"))\n",
    "trj_contactos_v3 = convert(Array{Int64, 2}, tmp_v3[2:end, 2:end]);\n",
    "header_contactos_v3 = convert(Array{String, 1}, tmp_v3[1, 2:end]);\n",
    "nctc_v3 = length(header_contactos_v3);\n",
    "\n",
    "#### Headers\n",
    "fid = h5open(joinpath(home, pdb, \"cont\", \"v3\", \"header_ctcto.h5\"), \"w\")\n",
    "write(fid, \"headers\", header_contactos_v3)\n",
    "close(fid)\n",
    "\n",
    "#### Contactos\n",
    "fid = h5open(joinpath(home, pdb, \"cont\", \"v3\", \"ctcto.h5\"), \"w\")\n",
    "write(fid, \"contactos\", trj_contactos_v3)\n",
    "close(fid)"
   ]
  },
  {
   "cell_type": "markdown",
   "metadata": {},
   "source": [
    "## Data cleaning"
   ]
  },
  {
   "cell_type": "markdown",
   "metadata": {},
   "source": [
    "#### Full"
   ]
  },
  {
   "cell_type": "code",
   "execution_count": 4,
   "metadata": {},
   "outputs": [],
   "source": [
    "header_contactos_full = h5read(joinpath(home, pdb, \"cont\", \"full\", \"header_ctcto.h5\"), \"headers\")\n",
    "trj_contactos_full = h5read(joinpath(home, pdb, \"cont\", \"full\", \"ctcto.h5\"), \"contactos\");\n",
    "nctc = length(header_contactos_full)\n",
    "\n",
    "full_prt_res = Array{Int64, 1}(undef, nctc)\n",
    "full_prt_atm = Array{String, 1}(undef, nctc)\n",
    "full_lig_atm = Array{String, 1}(undef, nctc);\n",
    "\n",
    "for i in eachindex(header_contactos_full)\n",
    "    tmp = split(header_contactos_full[i], \"@\")\n",
    "\n",
    "    full_prt_res[i] = parse(Int64, tmp[1][2:end])\n",
    "    full_prt_atm[i] = convert(String, split(tmp[2], \"_\")[1])\n",
    "    full_lig_atm[i] = convert(String, tmp[end])\n",
    "end"
   ]
  },
  {
   "cell_type": "markdown",
   "metadata": {},
   "source": [
    "#### V1"
   ]
  },
  {
   "cell_type": "code",
   "execution_count": 5,
   "metadata": {},
   "outputs": [],
   "source": [
    "header_contactos_v1 = h5read(joinpath(home, pdb, \"cont\", \"v1\", \"header_ctcto.h5\"), \"headers\")\n",
    "trj_contactos_v1 = h5read(joinpath(home, pdb, \"cont\", \"v1\", \"ctcto.h5\"), \"contactos\");\n",
    "nctc = length(header_contactos_v1)\n",
    "\n",
    "v1_prt_res = Array{Int64, 1}(undef, nctc)\n",
    "v1_prt_atm = Array{String, 1}(undef, nctc)\n",
    "v1_lig_atm = Array{String, 1}(undef, nctc);\n",
    "\n",
    "for i in eachindex(header_contactos_v1)\n",
    "    tmp = split(header_contactos_v1[i], \"@\")\n",
    "\n",
    "    v1_prt_res[i] = parse(Int64, tmp[1][2:end])\n",
    "    v1_prt_atm[i] = convert(String, split(tmp[2], \"_\")[1])\n",
    "    v1_lig_atm[i] = convert(String, tmp[end])\n",
    "end"
   ]
  },
  {
   "cell_type": "markdown",
   "metadata": {},
   "source": [
    "#### V2"
   ]
  },
  {
   "cell_type": "code",
   "execution_count": 6,
   "metadata": {},
   "outputs": [],
   "source": [
    "header_contactos_v2 = h5read(joinpath(home, pdb, \"cont\", \"v2\", \"header_ctcto.h5\"), \"headers\")\n",
    "trj_contactos_v2 = h5read(joinpath(home, pdb, \"cont\", \"v2\", \"ctcto.h5\"), \"contactos\");\n",
    "nctc = length(header_contactos_v2)\n",
    "\n",
    "v2_prt_res = Array{Int64, 1}(undef, nctc)\n",
    "v2_prt_atm = Array{String, 1}(undef, nctc)\n",
    "v2_lig_atm = Array{String, 1}(undef, nctc);\n",
    "\n",
    "for i in eachindex(header_contactos_v2)\n",
    "    tmp = split(header_contactos_v2[i], \"@\")\n",
    "\n",
    "    v2_prt_res[i] = parse(Int64, tmp[1][2:end])\n",
    "    v2_prt_atm[i] = convert(String, split(tmp[2], \"_\")[1])\n",
    "    v2_lig_atm[i] = convert(String, tmp[end])\n",
    "end"
   ]
  },
  {
   "cell_type": "markdown",
   "metadata": {},
   "source": [
    "#### V3"
   ]
  },
  {
   "cell_type": "code",
   "execution_count": 7,
   "metadata": {},
   "outputs": [],
   "source": [
    "header_contactos_v3 = h5read(joinpath(home, pdb, \"cont\", \"v3\", \"header_ctcto.h5\"), \"headers\")\n",
    "trj_contactos_v3 = h5read(joinpath(home, pdb, \"cont\", \"v3\", \"ctcto.h5\"), \"contactos\");\n",
    "nctc = length(header_contactos_v3)\n",
    "\n",
    "v3_prt_res = Array{Int64, 1}(undef, nctc)\n",
    "v3_prt_atm = Array{String, 1}(undef, nctc)\n",
    "v3_lig_atm = Array{String, 1}(undef, nctc);\n",
    "\n",
    "for i in eachindex(header_contactos_v3)\n",
    "    tmp = split(header_contactos_v3[i], \"@\")\n",
    "\n",
    "    v3_prt_res[i] = parse(Int64, tmp[1][2:end])\n",
    "    v3_prt_atm[i] = convert(String, split(tmp[2], \"_\")[1])\n",
    "    v3_lig_atm[i] = convert(String, tmp[end])\n",
    "end"
   ]
  },
  {
   "cell_type": "markdown",
   "metadata": {},
   "source": [
    "# Analizo"
   ]
  },
  {
   "cell_type": "markdown",
   "metadata": {},
   "source": [
    "## Según proteína"
   ]
  },
  {
   "cell_type": "code",
   "execution_count": 8,
   "metadata": {},
   "outputs": [
    {
     "data": {
      "text/plain": [
       "495124"
      ]
     },
     "execution_count": 8,
     "metadata": {},
     "output_type": "execute_result"
    }
   ],
   "source": [
    "name_res_full, freq_res_full, ids_res_full = JUMD.contarIndexar(full_prt_res)\n",
    "name_res_v1, freq_res_v1, ids_res_v1 = JUMD.contarIndexar(v1_prt_res)\n",
    "name_res_v2, freq_res_v2, ids_res_v2 = JUMD.contarIndexar(v2_prt_res)\n",
    "name_res_v3, freq_res_v3, ids_res_v3 = JUMD.contarIndexar(v3_prt_res)\n",
    "\n",
    "dens_tot_full = sum(trj_contactos_full)\n",
    "dens_tot_v1 = sum(trj_contactos_v1)\n",
    "dens_tot_v2 = sum(trj_contactos_v2)\n",
    "dens_tot_v3 = sum(trj_contactos_v3)"
   ]
  },
  {
   "cell_type": "markdown",
   "metadata": {},
   "source": [
    "### Obtengo densidad/frecuencia de contacto entre el res y el lig."
   ]
  },
  {
   "cell_type": "code",
   "execution_count": 9,
   "metadata": {},
   "outputs": [],
   "source": [
    "mask = collect(1:154);\n",
    "\n",
    "dens_full = fill(0., length(mask))\n",
    "k = 1\n",
    "for i in eachindex(name_res_full)\n",
    "    while name_res_full[i] != mask[k]\n",
    "        k+=1\n",
    "    end\n",
    "    dens_full[k] = sum(trj_contactos_full[:, ids_res_full[i]])\n",
    "end\n",
    "dens_full = dens_full ./ dens_tot_full\n",
    "\n",
    "dens_v1 = fill(0., length(mask))\n",
    "k = 1\n",
    "for i in eachindex(name_res_v1)\n",
    "    while name_res_v1[i] != mask[k]\n",
    "        k+=1\n",
    "    end\n",
    "    dens_v1[k] = sum(trj_contactos_v1[:, ids_res_v1[i]])\n",
    "end\n",
    "dens_v1 = dens_v1 ./ dens_tot_v1\n",
    "\n",
    "dens_v2 = fill(0., length(mask))\n",
    "k = 1\n",
    "for i in eachindex(name_res_v2)\n",
    "    while name_res_v2[i] != mask[k]\n",
    "        k+=1\n",
    "    end\n",
    "    dens_v2[k] = sum(trj_contactos_v2[:, ids_res_v2[i]])\n",
    "end\n",
    "dens_v2 = dens_v2 ./ dens_tot_v2\n",
    "\n",
    "dens_v3 = fill(0., length(mask))\n",
    "k = 1\n",
    "for i in eachindex(name_res_v3)\n",
    "    while name_res_v3[i] != mask[k]\n",
    "        k+=1\n",
    "    end\n",
    "    dens_v3[k] = sum(trj_contactos_v3[:, ids_res_v3[i]])\n",
    "end\n",
    "dens_v3 = dens_v3 ./ dens_tot_v3;"
   ]
  },
  {
   "cell_type": "markdown",
   "metadata": {},
   "source": [
    "#### Top20 residuos en contacto con el lig"
   ]
  },
  {
   "cell_type": "code",
   "execution_count": 13,
   "metadata": {},
   "outputs": [
    {
     "data": {
      "text/plain": [
       "60:144"
      ]
     },
     "execution_count": 13,
     "metadata": {},
     "output_type": "execute_result"
    }
   ],
   "source": [
    "top_dens_v1 = sortperm(dens_v1, rev = true)[1:20]\n",
    "top_dens_v2 = sortperm(dens_v2, rev = true)[1:20]\n",
    "top_dens_v3 = sortperm(dens_v3, rev = true)[1:20]\n",
    "\n",
    "# P/ pymol:\n",
    "replace(string(top_dens_v1), \", \" => \"+\")[2:end-1]\n",
    "replace(string(top_dens_v2), \", \" => \"+\")[2:end-1]\n",
    "replace(string(top_dens_v3), \", \" => \"+\")[2:end-1]\n",
    "\n",
    "# P/ graficar acá:\n",
    "max_dens_v1 = dens_v1[dens_v1 .>= dens_v1[top_dens_v1[end]]]\n",
    "max_dens_v2 = dens_v1[dens_v2 .>= dens_v2[top_dens_v2[end]]]\n",
    "max_dens_v3 = dens_v1[dens_v3 .>= dens_v3[top_dens_v3[end]]];\n",
    "\n",
    "idx_v1 = sortperm(top_dens_v1)\n",
    "idx_v2 = sortperm(top_dens_v2)\n",
    "idx_v3 = sortperm(top_dens_v3);\n",
    "\n",
    "#\n",
    "templ_v1 = fill(0., length(mask))\n",
    "templ_v1[top_dens_v1] = max_dens_v1\n",
    "#\n",
    "templ_v2 = fill(0., length(mask))\n",
    "templ_v2[top_dens_v2] = max_dens_v2\n",
    "#\n",
    "templ_v3 = fill(0., length(mask))\n",
    "templ_v3[top_dens_v3] = max_dens_v3;\n",
    "\n",
    "#\n",
    "prin = 1:35\n",
    "fin = 60:144"
   ]
  },
  {
   "cell_type": "code",
   "execution_count": 17,
   "metadata": {},
   "outputs": [
    {
     "data": {
      "image/png": "[encoded data removed]"
     },
     "execution_count": 17,
     "metadata": {},
     "output_type": "execute_result"
    }
   ],
   "source": [
    "groupedbar(hcat(templ_v1, templ_v2)[prin, :],\n",
    "    bar_position = :dodge, linecolor = false, size = (1200, 600), label = \"VOL 2\",\n",
    "    bar_width = 1)"
   ]
  },
  {
   "cell_type": "code",
   "execution_count": 51,
   "metadata": {},
   "outputs": [
    {
     "data": {
      "image/png": "[encoded data removed]"
     },
     "execution_count": 51,
     "metadata": {},
     "output_type": "execute_result"
    }
   ],
   "source": [
    "groupedbar(hcat(templ_v1, templ_v2)[fin, :],\n",
    "    bar_position = :dodge, linecolor = false, size = (1200, 600),\n",
    "    group = repeat([ \"VOL 1\" ; \"VOL 2\"], inner = length(fin)),\n",
    "    bar_width = 1)"
   ]
  },
  {
   "cell_type": "code",
   "execution_count": 19,
   "metadata": {},
   "outputs": [
    {
     "data": {
      "image/png": "[encoded data removed]"
     },
     "execution_count": 19,
     "metadata": {},
     "output_type": "execute_result"
    }
   ],
   "source": [
    "groupedbar(hcat(templ_v1, templ_v3)[prin, :],\n",
    "    bar_position = :dodge, linecolor = false, size = (1200, 600), label = \"VOL 2\",\n",
    "    bar_width = 1)"
   ]
  },
  {
   "cell_type": "code",
   "execution_count": 20,
   "metadata": {},
   "outputs": [
    {
     "data": {
      "image/png": "[encoded data removed]"
     },
     "execution_count": 20,
     "metadata": {},
     "output_type": "execute_result"
    }
   ],
   "source": [
    "groupedbar(hcat(templ_v1, templ_v3)[fin, :],\n",
    "    bar_position = :dodge, linecolor = false, size = (1200, 600), label = \"VOL 2\",\n",
    "    bar_width = 1)"
   ]
  },
  {
   "cell_type": "markdown",
   "metadata": {},
   "source": [
    "## Según ligando"
   ]
  },
  {
   "cell_type": "code",
   "execution_count": 23,
   "metadata": {},
   "outputs": [],
   "source": [
    "name_lig_full, freq_lig_full, ids_lig_full = JUMD.contarIndexar(full_lig_atm)\n",
    "name_lig_v1, freq_lig_v1, ids_lig_v1 = JUMD.contarIndexar(v1_lig_atm)\n",
    "name_lig_v2, freq_lig_v2, ids_lig_v2 = JUMD.contarIndexar(v2_lig_atm)\n",
    "name_lig_v3, freq_lig_v3, ids_lig_v3 = JUMD.contarIndexar(v3_lig_atm);\n",
    "\n",
    "# Reordeno a mi gusto\n",
    "name_lig_full = append!(name_lig_full[end-1:end], name_lig_full[1:end-2])\n",
    "name_lig_v1 = append!(name_lig_v1[end-1:end], name_lig_v1[1:end-2])\n",
    "name_lig_v2 = append!(name_lig_v2[end-1:end], name_lig_v2[1:end-2])\n",
    "name_lig_v3 = append!(name_lig_v3[end-1:end], name_lig_v3[1:end-2])\n",
    "\n",
    "freq_lig_full = append!(freq_lig_full[end-1:end], freq_lig_full[1:end-2])\n",
    "freq_lig_v1 = append!(freq_lig_v1[end-1:end], freq_lig_v1[1:end-2])\n",
    "freq_lig_v2 = append!(freq_lig_v2[end-1:end], freq_lig_v2[1:end-2])\n",
    "freq_lig_v3 = append!(freq_lig_v3[end-1:end], freq_lig_v3[1:end-2])\n",
    "\n",
    "ids_lig_full = append!(ids_lig_full[end-1:end], ids_lig_full[1:end-2])\n",
    "ids_lig_v1 = append!(ids_lig_v1[end-1:end], ids_lig_v1[1:end-2])\n",
    "ids_lig_v2 = append!(ids_lig_v2[end-1:end], ids_lig_v2[1:end-2])\n",
    "ids_lig_v3 = append!(ids_lig_v3[end-1:end], ids_lig_v3[1:end-2])\n",
    "\n",
    "\n",
    "# Armo diccionarios p/ después indexar más lindo\n",
    "dic_lig_full = Dict(zip(name_lig_full, ids_lig_full))\n",
    "dic_lig_v1 = Dict(zip(name_lig_v1, ids_lig_v1))\n",
    "dic_lig_v2 = Dict(zip(name_lig_v2, ids_lig_v2))\n",
    "dic_lig_v3 = Dict(zip(name_lig_v3, ids_lig_v3))\n",
    "\n",
    "# Agrupo por sección del ligando \n",
    "\n",
    "# Head\n",
    "head_full = [ dic_lig_full[\"O1\"] ; dic_lig_full[\"O2\"] ; dic_lig_full[\"C1\"] ;\n",
    "    dic_lig_full[\"C2\"] ]\n",
    "head_v1 = [ dic_lig_v1[\"O1\"] ; dic_lig_v1[\"O2\"] ; dic_lig_v1[\"C1\"] ; dic_lig_v1[\"C2\"] ]\n",
    "head_v2 = [ dic_lig_v2[\"O1\"] ; dic_lig_v2[\"O2\"] ; dic_lig_v2[\"C1\"] ; dic_lig_v2[\"C2\"] ]\n",
    "head_v3 = [ dic_lig_v3[\"O1\"] ; dic_lig_v3[\"O2\"] ; dic_lig_v3[\"C1\"] ; dic_lig_v3[\"C2\"] ]\n",
    "\n",
    "# Body\n",
    "body_full = [ dic_lig_full[\"C3\"] ; dic_lig_full[\"C4\"]  ; dic_lig_full[\"C5\"]  ;\n",
    "    dic_lig_full[\"C6\"]  ; dic_lig_full[\"C7\"]  ; dic_lig_full[\"C8\"]  ; \n",
    "    dic_lig_full[\"C9\"]  ; dic_lig_full[\"CA\"] ; dic_lig_full[\"CB\"]  ;\n",
    "    dic_lig_full[\"CC\"]  ; dic_lig_full[\"CD\"] ] \n",
    "body_v1 = [ dic_lig_v1[\"C3\"] ; dic_lig_v1[\"C4\"]  ; dic_lig_v1[\"C5\"]  ;\n",
    "    dic_lig_v1[\"C6\"]  ; dic_lig_v1[\"C7\"]  ; dic_lig_v1[\"C8\"]  ; \n",
    "    dic_lig_v1[\"C9\"]  ; dic_lig_v1[\"CA\"] ; dic_lig_v1[\"CB\"]  ;\n",
    "    dic_lig_v1[\"CC\"]  ; dic_lig_v1[\"CD\"] ]\n",
    "body_v2 = [ dic_lig_v2[\"C3\"] ; dic_lig_v2[\"C4\"]  ; dic_lig_v2[\"C5\"]  ;\n",
    "    dic_lig_v2[\"C6\"]  ; dic_lig_v2[\"C7\"]  ; dic_lig_v2[\"C8\"]  ;\n",
    "    dic_lig_v2[\"C9\"]  ; dic_lig_v2[\"CA\"] ; dic_lig_v2[\"CB\"]  ;\n",
    "    dic_lig_v2[\"CC\"]  ; dic_lig_v2[\"CD\"] ]\n",
    "body_v3 = [ dic_lig_v3[\"C3\"] ; dic_lig_v3[\"C4\"]  ; dic_lig_v3[\"C5\"]  ;\n",
    "    dic_lig_v3[\"C6\"]  ; dic_lig_v3[\"C7\"]  ; dic_lig_v3[\"C8\"]  ;\n",
    "    dic_lig_v3[\"C9\"]  ; dic_lig_v3[\"CA\"] ; dic_lig_v3[\"CB\"]  ;\n",
    "    dic_lig_v3[\"CC\"]  ; dic_lig_v3[\"CD\"] ]\n",
    "\n",
    "# Tail\n",
    "tail_full = [ dic_lig_full[\"CE\"] ; dic_lig_full[\"CF\"] ; dic_lig_full[\"CG\"] ]\n",
    "tail_v1 = [ dic_lig_v1[\"CE\"] ; dic_lig_v1[\"CF\"] ; dic_lig_v1[\"CG\"] ]\n",
    "tail_v2 = [ dic_lig_v2[\"CE\"] ; dic_lig_v2[\"CF\"] ; dic_lig_v2[\"CG\"] ]\n",
    "tail_v3 = [ dic_lig_v3[\"CE\"] ; dic_lig_v3[\"CF\"] ; dic_lig_v3[\"CG\"] ];"
   ]
  },
  {
   "cell_type": "markdown",
   "metadata": {},
   "source": [
    "### Obtengo densidad/frecuencia de contacto entre las zonas del ligando y la proteína"
   ]
  },
  {
   "cell_type": "code",
   "execution_count": 24,
   "metadata": {},
   "outputs": [],
   "source": [
    "dens_head_full = sum(trj_contactos_full[:, head_full]) ./ dens_tot_full\n",
    "dens_body_full = sum(trj_contactos_full[:, body_full]) ./ dens_tot_full\n",
    "dens_tail_full = sum(trj_contactos_full[:, tail_full]) ./ dens_tot_full\n",
    "dens_lig_full = [ dens_head_full ; dens_body_full ; dens_tail_full ]\n",
    "\n",
    "dens_head_v1 = sum(trj_contactos_v1[:, head_v1]) ./ dens_tot_v1\n",
    "dens_body_v1 = sum(trj_contactos_v1[:, body_v1]) ./ dens_tot_v1\n",
    "dens_tail_v1 = sum(trj_contactos_v1[:, tail_v1]) ./ dens_tot_v1\n",
    "dens_lig_v1 = [ dens_head_v1 ; dens_body_v1 ; dens_tail_v1 ]\n",
    "\n",
    "dens_head_v2 = sum(trj_contactos_v2[:, head_v2]) ./ dens_tot_v2\n",
    "dens_body_v2 = sum(trj_contactos_v2[:, body_v2]) ./ dens_tot_v2\n",
    "dens_tail_v2 = sum(trj_contactos_v2[:, tail_v2]) ./ dens_tot_v2\n",
    "dens_lig_v2 = [ dens_head_v2 ; dens_body_v2 ; dens_tail_v2 ]\n",
    "\n",
    "dens_head_v3 = sum(trj_contactos_v3[:, head_v3]) ./ dens_tot_v3\n",
    "dens_body_v3 = sum(trj_contactos_v3[:, body_v3]) ./ dens_tot_v3\n",
    "dens_tail_v3 = sum(trj_contactos_v3[:, tail_v3]) ./ dens_tot_v3\n",
    "dens_lig_v3 = [ dens_head_v3 ; dens_body_v3 ; dens_tail_v3 ];"
   ]
  },
  {
   "cell_type": "code",
   "execution_count": 25,
   "metadata": {},
   "outputs": [
    {
     "data": {
      "image/png": "[encoded data removed]"
     },
     "execution_count": 25,
     "metadata": {},
     "output_type": "execute_result"
    }
   ],
   "source": [
    "x_lig = repeat([\"Head\" ; \"Body\" ; \"Tail\"], outer = 4)\n",
    "g_lig = repeat([\"ALL\" ; \"V1\" ; \"V2\" ; \"V3\"], inner = 3)\n",
    "\n",
    "groupedbar(x_lig, hcat(dens_lig_full ,dens_lig_v1, dens_lig_v2, dens_lig_v3),\n",
    "    bar_position = :dodge, linecolor = false, size = (750, 400),\n",
    "    group = g_lig)"
   ]
  },
  {
   "cell_type": "markdown",
   "metadata": {},
   "source": [
    "### Según átomo del ligando"
   ]
  },
  {
   "cell_type": "code",
   "execution_count": 26,
   "metadata": {},
   "outputs": [],
   "source": [
    "mask_lig = collect(1:18);\n",
    "\n",
    "dens_lig_full = fill(0., length(mask_lig))\n",
    "[ dens_lig_full[i] = sum(trj_contactos_full[:, ids_lig_full[i]]) for i in eachindex(name_lig_full) ]\n",
    "dens_lig_full = dens_lig_full ./ dens_tot_full\n",
    "\n",
    "dens_lig_v1 = fill(0., length(mask_lig))\n",
    "[ dens_lig_v1[i] = sum(trj_contactos_v1[:, ids_lig_v1[i]]) for i in eachindex(name_lig_v1) ]\n",
    "dens_lig_v1 = dens_lig_v1 ./ dens_tot_v1\n",
    "\n",
    "dens_lig_v2 = fill(0., length(mask_lig))\n",
    "[ dens_lig_v2[i] = sum(trj_contactos_v2[:, ids_lig_v2[i]]) for i in eachindex(name_lig_v2) ]\n",
    "dens_lig_v2 = dens_lig_v2 ./ dens_tot_v2\n",
    "\n",
    "dens_lig_v3 = fill(0., length(mask_lig))\n",
    "[ dens_lig_v3[i] = sum(trj_contactos_v3[:, ids_lig_v3[i]]) for i in eachindex(name_lig_v3) ]\n",
    "dens_lig_v3 = dens_lig_v3 ./ dens_tot_v3;"
   ]
  },
  {
   "cell_type": "code",
   "execution_count": 44,
   "metadata": {},
   "outputs": [
    {
     "data": {
      "image/png": "[encoded data removed]"
     },
     "execution_count": 44,
     "metadata": {},
     "output_type": "execute_result"
    }
   ],
   "source": [
    "x_lig = repeat(name_lig_v1, outer = 3)\n",
    "g_lig = repeat([ \"V1\" ; \"V2\" ; \"V3\" ], inner = length(mask_lig))\n",
    "\n",
    "groupedbar(x_lig, hcat(dens_lig_v1, dens_lig_v2, dens_lig_v3),\n",
    "    #group = g_lig,\n",
    "    ylims = (0., .09),\n",
    "    bar_position = :dodge, linecolor = false, size = (750, 400))"
   ]
  },
  {
   "cell_type": "code",
   "execution_count": 42,
   "metadata": {},
   "outputs": [
    {
     "data": {
      "image/png": "[encoded data removed]"
     },
     "execution_count": 42,
     "metadata": {},
     "output_type": "execute_result"
    }
   ],
   "source": [
    "x_lig = repeat(name_lig_v1, outer = 2)\n",
    "g_lig = repeat([ \"V1\" ; \"V2\" ], inner = length(mask_lig))\n",
    "\n",
    "groupedbar(x_lig, hcat(dens_lig_v1, dens_lig_v2),\n",
    "    #group = g_lig, \n",
    "    ylims = (0., .09), yticks = .01:.02:.09,\n",
    "    bar_position = :dodge, linecolor = false, size = (750, 400))"
   ]
  },
  {
   "cell_type": "code",
   "execution_count": 41,
   "metadata": {},
   "outputs": [
    {
     "data": {
      "image/png": "[encoded data removed]"
     },
     "execution_count": 41,
     "metadata": {},
     "output_type": "execute_result"
    }
   ],
   "source": [
    "x_lig = repeat(name_lig_v1, outer = 2)\n",
    "g_lig = repeat([ \"V1\" ; \"V3\" ], inner = length(mask_lig))\n",
    "\n",
    "groupedbar(x_lig, hcat(dens_lig_v1, dens_lig_v3),\n",
    "    #group = g_lig,\n",
    "    ylims = (0., .09), yticks = .01:.02:.09,\n",
    "    bar_position = :dodge, linecolor = false, size = (750, 400))"
   ]
  },
  {
   "cell_type": "code",
   "execution_count": 43,
   "metadata": {},
   "outputs": [
    {
     "data": {
      "image/png": "[encoded data removed]"
     },
     "execution_count": 43,
     "metadata": {},
     "output_type": "execute_result"
    }
   ],
   "source": [
    "x_lig = repeat(name_lig_v1, outer = 2)\n",
    "g_lig = repeat([ \"V2\" ; \"V3\" ], inner = length(mask_lig))\n",
    "\n",
    "groupedbar(x_lig, hcat(dens_lig_v2, dens_lig_v3),\n",
    "    #group = g_lig,\n",
    "    ylims = (0., .09), yticks = .01:.02:.09,\n",
    "    bar_position = :dodge, linecolor = false, size = (750, 400))"
   ]
  },
  {
   "cell_type": "code",
   "execution_count": null,
   "metadata": {},
   "outputs": [],
   "source": []
  },
  {
   "cell_type": "code",
   "execution_count": null,
   "metadata": {},
   "outputs": [],
   "source": []
  },
  {
   "cell_type": "code",
   "execution_count": null,
   "metadata": {},
   "outputs": [],
   "source": []
  }
 ],
 "metadata": {
  "anaconda-cloud": {},
  "kernelspec": {
   "display_name": "Julia 1.0.1",
   "language": "julia",
   "name": "julia-1.0.1"
  },
  "language_info": {
   "file_extension": ".jl",
   "mimetype": "application/julia",
   "name": "julia",
   "version": "1.0.1"
  }
 },
 "nbformat": 4,
 "nbformat_minor": 2
}
