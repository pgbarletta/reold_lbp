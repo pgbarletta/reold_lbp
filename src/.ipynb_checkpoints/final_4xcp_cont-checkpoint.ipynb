{
 "cells": [
  {
   "cell_type": "code",
   "execution_count": 1,
   "metadata": {},
   "outputs": [
    {
     "name": "stderr",
     "output_type": "stream",
     "text": [
      "┌ Info: Precompiling StatPlots [60ddc479-9b66-56df-82fc-76a74619b69c]\n",
      "└ @ Base loading.jl:1189\n",
      "┌ Info: Recompiling stale cache file /home/pbarletta/.julia/compiled/v1.0/JUMD.ji for JUMD [top-level]\n",
      "└ @ Base loading.jl:1187\n"
     ]
    },
    {
     "data": {
      "text/plain": [
       "Plots.PyPlotBackend()"
      ]
     },
     "execution_count": 1,
     "metadata": {},
     "output_type": "execute_result"
    }
   ],
   "source": [
    "using DelimitedFiles, HDF5, FileIO\n",
    "using Plots, Rsvg, LaTeXStrings, AverageShiftedHistograms, StatPlots\n",
    "using Chemfiles, JUMD, DataStructures\n",
    "using LinearAlgebra, Statistics\n",
    "home = \"/home/pbarletta/labo/18/lbp/run\"\n",
    "rtdos = \"/home/pbarletta/labo/18/lbp/rtdos_log\"\n",
    "pyplot()"
   ]
  },
  {
   "cell_type": "markdown",
   "metadata": {},
   "source": [
    "### Lee modos, volumen original y  volúmenes NDD. Obtiene VGV"
   ]
  },
  {
   "cell_type": "code",
   "execution_count": 2,
   "metadata": {
    "collapsed": true
   },
   "outputs": [],
   "source": [
    "pdb = \"4xcp\"\n",
    "# Leo modos\n",
    "modes_4xcp, evals_4xcp = JUMD.read_ptraj_modes(\n",
    "    joinpath(home, pdb,  \"pca\", string(\"full_modes_\", pdb)))\n",
    "\n",
    "# AAs\n",
    "aa3 = convert(Int64, length(evals_4xcp))\n",
    "aa = convert(Int64, aa3 / 3)\n",
    "\n",
    "# Leo volumen de la traj\n",
    "trj_vol = convert(Array{Float64, 1}, \n",
    "    readdlm(joinpath(home, pdb, \"cavidad\", string(\"vol_trj_\", pdb)))[:, 3]);\n",
    "nframes = length(trj_vol)\n",
    "\n",
    "# Leo volúmene del average\n",
    "vol_avg_4xcp = convert(Float64, readdlm(joinpath(home, pdb,  \"ndd\", string(\"vol_avg_\", pdb)))[3])\n",
    "\n",
    "# Leo volúmenes NDD\n",
    "ndd_out_4xcp = convert(Array{Float64, 1},\n",
    "    readdlm(joinpath(home, pdb,  \"ndd\", string(\"out_ndd_\", pdb)))[2:end, 2])\n",
    "\n",
    "# VGV\n",
    "vgv_4xcp = (ndd_out_4xcp .- vol_avg_4xcp) .* evals_4xcp\n",
    "vgv_4xcp = vgv_4xcp ./ norm(vgv_4xcp);"
   ]
  },
  {
   "cell_type": "markdown",
   "metadata": {},
   "source": [
    "### Full"
   ]
  },
  {
   "cell_type": "raw",
   "metadata": {},
   "source": [
    "tmp_full = readdlm(joinpath(home, pdb, \"cont\", \"full\", \"nn_series_lig_prt\"))\n",
    "trj_contactos_full = convert(Array{Int64, 2}, tmp_full[2:end, 2:end]);\n",
    "header_contactos_full = convert(Array{String, 1}, tmp_full[1, 2:end]);\n",
    "nctc_full = length(header_contactos_full);\n",
    "\n",
    "#### Headers\n",
    "fid = h5open(joinpath(home, pdb, \"cont\", \"full\", \"header_ctcto.h5\"), \"w\")\n",
    "write(fid, \"headers\", header_contactos_full)\n",
    "close(fid)ls\n",
    "\n",
    "#### Contactos\n",
    "fid = h5open(joinpath(home, pdb, \"cont\", \"full\", \"ctcto.h5\"), \"w\")\n",
    "write(fid, \"contactos\", trj_contactos_full)\n",
    "close(fid)"
   ]
  },
  {
   "cell_type": "markdown",
   "metadata": {},
   "source": [
    "### Vol 1"
   ]
  },
  {
   "cell_type": "raw",
   "metadata": {},
   "source": [
    "tmp_v1 = readdlm(joinpath(home, pdb, \"cont\", \"v1\", \"nn_series_lig_prt\"))\n",
    "trj_contactos_v1 = convert(Array{Int64, 2}, tmp_v1[2:end, 2:end]);\n",
    "header_contactos_v1 = convert(Array{String, 1}, tmp_v1[1, 2:end]);\n",
    "nctc_v1 = length(header_contactos_v1);\n",
    "\n",
    "#### Headers\n",
    "fid = h5open(joinpath(home, pdb, \"cont\", \"v1\", \"header_ctcto.h5\"), \"w\")\n",
    "write(fid, \"headers\", header_contactos_v1)\n",
    "close(fid)\n",
    "\n",
    "#### Contactos\n",
    "fid = h5open(joinpath(home, pdb, \"cont\", \"v1\", \"ctcto.h5\"), \"w\")\n",
    "write(fid, \"contactos\", trj_contactos_v1)\n",
    "close(fid)"
   ]
  },
  {
   "cell_type": "markdown",
   "metadata": {},
   "source": [
    "### Vol 2"
   ]
  },
  {
   "cell_type": "raw",
   "metadata": {},
   "source": [
    "tmp_v2 = readdlm(joinpath(home, pdb, \"cont\", \"v2\", \"nn_series_lig_prt\"))\n",
    "trj_contactos_v2 = convert(Array{Int64, 2}, tmp_v2[2:end, 2:end]);\n",
    "header_contactos_v2 = convert(Array{String, 1}, tmp_v2[1, 2:end]);\n",
    "nctc_v2 = length(header_contactos_v2);\n",
    "\n",
    "#### Headers\n",
    "fid = h5open(joinpath(home, pdb, \"cont\", \"v2\", \"header_ctcto.h5\"), \"w\")\n",
    "write(fid, \"headers\", header_contactos_v2)\n",
    "close(fid)\n",
    "\n",
    "#### Contactos\n",
    "fid = h5open(joinpath(home, pdb, \"cont\", \"v2\", \"ctcto.h5\"), \"w\")\n",
    "write(fid, \"contactos\", trj_contactos_v2)\n",
    "close(fid)"
   ]
  },
  {
   "cell_type": "markdown",
   "metadata": {},
   "source": [
    "### Vol 3"
   ]
  },
  {
   "cell_type": "raw",
   "metadata": {},
   "source": [
    "tmp_v3 = readdlm(joinpath(home, pdb, \"cont\", \"v3\", \"nn_series_lig_prt\"))\n",
    "trj_contactos_v3 = convert(Array{Int64, 2}, tmp_v3[2:end, 2:end]);\n",
    "header_contactos_v3 = convert(Array{String, 1}, tmp_v3[1, 2:end]);\n",
    "nctc_v3 = length(header_contactos_v3);\n",
    "\n",
    "#### Headers\n",
    "fid = h5open(joinpath(home, pdb, \"cont\", \"v3\", \"header_ctcto.h5\"), \"w\")\n",
    "write(fid, \"headers\", header_contactos_v3)\n",
    "close(fid)\n",
    "\n",
    "#### Contactos\n",
    "fid = h5open(joinpath(home, pdb, \"cont\", \"v3\", \"ctcto.h5\"), \"w\")\n",
    "write(fid, \"contactos\", trj_contactos_v3)\n",
    "close(fid)"
   ]
  },
  {
   "cell_type": "markdown",
   "metadata": {},
   "source": [
    "## Data cleaning"
   ]
  },
  {
   "cell_type": "markdown",
   "metadata": {},
   "source": [
    "#### Full"
   ]
  },
  {
   "cell_type": "code",
   "execution_count": 3,
   "metadata": {},
   "outputs": [],
   "source": [
    "header_contactos_full = h5read(joinpath(home, pdb, \"cont\", \"full\", \"header_ctcto.h5\"), \"headers\")\n",
    "trj_contactos_full = h5read(joinpath(home, pdb, \"cont\", \"full\", \"ctcto.h5\"), \"contactos\");\n",
    "nctc = length(header_contactos_full)\n",
    "\n",
    "full_prt_res = Array{Int64, 1}(undef, nctc)\n",
    "full_prt_atm = Array{String, 1}(undef, nctc)\n",
    "full_lig_atm = Array{String, 1}(undef, nctc);\n",
    "\n",
    "for i in eachindex(header_contactos_full)\n",
    "    tmp = split(header_contactos_full[i], \"@\")\n",
    "\n",
    "    full_prt_res[i] = parse(Int64, tmp[1][2:end])\n",
    "    full_prt_atm[i] = convert(String, split(tmp[2], \"_\")[1])\n",
    "    full_lig_atm[i] = convert(String, tmp[end])\n",
    "end"
   ]
  },
  {
   "cell_type": "markdown",
   "metadata": {},
   "source": [
    "#### V1"
   ]
  },
  {
   "cell_type": "code",
   "execution_count": 4,
   "metadata": {},
   "outputs": [],
   "source": [
    "header_contactos_v1 = h5read(joinpath(home, pdb, \"cont\", \"v1\", \"header_ctcto.h5\"), \"headers\")\n",
    "trj_contactos_v1 = h5read(joinpath(home, pdb, \"cont\", \"v1\", \"ctcto.h5\"), \"contactos\");\n",
    "nctc = length(header_contactos_v1)\n",
    "\n",
    "v1_prt_res = Array{Int64, 1}(undef, nctc)\n",
    "v1_prt_atm = Array{String, 1}(undef, nctc)\n",
    "v1_lig_atm = Array{String, 1}(undef, nctc);\n",
    "\n",
    "for i in eachindex(header_contactos_v1)\n",
    "    tmp = split(header_contactos_v1[i], \"@\")\n",
    "\n",
    "    v1_prt_res[i] = parse(Int64, tmp[1][2:end])\n",
    "    v1_prt_atm[i] = convert(String, split(tmp[2], \"_\")[1])\n",
    "    v1_lig_atm[i] = convert(String, tmp[end])\n",
    "end"
   ]
  },
  {
   "cell_type": "markdown",
   "metadata": {},
   "source": [
    "#### V2"
   ]
  },
  {
   "cell_type": "code",
   "execution_count": 5,
   "metadata": {},
   "outputs": [],
   "source": [
    "header_contactos_v2 = h5read(joinpath(home, pdb, \"cont\", \"v2\", \"header_ctcto.h5\"), \"headers\")\n",
    "trj_contactos_v2 = h5read(joinpath(home, pdb, \"cont\", \"v2\", \"ctcto.h5\"), \"contactos\");\n",
    "nctc = length(header_contactos_v2)\n",
    "\n",
    "v2_prt_res = Array{Int64, 1}(undef, nctc)\n",
    "v2_prt_atm = Array{String, 1}(undef, nctc)\n",
    "v2_lig_atm = Array{String, 1}(undef, nctc);\n",
    "\n",
    "for i in eachindex(header_contactos_v2)\n",
    "    tmp = split(header_contactos_v2[i], \"@\")\n",
    "\n",
    "    v2_prt_res[i] = parse(Int64, tmp[1][2:end])\n",
    "    v2_prt_atm[i] = convert(String, split(tmp[2], \"_\")[1])\n",
    "    v2_lig_atm[i] = convert(String, tmp[end])\n",
    "end"
   ]
  },
  {
   "cell_type": "markdown",
   "metadata": {},
   "source": [
    "#### V3"
   ]
  },
  {
   "cell_type": "code",
   "execution_count": 6,
   "metadata": {},
   "outputs": [],
   "source": [
    "header_contactos_v3 = h5read(joinpath(home, pdb, \"cont\", \"v3\", \"header_ctcto.h5\"), \"headers\")\n",
    "trj_contactos_v3 = h5read(joinpath(home, pdb, \"cont\", \"v3\", \"ctcto.h5\"), \"contactos\");\n",
    "nctc = length(header_contactos_v3)\n",
    "\n",
    "v3_prt_res = Array{Int64, 1}(undef, nctc)\n",
    "v3_prt_atm = Array{String, 1}(undef, nctc)\n",
    "v3_lig_atm = Array{String, 1}(undef, nctc);\n",
    "\n",
    "for i in eachindex(header_contactos_v3)\n",
    "    tmp = split(header_contactos_v3[i], \"@\")\n",
    "\n",
    "    v3_prt_res[i] = parse(Int64, tmp[1][2:end])\n",
    "    v3_prt_atm[i] = convert(String, split(tmp[2], \"_\")[1])\n",
    "    v3_lig_atm[i] = convert(String, tmp[end])\n",
    "end"
   ]
  },
  {
   "cell_type": "markdown",
   "metadata": {},
   "source": [
    "# Analizo"
   ]
  },
  {
   "cell_type": "markdown",
   "metadata": {},
   "source": [
    "## Según proteína"
   ]
  },
  {
   "cell_type": "code",
   "execution_count": 7,
   "metadata": {},
   "outputs": [
    {
     "data": {
      "text/plain": [
       "495124"
      ]
     },
     "execution_count": 7,
     "metadata": {},
     "output_type": "execute_result"
    }
   ],
   "source": [
    "name_res_full, freq_res_full, ids_res_full = JUMD.contarIndexar(full_prt_res)\n",
    "name_res_v1, freq_res_v1, ids_res_v1 = JUMD.contarIndexar(v1_prt_res)\n",
    "name_res_v2, freq_res_v2, ids_res_v2 = JUMD.contarIndexar(v2_prt_res)\n",
    "name_res_v3, freq_res_v3, ids_res_v3 = JUMD.contarIndexar(v3_prt_res)\n",
    "\n",
    "dens_tot_full = sum(trj_contactos_full)\n",
    "dens_tot_v1 = sum(trj_contactos_v1)\n",
    "dens_tot_v2 = sum(trj_contactos_v2)\n",
    "dens_tot_v3 = sum(trj_contactos_v3)"
   ]
  },
  {
   "cell_type": "markdown",
   "metadata": {},
   "source": [
    "### Obtengo densidad/frecuencia de contacto entre el res y el lig."
   ]
  },
  {
   "cell_type": "code",
   "execution_count": 9,
   "metadata": {},
   "outputs": [],
   "source": [
    "mask = collect(1:154);\n",
    "\n",
    "dens_full = fill(0., length(mask))\n",
    "k = 1\n",
    "for i in eachindex(name_res_full)\n",
    "    while name_res_full[i] != mask[k]\n",
    "        k+=1\n",
    "    end\n",
    "    dens_full[k] = sum(trj_contactos_full[:, ids_res_full[i]])\n",
    "end\n",
    "dens_full = dens_full ./ dens_tot_full\n",
    "\n",
    "dens_v1 = fill(0., length(mask))\n",
    "k = 1\n",
    "for i in eachindex(name_res_v1)\n",
    "    while name_res_v1[i] != mask[k]\n",
    "        k+=1\n",
    "    end\n",
    "    dens_v1[k] = sum(trj_contactos_v1[:, ids_res_v1[i]])\n",
    "end\n",
    "dens_v1 = dens_v1 ./ dens_tot_v1\n",
    "\n",
    "dens_v2 = fill(0., length(mask))\n",
    "k = 1\n",
    "for i in eachindex(name_res_v2)\n",
    "    while name_res_v2[i] != mask[k]\n",
    "        k+=1\n",
    "    end\n",
    "    dens_v2[k] = sum(trj_contactos_v2[:, ids_res_v2[i]])\n",
    "end\n",
    "dens_v2 = dens_v2 ./ dens_tot_v2\n",
    "\n",
    "dens_v3 = fill(0., length(mask))\n",
    "k = 1\n",
    "for i in eachindex(name_res_v3)\n",
    "    while name_res_v3[i] != mask[k]\n",
    "        k+=1\n",
    "    end\n",
    "    dens_v3[k] = sum(trj_contactos_v3[:, ids_res_v3[i]])\n",
    "end\n",
    "dens_v3 = dens_v3 ./ dens_tot_v3;"
   ]
  },
  {
   "cell_type": "code",
   "execution_count": 10,
   "metadata": {},
   "outputs": [
    {
     "data": {
      "image/png": "[encoded data removed]"
     },
     "execution_count": 10,
     "metadata": {},
     "output_type": "execute_result"
    }
   ],
   "source": [
    "plot(mask, dens_v1,\n",
    "    lw = 3, linealpha = .7, size = (750, 600), label = \"VOL 1\")\n",
    "plot!(mask, dens_v2,\n",
    "    lw = 3, linealpha = .7, label = \"VOL 2\")"
   ]
  },
  {
   "cell_type": "code",
   "execution_count": 11,
   "metadata": {},
   "outputs": [
    {
     "data": {
      "image/png": "[encoded data removed]"
     },
     "execution_count": 11,
     "metadata": {},
     "output_type": "execute_result"
    }
   ],
   "source": [
    "plot(mask, dens_v1,\n",
    "    lw = 3, linealpha = .7, size = (750, 600), label = \"VOL 1\")\n",
    "plot!(mask, dens_v3,\n",
    "    lw = 3, linealpha = .7, label = \"VOL 3\")"
   ]
  },
  {
   "cell_type": "code",
   "execution_count": 12,
   "metadata": {},
   "outputs": [
    {
     "data": {
      "image/png": "[encoded data removed]"
     },
     "execution_count": 12,
     "metadata": {},
     "output_type": "execute_result"
    }
   ],
   "source": [
    "plot(mask, dens_v2,\n",
    "    lw = 3, linealpha = .7, size = (750, 600), label = \"VOL 2\")\n",
    "plot!(mask, dens_v3,\n",
    "    lw = 3, linealpha = .7, label = \"VOL 3\")"
   ]
  },
  {
   "cell_type": "markdown",
   "metadata": {},
   "source": [
    "#### Top20 residuos en contacto con el lig"
   ]
  },
  {
   "cell_type": "code",
   "execution_count": 13,
   "metadata": {},
   "outputs": [
    {
     "data": {
      "text/plain": [
       "60:144"
      ]
     },
     "execution_count": 13,
     "metadata": {},
     "output_type": "execute_result"
    }
   ],
   "source": [
    "top_dens_v1 = sortperm(dens_v1, rev = true)[1:20]\n",
    "top_dens_v2 = sortperm(dens_v2, rev = true)[1:20]\n",
    "top_dens_v3 = sortperm(dens_v3, rev = true)[1:20]\n",
    "\n",
    "# P/ pymol:\n",
    "replace(string(top_dens_v1), \", \" => \"+\")[2:end-1]\n",
    "replace(string(top_dens_v2), \", \" => \"+\")[2:end-1]\n",
    "replace(string(top_dens_v3), \", \" => \"+\")[2:end-1]\n",
    "\n",
    "# P/ graficar acá:\n",
    "max_dens_v1 = dens_v1[dens_v1 .>= dens_v1[top_dens_v1[end]]]\n",
    "max_dens_v2 = dens_v1[dens_v2 .>= dens_v2[top_dens_v2[end]]]\n",
    "max_dens_v3 = dens_v1[dens_v3 .>= dens_v3[top_dens_v3[end]]];\n",
    "\n",
    "idx_v1 = sortperm(top_dens_v1)\n",
    "idx_v2 = sortperm(top_dens_v2)\n",
    "idx_v3 = sortperm(top_dens_v3);\n",
    "\n",
    "#\n",
    "templ_v1 = fill(0., length(mask))\n",
    "templ_v1[top_dens_v1] = max_dens_v1\n",
    "#\n",
    "templ_v2 = fill(0., length(mask))\n",
    "templ_v2[top_dens_v2] = max_dens_v2\n",
    "#\n",
    "templ_v3 = fill(0., length(mask))\n",
    "templ_v3[top_dens_v3] = max_dens_v3;\n",
    "\n",
    "#\n",
    "prin = 1:35\n",
    "fin = 60:144"
   ]
  },
  {
   "cell_type": "code",
   "execution_count": 14,
   "metadata": {},
   "outputs": [
    {
     "data": {
      "image/png": "[encoded data removed]"
     },
     "execution_count": 14,
     "metadata": {},
     "output_type": "execute_result"
    }
   ],
   "source": [
    "groupedbar(hcat(templ_v1, templ_v2),\n",
    "    bar_position = :dodge, linecolor = false, size = (1200, 600), label = \"VOL 2\",\n",
    "    bar_width = 1)"
   ]
  },
  {
   "cell_type": "code",
   "execution_count": 15,
   "metadata": {},
   "outputs": [
    {
     "data": {
      "image/png": "[encoded data removed]"
     },
     "execution_count": 15,
     "metadata": {},
     "output_type": "execute_result"
    }
   ],
   "source": [
    "groupedbar(hcat(templ_v1, templ_v3),\n",
    "    bar_position = :dodge, linecolor = false, size = (1200, 600), label = \"VOL 2\",\n",
    "    bar_width = 1)"
   ]
  },
  {
   "cell_type": "code",
   "execution_count": 16,
   "metadata": {},
   "outputs": [
    {
     "data": {
      "image/png": "[encoded data removed]"
     },
     "execution_count": 16,
     "metadata": {},
     "output_type": "execute_result"
    }
   ],
   "source": [
    "groupedbar(hcat(templ_v2, templ_v3),\n",
    "    bar_position = :dodge, linecolor = false, size = (1200, 600), label = \"VOL 2\",\n",
    "    bar_width = 1)"
   ]
  },
  {
   "cell_type": "code",
   "execution_count": 17,
   "metadata": {},
   "outputs": [
    {
     "data": {
      "image/png": "[encoded data removed]"
     },
     "execution_count": 17,
     "metadata": {},
     "output_type": "execute_result"
    }
   ],
   "source": [
    "groupedbar(hcat(templ_v1, templ_v2)[prin, :],\n",
    "    bar_position = :dodge, linecolor = false, size = (1200, 600), label = \"VOL 2\",\n",
    "    bar_width = 1)"
   ]
  },
  {
   "cell_type": "code",
   "execution_count": 18,
   "metadata": {},
   "outputs": [
    {
     "data": {
      "image/png": "[encoded data removed]"
     },
     "execution_count": 18,
     "metadata": {},
     "output_type": "execute_result"
    }
   ],
   "source": [
    "groupedbar(hcat(templ_v1, templ_v2)[fin, :],\n",
    "    bar_position = :dodge, linecolor = false, size = (1200, 600), label = \"VOL 2\",\n",
    "    bar_width = 1)"
   ]
  },
  {
   "cell_type": "code",
   "execution_count": 19,
   "metadata": {},
   "outputs": [
    {
     "data": {
      "image/png": "[encoded data removed]"
     },
     "execution_count": 19,
     "metadata": {},
     "output_type": "execute_result"
    }
   ],
   "source": [
    "groupedbar(hcat(templ_v1, templ_v3)[prin, :],\n",
    "    bar_position = :dodge, linecolor = false, size = (1200, 600), label = \"VOL 2\",\n",
    "    bar_width = 1)"
   ]
  },
  {
   "cell_type": "code",
   "execution_count": 20,
   "metadata": {},
   "outputs": [
    {
     "data": {
      "image/png": "[encoded data removed]"
     },
     "execution_count": 20,
     "metadata": {},
     "output_type": "execute_result"
    }
   ],
   "source": [
    "groupedbar(hcat(templ_v1, templ_v3)[fin, :],\n",
    "    bar_position = :dodge, linecolor = false, size = (1200, 600), label = \"VOL 2\",\n",
    "    bar_width = 1)"
   ]
  },
  {
   "cell_type": "code",
   "execution_count": 21,
   "metadata": {},
   "outputs": [
    {
     "data": {
      "image/png": "[encoded data removed]"
     },
     "execution_count": 21,
     "metadata": {},
     "output_type": "execute_result"
    }
   ],
   "source": [
    "groupedbar(hcat(templ_v2, templ_v3)[prin, :],\n",
    "    bar_position = :dodge, linecolor = false, size = (1200, 600), label = \"VOL 2\",\n",
    "    bar_width = 1)"
   ]
  },
  {
   "cell_type": "code",
   "execution_count": 22,
   "metadata": {},
   "outputs": [
    {
     "data": {
      "image/png": "[encoded data removed]"
     },
     "execution_count": 22,
     "metadata": {},
     "output_type": "execute_result"
    }
   ],
   "source": [
    "groupedbar(hcat(templ_v2, templ_v3)[fin, :],\n",
    "    bar_position = :dodge, linecolor = false, size = (1200, 600), label = \"VOL 2\",\n",
    "    bar_width = 1)"
   ]
  },
  {
   "cell_type": "markdown",
   "metadata": {},
   "source": [
    "## Según ligando"
   ]
  },
  {
   "cell_type": "code",
   "execution_count": 62,
   "metadata": {},
   "outputs": [],
   "source": [
    "name_lig_full, freq_lig_full, ids_lig_full = JUMD.contarIndexar(full_lig_atm)\n",
    "name_lig_v1, freq_lig_v1, ids_lig_v1 = JUMD.contarIndexar(v1_lig_atm)\n",
    "name_lig_v2, freq_lig_v2, ids_lig_v2 = JUMD.contarIndexar(v2_lig_atm)\n",
    "name_lig_v3, freq_lig_v3, ids_lig_v3 = JUMD.contarIndexar(v3_lig_atm);\n",
    "\n",
    "# Reordeno a mi gusto\n",
    "name_lig_full = append!(name_lig_full[end-1:end], name_lig_full[1:end-2])\n",
    "name_lig_v1 = append!(name_lig_v1[end-1:end], name_lig_v1[1:end-2])\n",
    "name_lig_v2 = append!(name_lig_v2[end-1:end], name_lig_v2[1:end-2])\n",
    "name_lig_v3 = append!(name_lig_v3[end-1:end], name_lig_v3[1:end-2])\n",
    "\n",
    "freq_lig_full = append!(freq_lig_full[end-1:end], freq_lig_full[1:end-2])\n",
    "freq_lig_v1 = append!(freq_lig_v1[end-1:end], freq_lig_v1[1:end-2])\n",
    "freq_lig_v2 = append!(freq_lig_v2[end-1:end], freq_lig_v2[1:end-2])\n",
    "freq_lig_v3 = append!(freq_lig_v3[end-1:end], freq_lig_v3[1:end-2])\n",
    "\n",
    "ids_lig_full = append!(ids_lig_full[end-1:end], ids_lig_full[1:end-2])\n",
    "ids_lig_v1 = append!(ids_lig_v1[end-1:end], ids_lig_v1[1:end-2])\n",
    "ids_lig_v2 = append!(ids_lig_v2[end-1:end], ids_lig_v2[1:end-2])\n",
    "ids_lig_v3 = append!(ids_lig_v3[end-1:end], ids_lig_v3[1:end-2])\n",
    "\n",
    "\n",
    "# Armo diccionarios p/ después indexar más lindo\n",
    "dic_lig_full = Dict(zip(name_lig_full, ids_lig_full))\n",
    "dic_lig_v1 = Dict(zip(name_lig_v1, ids_lig_v1))\n",
    "dic_lig_v2 = Dict(zip(name_lig_v2, ids_lig_v2))\n",
    "dic_lig_v3 = Dict(zip(name_lig_v3, ids_lig_v3))\n",
    "\n",
    "# Agrupo por sección del ligando \n",
    "\n",
    "# Head\n",
    "head_full = [ dic_lig_full[\"O1\"] ; dic_lig_full[\"O2\"] ; dic_lig_full[\"C1\"] ;\n",
    "    dic_lig_full[\"C2\"] ]\n",
    "head_v1 = [ dic_lig_v1[\"O1\"] ; dic_lig_v1[\"O2\"] ; dic_lig_v1[\"C1\"] ; dic_lig_v1[\"C2\"] ]\n",
    "head_v2 = [ dic_lig_v2[\"O1\"] ; dic_lig_v2[\"O2\"] ; dic_lig_v2[\"C1\"] ; dic_lig_v2[\"C2\"] ]\n",
    "head_v3 = [ dic_lig_v3[\"O1\"] ; dic_lig_v3[\"O2\"] ; dic_lig_v3[\"C1\"] ; dic_lig_v3[\"C2\"] ]\n",
    "\n",
    "# Body\n",
    "body_full = [ dic_lig_full[\"C3\"] ; dic_lig_full[\"C4\"]  ; dic_lig_full[\"C5\"]  ;\n",
    "    dic_lig_full[\"C6\"]  ; dic_lig_full[\"C7\"]  ; dic_lig_full[\"C8\"]  ; \n",
    "    dic_lig_full[\"C9\"]  ; dic_lig_full[\"CA\"] ; dic_lig_full[\"CB\"]  ;\n",
    "    dic_lig_full[\"CC\"]  ; dic_lig_full[\"CD\"] ] \n",
    "body_v1 = [ dic_lig_v1[\"C3\"] ; dic_lig_v1[\"C4\"]  ; dic_lig_v1[\"C5\"]  ;\n",
    "    dic_lig_v1[\"C6\"]  ; dic_lig_v1[\"C7\"]  ; dic_lig_v1[\"C8\"]  ; \n",
    "    dic_lig_v1[\"C9\"]  ; dic_lig_v1[\"CA\"] ; dic_lig_v1[\"CB\"]  ;\n",
    "    dic_lig_v1[\"CC\"]  ; dic_lig_v1[\"CD\"] ]\n",
    "body_v2 = [ dic_lig_v2[\"C3\"] ; dic_lig_v2[\"C4\"]  ; dic_lig_v2[\"C5\"]  ;\n",
    "    dic_lig_v2[\"C6\"]  ; dic_lig_v2[\"C7\"]  ; dic_lig_v2[\"C8\"]  ;\n",
    "    dic_lig_v2[\"C9\"]  ; dic_lig_v2[\"CA\"] ; dic_lig_v2[\"CB\"]  ;\n",
    "    dic_lig_v2[\"CC\"]  ; dic_lig_v2[\"CD\"] ]\n",
    "body_v3 = [ dic_lig_v3[\"C3\"] ; dic_lig_v3[\"C4\"]  ; dic_lig_v3[\"C5\"]  ;\n",
    "    dic_lig_v3[\"C6\"]  ; dic_lig_v3[\"C7\"]  ; dic_lig_v3[\"C8\"]  ;\n",
    "    dic_lig_v3[\"C9\"]  ; dic_lig_v3[\"CA\"] ; dic_lig_v3[\"CB\"]  ;\n",
    "    dic_lig_v3[\"CC\"]  ; dic_lig_v3[\"CD\"] ]\n",
    "\n",
    "# Tail\n",
    "tail_full = [ dic_lig_full[\"CE\"] ; dic_lig_full[\"CF\"] ; dic_lig_full[\"CG\"] ]\n",
    "tail_v1 = [ dic_lig_v1[\"CE\"] ; dic_lig_v1[\"CF\"] ; dic_lig_v1[\"CG\"] ]\n",
    "tail_v2 = [ dic_lig_v2[\"CE\"] ; dic_lig_v2[\"CF\"] ; dic_lig_v2[\"CG\"] ]\n",
    "tail_v3 = [ dic_lig_v3[\"CE\"] ; dic_lig_v3[\"CF\"] ; dic_lig_v3[\"CG\"] ];"
   ]
  },
  {
   "cell_type": "markdown",
   "metadata": {},
   "source": [
    "### Obtengo densidad/frecuencia de contacto entre las zonas del ligando y la proteína"
   ]
  },
  {
   "cell_type": "code",
   "execution_count": 63,
   "metadata": {},
   "outputs": [],
   "source": [
    "dens_head_full = sum(trj_contactos_full[:, head_full]) ./ dens_tot_full\n",
    "dens_body_full = sum(trj_contactos_full[:, body_full]) ./ dens_tot_full\n",
    "dens_tail_full = sum(trj_contactos_full[:, tail_full]) ./ dens_tot_full\n",
    "dens_lig_full = [ dens_head_full ; dens_body_full ; dens_tail_full ]\n",
    "\n",
    "dens_head_v1 = sum(trj_contactos_v1[:, head_v1]) ./ dens_tot_v1\n",
    "dens_body_v1 = sum(trj_contactos_v1[:, body_v1]) ./ dens_tot_v1\n",
    "dens_tail_v1 = sum(trj_contactos_v1[:, tail_v1]) ./ dens_tot_v1\n",
    "dens_lig_v1 = [ dens_head_v1 ; dens_body_v1 ; dens_tail_v1 ]\n",
    "\n",
    "dens_head_v2 = sum(trj_contactos_v2[:, head_v2]) ./ dens_tot_v2\n",
    "dens_body_v2 = sum(trj_contactos_v2[:, body_v2]) ./ dens_tot_v2\n",
    "dens_tail_v2 = sum(trj_contactos_v2[:, tail_v2]) ./ dens_tot_v2\n",
    "dens_lig_v2 = [ dens_head_v2 ; dens_body_v2 ; dens_tail_v2 ]\n",
    "\n",
    "dens_head_v3 = sum(trj_contactos_v3[:, head_v3]) ./ dens_tot_v3\n",
    "dens_body_v3 = sum(trj_contactos_v3[:, body_v3]) ./ dens_tot_v3\n",
    "dens_tail_v3 = sum(trj_contactos_v3[:, tail_v3]) ./ dens_tot_v3\n",
    "dens_lig_v3 = [ dens_head_v3 ; dens_body_v3 ; dens_tail_v3 ];"
   ]
  },
  {
   "cell_type": "code",
   "execution_count": 64,
   "metadata": {},
   "outputs": [
    {
     "data": {
      "application/vnd.plotly.v1+json": {
       "data": [
        {
         "fill": "tozeroy",
         "fillcolor": "rgba(0, 154, 250, 1.000)",
         "legendgroup": "ALL",
         "line": {
          "color": "rgba(0, 0, 0, 0)",
          "dash": "solid",
          "width": 1
         },
         "mode": "lines",
         "name": "ALL",
         "showlegend": true,
         "type": "scatter",
         "x": [
          0.09999999999999998,
          0.09999999999999998,
          0.3,
          0.3,
          0.09999999999999998,
          0.09999999999999998
         ],
         "xaxis": "x",
         "y": [
          0.5223046321231832,
          0,
          0,
          0.5223046321231832,
          0.5223046321231832,
          0.5223046321231832
         ],
         "yaxis": "y"
        },
        {
         "fill": "tozeroy",
         "fillcolor": "rgba(0, 154, 250, 1.000)",
         "legendgroup": "ALL",
         "line": {
          "color": "rgba(0, 0, 0, 0)",
          "dash": "solid",
          "width": 1
         },
         "mode": "lines",
         "name": "ALL",
         "showlegend": false,
         "type": "scatter",
         "x": [
          1.1,
          1.1,
          1.3000000000000003,
          1.3000000000000003,
          1.1,
          1.1
         ],
         "xaxis": "x",
         "y": [
          0.26863567465748384,
          0,
          0,
          0.26863567465748384,
          0.26863567465748384,
          0.26863567465748384
         ],
         "yaxis": "y"
        },
        {
         "fill": "tozeroy",
         "fillcolor": "rgba(0, 154, 250, 1.000)",
         "legendgroup": "ALL",
         "line": {
          "color": "rgba(0, 0, 0, 0)",
          "dash": "solid",
          "width": 1
         },
         "mode": "lines",
         "name": "ALL",
         "showlegend": false,
         "type": "scatter",
         "x": [
          2.1,
          2.1,
          2.3000000000000003,
          2.3000000000000003,
          2.1,
          2.1
         ],
         "xaxis": "x",
         "y": [
          0.20905969321933296,
          0,
          0,
          0.20905969321933296,
          0.20905969321933296,
          0.20905969321933296
         ],
         "yaxis": "y"
        },
        {
         "fill": "tozeroy",
         "fillcolor": "rgba(227, 111, 71, 1.000)",
         "legendgroup": "V1",
         "line": {
          "color": "rgba(0, 0, 0, 0)",
          "dash": "solid",
          "width": 1
         },
         "mode": "lines",
         "name": "V1",
         "showlegend": true,
         "type": "scatter",
         "x": [
          0.30000000000000004,
          0.30000000000000004,
          0.5,
          0.5,
          0.30000000000000004,
          0.30000000000000004
         ],
         "xaxis": "x",
         "y": [
          0.5446441387245732,
          0,
          0,
          0.5446441387245732,
          0.5446441387245732,
          0.5446441387245732
         ],
         "yaxis": "y"
        },
        {
         "fill": "tozeroy",
         "fillcolor": "rgba(227, 111, 71, 1.000)",
         "legendgroup": "V1",
         "line": {
          "color": "rgba(0, 0, 0, 0)",
          "dash": "solid",
          "width": 1
         },
         "mode": "lines",
         "name": "V1",
         "showlegend": false,
         "type": "scatter",
         "x": [
          1.3,
          1.3,
          1.5000000000000002,
          1.5000000000000002,
          1.3,
          1.3
         ],
         "xaxis": "x",
         "y": [
          0.25651256066778616,
          0,
          0,
          0.25651256066778616,
          0.25651256066778616,
          0.25651256066778616
         ],
         "yaxis": "y"
        },
        {
         "fill": "tozeroy",
         "fillcolor": "rgba(227, 111, 71, 1.000)",
         "legendgroup": "V1",
         "line": {
          "color": "rgba(0, 0, 0, 0)",
          "dash": "solid",
          "width": 1
         },
         "mode": "lines",
         "name": "V1",
         "showlegend": false,
         "type": "scatter",
         "x": [
          2.3000000000000003,
          2.3000000000000003,
          2.5000000000000004,
          2.5000000000000004,
          2.3000000000000003,
          2.3000000000000003
         ],
         "xaxis": "x",
         "y": [
          0.1988433006076406,
          0,
          0,
          0.1988433006076406,
          0.1988433006076406,
          0.1988433006076406
         ],
         "yaxis": "y"
        },
        {
         "fill": "tozeroy",
         "fillcolor": "rgba(62, 164, 78, 1.000)",
         "legendgroup": "V2",
         "line": {
          "color": "rgba(0, 0, 0, 0)",
          "dash": "solid",
          "width": 1
         },
         "mode": "lines",
         "name": "V2",
         "showlegend": true,
         "type": "scatter",
         "x": [
          0.5,
          0.5,
          0.7,
          0.7,
          0.5,
          0.5
         ],
         "xaxis": "x",
         "y": [
          0.49741275902673077,
          0,
          0,
          0.49741275902673077,
          0.49741275902673077,
          0.49741275902673077
         ],
         "yaxis": "y"
        },
        {
         "fill": "tozeroy",
         "fillcolor": "rgba(62, 164, 78, 1.000)",
         "legendgroup": "V2",
         "line": {
          "color": "rgba(0, 0, 0, 0)",
          "dash": "solid",
          "width": 1
         },
         "mode": "lines",
         "name": "V2",
         "showlegend": false,
         "type": "scatter",
         "x": [
          1.5,
          1.5,
          1.7000000000000002,
          1.7000000000000002,
          1.5,
          1.5
         ],
         "xaxis": "x",
         "y": [
          0.29968416071487525,
          0,
          0,
          0.29968416071487525,
          0.29968416071487525,
          0.29968416071487525
         ],
         "yaxis": "y"
        },
        {
         "fill": "tozeroy",
         "fillcolor": "rgba(62, 164, 78, 1.000)",
         "legendgroup": "V2",
         "line": {
          "color": "rgba(0, 0, 0, 0)",
          "dash": "solid",
          "width": 1
         },
         "mode": "lines",
         "name": "V2",
         "showlegend": false,
         "type": "scatter",
         "x": [
          2.5,
          2.5,
          2.7,
          2.7,
          2.5,
          2.5
         ],
         "xaxis": "x",
         "y": [
          0.20290308025839396,
          0,
          0,
          0.20290308025839396,
          0.20290308025839396,
          0.20290308025839396
         ],
         "yaxis": "y"
        },
        {
         "fill": "tozeroy",
         "fillcolor": "rgba(195, 113, 210, 1.000)",
         "legendgroup": "V3",
         "line": {
          "color": "rgba(0, 0, 0, 0)",
          "dash": "solid",
          "width": 1
         },
         "mode": "lines",
         "name": "V3",
         "showlegend": true,
         "type": "scatter",
         "x": [
          0.7000000000000001,
          0.7000000000000001,
          0.9,
          0.9,
          0.7000000000000001,
          0.7000000000000001
         ],
         "xaxis": "x",
         "y": [
          0.49342790896825844,
          0,
          0,
          0.49342790896825844,
          0.49342790896825844,
          0.49342790896825844
         ],
         "yaxis": "y"
        },
        {
         "fill": "tozeroy",
         "fillcolor": "rgba(195, 113, 210, 1.000)",
         "legendgroup": "V3",
         "line": {
          "color": "rgba(0, 0, 0, 0)",
          "dash": "solid",
          "width": 1
         },
         "mode": "lines",
         "name": "V3",
         "showlegend": false,
         "type": "scatter",
         "x": [
          1.7000000000000002,
          1.7000000000000002,
          1.9000000000000004,
          1.9000000000000004,
          1.7000000000000002,
          1.7000000000000002
         ],
         "xaxis": "x",
         "y": [
          0.3005469336974172,
          0,
          0,
          0.3005469336974172,
          0.3005469336974172,
          0.3005469336974172
         ],
         "yaxis": "y"
        },
        {
         "fill": "tozeroy",
         "fillcolor": "rgba(195, 113, 210, 1.000)",
         "legendgroup": "V3",
         "line": {
          "color": "rgba(0, 0, 0, 0)",
          "dash": "solid",
          "width": 1
         },
         "mode": "lines",
         "name": "V3",
         "showlegend": false,
         "type": "scatter",
         "x": [
          2.7,
          2.7,
          2.9000000000000004,
          2.9000000000000004,
          2.7,
          2.7
         ],
         "xaxis": "x",
         "y": [
          0.20602515733432433,
          0,
          0,
          0.20602515733432433,
          0.20602515733432433,
          0.20602515733432433
         ],
         "yaxis": "y"
        }
       ],
       "layout": {
        "annotations": [],
        "height": 400,
        "legend": {
         "bgcolor": "rgba(255, 255, 255, 1.000)",
         "bordercolor": "rgba(0, 0, 0, 1)",
         "font": {
          "color": "rgba(0, 0, 0, 1)",
          "family": "sans-serif",
          "size": 11
         },
         "tracegroupgap": 0,
         "x": 1,
         "y": 1
        },
        "margin": {
         "b": 20,
         "l": 0,
         "r": 0,
         "t": 20
        },
        "paper_bgcolor": "rgba(255, 255, 255, 1.000)",
        "plot_bgcolor": "rgba(255, 255, 255, 1.000)",
        "showlegend": true,
        "width": 750,
        "xaxis": {
         "anchor": "y",
         "domain": [
          0.04080489938757655,
          0.994750656167979
         ],
         "gridcolor": "rgba(0, 0, 0, 0.1)",
         "gridwidth": 0.5,
         "linecolor": "rgba(0, 0, 0, 1)",
         "mirror": false,
         "range": [
          -0.053960000000000036,
          3.05396
         ],
         "showgrid": true,
         "showline": true,
         "showticklabels": true,
         "tickangle": 0,
         "tickcolor": "rgb(0, 0, 0)",
         "tickfont": {
          "color": "rgba(0, 0, 0, 1)",
          "family": "sans-serif",
          "size": 11
         },
         "tickmode": "array",
         "ticks": "inside",
         "ticktext": [
          "Body",
          "Head",
          "Tail"
         ],
         "tickvals": [
          0.5,
          1.5,
          2.5
         ],
         "title": "",
         "titlefont": {
          "color": "rgba(0, 0, 0, 1)",
          "family": "sans-serif",
          "size": 15
         },
         "type": "linear",
         "visible": true,
         "zeroline": false,
         "zerolinecolor": "rgba(0, 0, 0, 1)"
        },
        "yaxis": {
         "anchor": "x",
         "domain": [
          0.03762029746281716,
          0.9901574803149606
         ],
         "gridcolor": "rgba(0, 0, 0, 0.1)",
         "gridwidth": 0.5,
         "linecolor": "rgba(0, 0, 0, 1)",
         "mirror": false,
         "range": [
          -0.016339324161737195,
          0.5609834628863104
         ],
         "showgrid": true,
         "showline": true,
         "showticklabels": true,
         "tickangle": 0,
         "tickcolor": "rgb(0, 0, 0)",
         "tickfont": {
          "color": "rgba(0, 0, 0, 1)",
          "family": "sans-serif",
          "size": 11
         },
         "tickmode": "array",
         "ticks": "inside",
         "ticktext": [
          "0.0",
          "0.1",
          "0.2",
          "0.3",
          "0.4",
          "0.5"
         ],
         "tickvals": [
          0,
          0.1,
          0.2,
          0.30000000000000004,
          0.4,
          0.5
         ],
         "title": "",
         "titlefont": {
          "color": "rgba(0, 0, 0, 1)",
          "family": "sans-serif",
          "size": 15
         },
         "type": "linear",
         "visible": true,
         "zeroline": false,
         "zerolinecolor": "rgba(0, 0, 0, 1)"
        }
       }
      },
      "image/png": "[encoded data removed]",
      "text/html": [
       "<script src=\"file:///home/pbarletta/.julia/packages/Plots/7o1Vu/src/backends/../../deps/plotly-latest.min.js\"></script>    <div id=\"f03ce1b1-f7cf-4240-8f1c-8a61369b2c71\" style=\"width:750px;height:400px;\"></div>\n",
       "    <script>\n",
       "    PLOT = document.getElementById('f03ce1b1-f7cf-4240-8f1c-8a61369b2c71');\n",
       "    Plotly.plot(PLOT, [{\"xaxis\":\"x1\",\"fill\":\"tozeroy\",\"yaxis\":\"y1\",\"x\":[0.09999999999999998,0.09999999999999998,0.3,0.3,0.09999999999999998,0.09999999999999998],\"showlegend\":true,\"mode\":\"lines\",\"fillcolor\":\"rgba(0, 154, 250, 1.000)\",\"name\":\"ALL\",\"legendgroup\":\"ALL\",\"line\":{\"color\":\"rgba(0, 0, 0, 0.000)\",\"dash\":\"solid\",\"width\":1},\"y\":[0.5223046321231832,0.0,0.0,0.5223046321231832,0.5223046321231832,0.5223046321231832],\"type\":\"scatter\"},{\"xaxis\":\"x1\",\"fill\":\"tozeroy\",\"yaxis\":\"y1\",\"x\":[1.1,1.1,1.3000000000000003,1.3000000000000003,1.1,1.1],\"showlegend\":false,\"mode\":\"lines\",\"fillcolor\":\"rgba(0, 154, 250, 1.000)\",\"name\":\"ALL\",\"legendgroup\":\"ALL\",\"line\":{\"color\":\"rgba(0, 0, 0, 0.000)\",\"dash\":\"solid\",\"width\":1},\"y\":[0.26863567465748384,0.0,0.0,0.26863567465748384,0.26863567465748384,0.26863567465748384],\"type\":\"scatter\"},{\"xaxis\":\"x1\",\"fill\":\"tozeroy\",\"yaxis\":\"y1\",\"x\":[2.1,2.1,2.3000000000000003,2.3000000000000003,2.1,2.1],\"showlegend\":false,\"mode\":\"lines\",\"fillcolor\":\"rgba(0, 154, 250, 1.000)\",\"name\":\"ALL\",\"legendgroup\":\"ALL\",\"line\":{\"color\":\"rgba(0, 0, 0, 0.000)\",\"dash\":\"solid\",\"width\":1},\"y\":[0.20905969321933296,0.0,0.0,0.20905969321933296,0.20905969321933296,0.20905969321933296],\"type\":\"scatter\"},{\"xaxis\":\"x1\",\"fill\":\"tozeroy\",\"yaxis\":\"y1\",\"x\":[0.30000000000000004,0.30000000000000004,0.5,0.5,0.30000000000000004,0.30000000000000004],\"showlegend\":true,\"mode\":\"lines\",\"fillcolor\":\"rgba(227, 111, 71, 1.000)\",\"name\":\"V1\",\"legendgroup\":\"V1\",\"line\":{\"color\":\"rgba(0, 0, 0, 0.000)\",\"dash\":\"solid\",\"width\":1},\"y\":[0.5446441387245732,0.0,0.0,0.5446441387245732,0.5446441387245732,0.5446441387245732],\"type\":\"scatter\"},{\"xaxis\":\"x1\",\"fill\":\"tozeroy\",\"yaxis\":\"y1\",\"x\":[1.3,1.3,1.5000000000000002,1.5000000000000002,1.3,1.3],\"showlegend\":false,\"mode\":\"lines\",\"fillcolor\":\"rgba(227, 111, 71, 1.000)\",\"name\":\"V1\",\"legendgroup\":\"V1\",\"line\":{\"color\":\"rgba(0, 0, 0, 0.000)\",\"dash\":\"solid\",\"width\":1},\"y\":[0.25651256066778616,0.0,0.0,0.25651256066778616,0.25651256066778616,0.25651256066778616],\"type\":\"scatter\"},{\"xaxis\":\"x1\",\"fill\":\"tozeroy\",\"yaxis\":\"y1\",\"x\":[2.3000000000000003,2.3000000000000003,2.5000000000000004,2.5000000000000004,2.3000000000000003,2.3000000000000003],\"showlegend\":false,\"mode\":\"lines\",\"fillcolor\":\"rgba(227, 111, 71, 1.000)\",\"name\":\"V1\",\"legendgroup\":\"V1\",\"line\":{\"color\":\"rgba(0, 0, 0, 0.000)\",\"dash\":\"solid\",\"width\":1},\"y\":[0.1988433006076406,0.0,0.0,0.1988433006076406,0.1988433006076406,0.1988433006076406],\"type\":\"scatter\"},{\"xaxis\":\"x1\",\"fill\":\"tozeroy\",\"yaxis\":\"y1\",\"x\":[0.5,0.5,0.7,0.7,0.5,0.5],\"showlegend\":true,\"mode\":\"lines\",\"fillcolor\":\"rgba(62, 164, 78, 1.000)\",\"name\":\"V2\",\"legendgroup\":\"V2\",\"line\":{\"color\":\"rgba(0, 0, 0, 0.000)\",\"dash\":\"solid\",\"width\":1},\"y\":[0.49741275902673077,0.0,0.0,0.49741275902673077,0.49741275902673077,0.49741275902673077],\"type\":\"scatter\"},{\"xaxis\":\"x1\",\"fill\":\"tozeroy\",\"yaxis\":\"y1\",\"x\":[1.5,1.5,1.7000000000000002,1.7000000000000002,1.5,1.5],\"showlegend\":false,\"mode\":\"lines\",\"fillcolor\":\"rgba(62, 164, 78, 1.000)\",\"name\":\"V2\",\"legendgroup\":\"V2\",\"line\":{\"color\":\"rgba(0, 0, 0, 0.000)\",\"dash\":\"solid\",\"width\":1},\"y\":[0.29968416071487525,0.0,0.0,0.29968416071487525,0.29968416071487525,0.29968416071487525],\"type\":\"scatter\"},{\"xaxis\":\"x1\",\"fill\":\"tozeroy\",\"yaxis\":\"y1\",\"x\":[2.5,2.5,2.7,2.7,2.5,2.5],\"showlegend\":false,\"mode\":\"lines\",\"fillcolor\":\"rgba(62, 164, 78, 1.000)\",\"name\":\"V2\",\"legendgroup\":\"V2\",\"line\":{\"color\":\"rgba(0, 0, 0, 0.000)\",\"dash\":\"solid\",\"width\":1},\"y\":[0.20290308025839396,0.0,0.0,0.20290308025839396,0.20290308025839396,0.20290308025839396],\"type\":\"scatter\"},{\"xaxis\":\"x1\",\"fill\":\"tozeroy\",\"yaxis\":\"y1\",\"x\":[0.7000000000000001,0.7000000000000001,0.9,0.9,0.7000000000000001,0.7000000000000001],\"showlegend\":true,\"mode\":\"lines\",\"fillcolor\":\"rgba(195, 113, 210, 1.000)\",\"name\":\"V3\",\"legendgroup\":\"V3\",\"line\":{\"color\":\"rgba(0, 0, 0, 0.000)\",\"dash\":\"solid\",\"width\":1},\"y\":[0.49342790896825844,0.0,0.0,0.49342790896825844,0.49342790896825844,0.49342790896825844],\"type\":\"scatter\"},{\"xaxis\":\"x1\",\"fill\":\"tozeroy\",\"yaxis\":\"y1\",\"x\":[1.7000000000000002,1.7000000000000002,1.9000000000000004,1.9000000000000004,1.7000000000000002,1.7000000000000002],\"showlegend\":false,\"mode\":\"lines\",\"fillcolor\":\"rgba(195, 113, 210, 1.000)\",\"name\":\"V3\",\"legendgroup\":\"V3\",\"line\":{\"color\":\"rgba(0, 0, 0, 0.000)\",\"dash\":\"solid\",\"width\":1},\"y\":[0.3005469336974172,0.0,0.0,0.3005469336974172,0.3005469336974172,0.3005469336974172],\"type\":\"scatter\"},{\"xaxis\":\"x1\",\"fill\":\"tozeroy\",\"yaxis\":\"y1\",\"x\":[2.7,2.7,2.9000000000000004,2.9000000000000004,2.7,2.7],\"showlegend\":false,\"mode\":\"lines\",\"fillcolor\":\"rgba(195, 113, 210, 1.000)\",\"name\":\"V3\",\"legendgroup\":\"V3\",\"line\":{\"color\":\"rgba(0, 0, 0, 0.000)\",\"dash\":\"solid\",\"width\":1},\"y\":[0.20602515733432433,0.0,0.0,0.20602515733432433,0.20602515733432433,0.20602515733432433],\"type\":\"scatter\"}], {\"showlegend\":true,\"xaxis\":{\"showticklabels\":true,\"gridwidth\":0.5,\"tickvals\":[0.5,1.5,2.5],\"visible\":true,\"ticks\":\"inside\",\"range\":[-0.053960000000000036,3.05396],\"domain\":[0.04080489938757655,0.994750656167979],\"tickmode\":\"array\",\"linecolor\":\"rgba(0, 0, 0, 1.000)\",\"showgrid\":true,\"title\":\"\",\"mirror\":false,\"tickangle\":0,\"showline\":true,\"gridcolor\":\"rgba(0, 0, 0, 0.100)\",\"titlefont\":{\"color\":\"rgba(0, 0, 0, 1.000)\",\"family\":\"sans-serif\",\"size\":15},\"tickcolor\":\"rgb(0, 0, 0)\",\"ticktext\":[\"Body\",\"Head\",\"Tail\"],\"zeroline\":false,\"type\":\"-\",\"tickfont\":{\"color\":\"rgba(0, 0, 0, 1.000)\",\"family\":\"sans-serif\",\"size\":11},\"zerolinecolor\":\"rgba(0, 0, 0, 1.000)\",\"anchor\":\"y1\"},\"paper_bgcolor\":\"rgba(255, 255, 255, 1.000)\",\"annotations\":[],\"height\":400,\"margin\":{\"l\":0,\"b\":20,\"r\":0,\"t\":20},\"plot_bgcolor\":\"rgba(255, 255, 255, 1.000)\",\"yaxis\":{\"showticklabels\":true,\"gridwidth\":0.5,\"tickvals\":[0.0,0.1,0.2,0.30000000000000004,0.4,0.5],\"visible\":true,\"ticks\":\"inside\",\"range\":[-0.016339324161737195,0.5609834628863104],\"domain\":[0.03762029746281716,0.9901574803149606],\"tickmode\":\"array\",\"linecolor\":\"rgba(0, 0, 0, 1.000)\",\"showgrid\":true,\"title\":\"\",\"mirror\":false,\"tickangle\":0,\"showline\":true,\"gridcolor\":\"rgba(0, 0, 0, 0.100)\",\"titlefont\":{\"color\":\"rgba(0, 0, 0, 1.000)\",\"family\":\"sans-serif\",\"size\":15},\"tickcolor\":\"rgb(0, 0, 0)\",\"ticktext\":[\"0.0\",\"0.1\",\"0.2\",\"0.3\",\"0.4\",\"0.5\"],\"zeroline\":false,\"type\":\"-\",\"tickfont\":{\"color\":\"rgba(0, 0, 0, 1.000)\",\"family\":\"sans-serif\",\"size\":11},\"zerolinecolor\":\"rgba(0, 0, 0, 1.000)\",\"anchor\":\"x1\"},\"legend\":{\"tracegroupgap\":0,\"bordercolor\":\"rgba(0, 0, 0, 1.000)\",\"bgcolor\":\"rgba(255, 255, 255, 1.000)\",\"font\":{\"color\":\"rgba(0, 0, 0, 1.000)\",\"family\":\"sans-serif\",\"size\":11},\"y\":1.0,\"x\":1.0},\"width\":750});\n",
       "    </script>\n"
      ]
     },
     "execution_count": 64,
     "metadata": {},
     "output_type": "execute_result"
    }
   ],
   "source": [
    "x_lig = repeat([\"Head\" ; \"Body\" ; \"Tail\"], outer = 4)\n",
    "g_lig = repeat([\"ALL\" ; \"V1\" ; \"V2\" ; \"V3\"], inner = 3)\n",
    "\n",
    "groupedbar(x_lig, hcat(dens_lig_full ,dens_lig_v1, dens_lig_v2, dens_lig_v3),\n",
    "    bar_position = :dodge, linecolor = false, size = (750, 400),\n",
    "    group = g_lig)"
   ]
  },
  {
   "cell_type": "markdown",
   "metadata": {},
   "source": [
    "### Según átomo del ligando"
   ]
  },
  {
   "cell_type": "code",
   "execution_count": 71,
   "metadata": {},
   "outputs": [],
   "source": [
    "mask_lig = collect(1:18);\n",
    "\n",
    "dens_lig_full = fill(0., length(mask_lig))\n",
    "[ dens_lig_full[i] = sum(trj_contactos_full[:, ids_lig_full[i]]) for i in eachindex(name_lig_full) ]\n",
    "dens_lig_full = dens_lig_full ./ dens_tot_full\n",
    "\n",
    "dens_lig_v1 = fill(0., length(mask_lig))\n",
    "[ dens_lig_v1[i] = sum(trj_contactos_v1[:, ids_lig_v1[i]]) for i in eachindex(name_lig_v1) ]\n",
    "dens_lig_v1 = dens_lig_v1 ./ dens_tot_v1\n",
    "\n",
    "dens_lig_v2 = fill(0., length(mask_lig))\n",
    "[ dens_lig_v2[i] = sum(trj_contactos_v2[:, ids_lig_v2[i]]) for i in eachindex(name_lig_v2) ]\n",
    "dens_lig_v2 = dens_lig_v2 ./ dens_tot_v2\n",
    "\n",
    "dens_lig_v3 = fill(0., length(mask_lig))\n",
    "[ dens_lig_v3[i] = sum(trj_contactos_v3[:, ids_lig_v3[i]]) for i in eachindex(name_lig_v3) ]\n",
    "dens_lig_v3 = dens_lig_v3 ./ dens_tot_v3;"
   ]
  },
  {
   "cell_type": "code",
   "execution_count": 72,
   "metadata": {},
   "outputs": [
    {
     "data": {
      "application/vnd.plotly.v1+json": {
       "data": [
        {
         "fill": "tozeroy",
         "fillcolor": "rgba(0, 154, 250, 1.000)",
         "legendgroup": "ALL",
         "line": {
          "color": "rgba(0, 0, 0, 0)",
          "dash": "solid",
          "width": 1
         },
         "mode": "lines",
         "name": "ALL",
         "showlegend": true,
         "type": "scatter",
         "x": [
          0.09999999999999998,
          0.09999999999999998,
          0.3,
          0.3,
          0.09999999999999998,
          0.09999999999999998
         ],
         "xaxis": "x",
         "y": [
          0.06513987609082748,
          0,
          0,
          0.06513987609082748,
          0.06513987609082748,
          0.06513987609082748
         ],
         "yaxis": "y"
        },
        {
         "fill": "tozeroy",
         "fillcolor": "rgba(0, 154, 250, 1.000)",
         "legendgroup": "ALL",
         "line": {
          "color": "rgba(0, 0, 0, 0)",
          "dash": "solid",
          "width": 1
         },
         "mode": "lines",
         "name": "ALL",
         "showlegend": false,
         "type": "scatter",
         "x": [
          1.1,
          1.1,
          1.3000000000000003,
          1.3000000000000003,
          1.1,
          1.1
         ],
         "xaxis": "x",
         "y": [
          0.056096861065736615,
          0,
          0,
          0.056096861065736615,
          0.056096861065736615,
          0.056096861065736615
         ],
         "yaxis": "y"
        },
        {
         "fill": "tozeroy",
         "fillcolor": "rgba(0, 154, 250, 1.000)",
         "legendgroup": "ALL",
         "line": {
          "color": "rgba(0, 0, 0, 0)",
          "dash": "solid",
          "width": 1
         },
         "mode": "lines",
         "name": "ALL",
         "showlegend": false,
         "type": "scatter",
         "x": [
          2.1,
          2.1,
          2.3000000000000003,
          2.3000000000000003,
          2.1,
          2.1
         ],
         "xaxis": "x",
         "y": [
          0.051503244889850336,
          0,
          0,
          0.051503244889850336,
          0.051503244889850336,
          0.051503244889850336
         ],
         "yaxis": "y"
        },
        {
         "fill": "tozeroy",
         "fillcolor": "rgba(0, 154, 250, 1.000)",
         "legendgroup": "ALL",
         "line": {
          "color": "rgba(0, 0, 0, 0)",
          "dash": "solid",
          "width": 1
         },
         "mode": "lines",
         "name": "ALL",
         "showlegend": false,
         "type": "scatter",
         "x": [
          3.1,
          3.1,
          3.3000000000000003,
          3.3000000000000003,
          3.1,
          3.1
         ],
         "xaxis": "x",
         "y": [
          0.04775040591781574,
          0,
          0,
          0.04775040591781574,
          0.04775040591781574,
          0.04775040591781574
         ],
         "yaxis": "y"
        },
        {
         "fill": "tozeroy",
         "fillcolor": "rgba(0, 154, 250, 1.000)",
         "legendgroup": "ALL",
         "line": {
          "color": "rgba(0, 0, 0, 0)",
          "dash": "solid",
          "width": 1
         },
         "mode": "lines",
         "name": "ALL",
         "showlegend": false,
         "type": "scatter",
         "x": [
          4.1,
          4.1,
          4.299999999999999,
          4.299999999999999,
          4.1,
          4.1
         ],
         "xaxis": "x",
         "y": [
          0.048108987094020866,
          0,
          0,
          0.048108987094020866,
          0.048108987094020866,
          0.048108987094020866
         ],
         "yaxis": "y"
        },
        {
         "fill": "tozeroy",
         "fillcolor": "rgba(0, 154, 250, 1.000)",
         "legendgroup": "ALL",
         "line": {
          "color": "rgba(0, 0, 0, 0)",
          "dash": "solid",
          "width": 1
         },
         "mode": "lines",
         "name": "ALL",
         "showlegend": false,
         "type": "scatter",
         "x": [
          5.1,
          5.1,
          5.299999999999999,
          5.299999999999999,
          5.1,
          5.1
         ],
         "xaxis": "x",
         "y": [
          0.04664523028171432,
          0,
          0,
          0.04664523028171432,
          0.04664523028171432,
          0.04664523028171432
         ],
         "yaxis": "y"
        },
        {
         "fill": "tozeroy",
         "fillcolor": "rgba(0, 154, 250, 1.000)",
         "legendgroup": "ALL",
         "line": {
          "color": "rgba(0, 0, 0, 0)",
          "dash": "solid",
          "width": 1
         },
         "mode": "lines",
         "name": "ALL",
         "showlegend": false,
         "type": "scatter",
         "x": [
          6.1,
          6.1,
          6.299999999999999,
          6.299999999999999,
          6.1,
          6.1
         ],
         "xaxis": "x",
         "y": [
          0.046151506678635726,
          0,
          0,
          0.046151506678635726,
          0.046151506678635726,
          0.046151506678635726
         ],
         "yaxis": "y"
        },
        {
         "fill": "tozeroy",
         "fillcolor": "rgba(0, 154, 250, 1.000)",
         "legendgroup": "ALL",
         "line": {
          "color": "rgba(0, 0, 0, 0)",
          "dash": "solid",
          "width": 1
         },
         "mode": "lines",
         "name": "ALL",
         "showlegend": false,
         "type": "scatter",
         "x": [
          7.1,
          7.1,
          7.299999999999999,
          7.299999999999999,
          7.1,
          7.1
         ],
         "xaxis": "x",
         "y": [
          0.043059173252100715,
          0,
          0,
          0.043059173252100715,
          0.043059173252100715,
          0.043059173252100715
         ],
         "yaxis": "y"
        },
        {
         "fill": "tozeroy",
         "fillcolor": "rgba(0, 154, 250, 1.000)",
         "legendgroup": "ALL",
         "line": {
          "color": "rgba(0, 0, 0, 0)",
          "dash": "solid",
          "width": 1
         },
         "mode": "lines",
         "name": "ALL",
         "showlegend": false,
         "type": "scatter",
         "x": [
          8.1,
          8.1,
          8.299999999999999,
          8.299999999999999,
          8.1,
          8.1
         ],
         "xaxis": "x",
         "y": [
          0.043126621831756265,
          0,
          0,
          0.043126621831756265,
          0.043126621831756265,
          0.043126621831756265
         ],
         "yaxis": "y"
        },
        {
         "fill": "tozeroy",
         "fillcolor": "rgba(0, 154, 250, 1.000)",
         "legendgroup": "ALL",
         "line": {
          "color": "rgba(0, 0, 0, 0)",
          "dash": "solid",
          "width": 1
         },
         "mode": "lines",
         "name": "ALL",
         "showlegend": false,
         "type": "scatter",
         "x": [
          9.1,
          9.1,
          9.299999999999999,
          9.299999999999999,
          9.1,
          9.1
         ],
         "xaxis": "x",
         "y": [
          0.047515194325489674,
          0,
          0,
          0.047515194325489674,
          0.047515194325489674,
          0.047515194325489674
         ],
         "yaxis": "y"
        },
        {
         "fill": "tozeroy",
         "fillcolor": "rgba(0, 154, 250, 1.000)",
         "legendgroup": "ALL",
         "line": {
          "color": "rgba(0, 0, 0, 0)",
          "dash": "solid",
          "width": 1
         },
         "mode": "lines",
         "name": "ALL",
         "showlegend": false,
         "type": "scatter",
         "x": [
          10.1,
          10.1,
          10.299999999999999,
          10.299999999999999,
          10.1,
          10.1
         ],
         "xaxis": "x",
         "y": [
          0.048559543606119915,
          0,
          0,
          0.048559543606119915,
          0.048559543606119915,
          0.048559543606119915
         ],
         "yaxis": "y"
        },
        {
         "fill": "tozeroy",
         "fillcolor": "rgba(0, 154, 250, 1.000)",
         "legendgroup": "ALL",
         "line": {
          "color": "rgba(0, 0, 0, 0)",
          "dash": "solid",
          "width": 1
         },
         "mode": "lines",
         "name": "ALL",
         "showlegend": false,
         "type": "scatter",
         "x": [
          11.1,
          11.1,
          11.299999999999999,
          11.299999999999999,
          11.1,
          11.1
         ],
         "xaxis": "x",
         "y": [
          0.04995487076852138,
          0,
          0,
          0.04995487076852138,
          0.04995487076852138,
          0.04995487076852138
         ],
         "yaxis": "y"
        },
        {
         "fill": "tozeroy",
         "fillcolor": "rgba(0, 154, 250, 1.000)",
         "legendgroup": "ALL",
         "line": {
          "color": "rgba(0, 0, 0, 0)",
          "dash": "solid",
          "width": 1
         },
         "mode": "lines",
         "name": "ALL",
         "showlegend": false,
         "type": "scatter",
         "x": [
          12.1,
          12.1,
          12.299999999999999,
          12.299999999999999,
          12.1,
          12.1
         ],
         "xaxis": "x",
         "y": [
          0.04992985347715823,
          0,
          0,
          0.04992985347715823,
          0.04992985347715823,
          0.04992985347715823
         ],
         "yaxis": "y"
        },
        {
         "fill": "tozeroy",
         "fillcolor": "rgba(0, 154, 250, 1.000)",
         "legendgroup": "ALL",
         "line": {
          "color": "rgba(0, 0, 0, 0)",
          "dash": "solid",
          "width": 1
         },
         "mode": "lines",
         "name": "ALL",
         "showlegend": false,
         "type": "scatter",
         "x": [
          13.1,
          13.1,
          13.299999999999999,
          13.299999999999999,
          13.1,
          13.1
         ],
         "xaxis": "x",
         "y": [
          0.05344331130830623,
          0,
          0,
          0.05344331130830623,
          0.05344331130830623,
          0.05344331130830623
         ],
         "yaxis": "y"
        },
        {
         "fill": "tozeroy",
         "fillcolor": "rgba(0, 154, 250, 1.000)",
         "legendgroup": "ALL",
         "line": {
          "color": "rgba(0, 0, 0, 0)",
          "dash": "solid",
          "width": 1
         },
         "mode": "lines",
         "name": "ALL",
         "showlegend": false,
         "type": "scatter",
         "x": [
          14.1,
          14.1,
          14.299999999999999,
          14.299999999999999,
          14.1,
          14.1
         ],
         "xaxis": "x",
         "y": [
          0.06718884130698179,
          0,
          0,
          0.06718884130698179,
          0.06718884130698179,
          0.06718884130698179
         ],
         "yaxis": "y"
        },
        {
         "fill": "tozeroy",
         "fillcolor": "rgba(0, 154, 250, 1.000)",
         "legendgroup": "ALL",
         "line": {
          "color": "rgba(0, 0, 0, 0)",
          "dash": "solid",
          "width": 1
         },
         "mode": "lines",
         "name": "ALL",
         "showlegend": false,
         "type": "scatter",
         "x": [
          15.1,
          15.1,
          15.299999999999999,
          15.299999999999999,
          15.1,
          15.1
         ],
         "xaxis": "x",
         "y": [
          0.08842754060404495,
          0,
          0,
          0.08842754060404495,
          0.08842754060404495,
          0.08842754060404495
         ],
         "yaxis": "y"
        },
        {
         "fill": "tozeroy",
         "fillcolor": "rgba(0, 154, 250, 1.000)",
         "legendgroup": "ALL",
         "line": {
          "color": "rgba(0, 0, 0, 0)",
          "dash": "solid",
          "width": 1
         },
         "mode": "lines",
         "name": "ALL",
         "showlegend": false,
         "type": "scatter",
         "x": [
          16.1,
          16.1,
          16.300000000000004,
          16.300000000000004,
          16.1,
          16.1
         ],
         "xaxis": "x",
         "y": [
          0.0747742312088257,
          0,
          0,
          0.0747742312088257,
          0.0747742312088257,
          0.0747742312088257
         ],
         "yaxis": "y"
        },
        {
         "fill": "tozeroy",
         "fillcolor": "rgba(0, 154, 250, 1.000)",
         "legendgroup": "ALL",
         "line": {
          "color": "rgba(0, 0, 0, 0)",
          "dash": "solid",
          "width": 1
         },
         "mode": "lines",
         "name": "ALL",
         "showlegend": false,
         "type": "scatter",
         "x": [
          17.1,
          17.1,
          17.300000000000004,
          17.300000000000004,
          17.1,
          17.1
         ],
         "xaxis": "x",
         "y": [
          0.07262470629209404,
          0,
          0,
          0.07262470629209404,
          0.07262470629209404,
          0.07262470629209404
         ],
         "yaxis": "y"
        },
        {
         "fill": "tozeroy",
         "fillcolor": "rgba(227, 111, 71, 1.000)",
         "legendgroup": "V1",
         "line": {
          "color": "rgba(0, 0, 0, 0)",
          "dash": "solid",
          "width": 1
         },
         "mode": "lines",
         "name": "V1",
         "showlegend": true,
         "type": "scatter",
         "x": [
          0.30000000000000004,
          0.30000000000000004,
          0.5,
          0.5,
          0.30000000000000004,
          0.30000000000000004
         ],
         "xaxis": "x",
         "y": [
          0.06058434791538543,
          0,
          0,
          0.06058434791538543,
          0.06058434791538543,
          0.06058434791538543
         ],
         "yaxis": "y"
        },
        {
         "fill": "tozeroy",
         "fillcolor": "rgba(227, 111, 71, 1.000)",
         "legendgroup": "V1",
         "line": {
          "color": "rgba(0, 0, 0, 0)",
          "dash": "solid",
          "width": 1
         },
         "mode": "lines",
         "name": "V1",
         "showlegend": false,
         "type": "scatter",
         "x": [
          1.3,
          1.3,
          1.5000000000000002,
          1.5000000000000002,
          1.3,
          1.3
         ],
         "xaxis": "x",
         "y": [
          0.056109022885423514,
          0,
          0,
          0.056109022885423514,
          0.056109022885423514,
          0.056109022885423514
         ],
         "yaxis": "y"
        },
        {
         "fill": "tozeroy",
         "fillcolor": "rgba(227, 111, 71, 1.000)",
         "legendgroup": "V1",
         "line": {
          "color": "rgba(0, 0, 0, 0)",
          "dash": "solid",
          "width": 1
         },
         "mode": "lines",
         "name": "V1",
         "showlegend": false,
         "type": "scatter",
         "x": [
          2.3000000000000003,
          2.3000000000000003,
          2.5000000000000004,
          2.5000000000000004,
          2.3000000000000003,
          2.3000000000000003
         ],
         "xaxis": "x",
         "y": [
          0.05643460715748593,
          0,
          0,
          0.05643460715748593,
          0.05643460715748593,
          0.05643460715748593
         ],
         "yaxis": "y"
        },
        {
         "fill": "tozeroy",
         "fillcolor": "rgba(227, 111, 71, 1.000)",
         "legendgroup": "V1",
         "line": {
          "color": "rgba(0, 0, 0, 0)",
          "dash": "solid",
          "width": 1
         },
         "mode": "lines",
         "name": "V1",
         "showlegend": false,
         "type": "scatter",
         "x": [
          3.3000000000000003,
          3.3000000000000003,
          3.5000000000000004,
          3.5000000000000004,
          3.3000000000000003,
          3.3000000000000003
         ],
         "xaxis": "x",
         "y": [
          0.05225919308781089,
          0,
          0,
          0.05225919308781089,
          0.05225919308781089,
          0.05225919308781089
         ],
         "yaxis": "y"
        },
        {
         "fill": "tozeroy",
         "fillcolor": "rgba(227, 111, 71, 1.000)",
         "legendgroup": "V1",
         "line": {
          "color": "rgba(0, 0, 0, 0)",
          "dash": "solid",
          "width": 1
         },
         "mode": "lines",
         "name": "V1",
         "showlegend": false,
         "type": "scatter",
         "x": [
          4.3,
          4.3,
          4.499999999999999,
          4.499999999999999,
          4.3,
          4.3
         ],
         "xaxis": "x",
         "y": [
          0.05388828141684006,
          0,
          0,
          0.05388828141684006,
          0.05388828141684006,
          0.05388828141684006
         ],
         "yaxis": "y"
        },
        {
         "fill": "tozeroy",
         "fillcolor": "rgba(227, 111, 71, 1.000)",
         "legendgroup": "V1",
         "line": {
          "color": "rgba(0, 0, 0, 0)",
          "dash": "solid",
          "width": 1
         },
         "mode": "lines",
         "name": "V1",
         "showlegend": false,
         "type": "scatter",
         "x": [
          5.3,
          5.3,
          5.499999999999999,
          5.499999999999999,
          5.3,
          5.3
         ],
         "xaxis": "x",
         "y": [
          0.05337948305619771,
          0,
          0,
          0.05337948305619771,
          0.05337948305619771,
          0.05337948305619771
         ],
         "yaxis": "y"
        },
        {
         "fill": "tozeroy",
         "fillcolor": "rgba(227, 111, 71, 1.000)",
         "legendgroup": "V1",
         "line": {
          "color": "rgba(0, 0, 0, 0)",
          "dash": "solid",
          "width": 1
         },
         "mode": "lines",
         "name": "V1",
         "showlegend": false,
         "type": "scatter",
         "x": [
          6.3,
          6.3,
          6.499999999999999,
          6.499999999999999,
          6.3,
          6.3
         ],
         "xaxis": "x",
         "y": [
          0.0502204987390903,
          0,
          0,
          0.0502204987390903,
          0.0502204987390903,
          0.0502204987390903
         ],
         "yaxis": "y"
        },
        {
         "fill": "tozeroy",
         "fillcolor": "rgba(227, 111, 71, 1.000)",
         "legendgroup": "V1",
         "line": {
          "color": "rgba(0, 0, 0, 0)",
          "dash": "solid",
          "width": 1
         },
         "mode": "lines",
         "name": "V1",
         "showlegend": false,
         "type": "scatter",
         "x": [
          7.3,
          7.3,
          7.499999999999999,
          7.499999999999999,
          7.3,
          7.3
         ],
         "xaxis": "x",
         "y": [
          0.05018432270886115,
          0,
          0,
          0.05018432270886115,
          0.05018432270886115,
          0.05018432270886115
         ],
         "yaxis": "y"
        },
        {
         "fill": "tozeroy",
         "fillcolor": "rgba(227, 111, 71, 1.000)",
         "legendgroup": "V1",
         "line": {
          "color": "rgba(0, 0, 0, 0)",
          "dash": "solid",
          "width": 1
         },
         "mode": "lines",
         "name": "V1",
         "showlegend": false,
         "type": "scatter",
         "x": [
          8.299999999999999,
          8.299999999999999,
          8.499999999999998,
          8.499999999999998,
          8.299999999999999,
          8.299999999999999
         ],
         "xaxis": "x",
         "y": [
          0.043742655390636945,
          0,
          0,
          0.043742655390636945,
          0.043742655390636945,
          0.043742655390636945
         ],
         "yaxis": "y"
        },
        {
         "fill": "tozeroy",
         "fillcolor": "rgba(227, 111, 71, 1.000)",
         "legendgroup": "V1",
         "line": {
          "color": "rgba(0, 0, 0, 0)",
          "dash": "solid",
          "width": 1
         },
         "mode": "lines",
         "name": "V1",
         "showlegend": false,
         "type": "scatter",
         "x": [
          9.299999999999999,
          9.299999999999999,
          9.499999999999998,
          9.499999999999998,
          9.299999999999999,
          9.299999999999999
         ],
         "xaxis": "x",
         "y": [
          0.039615087038361765,
          0,
          0,
          0.039615087038361765,
          0.039615087038361765,
          0.039615087038361765
         ],
         "yaxis": "y"
        },
        {
         "fill": "tozeroy",
         "fillcolor": "rgba(227, 111, 71, 1.000)",
         "legendgroup": "V1",
         "line": {
          "color": "rgba(0, 0, 0, 0)",
          "dash": "solid",
          "width": 1
         },
         "mode": "lines",
         "name": "V1",
         "showlegend": false,
         "type": "scatter",
         "x": [
          10.299999999999999,
          10.299999999999999,
          10.499999999999998,
          10.499999999999998,
          10.299999999999999,
          10.299999999999999
         ],
         "xaxis": "x",
         "y": [
          0.045144184819837535,
          0,
          0,
          0.045144184819837535,
          0.045144184819837535,
          0.045144184819837535
         ],
         "yaxis": "y"
        },
        {
         "fill": "tozeroy",
         "fillcolor": "rgba(227, 111, 71, 1.000)",
         "legendgroup": "V1",
         "line": {
          "color": "rgba(0, 0, 0, 0)",
          "dash": "solid",
          "width": 1
         },
         "mode": "lines",
         "name": "V1",
         "showlegend": false,
         "type": "scatter",
         "x": [
          11.299999999999999,
          11.299999999999999,
          11.499999999999998,
          11.499999999999998,
          11.299999999999999,
          11.299999999999999
         ],
         "xaxis": "x",
         "y": [
          0.04981439362555008,
          0,
          0,
          0.04981439362555008,
          0.04981439362555008,
          0.04981439362555008
         ],
         "yaxis": "y"
        },
        {
         "fill": "tozeroy",
         "fillcolor": "rgba(227, 111, 71, 1.000)",
         "legendgroup": "V1",
         "line": {
          "color": "rgba(0, 0, 0, 0)",
          "dash": "solid",
          "width": 1
         },
         "mode": "lines",
         "name": "V1",
         "showlegend": false,
         "type": "scatter",
         "x": [
          12.299999999999999,
          12.299999999999999,
          12.499999999999998,
          12.499999999999998,
          12.299999999999999,
          12.299999999999999
         ],
         "xaxis": "x",
         "y": [
          0.049961431683900846,
          0,
          0,
          0.049961431683900846,
          0.049961431683900846,
          0.049961431683900846
         ],
         "yaxis": "y"
        },
        {
         "fill": "tozeroy",
         "fillcolor": "rgba(227, 111, 71, 1.000)",
         "legendgroup": "V1",
         "line": {
          "color": "rgba(0, 0, 0, 0)",
          "dash": "solid",
          "width": 1
         },
         "mode": "lines",
         "name": "V1",
         "showlegend": false,
         "type": "scatter",
         "x": [
          13.299999999999999,
          13.299999999999999,
          13.499999999999998,
          13.499999999999998,
          13.299999999999999,
          13.299999999999999
         ],
         "xaxis": "x",
         "y": [
          0.05133845477004298,
          0,
          0,
          0.05133845477004298,
          0.05133845477004298,
          0.05133845477004298
         ],
         "yaxis": "y"
        },
        {
         "fill": "tozeroy",
         "fillcolor": "rgba(227, 111, 71, 1.000)",
         "legendgroup": "V1",
         "line": {
          "color": "rgba(0, 0, 0, 0)",
          "dash": "solid",
          "width": 1
         },
         "mode": "lines",
         "name": "V1",
         "showlegend": false,
         "type": "scatter",
         "x": [
          14.299999999999999,
          14.299999999999999,
          14.499999999999998,
          14.499999999999998,
          14.299999999999999,
          14.299999999999999
         ],
         "xaxis": "x",
         "y": [
          0.06326254112106017,
          0,
          0,
          0.06326254112106017,
          0.06326254112106017,
          0.06326254112106017
         ],
         "yaxis": "y"
        },
        {
         "fill": "tozeroy",
         "fillcolor": "rgba(227, 111, 71, 1.000)",
         "legendgroup": "V1",
         "line": {
          "color": "rgba(0, 0, 0, 0)",
          "dash": "solid",
          "width": 1
         },
         "mode": "lines",
         "name": "V1",
         "showlegend": false,
         "type": "scatter",
         "x": [
          15.299999999999999,
          15.299999999999999,
          15.499999999999998,
          15.499999999999998,
          15.299999999999999,
          15.299999999999999
         ],
         "xaxis": "x",
         "y": [
          0.08424230471653746,
          0,
          0,
          0.08424230471653746,
          0.08424230471653746,
          0.08424230471653746
         ],
         "yaxis": "y"
        },
        {
         "fill": "tozeroy",
         "fillcolor": "rgba(227, 111, 71, 1.000)",
         "legendgroup": "V1",
         "line": {
          "color": "rgba(0, 0, 0, 0)",
          "dash": "solid",
          "width": 1
         },
         "mode": "lines",
         "name": "V1",
         "showlegend": false,
         "type": "scatter",
         "x": [
          16.3,
          16.3,
          16.500000000000004,
          16.500000000000004,
          16.3,
          16.3
         ],
         "xaxis": "x",
         "y": [
          0.07081282872050049,
          0,
          0,
          0.07081282872050049,
          0.07081282872050049,
          0.07081282872050049
         ],
         "yaxis": "y"
        },
        {
         "fill": "tozeroy",
         "fillcolor": "rgba(227, 111, 71, 1.000)",
         "legendgroup": "V1",
         "line": {
          "color": "rgba(0, 0, 0, 0)",
          "dash": "solid",
          "width": 1
         },
         "mode": "lines",
         "name": "V1",
         "showlegend": false,
         "type": "scatter",
         "x": [
          17.3,
          17.3,
          17.500000000000004,
          17.500000000000004,
          17.3,
          17.3
         ],
         "xaxis": "x",
         "y": [
          0.06900636114647675,
          0,
          0,
          0.06900636114647675,
          0.06900636114647675,
          0.06900636114647675
         ],
         "yaxis": "y"
        },
        {
         "fill": "tozeroy",
         "fillcolor": "rgba(62, 164, 78, 1.000)",
         "legendgroup": "V2",
         "line": {
          "color": "rgba(0, 0, 0, 0)",
          "dash": "solid",
          "width": 1
         },
         "mode": "lines",
         "name": "V2",
         "showlegend": true,
         "type": "scatter",
         "x": [
          0.5,
          0.5,
          0.7,
          0.7,
          0.5,
          0.5
         ],
         "xaxis": "x",
         "y": [
          0.07293576467222045,
          0,
          0,
          0.07293576467222045,
          0.07293576467222045,
          0.07293576467222045
         ],
         "yaxis": "y"
        },
        {
         "fill": "tozeroy",
         "fillcolor": "rgba(62, 164, 78, 1.000)",
         "legendgroup": "V2",
         "line": {
          "color": "rgba(0, 0, 0, 0)",
          "dash": "solid",
          "width": 1
         },
         "mode": "lines",
         "name": "V2",
         "showlegend": false,
         "type": "scatter",
         "x": [
          1.5,
          1.5,
          1.7000000000000002,
          1.7000000000000002,
          1.5,
          1.5
         ],
         "xaxis": "x",
         "y": [
          0.06344077738282583,
          0,
          0,
          0.06344077738282583,
          0.06344077738282583,
          0.06344077738282583
         ],
         "yaxis": "y"
        },
        {
         "fill": "tozeroy",
         "fillcolor": "rgba(62, 164, 78, 1.000)",
         "legendgroup": "V2",
         "line": {
          "color": "rgba(0, 0, 0, 0)",
          "dash": "solid",
          "width": 1
         },
         "mode": "lines",
         "name": "V2",
         "showlegend": false,
         "type": "scatter",
         "x": [
          2.5,
          2.5,
          2.7,
          2.7,
          2.5,
          2.5
         ],
         "xaxis": "x",
         "y": [
          0.055592116123210335,
          0,
          0,
          0.055592116123210335,
          0.055592116123210335,
          0.055592116123210335
         ],
         "yaxis": "y"
        },
        {
         "fill": "tozeroy",
         "fillcolor": "rgba(62, 164, 78, 1.000)",
         "legendgroup": "V2",
         "line": {
          "color": "rgba(0, 0, 0, 0)",
          "dash": "solid",
          "width": 1
         },
         "mode": "lines",
         "name": "V2",
         "showlegend": false,
         "type": "scatter",
         "x": [
          3.5,
          3.5,
          3.7,
          3.7,
          3.5,
          3.5
         ],
         "xaxis": "x",
         "y": [
          0.05091945547986662,
          0,
          0,
          0.05091945547986662,
          0.05091945547986662,
          0.05091945547986662
         ],
         "yaxis": "y"
        },
        {
         "fill": "tozeroy",
         "fillcolor": "rgba(62, 164, 78, 1.000)",
         "legendgroup": "V2",
         "line": {
          "color": "rgba(0, 0, 0, 0)",
          "dash": "solid",
          "width": 1
         },
         "mode": "lines",
         "name": "V2",
         "showlegend": false,
         "type": "scatter",
         "x": [
          4.5,
          4.5,
          4.699999999999999,
          4.699999999999999,
          4.5,
          4.5
         ],
         "xaxis": "x",
         "y": [
          0.048201256754228615,
          0,
          0,
          0.048201256754228615,
          0.048201256754228615,
          0.048201256754228615
         ],
         "yaxis": "y"
        },
        {
         "fill": "tozeroy",
         "fillcolor": "rgba(62, 164, 78, 1.000)",
         "legendgroup": "V2",
         "line": {
          "color": "rgba(0, 0, 0, 0)",
          "dash": "solid",
          "width": 1
         },
         "mode": "lines",
         "name": "V2",
         "showlegend": false,
         "type": "scatter",
         "x": [
          5.5,
          5.5,
          5.699999999999999,
          5.699999999999999,
          5.5,
          5.5
         ],
         "xaxis": "x",
         "y": [
          0.04636784822106549,
          0,
          0,
          0.04636784822106549,
          0.04636784822106549,
          0.04636784822106549
         ],
         "yaxis": "y"
        },
        {
         "fill": "tozeroy",
         "fillcolor": "rgba(62, 164, 78, 1.000)",
         "legendgroup": "V2",
         "line": {
          "color": "rgba(0, 0, 0, 0)",
          "dash": "solid",
          "width": 1
         },
         "mode": "lines",
         "name": "V2",
         "showlegend": false,
         "type": "scatter",
         "x": [
          6.5,
          6.5,
          6.699999999999999,
          6.699999999999999,
          6.5,
          6.5
         ],
         "xaxis": "x",
         "y": [
          0.043048784513970664,
          0,
          0,
          0.043048784513970664,
          0.043048784513970664,
          0.043048784513970664
         ],
         "yaxis": "y"
        },
        {
         "fill": "tozeroy",
         "fillcolor": "rgba(62, 164, 78, 1.000)",
         "legendgroup": "V2",
         "line": {
          "color": "rgba(0, 0, 0, 0)",
          "dash": "solid",
          "width": 1
         },
         "mode": "lines",
         "name": "V2",
         "showlegend": false,
         "type": "scatter",
         "x": [
          7.5,
          7.5,
          7.699999999999999,
          7.699999999999999,
          7.5,
          7.5
         ],
         "xaxis": "x",
         "y": [
          0.043178641781025436,
          0,
          0,
          0.043178641781025436,
          0.043178641781025436,
          0.043178641781025436
         ],
         "yaxis": "y"
        },
        {
         "fill": "tozeroy",
         "fillcolor": "rgba(62, 164, 78, 1.000)",
         "legendgroup": "V2",
         "line": {
          "color": "rgba(0, 0, 0, 0)",
          "dash": "solid",
          "width": 1
         },
         "mode": "lines",
         "name": "V2",
         "showlegend": false,
         "type": "scatter",
         "x": [
          8.5,
          8.5,
          8.7,
          8.7,
          8.5,
          8.5
         ],
         "xaxis": "x",
         "y": [
          0.04083460806215541,
          0,
          0,
          0.04083460806215541,
          0.04083460806215541,
          0.04083460806215541
         ],
         "yaxis": "y"
        },
        {
         "fill": "tozeroy",
         "fillcolor": "rgba(62, 164, 78, 1.000)",
         "legendgroup": "V2",
         "line": {
          "color": "rgba(0, 0, 0, 0)",
          "dash": "solid",
          "width": 1
         },
         "mode": "lines",
         "name": "V2",
         "showlegend": false,
         "type": "scatter",
         "x": [
          9.5,
          9.5,
          9.7,
          9.7,
          9.5,
          9.5
         ],
         "xaxis": "x",
         "y": [
          0.04044943820224719,
          0,
          0,
          0.04044943820224719,
          0.04044943820224719,
          0.04044943820224719
         ],
         "yaxis": "y"
        },
        {
         "fill": "tozeroy",
         "fillcolor": "rgba(62, 164, 78, 1.000)",
         "legendgroup": "V2",
         "line": {
          "color": "rgba(0, 0, 0, 0)",
          "dash": "solid",
          "width": 1
         },
         "mode": "lines",
         "name": "V2",
         "showlegend": false,
         "type": "scatter",
         "x": [
          10.5,
          10.5,
          10.7,
          10.7,
          10.5,
          10.5
         ],
         "xaxis": "x",
         "y": [
          0.03877670052493149,
          0,
          0,
          0.03877670052493149,
          0.03877670052493149,
          0.03877670052493149
         ],
         "yaxis": "y"
        },
        {
         "fill": "tozeroy",
         "fillcolor": "rgba(62, 164, 78, 1.000)",
         "legendgroup": "V2",
         "line": {
          "color": "rgba(0, 0, 0, 0)",
          "dash": "solid",
          "width": 1
         },
         "mode": "lines",
         "name": "V2",
         "showlegend": false,
         "type": "scatter",
         "x": [
          11.5,
          11.5,
          11.7,
          11.7,
          11.5,
          11.5
         ],
         "xaxis": "x",
         "y": [
          0.04246332632691017,
          0,
          0,
          0.04246332632691017,
          0.04246332632691017,
          0.04246332632691017
         ],
         "yaxis": "y"
        },
        {
         "fill": "tozeroy",
         "fillcolor": "rgba(62, 164, 78, 1.000)",
         "legendgroup": "V2",
         "line": {
          "color": "rgba(0, 0, 0, 0)",
          "dash": "solid",
          "width": 1
         },
         "mode": "lines",
         "name": "V2",
         "showlegend": false,
         "type": "scatter",
         "x": [
          12.5,
          12.5,
          12.7,
          12.7,
          12.5,
          12.5
         ],
         "xaxis": "x",
         "y": [
          0.04758058303711937,
          0,
          0,
          0.04758058303711937,
          0.04758058303711937,
          0.04758058303711937
         ],
         "yaxis": "y"
        },
        {
         "fill": "tozeroy",
         "fillcolor": "rgba(62, 164, 78, 1.000)",
         "legendgroup": "V2",
         "line": {
          "color": "rgba(0, 0, 0, 0)",
          "dash": "solid",
          "width": 1
         },
         "mode": "lines",
         "name": "V2",
         "showlegend": false,
         "type": "scatter",
         "x": [
          13.5,
          13.5,
          13.7,
          13.7,
          13.5,
          13.5
         ],
         "xaxis": "x",
         "y": [
          0.04962308377994696,
          0,
          0,
          0.04962308377994696,
          0.04962308377994696,
          0.04962308377994696
         ],
         "yaxis": "y"
        },
        {
         "fill": "tozeroy",
         "fillcolor": "rgba(62, 164, 78, 1.000)",
         "legendgroup": "V2",
         "line": {
          "color": "rgba(0, 0, 0, 0)",
          "dash": "solid",
          "width": 1
         },
         "mode": "lines",
         "name": "V2",
         "showlegend": false,
         "type": "scatter",
         "x": [
          14.5,
          14.5,
          14.7,
          14.7,
          14.5,
          14.5
         ],
         "xaxis": "x",
         "y": [
          0.06739372063079818,
          0,
          0,
          0.06739372063079818,
          0.06739372063079818,
          0.06739372063079818
         ],
         "yaxis": "y"
        },
        {
         "fill": "tozeroy",
         "fillcolor": "rgba(62, 164, 78, 1.000)",
         "legendgroup": "V2",
         "line": {
          "color": "rgba(0, 0, 0, 0)",
          "dash": "solid",
          "width": 1
         },
         "mode": "lines",
         "name": "V2",
         "showlegend": false,
         "type": "scatter",
         "x": [
          15.5,
          15.5,
          15.7,
          15.7,
          15.5,
          15.5
         ],
         "xaxis": "x",
         "y": [
          0.08588627584764881,
          0,
          0,
          0.08588627584764881,
          0.08588627584764881,
          0.08588627584764881
         ],
         "yaxis": "y"
        },
        {
         "fill": "tozeroy",
         "fillcolor": "rgba(62, 164, 78, 1.000)",
         "legendgroup": "V2",
         "line": {
          "color": "rgba(0, 0, 0, 0)",
          "dash": "solid",
          "width": 1
         },
         "mode": "lines",
         "name": "V2",
         "showlegend": false,
         "type": "scatter",
         "x": [
          16.5,
          16.5,
          16.700000000000003,
          16.700000000000003,
          16.5,
          16.5
         ],
         "xaxis": "x",
         "y": [
          0.08064576478226898,
          0,
          0,
          0.08064576478226898,
          0.08064576478226898,
          0.08064576478226898
         ],
         "yaxis": "y"
        },
        {
         "fill": "tozeroy",
         "fillcolor": "rgba(62, 164, 78, 1.000)",
         "legendgroup": "V2",
         "line": {
          "color": "rgba(0, 0, 0, 0)",
          "dash": "solid",
          "width": 1
         },
         "mode": "lines",
         "name": "V2",
         "showlegend": false,
         "type": "scatter",
         "x": [
          17.5,
          17.5,
          17.700000000000003,
          17.700000000000003,
          17.5,
          17.5
         ],
         "xaxis": "x",
         "y": [
          0.08266185387756,
          0,
          0,
          0.08266185387756,
          0.08266185387756,
          0.08266185387756
         ],
         "yaxis": "y"
        },
        {
         "fill": "tozeroy",
         "fillcolor": "rgba(195, 113, 210, 1.000)",
         "legendgroup": "V3",
         "line": {
          "color": "rgba(0, 0, 0, 0)",
          "dash": "solid",
          "width": 1
         },
         "mode": "lines",
         "name": "V3",
         "showlegend": true,
         "type": "scatter",
         "x": [
          0.7000000000000001,
          0.7000000000000001,
          0.9,
          0.9,
          0.7000000000000001,
          0.7000000000000001
         ],
         "xaxis": "x",
         "y": [
          0.07514279251258271,
          0,
          0,
          0.07514279251258271,
          0.07514279251258271,
          0.07514279251258271
         ],
         "yaxis": "y"
        },
        {
         "fill": "tozeroy",
         "fillcolor": "rgba(195, 113, 210, 1.000)",
         "legendgroup": "V3",
         "line": {
          "color": "rgba(0, 0, 0, 0)",
          "dash": "solid",
          "width": 1
         },
         "mode": "lines",
         "name": "V3",
         "showlegend": false,
         "type": "scatter",
         "x": [
          1.7000000000000002,
          1.7000000000000002,
          1.9000000000000004,
          1.9000000000000004,
          1.7000000000000002,
          1.7000000000000002
         ],
         "xaxis": "x",
         "y": [
          0.0617865423611055,
          0,
          0,
          0.0617865423611055,
          0.0617865423611055,
          0.0617865423611055
         ],
         "yaxis": "y"
        },
        {
         "fill": "tozeroy",
         "fillcolor": "rgba(195, 113, 210, 1.000)",
         "legendgroup": "V3",
         "line": {
          "color": "rgba(0, 0, 0, 0)",
          "dash": "solid",
          "width": 1
         },
         "mode": "lines",
         "name": "V3",
         "showlegend": false,
         "type": "scatter",
         "x": [
          2.7,
          2.7,
          2.9000000000000004,
          2.9000000000000004,
          2.7,
          2.7
         ],
         "xaxis": "x",
         "y": [
          0.05229801019542579,
          0,
          0,
          0.05229801019542579,
          0.05229801019542579,
          0.05229801019542579
         ],
         "yaxis": "y"
        },
        {
         "fill": "tozeroy",
         "fillcolor": "rgba(195, 113, 210, 1.000)",
         "legendgroup": "V3",
         "line": {
          "color": "rgba(0, 0, 0, 0)",
          "dash": "solid",
          "width": 1
         },
         "mode": "lines",
         "name": "V3",
         "showlegend": false,
         "type": "scatter",
         "x": [
          3.7,
          3.7,
          3.9000000000000004,
          3.9000000000000004,
          3.7,
          3.7
         ],
         "xaxis": "x",
         "y": [
          0.04208238744233768,
          0,
          0,
          0.04208238744233768,
          0.04208238744233768,
          0.04208238744233768
         ],
         "yaxis": "y"
        },
        {
         "fill": "tozeroy",
         "fillcolor": "rgba(195, 113, 210, 1.000)",
         "legendgroup": "V3",
         "line": {
          "color": "rgba(0, 0, 0, 0)",
          "dash": "solid",
          "width": 1
         },
         "mode": "lines",
         "name": "V3",
         "showlegend": false,
         "type": "scatter",
         "x": [
          4.699999999999999,
          4.699999999999999,
          4.899999999999999,
          4.899999999999999,
          4.699999999999999,
          4.699999999999999
         ],
         "xaxis": "x",
         "y": [
          0.03779457267270421,
          0,
          0,
          0.03779457267270421,
          0.03779457267270421,
          0.03779457267270421
         ],
         "yaxis": "y"
        },
        {
         "fill": "tozeroy",
         "fillcolor": "rgba(195, 113, 210, 1.000)",
         "legendgroup": "V3",
         "line": {
          "color": "rgba(0, 0, 0, 0)",
          "dash": "solid",
          "width": 1
         },
         "mode": "lines",
         "name": "V3",
         "showlegend": false,
         "type": "scatter",
         "x": [
          5.699999999999999,
          5.699999999999999,
          5.899999999999999,
          5.899999999999999,
          5.699999999999999,
          5.699999999999999
         ],
         "xaxis": "x",
         "y": [
          0.03637472633118168,
          0,
          0,
          0.03637472633118168,
          0.03637472633118168,
          0.03637472633118168
         ],
         "yaxis": "y"
        },
        {
         "fill": "tozeroy",
         "fillcolor": "rgba(195, 113, 210, 1.000)",
         "legendgroup": "V3",
         "line": {
          "color": "rgba(0, 0, 0, 0)",
          "dash": "solid",
          "width": 1
         },
         "mode": "lines",
         "name": "V3",
         "showlegend": false,
         "type": "scatter",
         "x": [
          6.699999999999999,
          6.699999999999999,
          6.899999999999999,
          6.899999999999999,
          6.699999999999999,
          6.699999999999999
         ],
         "xaxis": "x",
         "y": [
          0.041674408834958515,
          0,
          0,
          0.041674408834958515,
          0.041674408834958515,
          0.041674408834958515
         ],
         "yaxis": "y"
        },
        {
         "fill": "tozeroy",
         "fillcolor": "rgba(195, 113, 210, 1.000)",
         "legendgroup": "V3",
         "line": {
          "color": "rgba(0, 0, 0, 0)",
          "dash": "solid",
          "width": 1
         },
         "mode": "lines",
         "name": "V3",
         "showlegend": false,
         "type": "scatter",
         "x": [
          7.699999999999999,
          7.699999999999999,
          7.899999999999999,
          7.899999999999999,
          7.699999999999999,
          7.699999999999999
         ],
         "xaxis": "x",
         "y": [
          0.04487562711563164,
          0,
          0,
          0.04487562711563164,
          0.04487562711563164,
          0.04487562711563164
         ],
         "yaxis": "y"
        },
        {
         "fill": "tozeroy",
         "fillcolor": "rgba(195, 113, 210, 1.000)",
         "legendgroup": "V3",
         "line": {
          "color": "rgba(0, 0, 0, 0)",
          "dash": "solid",
          "width": 1
         },
         "mode": "lines",
         "name": "V3",
         "showlegend": false,
         "type": "scatter",
         "x": [
          8.7,
          8.7,
          8.899999999999999,
          8.899999999999999,
          8.7,
          8.7
         ],
         "xaxis": "x",
         "y": [
          0.04697611103481148,
          0,
          0,
          0.04697611103481148,
          0.04697611103481148,
          0.04697611103481148
         ],
         "yaxis": "y"
        },
        {
         "fill": "tozeroy",
         "fillcolor": "rgba(195, 113, 210, 1.000)",
         "legendgroup": "V3",
         "line": {
          "color": "rgba(0, 0, 0, 0)",
          "dash": "solid",
          "width": 1
         },
         "mode": "lines",
         "name": "V3",
         "showlegend": false,
         "type": "scatter",
         "x": [
          9.7,
          9.7,
          9.899999999999999,
          9.899999999999999,
          9.7,
          9.7
         ],
         "xaxis": "x",
         "y": [
          0.044510062125851305,
          0,
          0,
          0.044510062125851305,
          0.044510062125851305,
          0.044510062125851305
         ],
         "yaxis": "y"
        },
        {
         "fill": "tozeroy",
         "fillcolor": "rgba(195, 113, 210, 1.000)",
         "legendgroup": "V3",
         "line": {
          "color": "rgba(0, 0, 0, 0)",
          "dash": "solid",
          "width": 1
         },
         "mode": "lines",
         "name": "V3",
         "showlegend": false,
         "type": "scatter",
         "x": [
          10.7,
          10.7,
          10.899999999999999,
          10.899999999999999,
          10.7,
          10.7
         ],
         "xaxis": "x",
         "y": [
          0.04680241717226392,
          0,
          0,
          0.04680241717226392,
          0.04680241717226392,
          0.04680241717226392
         ],
         "yaxis": "y"
        },
        {
         "fill": "tozeroy",
         "fillcolor": "rgba(195, 113, 210, 1.000)",
         "legendgroup": "V3",
         "line": {
          "color": "rgba(0, 0, 0, 0)",
          "dash": "solid",
          "width": 1
         },
         "mode": "lines",
         "name": "V3",
         "showlegend": false,
         "type": "scatter",
         "x": [
          11.7,
          11.7,
          11.899999999999999,
          11.899999999999999,
          11.7,
          11.7
         ],
         "xaxis": "x",
         "y": [
          0.04864639968977468,
          0,
          0,
          0.04864639968977468,
          0.04864639968977468,
          0.04864639968977468
         ],
         "yaxis": "y"
        },
        {
         "fill": "tozeroy",
         "fillcolor": "rgba(195, 113, 210, 1.000)",
         "legendgroup": "V3",
         "line": {
          "color": "rgba(0, 0, 0, 0)",
          "dash": "solid",
          "width": 1
         },
         "mode": "lines",
         "name": "V3",
         "showlegend": false,
         "type": "scatter",
         "x": [
          12.7,
          12.7,
          12.899999999999999,
          12.899999999999999,
          12.7,
          12.7
         ],
         "xaxis": "x",
         "y": [
          0.051393186353317556,
          0,
          0,
          0.051393186353317556,
          0.051393186353317556,
          0.051393186353317556
         ],
         "yaxis": "y"
        },
        {
         "fill": "tozeroy",
         "fillcolor": "rgba(195, 113, 210, 1.000)",
         "legendgroup": "V3",
         "line": {
          "color": "rgba(0, 0, 0, 0)",
          "dash": "solid",
          "width": 1
         },
         "mode": "lines",
         "name": "V3",
         "showlegend": false,
         "type": "scatter",
         "x": [
          13.7,
          13.7,
          13.899999999999999,
          13.899999999999999,
          13.7,
          13.7
         ],
         "xaxis": "x",
         "y": [
          0.05614149182830967,
          0,
          0,
          0.05614149182830967,
          0.05614149182830967,
          0.05614149182830967
         ],
         "yaxis": "y"
        },
        {
         "fill": "tozeroy",
         "fillcolor": "rgba(195, 113, 210, 1.000)",
         "legendgroup": "V3",
         "line": {
          "color": "rgba(0, 0, 0, 0)",
          "dash": "solid",
          "width": 1
         },
         "mode": "lines",
         "name": "V3",
         "showlegend": false,
         "type": "scatter",
         "x": [
          14.7,
          14.7,
          14.899999999999999,
          14.899999999999999,
          14.7,
          14.7
         ],
         "xaxis": "x",
         "y": [
          0.06648233573811813,
          0,
          0,
          0.06648233573811813,
          0.06648233573811813,
          0.06648233573811813
         ],
         "yaxis": "y"
        },
        {
         "fill": "tozeroy",
         "fillcolor": "rgba(195, 113, 210, 1.000)",
         "legendgroup": "V3",
         "line": {
          "color": "rgba(0, 0, 0, 0)",
          "dash": "solid",
          "width": 1
         },
         "mode": "lines",
         "name": "V3",
         "showlegend": false,
         "type": "scatter",
         "x": [
          15.7,
          15.7,
          15.899999999999999,
          15.899999999999999,
          15.7,
          15.7
         ],
         "xaxis": "x",
         "y": [
          0.08340132976789652,
          0,
          0,
          0.08340132976789652,
          0.08340132976789652,
          0.08340132976789652
         ],
         "yaxis": "y"
        },
        {
         "fill": "tozeroy",
         "fillcolor": "rgba(195, 113, 210, 1.000)",
         "legendgroup": "V3",
         "line": {
          "color": "rgba(0, 0, 0, 0)",
          "dash": "solid",
          "width": 1
         },
         "mode": "lines",
         "name": "V3",
         "showlegend": false,
         "type": "scatter",
         "x": [
          16.700000000000003,
          16.700000000000003,
          16.900000000000006,
          16.900000000000006,
          16.700000000000003,
          16.700000000000003
         ],
         "xaxis": "x",
         "y": [
          0.0800001615756861,
          0,
          0,
          0.0800001615756861,
          0.0800001615756861,
          0.0800001615756861
         ],
         "yaxis": "y"
        },
        {
         "fill": "tozeroy",
         "fillcolor": "rgba(195, 113, 210, 1.000)",
         "legendgroup": "V3",
         "line": {
          "color": "rgba(0, 0, 0, 0)",
          "dash": "solid",
          "width": 1
         },
         "mode": "lines",
         "name": "V3",
         "showlegend": false,
         "type": "scatter",
         "x": [
          17.700000000000003,
          17.700000000000003,
          17.900000000000006,
          17.900000000000006,
          17.700000000000003,
          17.700000000000003
         ],
         "xaxis": "x",
         "y": [
          0.08361743724804291,
          0,
          0,
          0.08361743724804291,
          0.08361743724804291,
          0.08361743724804291
         ],
         "yaxis": "y"
        }
       ],
       "layout": {
        "annotations": [],
        "height": 400,
        "legend": {
         "bgcolor": "rgba(255, 255, 255, 1.000)",
         "bordercolor": "rgba(0, 0, 0, 1)",
         "font": {
          "color": "rgba(0, 0, 0, 1)",
          "family": "sans-serif",
          "size": 11
         },
         "tracegroupgap": 0,
         "x": 1,
         "y": 1
        },
        "margin": {
         "b": 20,
         "l": 0,
         "r": 0,
         "t": 20
        },
        "paper_bgcolor": "rgba(255, 255, 255, 1.000)",
        "plot_bgcolor": "rgba(255, 255, 255, 1.000)",
        "showlegend": true,
        "width": 750,
        "xaxis": {
         "anchor": "y",
         "domain": [
          0.0526567512394284,
          0.994750656167979
         ],
         "gridcolor": "rgba(0, 0, 0, 0.1)",
         "gridwidth": 0.5,
         "linecolor": "rgba(0, 0, 0, 1)",
         "mirror": false,
         "range": [
          -0.9809600000000003,
          18.980960000000007
         ],
         "showgrid": true,
         "showline": true,
         "showticklabels": true,
         "tickangle": 0,
         "tickcolor": "rgb(0, 0, 0)",
         "tickfont": {
          "color": "rgba(0, 0, 0, 1)",
          "family": "sans-serif",
          "size": 11
         },
         "tickmode": "array",
         "ticks": "inside",
         "ticktext": [
          "C1",
          "C2",
          "C3",
          "C4",
          "C5",
          "C6",
          "C7",
          "C8",
          "C9",
          "CA",
          "CB",
          "CC",
          "CD",
          "CE",
          "CF",
          "CG",
          "O1",
          "O2"
         ],
         "tickvals": [
          0.5,
          1.5,
          2.5,
          3.5,
          4.5,
          5.5,
          6.5,
          7.5,
          8.5,
          9.5,
          10.5,
          11.5,
          12.5,
          13.5,
          14.5,
          15.5,
          16.5,
          17.5
         ],
         "title": "",
         "titlefont": {
          "color": "rgba(0, 0, 0, 1)",
          "family": "sans-serif",
          "size": 15
         },
         "type": "linear",
         "visible": true,
         "zeroline": false,
         "zerolinecolor": "rgba(0, 0, 0, 1)"
        },
        "yaxis": {
         "anchor": "x",
         "domain": [
          0.03762029746281716,
          0.9901574803149606
         ],
         "gridcolor": "rgba(0, 0, 0, 0.1)",
         "gridwidth": 0.5,
         "linecolor": "rgba(0, 0, 0, 1)",
         "mirror": false,
         "range": [
          -0.0026528262181213483,
          0.0910803668221663
         ],
         "showgrid": true,
         "showline": true,
         "showticklabels": true,
         "tickangle": 0,
         "tickcolor": "rgb(0, 0, 0)",
         "tickfont": {
          "color": "rgba(0, 0, 0, 1)",
          "family": "sans-serif",
          "size": 11
         },
         "tickmode": "array",
         "ticks": "inside",
         "ticktext": [
          "0.00",
          "0.02",
          "0.04",
          "0.06",
          "0.08"
         ],
         "tickvals": [
          0,
          0.02,
          0.04,
          0.06,
          0.08
         ],
         "title": "",
         "titlefont": {
          "color": "rgba(0, 0, 0, 1)",
          "family": "sans-serif",
          "size": 15
         },
         "type": "linear",
         "visible": true,
         "zeroline": false,
         "zerolinecolor": "rgba(0, 0, 0, 1)"
        }
       }
      },
      "image/png": "[encoded data removed]",
      "text/html": [
       "<script src=\"file:///home/pbarletta/.julia/packages/Plots/7o1Vu/src/backends/../../deps/plotly-latest.min.js\"></script>    <div id=\"a3a89e6e-4e9d-46eb-829c-9d61a8f58586\" style=\"width:750px;height:400px;\"></div>\n",
       "    <script>\n",
       "    PLOT = document.getElementById('a3a89e6e-4e9d-46eb-829c-9d61a8f58586');\n",
       "    Plotly.plot(PLOT, [{\"xaxis\":\"x1\",\"fill\":\"tozeroy\",\"yaxis\":\"y1\",\"x\":[0.09999999999999998,0.09999999999999998,0.3,0.3,0.09999999999999998,0.09999999999999998],\"showlegend\":true,\"mode\":\"lines\",\"fillcolor\":\"rgba(0, 154, 250, 1.000)\",\"name\":\"ALL\",\"legendgroup\":\"ALL\",\"line\":{\"color\":\"rgba(0, 0, 0, 0.000)\",\"dash\":\"solid\",\"width\":1},\"y\":[0.06513987609082748,0.0,0.0,0.06513987609082748,0.06513987609082748,0.06513987609082748],\"type\":\"scatter\"},{\"xaxis\":\"x1\",\"fill\":\"tozeroy\",\"yaxis\":\"y1\",\"x\":[1.1,1.1,1.3000000000000003,1.3000000000000003,1.1,1.1],\"showlegend\":false,\"mode\":\"lines\",\"fillcolor\":\"rgba(0, 154, 250, 1.000)\",\"name\":\"ALL\",\"legendgroup\":\"ALL\",\"line\":{\"color\":\"rgba(0, 0, 0, 0.000)\",\"dash\":\"solid\",\"width\":1},\"y\":[0.056096861065736615,0.0,0.0,0.056096861065736615,0.056096861065736615,0.056096861065736615],\"type\":\"scatter\"},{\"xaxis\":\"x1\",\"fill\":\"tozeroy\",\"yaxis\":\"y1\",\"x\":[2.1,2.1,2.3000000000000003,2.3000000000000003,2.1,2.1],\"showlegend\":false,\"mode\":\"lines\",\"fillcolor\":\"rgba(0, 154, 250, 1.000)\",\"name\":\"ALL\",\"legendgroup\":\"ALL\",\"line\":{\"color\":\"rgba(0, 0, 0, 0.000)\",\"dash\":\"solid\",\"width\":1},\"y\":[0.051503244889850336,0.0,0.0,0.051503244889850336,0.051503244889850336,0.051503244889850336],\"type\":\"scatter\"},{\"xaxis\":\"x1\",\"fill\":\"tozeroy\",\"yaxis\":\"y1\",\"x\":[3.1,3.1,3.3000000000000003,3.3000000000000003,3.1,3.1],\"showlegend\":false,\"mode\":\"lines\",\"fillcolor\":\"rgba(0, 154, 250, 1.000)\",\"name\":\"ALL\",\"legendgroup\":\"ALL\",\"line\":{\"color\":\"rgba(0, 0, 0, 0.000)\",\"dash\":\"solid\",\"width\":1},\"y\":[0.04775040591781574,0.0,0.0,0.04775040591781574,0.04775040591781574,0.04775040591781574],\"type\":\"scatter\"},{\"xaxis\":\"x1\",\"fill\":\"tozeroy\",\"yaxis\":\"y1\",\"x\":[4.1,4.1,4.299999999999999,4.299999999999999,4.1,4.1],\"showlegend\":false,\"mode\":\"lines\",\"fillcolor\":\"rgba(0, 154, 250, 1.000)\",\"name\":\"ALL\",\"legendgroup\":\"ALL\",\"line\":{\"color\":\"rgba(0, 0, 0, 0.000)\",\"dash\":\"solid\",\"width\":1},\"y\":[0.048108987094020866,0.0,0.0,0.048108987094020866,0.048108987094020866,0.048108987094020866],\"type\":\"scatter\"},{\"xaxis\":\"x1\",\"fill\":\"tozeroy\",\"yaxis\":\"y1\",\"x\":[5.1,5.1,5.299999999999999,5.299999999999999,5.1,5.1],\"showlegend\":false,\"mode\":\"lines\",\"fillcolor\":\"rgba(0, 154, 250, 1.000)\",\"name\":\"ALL\",\"legendgroup\":\"ALL\",\"line\":{\"color\":\"rgba(0, 0, 0, 0.000)\",\"dash\":\"solid\",\"width\":1},\"y\":[0.04664523028171432,0.0,0.0,0.04664523028171432,0.04664523028171432,0.04664523028171432],\"type\":\"scatter\"},{\"xaxis\":\"x1\",\"fill\":\"tozeroy\",\"yaxis\":\"y1\",\"x\":[6.1,6.1,6.299999999999999,6.299999999999999,6.1,6.1],\"showlegend\":false,\"mode\":\"lines\",\"fillcolor\":\"rgba(0, 154, 250, 1.000)\",\"name\":\"ALL\",\"legendgroup\":\"ALL\",\"line\":{\"color\":\"rgba(0, 0, 0, 0.000)\",\"dash\":\"solid\",\"width\":1},\"y\":[0.046151506678635726,0.0,0.0,0.046151506678635726,0.046151506678635726,0.046151506678635726],\"type\":\"scatter\"},{\"xaxis\":\"x1\",\"fill\":\"tozeroy\",\"yaxis\":\"y1\",\"x\":[7.1,7.1,7.299999999999999,7.299999999999999,7.1,7.1],\"showlegend\":false,\"mode\":\"lines\",\"fillcolor\":\"rgba(0, 154, 250, 1.000)\",\"name\":\"ALL\",\"legendgroup\":\"ALL\",\"line\":{\"color\":\"rgba(0, 0, 0, 0.000)\",\"dash\":\"solid\",\"width\":1},\"y\":[0.043059173252100715,0.0,0.0,0.043059173252100715,0.043059173252100715,0.043059173252100715],\"type\":\"scatter\"},{\"xaxis\":\"x1\",\"fill\":\"tozeroy\",\"yaxis\":\"y1\",\"x\":[8.1,8.1,8.299999999999999,8.299999999999999,8.1,8.1],\"showlegend\":false,\"mode\":\"lines\",\"fillcolor\":\"rgba(0, 154, 250, 1.000)\",\"name\":\"ALL\",\"legendgroup\":\"ALL\",\"line\":{\"color\":\"rgba(0, 0, 0, 0.000)\",\"dash\":\"solid\",\"width\":1},\"y\":[0.043126621831756265,0.0,0.0,0.043126621831756265,0.043126621831756265,0.043126621831756265],\"type\":\"scatter\"},{\"xaxis\":\"x1\",\"fill\":\"tozeroy\",\"yaxis\":\"y1\",\"x\":[9.1,9.1,9.299999999999999,9.299999999999999,9.1,9.1],\"showlegend\":false,\"mode\":\"lines\",\"fillcolor\":\"rgba(0, 154, 250, 1.000)\",\"name\":\"ALL\",\"legendgroup\":\"ALL\",\"line\":{\"color\":\"rgba(0, 0, 0, 0.000)\",\"dash\":\"solid\",\"width\":1},\"y\":[0.047515194325489674,0.0,0.0,0.047515194325489674,0.047515194325489674,0.047515194325489674],\"type\":\"scatter\"},{\"xaxis\":\"x1\",\"fill\":\"tozeroy\",\"yaxis\":\"y1\",\"x\":[10.1,10.1,10.299999999999999,10.299999999999999,10.1,10.1],\"showlegend\":false,\"mode\":\"lines\",\"fillcolor\":\"rgba(0, 154, 250, 1.000)\",\"name\":\"ALL\",\"legendgroup\":\"ALL\",\"line\":{\"color\":\"rgba(0, 0, 0, 0.000)\",\"dash\":\"solid\",\"width\":1},\"y\":[0.048559543606119915,0.0,0.0,0.048559543606119915,0.048559543606119915,0.048559543606119915],\"type\":\"scatter\"},{\"xaxis\":\"x1\",\"fill\":\"tozeroy\",\"yaxis\":\"y1\",\"x\":[11.1,11.1,11.299999999999999,11.299999999999999,11.1,11.1],\"showlegend\":false,\"mode\":\"lines\",\"fillcolor\":\"rgba(0, 154, 250, 1.000)\",\"name\":\"ALL\",\"legendgroup\":\"ALL\",\"line\":{\"color\":\"rgba(0, 0, 0, 0.000)\",\"dash\":\"solid\",\"width\":1},\"y\":[0.04995487076852138,0.0,0.0,0.04995487076852138,0.04995487076852138,0.04995487076852138],\"type\":\"scatter\"},{\"xaxis\":\"x1\",\"fill\":\"tozeroy\",\"yaxis\":\"y1\",\"x\":[12.1,12.1,12.299999999999999,12.299999999999999,12.1,12.1],\"showlegend\":false,\"mode\":\"lines\",\"fillcolor\":\"rgba(0, 154, 250, 1.000)\",\"name\":\"ALL\",\"legendgroup\":\"ALL\",\"line\":{\"color\":\"rgba(0, 0, 0, 0.000)\",\"dash\":\"solid\",\"width\":1},\"y\":[0.04992985347715823,0.0,0.0,0.04992985347715823,0.04992985347715823,0.04992985347715823],\"type\":\"scatter\"},{\"xaxis\":\"x1\",\"fill\":\"tozeroy\",\"yaxis\":\"y1\",\"x\":[13.1,13.1,13.299999999999999,13.299999999999999,13.1,13.1],\"showlegend\":false,\"mode\":\"lines\",\"fillcolor\":\"rgba(0, 154, 250, 1.000)\",\"name\":\"ALL\",\"legendgroup\":\"ALL\",\"line\":{\"color\":\"rgba(0, 0, 0, 0.000)\",\"dash\":\"solid\",\"width\":1},\"y\":[0.05344331130830623,0.0,0.0,0.05344331130830623,0.05344331130830623,0.05344331130830623],\"type\":\"scatter\"},{\"xaxis\":\"x1\",\"fill\":\"tozeroy\",\"yaxis\":\"y1\",\"x\":[14.1,14.1,14.299999999999999,14.299999999999999,14.1,14.1],\"showlegend\":false,\"mode\":\"lines\",\"fillcolor\":\"rgba(0, 154, 250, 1.000)\",\"name\":\"ALL\",\"legendgroup\":\"ALL\",\"line\":{\"color\":\"rgba(0, 0, 0, 0.000)\",\"dash\":\"solid\",\"width\":1},\"y\":[0.06718884130698179,0.0,0.0,0.06718884130698179,0.06718884130698179,0.06718884130698179],\"type\":\"scatter\"},{\"xaxis\":\"x1\",\"fill\":\"tozeroy\",\"yaxis\":\"y1\",\"x\":[15.1,15.1,15.299999999999999,15.299999999999999,15.1,15.1],\"showlegend\":false,\"mode\":\"lines\",\"fillcolor\":\"rgba(0, 154, 250, 1.000)\",\"name\":\"ALL\",\"legendgroup\":\"ALL\",\"line\":{\"color\":\"rgba(0, 0, 0, 0.000)\",\"dash\":\"solid\",\"width\":1},\"y\":[0.08842754060404495,0.0,0.0,0.08842754060404495,0.08842754060404495,0.08842754060404495],\"type\":\"scatter\"},{\"xaxis\":\"x1\",\"fill\":\"tozeroy\",\"yaxis\":\"y1\",\"x\":[16.1,16.1,16.300000000000004,16.300000000000004,16.1,16.1],\"showlegend\":false,\"mode\":\"lines\",\"fillcolor\":\"rgba(0, 154, 250, 1.000)\",\"name\":\"ALL\",\"legendgroup\":\"ALL\",\"line\":{\"color\":\"rgba(0, 0, 0, 0.000)\",\"dash\":\"solid\",\"width\":1},\"y\":[0.0747742312088257,0.0,0.0,0.0747742312088257,0.0747742312088257,0.0747742312088257],\"type\":\"scatter\"},{\"xaxis\":\"x1\",\"fill\":\"tozeroy\",\"yaxis\":\"y1\",\"x\":[17.1,17.1,17.300000000000004,17.300000000000004,17.1,17.1],\"showlegend\":false,\"mode\":\"lines\",\"fillcolor\":\"rgba(0, 154, 250, 1.000)\",\"name\":\"ALL\",\"legendgroup\":\"ALL\",\"line\":{\"color\":\"rgba(0, 0, 0, 0.000)\",\"dash\":\"solid\",\"width\":1},\"y\":[0.07262470629209404,0.0,0.0,0.07262470629209404,0.07262470629209404,0.07262470629209404],\"type\":\"scatter\"},{\"xaxis\":\"x1\",\"fill\":\"tozeroy\",\"yaxis\":\"y1\",\"x\":[0.30000000000000004,0.30000000000000004,0.5,0.5,0.30000000000000004,0.30000000000000004],\"showlegend\":true,\"mode\":\"lines\",\"fillcolor\":\"rgba(227, 111, 71, 1.000)\",\"name\":\"V1\",\"legendgroup\":\"V1\",\"line\":{\"color\":\"rgba(0, 0, 0, 0.000)\",\"dash\":\"solid\",\"width\":1},\"y\":[0.06058434791538543,0.0,0.0,0.06058434791538543,0.06058434791538543,0.06058434791538543],\"type\":\"scatter\"},{\"xaxis\":\"x1\",\"fill\":\"tozeroy\",\"yaxis\":\"y1\",\"x\":[1.3,1.3,1.5000000000000002,1.5000000000000002,1.3,1.3],\"showlegend\":false,\"mode\":\"lines\",\"fillcolor\":\"rgba(227, 111, 71, 1.000)\",\"name\":\"V1\",\"legendgroup\":\"V1\",\"line\":{\"color\":\"rgba(0, 0, 0, 0.000)\",\"dash\":\"solid\",\"width\":1},\"y\":[0.056109022885423514,0.0,0.0,0.056109022885423514,0.056109022885423514,0.056109022885423514],\"type\":\"scatter\"},{\"xaxis\":\"x1\",\"fill\":\"tozeroy\",\"yaxis\":\"y1\",\"x\":[2.3000000000000003,2.3000000000000003,2.5000000000000004,2.5000000000000004,2.3000000000000003,2.3000000000000003],\"showlegend\":false,\"mode\":\"lines\",\"fillcolor\":\"rgba(227, 111, 71, 1.000)\",\"name\":\"V1\",\"legendgroup\":\"V1\",\"line\":{\"color\":\"rgba(0, 0, 0, 0.000)\",\"dash\":\"solid\",\"width\":1},\"y\":[0.05643460715748593,0.0,0.0,0.05643460715748593,0.05643460715748593,0.05643460715748593],\"type\":\"scatter\"},{\"xaxis\":\"x1\",\"fill\":\"tozeroy\",\"yaxis\":\"y1\",\"x\":[3.3000000000000003,3.3000000000000003,3.5000000000000004,3.5000000000000004,3.3000000000000003,3.3000000000000003],\"showlegend\":false,\"mode\":\"lines\",\"fillcolor\":\"rgba(227, 111, 71, 1.000)\",\"name\":\"V1\",\"legendgroup\":\"V1\",\"line\":{\"color\":\"rgba(0, 0, 0, 0.000)\",\"dash\":\"solid\",\"width\":1},\"y\":[0.05225919308781089,0.0,0.0,0.05225919308781089,0.05225919308781089,0.05225919308781089],\"type\":\"scatter\"},{\"xaxis\":\"x1\",\"fill\":\"tozeroy\",\"yaxis\":\"y1\",\"x\":[4.3,4.3,4.499999999999999,4.499999999999999,4.3,4.3],\"showlegend\":false,\"mode\":\"lines\",\"fillcolor\":\"rgba(227, 111, 71, 1.000)\",\"name\":\"V1\",\"legendgroup\":\"V1\",\"line\":{\"color\":\"rgba(0, 0, 0, 0.000)\",\"dash\":\"solid\",\"width\":1},\"y\":[0.05388828141684006,0.0,0.0,0.05388828141684006,0.05388828141684006,0.05388828141684006],\"type\":\"scatter\"},{\"xaxis\":\"x1\",\"fill\":\"tozeroy\",\"yaxis\":\"y1\",\"x\":[5.3,5.3,5.499999999999999,5.499999999999999,5.3,5.3],\"showlegend\":false,\"mode\":\"lines\",\"fillcolor\":\"rgba(227, 111, 71, 1.000)\",\"name\":\"V1\",\"legendgroup\":\"V1\",\"line\":{\"color\":\"rgba(0, 0, 0, 0.000)\",\"dash\":\"solid\",\"width\":1},\"y\":[0.05337948305619771,0.0,0.0,0.05337948305619771,0.05337948305619771,0.05337948305619771],\"type\":\"scatter\"},{\"xaxis\":\"x1\",\"fill\":\"tozeroy\",\"yaxis\":\"y1\",\"x\":[6.3,6.3,6.499999999999999,6.499999999999999,6.3,6.3],\"showlegend\":false,\"mode\":\"lines\",\"fillcolor\":\"rgba(227, 111, 71, 1.000)\",\"name\":\"V1\",\"legendgroup\":\"V1\",\"line\":{\"color\":\"rgba(0, 0, 0, 0.000)\",\"dash\":\"solid\",\"width\":1},\"y\":[0.0502204987390903,0.0,0.0,0.0502204987390903,0.0502204987390903,0.0502204987390903],\"type\":\"scatter\"},{\"xaxis\":\"x1\",\"fill\":\"tozeroy\",\"yaxis\":\"y1\",\"x\":[7.3,7.3,7.499999999999999,7.499999999999999,7.3,7.3],\"showlegend\":false,\"mode\":\"lines\",\"fillcolor\":\"rgba(227, 111, 71, 1.000)\",\"name\":\"V1\",\"legendgroup\":\"V1\",\"line\":{\"color\":\"rgba(0, 0, 0, 0.000)\",\"dash\":\"solid\",\"width\":1},\"y\":[0.05018432270886115,0.0,0.0,0.05018432270886115,0.05018432270886115,0.05018432270886115],\"type\":\"scatter\"},{\"xaxis\":\"x1\",\"fill\":\"tozeroy\",\"yaxis\":\"y1\",\"x\":[8.299999999999999,8.299999999999999,8.499999999999998,8.499999999999998,8.299999999999999,8.299999999999999],\"showlegend\":false,\"mode\":\"lines\",\"fillcolor\":\"rgba(227, 111, 71, 1.000)\",\"name\":\"V1\",\"legendgroup\":\"V1\",\"line\":{\"color\":\"rgba(0, 0, 0, 0.000)\",\"dash\":\"solid\",\"width\":1},\"y\":[0.043742655390636945,0.0,0.0,0.043742655390636945,0.043742655390636945,0.043742655390636945],\"type\":\"scatter\"},{\"xaxis\":\"x1\",\"fill\":\"tozeroy\",\"yaxis\":\"y1\",\"x\":[9.299999999999999,9.299999999999999,9.499999999999998,9.499999999999998,9.299999999999999,9.299999999999999],\"showlegend\":false,\"mode\":\"lines\",\"fillcolor\":\"rgba(227, 111, 71, 1.000)\",\"name\":\"V1\",\"legendgroup\":\"V1\",\"line\":{\"color\":\"rgba(0, 0, 0, 0.000)\",\"dash\":\"solid\",\"width\":1},\"y\":[0.039615087038361765,0.0,0.0,0.039615087038361765,0.039615087038361765,0.039615087038361765],\"type\":\"scatter\"},{\"xaxis\":\"x1\",\"fill\":\"tozeroy\",\"yaxis\":\"y1\",\"x\":[10.299999999999999,10.299999999999999,10.499999999999998,10.499999999999998,10.299999999999999,10.299999999999999],\"showlegend\":false,\"mode\":\"lines\",\"fillcolor\":\"rgba(227, 111, 71, 1.000)\",\"name\":\"V1\",\"legendgroup\":\"V1\",\"line\":{\"color\":\"rgba(0, 0, 0, 0.000)\",\"dash\":\"solid\",\"width\":1},\"y\":[0.045144184819837535,0.0,0.0,0.045144184819837535,0.045144184819837535,0.045144184819837535],\"type\":\"scatter\"},{\"xaxis\":\"x1\",\"fill\":\"tozeroy\",\"yaxis\":\"y1\",\"x\":[11.299999999999999,11.299999999999999,11.499999999999998,11.499999999999998,11.299999999999999,11.299999999999999],\"showlegend\":false,\"mode\":\"lines\",\"fillcolor\":\"rgba(227, 111, 71, 1.000)\",\"name\":\"V1\",\"legendgroup\":\"V1\",\"line\":{\"color\":\"rgba(0, 0, 0, 0.000)\",\"dash\":\"solid\",\"width\":1},\"y\":[0.04981439362555008,0.0,0.0,0.04981439362555008,0.04981439362555008,0.04981439362555008],\"type\":\"scatter\"},{\"xaxis\":\"x1\",\"fill\":\"tozeroy\",\"yaxis\":\"y1\",\"x\":[12.299999999999999,12.299999999999999,12.499999999999998,12.499999999999998,12.299999999999999,12.299999999999999],\"showlegend\":false,\"mode\":\"lines\",\"fillcolor\":\"rgba(227, 111, 71, 1.000)\",\"name\":\"V1\",\"legendgroup\":\"V1\",\"line\":{\"color\":\"rgba(0, 0, 0, 0.000)\",\"dash\":\"solid\",\"width\":1},\"y\":[0.049961431683900846,0.0,0.0,0.049961431683900846,0.049961431683900846,0.049961431683900846],\"type\":\"scatter\"},{\"xaxis\":\"x1\",\"fill\":\"tozeroy\",\"yaxis\":\"y1\",\"x\":[13.299999999999999,13.299999999999999,13.499999999999998,13.499999999999998,13.299999999999999,13.299999999999999],\"showlegend\":false,\"mode\":\"lines\",\"fillcolor\":\"rgba(227, 111, 71, 1.000)\",\"name\":\"V1\",\"legendgroup\":\"V1\",\"line\":{\"color\":\"rgba(0, 0, 0, 0.000)\",\"dash\":\"solid\",\"width\":1},\"y\":[0.05133845477004298,0.0,0.0,0.05133845477004298,0.05133845477004298,0.05133845477004298],\"type\":\"scatter\"},{\"xaxis\":\"x1\",\"fill\":\"tozeroy\",\"yaxis\":\"y1\",\"x\":[14.299999999999999,14.299999999999999,14.499999999999998,14.499999999999998,14.299999999999999,14.299999999999999],\"showlegend\":false,\"mode\":\"lines\",\"fillcolor\":\"rgba(227, 111, 71, 1.000)\",\"name\":\"V1\",\"legendgroup\":\"V1\",\"line\":{\"color\":\"rgba(0, 0, 0, 0.000)\",\"dash\":\"solid\",\"width\":1},\"y\":[0.06326254112106017,0.0,0.0,0.06326254112106017,0.06326254112106017,0.06326254112106017],\"type\":\"scatter\"},{\"xaxis\":\"x1\",\"fill\":\"tozeroy\",\"yaxis\":\"y1\",\"x\":[15.299999999999999,15.299999999999999,15.499999999999998,15.499999999999998,15.299999999999999,15.299999999999999],\"showlegend\":false,\"mode\":\"lines\",\"fillcolor\":\"rgba(227, 111, 71, 1.000)\",\"name\":\"V1\",\"legendgroup\":\"V1\",\"line\":{\"color\":\"rgba(0, 0, 0, 0.000)\",\"dash\":\"solid\",\"width\":1},\"y\":[0.08424230471653746,0.0,0.0,0.08424230471653746,0.08424230471653746,0.08424230471653746],\"type\":\"scatter\"},{\"xaxis\":\"x1\",\"fill\":\"tozeroy\",\"yaxis\":\"y1\",\"x\":[16.3,16.3,16.500000000000004,16.500000000000004,16.3,16.3],\"showlegend\":false,\"mode\":\"lines\",\"fillcolor\":\"rgba(227, 111, 71, 1.000)\",\"name\":\"V1\",\"legendgroup\":\"V1\",\"line\":{\"color\":\"rgba(0, 0, 0, 0.000)\",\"dash\":\"solid\",\"width\":1},\"y\":[0.07081282872050049,0.0,0.0,0.07081282872050049,0.07081282872050049,0.07081282872050049],\"type\":\"scatter\"},{\"xaxis\":\"x1\",\"fill\":\"tozeroy\",\"yaxis\":\"y1\",\"x\":[17.3,17.3,17.500000000000004,17.500000000000004,17.3,17.3],\"showlegend\":false,\"mode\":\"lines\",\"fillcolor\":\"rgba(227, 111, 71, 1.000)\",\"name\":\"V1\",\"legendgroup\":\"V1\",\"line\":{\"color\":\"rgba(0, 0, 0, 0.000)\",\"dash\":\"solid\",\"width\":1},\"y\":[0.06900636114647675,0.0,0.0,0.06900636114647675,0.06900636114647675,0.06900636114647675],\"type\":\"scatter\"},{\"xaxis\":\"x1\",\"fill\":\"tozeroy\",\"yaxis\":\"y1\",\"x\":[0.5,0.5,0.7,0.7,0.5,0.5],\"showlegend\":true,\"mode\":\"lines\",\"fillcolor\":\"rgba(62, 164, 78, 1.000)\",\"name\":\"V2\",\"legendgroup\":\"V2\",\"line\":{\"color\":\"rgba(0, 0, 0, 0.000)\",\"dash\":\"solid\",\"width\":1},\"y\":[0.07293576467222045,0.0,0.0,0.07293576467222045,0.07293576467222045,0.07293576467222045],\"type\":\"scatter\"},{\"xaxis\":\"x1\",\"fill\":\"tozeroy\",\"yaxis\":\"y1\",\"x\":[1.5,1.5,1.7000000000000002,1.7000000000000002,1.5,1.5],\"showlegend\":false,\"mode\":\"lines\",\"fillcolor\":\"rgba(62, 164, 78, 1.000)\",\"name\":\"V2\",\"legendgroup\":\"V2\",\"line\":{\"color\":\"rgba(0, 0, 0, 0.000)\",\"dash\":\"solid\",\"width\":1},\"y\":[0.06344077738282583,0.0,0.0,0.06344077738282583,0.06344077738282583,0.06344077738282583],\"type\":\"scatter\"},{\"xaxis\":\"x1\",\"fill\":\"tozeroy\",\"yaxis\":\"y1\",\"x\":[2.5,2.5,2.7,2.7,2.5,2.5],\"showlegend\":false,\"mode\":\"lines\",\"fillcolor\":\"rgba(62, 164, 78, 1.000)\",\"name\":\"V2\",\"legendgroup\":\"V2\",\"line\":{\"color\":\"rgba(0, 0, 0, 0.000)\",\"dash\":\"solid\",\"width\":1},\"y\":[0.055592116123210335,0.0,0.0,0.055592116123210335,0.055592116123210335,0.055592116123210335],\"type\":\"scatter\"},{\"xaxis\":\"x1\",\"fill\":\"tozeroy\",\"yaxis\":\"y1\",\"x\":[3.5,3.5,3.7,3.7,3.5,3.5],\"showlegend\":false,\"mode\":\"lines\",\"fillcolor\":\"rgba(62, 164, 78, 1.000)\",\"name\":\"V2\",\"legendgroup\":\"V2\",\"line\":{\"color\":\"rgba(0, 0, 0, 0.000)\",\"dash\":\"solid\",\"width\":1},\"y\":[0.05091945547986662,0.0,0.0,0.05091945547986662,0.05091945547986662,0.05091945547986662],\"type\":\"scatter\"},{\"xaxis\":\"x1\",\"fill\":\"tozeroy\",\"yaxis\":\"y1\",\"x\":[4.5,4.5,4.699999999999999,4.699999999999999,4.5,4.5],\"showlegend\":false,\"mode\":\"lines\",\"fillcolor\":\"rgba(62, 164, 78, 1.000)\",\"name\":\"V2\",\"legendgroup\":\"V2\",\"line\":{\"color\":\"rgba(0, 0, 0, 0.000)\",\"dash\":\"solid\",\"width\":1},\"y\":[0.048201256754228615,0.0,0.0,0.048201256754228615,0.048201256754228615,0.048201256754228615],\"type\":\"scatter\"},{\"xaxis\":\"x1\",\"fill\":\"tozeroy\",\"yaxis\":\"y1\",\"x\":[5.5,5.5,5.699999999999999,5.699999999999999,5.5,5.5],\"showlegend\":false,\"mode\":\"lines\",\"fillcolor\":\"rgba(62, 164, 78, 1.000)\",\"name\":\"V2\",\"legendgroup\":\"V2\",\"line\":{\"color\":\"rgba(0, 0, 0, 0.000)\",\"dash\":\"solid\",\"width\":1},\"y\":[0.04636784822106549,0.0,0.0,0.04636784822106549,0.04636784822106549,0.04636784822106549],\"type\":\"scatter\"},{\"xaxis\":\"x1\",\"fill\":\"tozeroy\",\"yaxis\":\"y1\",\"x\":[6.5,6.5,6.699999999999999,6.699999999999999,6.5,6.5],\"showlegend\":false,\"mode\":\"lines\",\"fillcolor\":\"rgba(62, 164, 78, 1.000)\",\"name\":\"V2\",\"legendgroup\":\"V2\",\"line\":{\"color\":\"rgba(0, 0, 0, 0.000)\",\"dash\":\"solid\",\"width\":1},\"y\":[0.043048784513970664,0.0,0.0,0.043048784513970664,0.043048784513970664,0.043048784513970664],\"type\":\"scatter\"},{\"xaxis\":\"x1\",\"fill\":\"tozeroy\",\"yaxis\":\"y1\",\"x\":[7.5,7.5,7.699999999999999,7.699999999999999,7.5,7.5],\"showlegend\":false,\"mode\":\"lines\",\"fillcolor\":\"rgba(62, 164, 78, 1.000)\",\"name\":\"V2\",\"legendgroup\":\"V2\",\"line\":{\"color\":\"rgba(0, 0, 0, 0.000)\",\"dash\":\"solid\",\"width\":1},\"y\":[0.043178641781025436,0.0,0.0,0.043178641781025436,0.043178641781025436,0.043178641781025436],\"type\":\"scatter\"},{\"xaxis\":\"x1\",\"fill\":\"tozeroy\",\"yaxis\":\"y1\",\"x\":[8.5,8.5,8.7,8.7,8.5,8.5],\"showlegend\":false,\"mode\":\"lines\",\"fillcolor\":\"rgba(62, 164, 78, 1.000)\",\"name\":\"V2\",\"legendgroup\":\"V2\",\"line\":{\"color\":\"rgba(0, 0, 0, 0.000)\",\"dash\":\"solid\",\"width\":1},\"y\":[0.04083460806215541,0.0,0.0,0.04083460806215541,0.04083460806215541,0.04083460806215541],\"type\":\"scatter\"},{\"xaxis\":\"x1\",\"fill\":\"tozeroy\",\"yaxis\":\"y1\",\"x\":[9.5,9.5,9.7,9.7,9.5,9.5],\"showlegend\":false,\"mode\":\"lines\",\"fillcolor\":\"rgba(62, 164, 78, 1.000)\",\"name\":\"V2\",\"legendgroup\":\"V2\",\"line\":{\"color\":\"rgba(0, 0, 0, 0.000)\",\"dash\":\"solid\",\"width\":1},\"y\":[0.04044943820224719,0.0,0.0,0.04044943820224719,0.04044943820224719,0.04044943820224719],\"type\":\"scatter\"},{\"xaxis\":\"x1\",\"fill\":\"tozeroy\",\"yaxis\":\"y1\",\"x\":[10.5,10.5,10.7,10.7,10.5,10.5],\"showlegend\":false,\"mode\":\"lines\",\"fillcolor\":\"rgba(62, 164, 78, 1.000)\",\"name\":\"V2\",\"legendgroup\":\"V2\",\"line\":{\"color\":\"rgba(0, 0, 0, 0.000)\",\"dash\":\"solid\",\"width\":1},\"y\":[0.03877670052493149,0.0,0.0,0.03877670052493149,0.03877670052493149,0.03877670052493149],\"type\":\"scatter\"},{\"xaxis\":\"x1\",\"fill\":\"tozeroy\",\"yaxis\":\"y1\",\"x\":[11.5,11.5,11.7,11.7,11.5,11.5],\"showlegend\":false,\"mode\":\"lines\",\"fillcolor\":\"rgba(62, 164, 78, 1.000)\",\"name\":\"V2\",\"legendgroup\":\"V2\",\"line\":{\"color\":\"rgba(0, 0, 0, 0.000)\",\"dash\":\"solid\",\"width\":1},\"y\":[0.04246332632691017,0.0,0.0,0.04246332632691017,0.04246332632691017,0.04246332632691017],\"type\":\"scatter\"},{\"xaxis\":\"x1\",\"fill\":\"tozeroy\",\"yaxis\":\"y1\",\"x\":[12.5,12.5,12.7,12.7,12.5,12.5],\"showlegend\":false,\"mode\":\"lines\",\"fillcolor\":\"rgba(62, 164, 78, 1.000)\",\"name\":\"V2\",\"legendgroup\":\"V2\",\"line\":{\"color\":\"rgba(0, 0, 0, 0.000)\",\"dash\":\"solid\",\"width\":1},\"y\":[0.04758058303711937,0.0,0.0,0.04758058303711937,0.04758058303711937,0.04758058303711937],\"type\":\"scatter\"},{\"xaxis\":\"x1\",\"fill\":\"tozeroy\",\"yaxis\":\"y1\",\"x\":[13.5,13.5,13.7,13.7,13.5,13.5],\"showlegend\":false,\"mode\":\"lines\",\"fillcolor\":\"rgba(62, 164, 78, 1.000)\",\"name\":\"V2\",\"legendgroup\":\"V2\",\"line\":{\"color\":\"rgba(0, 0, 0, 0.000)\",\"dash\":\"solid\",\"width\":1},\"y\":[0.04962308377994696,0.0,0.0,0.04962308377994696,0.04962308377994696,0.04962308377994696],\"type\":\"scatter\"},{\"xaxis\":\"x1\",\"fill\":\"tozeroy\",\"yaxis\":\"y1\",\"x\":[14.5,14.5,14.7,14.7,14.5,14.5],\"showlegend\":false,\"mode\":\"lines\",\"fillcolor\":\"rgba(62, 164, 78, 1.000)\",\"name\":\"V2\",\"legendgroup\":\"V2\",\"line\":{\"color\":\"rgba(0, 0, 0, 0.000)\",\"dash\":\"solid\",\"width\":1},\"y\":[0.06739372063079818,0.0,0.0,0.06739372063079818,0.06739372063079818,0.06739372063079818],\"type\":\"scatter\"},{\"xaxis\":\"x1\",\"fill\":\"tozeroy\",\"yaxis\":\"y1\",\"x\":[15.5,15.5,15.7,15.7,15.5,15.5],\"showlegend\":false,\"mode\":\"lines\",\"fillcolor\":\"rgba(62, 164, 78, 1.000)\",\"name\":\"V2\",\"legendgroup\":\"V2\",\"line\":{\"color\":\"rgba(0, 0, 0, 0.000)\",\"dash\":\"solid\",\"width\":1},\"y\":[0.08588627584764881,0.0,0.0,0.08588627584764881,0.08588627584764881,0.08588627584764881],\"type\":\"scatter\"},{\"xaxis\":\"x1\",\"fill\":\"tozeroy\",\"yaxis\":\"y1\",\"x\":[16.5,16.5,16.700000000000003,16.700000000000003,16.5,16.5],\"showlegend\":false,\"mode\":\"lines\",\"fillcolor\":\"rgba(62, 164, 78, 1.000)\",\"name\":\"V2\",\"legendgroup\":\"V2\",\"line\":{\"color\":\"rgba(0, 0, 0, 0.000)\",\"dash\":\"solid\",\"width\":1},\"y\":[0.08064576478226898,0.0,0.0,0.08064576478226898,0.08064576478226898,0.08064576478226898],\"type\":\"scatter\"},{\"xaxis\":\"x1\",\"fill\":\"tozeroy\",\"yaxis\":\"y1\",\"x\":[17.5,17.5,17.700000000000003,17.700000000000003,17.5,17.5],\"showlegend\":false,\"mode\":\"lines\",\"fillcolor\":\"rgba(62, 164, 78, 1.000)\",\"name\":\"V2\",\"legendgroup\":\"V2\",\"line\":{\"color\":\"rgba(0, 0, 0, 0.000)\",\"dash\":\"solid\",\"width\":1},\"y\":[0.08266185387756,0.0,0.0,0.08266185387756,0.08266185387756,0.08266185387756],\"type\":\"scatter\"},{\"xaxis\":\"x1\",\"fill\":\"tozeroy\",\"yaxis\":\"y1\",\"x\":[0.7000000000000001,0.7000000000000001,0.9,0.9,0.7000000000000001,0.7000000000000001],\"showlegend\":true,\"mode\":\"lines\",\"fillcolor\":\"rgba(195, 113, 210, 1.000)\",\"name\":\"V3\",\"legendgroup\":\"V3\",\"line\":{\"color\":\"rgba(0, 0, 0, 0.000)\",\"dash\":\"solid\",\"width\":1},\"y\":[0.07514279251258271,0.0,0.0,0.07514279251258271,0.07514279251258271,0.07514279251258271],\"type\":\"scatter\"},{\"xaxis\":\"x1\",\"fill\":\"tozeroy\",\"yaxis\":\"y1\",\"x\":[1.7000000000000002,1.7000000000000002,1.9000000000000004,1.9000000000000004,1.7000000000000002,1.7000000000000002],\"showlegend\":false,\"mode\":\"lines\",\"fillcolor\":\"rgba(195, 113, 210, 1.000)\",\"name\":\"V3\",\"legendgroup\":\"V3\",\"line\":{\"color\":\"rgba(0, 0, 0, 0.000)\",\"dash\":\"solid\",\"width\":1},\"y\":[0.0617865423611055,0.0,0.0,0.0617865423611055,0.0617865423611055,0.0617865423611055],\"type\":\"scatter\"},{\"xaxis\":\"x1\",\"fill\":\"tozeroy\",\"yaxis\":\"y1\",\"x\":[2.7,2.7,2.9000000000000004,2.9000000000000004,2.7,2.7],\"showlegend\":false,\"mode\":\"lines\",\"fillcolor\":\"rgba(195, 113, 210, 1.000)\",\"name\":\"V3\",\"legendgroup\":\"V3\",\"line\":{\"color\":\"rgba(0, 0, 0, 0.000)\",\"dash\":\"solid\",\"width\":1},\"y\":[0.05229801019542579,0.0,0.0,0.05229801019542579,0.05229801019542579,0.05229801019542579],\"type\":\"scatter\"},{\"xaxis\":\"x1\",\"fill\":\"tozeroy\",\"yaxis\":\"y1\",\"x\":[3.7,3.7,3.9000000000000004,3.9000000000000004,3.7,3.7],\"showlegend\":false,\"mode\":\"lines\",\"fillcolor\":\"rgba(195, 113, 210, 1.000)\",\"name\":\"V3\",\"legendgroup\":\"V3\",\"line\":{\"color\":\"rgba(0, 0, 0, 0.000)\",\"dash\":\"solid\",\"width\":1},\"y\":[0.04208238744233768,0.0,0.0,0.04208238744233768,0.04208238744233768,0.04208238744233768],\"type\":\"scatter\"},{\"xaxis\":\"x1\",\"fill\":\"tozeroy\",\"yaxis\":\"y1\",\"x\":[4.699999999999999,4.699999999999999,4.899999999999999,4.899999999999999,4.699999999999999,4.699999999999999],\"showlegend\":false,\"mode\":\"lines\",\"fillcolor\":\"rgba(195, 113, 210, 1.000)\",\"name\":\"V3\",\"legendgroup\":\"V3\",\"line\":{\"color\":\"rgba(0, 0, 0, 0.000)\",\"dash\":\"solid\",\"width\":1},\"y\":[0.03779457267270421,0.0,0.0,0.03779457267270421,0.03779457267270421,0.03779457267270421],\"type\":\"scatter\"},{\"xaxis\":\"x1\",\"fill\":\"tozeroy\",\"yaxis\":\"y1\",\"x\":[5.699999999999999,5.699999999999999,5.899999999999999,5.899999999999999,5.699999999999999,5.699999999999999],\"showlegend\":false,\"mode\":\"lines\",\"fillcolor\":\"rgba(195, 113, 210, 1.000)\",\"name\":\"V3\",\"legendgroup\":\"V3\",\"line\":{\"color\":\"rgba(0, 0, 0, 0.000)\",\"dash\":\"solid\",\"width\":1},\"y\":[0.03637472633118168,0.0,0.0,0.03637472633118168,0.03637472633118168,0.03637472633118168],\"type\":\"scatter\"},{\"xaxis\":\"x1\",\"fill\":\"tozeroy\",\"yaxis\":\"y1\",\"x\":[6.699999999999999,6.699999999999999,6.899999999999999,6.899999999999999,6.699999999999999,6.699999999999999],\"showlegend\":false,\"mode\":\"lines\",\"fillcolor\":\"rgba(195, 113, 210, 1.000)\",\"name\":\"V3\",\"legendgroup\":\"V3\",\"line\":{\"color\":\"rgba(0, 0, 0, 0.000)\",\"dash\":\"solid\",\"width\":1},\"y\":[0.041674408834958515,0.0,0.0,0.041674408834958515,0.041674408834958515,0.041674408834958515],\"type\":\"scatter\"},{\"xaxis\":\"x1\",\"fill\":\"tozeroy\",\"yaxis\":\"y1\",\"x\":[7.699999999999999,7.699999999999999,7.899999999999999,7.899999999999999,7.699999999999999,7.699999999999999],\"showlegend\":false,\"mode\":\"lines\",\"fillcolor\":\"rgba(195, 113, 210, 1.000)\",\"name\":\"V3\",\"legendgroup\":\"V3\",\"line\":{\"color\":\"rgba(0, 0, 0, 0.000)\",\"dash\":\"solid\",\"width\":1},\"y\":[0.04487562711563164,0.0,0.0,0.04487562711563164,0.04487562711563164,0.04487562711563164],\"type\":\"scatter\"},{\"xaxis\":\"x1\",\"fill\":\"tozeroy\",\"yaxis\":\"y1\",\"x\":[8.7,8.7,8.899999999999999,8.899999999999999,8.7,8.7],\"showlegend\":false,\"mode\":\"lines\",\"fillcolor\":\"rgba(195, 113, 210, 1.000)\",\"name\":\"V3\",\"legendgroup\":\"V3\",\"line\":{\"color\":\"rgba(0, 0, 0, 0.000)\",\"dash\":\"solid\",\"width\":1},\"y\":[0.04697611103481148,0.0,0.0,0.04697611103481148,0.04697611103481148,0.04697611103481148],\"type\":\"scatter\"},{\"xaxis\":\"x1\",\"fill\":\"tozeroy\",\"yaxis\":\"y1\",\"x\":[9.7,9.7,9.899999999999999,9.899999999999999,9.7,9.7],\"showlegend\":false,\"mode\":\"lines\",\"fillcolor\":\"rgba(195, 113, 210, 1.000)\",\"name\":\"V3\",\"legendgroup\":\"V3\",\"line\":{\"color\":\"rgba(0, 0, 0, 0.000)\",\"dash\":\"solid\",\"width\":1},\"y\":[0.044510062125851305,0.0,0.0,0.044510062125851305,0.044510062125851305,0.044510062125851305],\"type\":\"scatter\"},{\"xaxis\":\"x1\",\"fill\":\"tozeroy\",\"yaxis\":\"y1\",\"x\":[10.7,10.7,10.899999999999999,10.899999999999999,10.7,10.7],\"showlegend\":false,\"mode\":\"lines\",\"fillcolor\":\"rgba(195, 113, 210, 1.000)\",\"name\":\"V3\",\"legendgroup\":\"V3\",\"line\":{\"color\":\"rgba(0, 0, 0, 0.000)\",\"dash\":\"solid\",\"width\":1},\"y\":[0.04680241717226392,0.0,0.0,0.04680241717226392,0.04680241717226392,0.04680241717226392],\"type\":\"scatter\"},{\"xaxis\":\"x1\",\"fill\":\"tozeroy\",\"yaxis\":\"y1\",\"x\":[11.7,11.7,11.899999999999999,11.899999999999999,11.7,11.7],\"showlegend\":false,\"mode\":\"lines\",\"fillcolor\":\"rgba(195, 113, 210, 1.000)\",\"name\":\"V3\",\"legendgroup\":\"V3\",\"line\":{\"color\":\"rgba(0, 0, 0, 0.000)\",\"dash\":\"solid\",\"width\":1},\"y\":[0.04864639968977468,0.0,0.0,0.04864639968977468,0.04864639968977468,0.04864639968977468],\"type\":\"scatter\"},{\"xaxis\":\"x1\",\"fill\":\"tozeroy\",\"yaxis\":\"y1\",\"x\":[12.7,12.7,12.899999999999999,12.899999999999999,12.7,12.7],\"showlegend\":false,\"mode\":\"lines\",\"fillcolor\":\"rgba(195, 113, 210, 1.000)\",\"name\":\"V3\",\"legendgroup\":\"V3\",\"line\":{\"color\":\"rgba(0, 0, 0, 0.000)\",\"dash\":\"solid\",\"width\":1},\"y\":[0.051393186353317556,0.0,0.0,0.051393186353317556,0.051393186353317556,0.051393186353317556],\"type\":\"scatter\"},{\"xaxis\":\"x1\",\"fill\":\"tozeroy\",\"yaxis\":\"y1\",\"x\":[13.7,13.7,13.899999999999999,13.899999999999999,13.7,13.7],\"showlegend\":false,\"mode\":\"lines\",\"fillcolor\":\"rgba(195, 113, 210, 1.000)\",\"name\":\"V3\",\"legendgroup\":\"V3\",\"line\":{\"color\":\"rgba(0, 0, 0, 0.000)\",\"dash\":\"solid\",\"width\":1},\"y\":[0.05614149182830967,0.0,0.0,0.05614149182830967,0.05614149182830967,0.05614149182830967],\"type\":\"scatter\"},{\"xaxis\":\"x1\",\"fill\":\"tozeroy\",\"yaxis\":\"y1\",\"x\":[14.7,14.7,14.899999999999999,14.899999999999999,14.7,14.7],\"showlegend\":false,\"mode\":\"lines\",\"fillcolor\":\"rgba(195, 113, 210, 1.000)\",\"name\":\"V3\",\"legendgroup\":\"V3\",\"line\":{\"color\":\"rgba(0, 0, 0, 0.000)\",\"dash\":\"solid\",\"width\":1},\"y\":[0.06648233573811813,0.0,0.0,0.06648233573811813,0.06648233573811813,0.06648233573811813],\"type\":\"scatter\"},{\"xaxis\":\"x1\",\"fill\":\"tozeroy\",\"yaxis\":\"y1\",\"x\":[15.7,15.7,15.899999999999999,15.899999999999999,15.7,15.7],\"showlegend\":false,\"mode\":\"lines\",\"fillcolor\":\"rgba(195, 113, 210, 1.000)\",\"name\":\"V3\",\"legendgroup\":\"V3\",\"line\":{\"color\":\"rgba(0, 0, 0, 0.000)\",\"dash\":\"solid\",\"width\":1},\"y\":[0.08340132976789652,0.0,0.0,0.08340132976789652,0.08340132976789652,0.08340132976789652],\"type\":\"scatter\"},{\"xaxis\":\"x1\",\"fill\":\"tozeroy\",\"yaxis\":\"y1\",\"x\":[16.700000000000003,16.700000000000003,16.900000000000006,16.900000000000006,16.700000000000003,16.700000000000003],\"showlegend\":false,\"mode\":\"lines\",\"fillcolor\":\"rgba(195, 113, 210, 1.000)\",\"name\":\"V3\",\"legendgroup\":\"V3\",\"line\":{\"color\":\"rgba(0, 0, 0, 0.000)\",\"dash\":\"solid\",\"width\":1},\"y\":[0.0800001615756861,0.0,0.0,0.0800001615756861,0.0800001615756861,0.0800001615756861],\"type\":\"scatter\"},{\"xaxis\":\"x1\",\"fill\":\"tozeroy\",\"yaxis\":\"y1\",\"x\":[17.700000000000003,17.700000000000003,17.900000000000006,17.900000000000006,17.700000000000003,17.700000000000003],\"showlegend\":false,\"mode\":\"lines\",\"fillcolor\":\"rgba(195, 113, 210, 1.000)\",\"name\":\"V3\",\"legendgroup\":\"V3\",\"line\":{\"color\":\"rgba(0, 0, 0, 0.000)\",\"dash\":\"solid\",\"width\":1},\"y\":[0.08361743724804291,0.0,0.0,0.08361743724804291,0.08361743724804291,0.08361743724804291],\"type\":\"scatter\"}], {\"showlegend\":true,\"xaxis\":{\"showticklabels\":true,\"gridwidth\":0.5,\"tickvals\":[0.5,1.5,2.5,3.5,4.5,5.5,6.5,7.5,8.5,9.5,10.5,11.5,12.5,13.5,14.5,15.5,16.5,17.5],\"visible\":true,\"ticks\":\"inside\",\"range\":[-0.9809600000000003,18.980960000000007],\"domain\":[0.0526567512394284,0.994750656167979],\"tickmode\":\"array\",\"linecolor\":\"rgba(0, 0, 0, 1.000)\",\"showgrid\":true,\"title\":\"\",\"mirror\":false,\"tickangle\":0,\"showline\":true,\"gridcolor\":\"rgba(0, 0, 0, 0.100)\",\"titlefont\":{\"color\":\"rgba(0, 0, 0, 1.000)\",\"family\":\"sans-serif\",\"size\":15},\"tickcolor\":\"rgb(0, 0, 0)\",\"ticktext\":[\"C1\",\"C2\",\"C3\",\"C4\",\"C5\",\"C6\",\"C7\",\"C8\",\"C9\",\"CA\",\"CB\",\"CC\",\"CD\",\"CE\",\"CF\",\"CG\",\"O1\",\"O2\"],\"zeroline\":false,\"type\":\"-\",\"tickfont\":{\"color\":\"rgba(0, 0, 0, 1.000)\",\"family\":\"sans-serif\",\"size\":11},\"zerolinecolor\":\"rgba(0, 0, 0, 1.000)\",\"anchor\":\"y1\"},\"paper_bgcolor\":\"rgba(255, 255, 255, 1.000)\",\"annotations\":[],\"height\":400,\"margin\":{\"l\":0,\"b\":20,\"r\":0,\"t\":20},\"plot_bgcolor\":\"rgba(255, 255, 255, 1.000)\",\"yaxis\":{\"showticklabels\":true,\"gridwidth\":0.5,\"tickvals\":[0.0,0.02,0.04,0.06,0.08],\"visible\":true,\"ticks\":\"inside\",\"range\":[-0.0026528262181213483,0.0910803668221663],\"domain\":[0.03762029746281716,0.9901574803149606],\"tickmode\":\"array\",\"linecolor\":\"rgba(0, 0, 0, 1.000)\",\"showgrid\":true,\"title\":\"\",\"mirror\":false,\"tickangle\":0,\"showline\":true,\"gridcolor\":\"rgba(0, 0, 0, 0.100)\",\"titlefont\":{\"color\":\"rgba(0, 0, 0, 1.000)\",\"family\":\"sans-serif\",\"size\":15},\"tickcolor\":\"rgb(0, 0, 0)\",\"ticktext\":[\"0.00\",\"0.02\",\"0.04\",\"0.06\",\"0.08\"],\"zeroline\":false,\"type\":\"-\",\"tickfont\":{\"color\":\"rgba(0, 0, 0, 1.000)\",\"family\":\"sans-serif\",\"size\":11},\"zerolinecolor\":\"rgba(0, 0, 0, 1.000)\",\"anchor\":\"x1\"},\"legend\":{\"tracegroupgap\":0,\"bordercolor\":\"rgba(0, 0, 0, 1.000)\",\"bgcolor\":\"rgba(255, 255, 255, 1.000)\",\"font\":{\"color\":\"rgba(0, 0, 0, 1.000)\",\"family\":\"sans-serif\",\"size\":11},\"y\":1.0,\"x\":1.0},\"width\":750});\n",
       "    </script>\n"
      ]
     },
     "execution_count": 72,
     "metadata": {},
     "output_type": "execute_result"
    }
   ],
   "source": [
    "x_lig = repeat(name_lig_v1, outer = 4)\n",
    "g_lig = repeat([\"ALL\" ; \"V1\" ; \"V2\" ; \"V3\"], inner = length(mask_lig))\n",
    "\n",
    "groupedbar(x_lig, hcat(dens_lig_full, dens_lig_v1, dens_lig_v2, dens_lig_v3),\n",
    "    bar_position = :dodge, linecolor = false, size = (750, 400),\n",
    "    group = g_lig)"
   ]
  },
  {
   "cell_type": "code",
   "execution_count": 73,
   "metadata": {},
   "outputs": [
    {
     "data": {
      "application/vnd.plotly.v1+json": {
       "data": [
        {
         "fill": "tozeroy",
         "fillcolor": "rgba(0, 154, 250, 1.000)",
         "legendgroup": "V1",
         "line": {
          "color": "rgba(0, 0, 0, 0)",
          "dash": "solid",
          "width": 1
         },
         "mode": "lines",
         "name": "V1",
         "showlegend": true,
         "type": "scatter",
         "x": [
          0.09999999999999998,
          0.09999999999999998,
          0.5,
          0.5,
          0.09999999999999998,
          0.09999999999999998
         ],
         "xaxis": "x",
         "y": [
          0.06058434791538543,
          0,
          0,
          0.06058434791538543,
          0.06058434791538543,
          0.06058434791538543
         ],
         "yaxis": "y"
        },
        {
         "fill": "tozeroy",
         "fillcolor": "rgba(0, 154, 250, 1.000)",
         "legendgroup": "V1",
         "line": {
          "color": "rgba(0, 0, 0, 0)",
          "dash": "solid",
          "width": 1
         },
         "mode": "lines",
         "name": "V1",
         "showlegend": false,
         "type": "scatter",
         "x": [
          1.1,
          1.1,
          1.5,
          1.5,
          1.1,
          1.1
         ],
         "xaxis": "x",
         "y": [
          0.056109022885423514,
          0,
          0,
          0.056109022885423514,
          0.056109022885423514,
          0.056109022885423514
         ],
         "yaxis": "y"
        },
        {
         "fill": "tozeroy",
         "fillcolor": "rgba(0, 154, 250, 1.000)",
         "legendgroup": "V1",
         "line": {
          "color": "rgba(0, 0, 0, 0)",
          "dash": "solid",
          "width": 1
         },
         "mode": "lines",
         "name": "V1",
         "showlegend": false,
         "type": "scatter",
         "x": [
          2.1,
          2.1,
          2.5000000000000004,
          2.5000000000000004,
          2.1,
          2.1
         ],
         "xaxis": "x",
         "y": [
          0.05643460715748593,
          0,
          0,
          0.05643460715748593,
          0.05643460715748593,
          0.05643460715748593
         ],
         "yaxis": "y"
        },
        {
         "fill": "tozeroy",
         "fillcolor": "rgba(0, 154, 250, 1.000)",
         "legendgroup": "V1",
         "line": {
          "color": "rgba(0, 0, 0, 0)",
          "dash": "solid",
          "width": 1
         },
         "mode": "lines",
         "name": "V1",
         "showlegend": false,
         "type": "scatter",
         "x": [
          3.1,
          3.1,
          3.5000000000000004,
          3.5000000000000004,
          3.1,
          3.1
         ],
         "xaxis": "x",
         "y": [
          0.05225919308781089,
          0,
          0,
          0.05225919308781089,
          0.05225919308781089,
          0.05225919308781089
         ],
         "yaxis": "y"
        },
        {
         "fill": "tozeroy",
         "fillcolor": "rgba(0, 154, 250, 1.000)",
         "legendgroup": "V1",
         "line": {
          "color": "rgba(0, 0, 0, 0)",
          "dash": "solid",
          "width": 1
         },
         "mode": "lines",
         "name": "V1",
         "showlegend": false,
         "type": "scatter",
         "x": [
          4.1,
          4.1,
          4.5,
          4.5,
          4.1,
          4.1
         ],
         "xaxis": "x",
         "y": [
          0.05388828141684006,
          0,
          0,
          0.05388828141684006,
          0.05388828141684006,
          0.05388828141684006
         ],
         "yaxis": "y"
        },
        {
         "fill": "tozeroy",
         "fillcolor": "rgba(0, 154, 250, 1.000)",
         "legendgroup": "V1",
         "line": {
          "color": "rgba(0, 0, 0, 0)",
          "dash": "solid",
          "width": 1
         },
         "mode": "lines",
         "name": "V1",
         "showlegend": false,
         "type": "scatter",
         "x": [
          5.1,
          5.1,
          5.5,
          5.5,
          5.1,
          5.1
         ],
         "xaxis": "x",
         "y": [
          0.05337948305619771,
          0,
          0,
          0.05337948305619771,
          0.05337948305619771,
          0.05337948305619771
         ],
         "yaxis": "y"
        },
        {
         "fill": "tozeroy",
         "fillcolor": "rgba(0, 154, 250, 1.000)",
         "legendgroup": "V1",
         "line": {
          "color": "rgba(0, 0, 0, 0)",
          "dash": "solid",
          "width": 1
         },
         "mode": "lines",
         "name": "V1",
         "showlegend": false,
         "type": "scatter",
         "x": [
          6.1,
          6.1,
          6.5,
          6.5,
          6.1,
          6.1
         ],
         "xaxis": "x",
         "y": [
          0.0502204987390903,
          0,
          0,
          0.0502204987390903,
          0.0502204987390903,
          0.0502204987390903
         ],
         "yaxis": "y"
        },
        {
         "fill": "tozeroy",
         "fillcolor": "rgba(0, 154, 250, 1.000)",
         "legendgroup": "V1",
         "line": {
          "color": "rgba(0, 0, 0, 0)",
          "dash": "solid",
          "width": 1
         },
         "mode": "lines",
         "name": "V1",
         "showlegend": false,
         "type": "scatter",
         "x": [
          7.1,
          7.1,
          7.5,
          7.5,
          7.1,
          7.1
         ],
         "xaxis": "x",
         "y": [
          0.05018432270886115,
          0,
          0,
          0.05018432270886115,
          0.05018432270886115,
          0.05018432270886115
         ],
         "yaxis": "y"
        },
        {
         "fill": "tozeroy",
         "fillcolor": "rgba(0, 154, 250, 1.000)",
         "legendgroup": "V1",
         "line": {
          "color": "rgba(0, 0, 0, 0)",
          "dash": "solid",
          "width": 1
         },
         "mode": "lines",
         "name": "V1",
         "showlegend": false,
         "type": "scatter",
         "x": [
          8.1,
          8.1,
          8.499999999999998,
          8.499999999999998,
          8.1,
          8.1
         ],
         "xaxis": "x",
         "y": [
          0.043742655390636945,
          0,
          0,
          0.043742655390636945,
          0.043742655390636945,
          0.043742655390636945
         ],
         "yaxis": "y"
        },
        {
         "fill": "tozeroy",
         "fillcolor": "rgba(0, 154, 250, 1.000)",
         "legendgroup": "V1",
         "line": {
          "color": "rgba(0, 0, 0, 0)",
          "dash": "solid",
          "width": 1
         },
         "mode": "lines",
         "name": "V1",
         "showlegend": false,
         "type": "scatter",
         "x": [
          9.1,
          9.1,
          9.499999999999998,
          9.499999999999998,
          9.1,
          9.1
         ],
         "xaxis": "x",
         "y": [
          0.039615087038361765,
          0,
          0,
          0.039615087038361765,
          0.039615087038361765,
          0.039615087038361765
         ],
         "yaxis": "y"
        },
        {
         "fill": "tozeroy",
         "fillcolor": "rgba(0, 154, 250, 1.000)",
         "legendgroup": "V1",
         "line": {
          "color": "rgba(0, 0, 0, 0)",
          "dash": "solid",
          "width": 1
         },
         "mode": "lines",
         "name": "V1",
         "showlegend": false,
         "type": "scatter",
         "x": [
          10.1,
          10.1,
          10.499999999999998,
          10.499999999999998,
          10.1,
          10.1
         ],
         "xaxis": "x",
         "y": [
          0.045144184819837535,
          0,
          0,
          0.045144184819837535,
          0.045144184819837535,
          0.045144184819837535
         ],
         "yaxis": "y"
        },
        {
         "fill": "tozeroy",
         "fillcolor": "rgba(0, 154, 250, 1.000)",
         "legendgroup": "V1",
         "line": {
          "color": "rgba(0, 0, 0, 0)",
          "dash": "solid",
          "width": 1
         },
         "mode": "lines",
         "name": "V1",
         "showlegend": false,
         "type": "scatter",
         "x": [
          11.1,
          11.1,
          11.499999999999998,
          11.499999999999998,
          11.1,
          11.1
         ],
         "xaxis": "x",
         "y": [
          0.04981439362555008,
          0,
          0,
          0.04981439362555008,
          0.04981439362555008,
          0.04981439362555008
         ],
         "yaxis": "y"
        },
        {
         "fill": "tozeroy",
         "fillcolor": "rgba(0, 154, 250, 1.000)",
         "legendgroup": "V1",
         "line": {
          "color": "rgba(0, 0, 0, 0)",
          "dash": "solid",
          "width": 1
         },
         "mode": "lines",
         "name": "V1",
         "showlegend": false,
         "type": "scatter",
         "x": [
          12.1,
          12.1,
          12.499999999999998,
          12.499999999999998,
          12.1,
          12.1
         ],
         "xaxis": "x",
         "y": [
          0.049961431683900846,
          0,
          0,
          0.049961431683900846,
          0.049961431683900846,
          0.049961431683900846
         ],
         "yaxis": "y"
        },
        {
         "fill": "tozeroy",
         "fillcolor": "rgba(0, 154, 250, 1.000)",
         "legendgroup": "V1",
         "line": {
          "color": "rgba(0, 0, 0, 0)",
          "dash": "solid",
          "width": 1
         },
         "mode": "lines",
         "name": "V1",
         "showlegend": false,
         "type": "scatter",
         "x": [
          13.1,
          13.1,
          13.499999999999998,
          13.499999999999998,
          13.1,
          13.1
         ],
         "xaxis": "x",
         "y": [
          0.05133845477004298,
          0,
          0,
          0.05133845477004298,
          0.05133845477004298,
          0.05133845477004298
         ],
         "yaxis": "y"
        },
        {
         "fill": "tozeroy",
         "fillcolor": "rgba(0, 154, 250, 1.000)",
         "legendgroup": "V1",
         "line": {
          "color": "rgba(0, 0, 0, 0)",
          "dash": "solid",
          "width": 1
         },
         "mode": "lines",
         "name": "V1",
         "showlegend": false,
         "type": "scatter",
         "x": [
          14.1,
          14.1,
          14.499999999999998,
          14.499999999999998,
          14.1,
          14.1
         ],
         "xaxis": "x",
         "y": [
          0.06326254112106017,
          0,
          0,
          0.06326254112106017,
          0.06326254112106017,
          0.06326254112106017
         ],
         "yaxis": "y"
        },
        {
         "fill": "tozeroy",
         "fillcolor": "rgba(0, 154, 250, 1.000)",
         "legendgroup": "V1",
         "line": {
          "color": "rgba(0, 0, 0, 0)",
          "dash": "solid",
          "width": 1
         },
         "mode": "lines",
         "name": "V1",
         "showlegend": false,
         "type": "scatter",
         "x": [
          15.1,
          15.1,
          15.499999999999998,
          15.499999999999998,
          15.1,
          15.1
         ],
         "xaxis": "x",
         "y": [
          0.08424230471653746,
          0,
          0,
          0.08424230471653746,
          0.08424230471653746,
          0.08424230471653746
         ],
         "yaxis": "y"
        },
        {
         "fill": "tozeroy",
         "fillcolor": "rgba(0, 154, 250, 1.000)",
         "legendgroup": "V1",
         "line": {
          "color": "rgba(0, 0, 0, 0)",
          "dash": "solid",
          "width": 1
         },
         "mode": "lines",
         "name": "V1",
         "showlegend": false,
         "type": "scatter",
         "x": [
          16.1,
          16.1,
          16.5,
          16.5,
          16.1,
          16.1
         ],
         "xaxis": "x",
         "y": [
          0.07081282872050049,
          0,
          0,
          0.07081282872050049,
          0.07081282872050049,
          0.07081282872050049
         ],
         "yaxis": "y"
        },
        {
         "fill": "tozeroy",
         "fillcolor": "rgba(0, 154, 250, 1.000)",
         "legendgroup": "V1",
         "line": {
          "color": "rgba(0, 0, 0, 0)",
          "dash": "solid",
          "width": 1
         },
         "mode": "lines",
         "name": "V1",
         "showlegend": false,
         "type": "scatter",
         "x": [
          17.1,
          17.1,
          17.5,
          17.5,
          17.1,
          17.1
         ],
         "xaxis": "x",
         "y": [
          0.06900636114647675,
          0,
          0,
          0.06900636114647675,
          0.06900636114647675,
          0.06900636114647675
         ],
         "yaxis": "y"
        },
        {
         "fill": "tozeroy",
         "fillcolor": "rgba(227, 111, 71, 1.000)",
         "legendgroup": "V2",
         "line": {
          "color": "rgba(0, 0, 0, 0)",
          "dash": "solid",
          "width": 1
         },
         "mode": "lines",
         "name": "V2",
         "showlegend": true,
         "type": "scatter",
         "x": [
          0.49999999999999994,
          0.49999999999999994,
          0.8999999999999999,
          0.8999999999999999,
          0.49999999999999994,
          0.49999999999999994
         ],
         "xaxis": "x",
         "y": [
          0.07293576467222045,
          0,
          0,
          0.07293576467222045,
          0.07293576467222045,
          0.07293576467222045
         ],
         "yaxis": "y"
        },
        {
         "fill": "tozeroy",
         "fillcolor": "rgba(227, 111, 71, 1.000)",
         "legendgroup": "V2",
         "line": {
          "color": "rgba(0, 0, 0, 0)",
          "dash": "solid",
          "width": 1
         },
         "mode": "lines",
         "name": "V2",
         "showlegend": false,
         "type": "scatter",
         "x": [
          1.5000000000000002,
          1.5000000000000002,
          1.9000000000000001,
          1.9000000000000001,
          1.5000000000000002,
          1.5000000000000002
         ],
         "xaxis": "x",
         "y": [
          0.06344077738282583,
          0,
          0,
          0.06344077738282583,
          0.06344077738282583,
          0.06344077738282583
         ],
         "yaxis": "y"
        },
        {
         "fill": "tozeroy",
         "fillcolor": "rgba(227, 111, 71, 1.000)",
         "legendgroup": "V2",
         "line": {
          "color": "rgba(0, 0, 0, 0)",
          "dash": "solid",
          "width": 1
         },
         "mode": "lines",
         "name": "V2",
         "showlegend": false,
         "type": "scatter",
         "x": [
          2.5,
          2.5,
          2.9000000000000004,
          2.9000000000000004,
          2.5,
          2.5
         ],
         "xaxis": "x",
         "y": [
          0.055592116123210335,
          0,
          0,
          0.055592116123210335,
          0.055592116123210335,
          0.055592116123210335
         ],
         "yaxis": "y"
        },
        {
         "fill": "tozeroy",
         "fillcolor": "rgba(227, 111, 71, 1.000)",
         "legendgroup": "V2",
         "line": {
          "color": "rgba(0, 0, 0, 0)",
          "dash": "solid",
          "width": 1
         },
         "mode": "lines",
         "name": "V2",
         "showlegend": false,
         "type": "scatter",
         "x": [
          3.5,
          3.5,
          3.9000000000000004,
          3.9000000000000004,
          3.5,
          3.5
         ],
         "xaxis": "x",
         "y": [
          0.05091945547986662,
          0,
          0,
          0.05091945547986662,
          0.05091945547986662,
          0.05091945547986662
         ],
         "yaxis": "y"
        },
        {
         "fill": "tozeroy",
         "fillcolor": "rgba(227, 111, 71, 1.000)",
         "legendgroup": "V2",
         "line": {
          "color": "rgba(0, 0, 0, 0)",
          "dash": "solid",
          "width": 1
         },
         "mode": "lines",
         "name": "V2",
         "showlegend": false,
         "type": "scatter",
         "x": [
          4.5,
          4.5,
          4.9,
          4.9,
          4.5,
          4.5
         ],
         "xaxis": "x",
         "y": [
          0.048201256754228615,
          0,
          0,
          0.048201256754228615,
          0.048201256754228615,
          0.048201256754228615
         ],
         "yaxis": "y"
        },
        {
         "fill": "tozeroy",
         "fillcolor": "rgba(227, 111, 71, 1.000)",
         "legendgroup": "V2",
         "line": {
          "color": "rgba(0, 0, 0, 0)",
          "dash": "solid",
          "width": 1
         },
         "mode": "lines",
         "name": "V2",
         "showlegend": false,
         "type": "scatter",
         "x": [
          5.5,
          5.5,
          5.9,
          5.9,
          5.5,
          5.5
         ],
         "xaxis": "x",
         "y": [
          0.04636784822106549,
          0,
          0,
          0.04636784822106549,
          0.04636784822106549,
          0.04636784822106549
         ],
         "yaxis": "y"
        },
        {
         "fill": "tozeroy",
         "fillcolor": "rgba(227, 111, 71, 1.000)",
         "legendgroup": "V2",
         "line": {
          "color": "rgba(0, 0, 0, 0)",
          "dash": "solid",
          "width": 1
         },
         "mode": "lines",
         "name": "V2",
         "showlegend": false,
         "type": "scatter",
         "x": [
          6.5,
          6.5,
          6.9,
          6.9,
          6.5,
          6.5
         ],
         "xaxis": "x",
         "y": [
          0.043048784513970664,
          0,
          0,
          0.043048784513970664,
          0.043048784513970664,
          0.043048784513970664
         ],
         "yaxis": "y"
        },
        {
         "fill": "tozeroy",
         "fillcolor": "rgba(227, 111, 71, 1.000)",
         "legendgroup": "V2",
         "line": {
          "color": "rgba(0, 0, 0, 0)",
          "dash": "solid",
          "width": 1
         },
         "mode": "lines",
         "name": "V2",
         "showlegend": false,
         "type": "scatter",
         "x": [
          7.5,
          7.5,
          7.9,
          7.9,
          7.5,
          7.5
         ],
         "xaxis": "x",
         "y": [
          0.043178641781025436,
          0,
          0,
          0.043178641781025436,
          0.043178641781025436,
          0.043178641781025436
         ],
         "yaxis": "y"
        },
        {
         "fill": "tozeroy",
         "fillcolor": "rgba(227, 111, 71, 1.000)",
         "legendgroup": "V2",
         "line": {
          "color": "rgba(0, 0, 0, 0)",
          "dash": "solid",
          "width": 1
         },
         "mode": "lines",
         "name": "V2",
         "showlegend": false,
         "type": "scatter",
         "x": [
          8.5,
          8.5,
          8.899999999999999,
          8.899999999999999,
          8.5,
          8.5
         ],
         "xaxis": "x",
         "y": [
          0.04083460806215541,
          0,
          0,
          0.04083460806215541,
          0.04083460806215541,
          0.04083460806215541
         ],
         "yaxis": "y"
        },
        {
         "fill": "tozeroy",
         "fillcolor": "rgba(227, 111, 71, 1.000)",
         "legendgroup": "V2",
         "line": {
          "color": "rgba(0, 0, 0, 0)",
          "dash": "solid",
          "width": 1
         },
         "mode": "lines",
         "name": "V2",
         "showlegend": false,
         "type": "scatter",
         "x": [
          9.5,
          9.5,
          9.899999999999999,
          9.899999999999999,
          9.5,
          9.5
         ],
         "xaxis": "x",
         "y": [
          0.04044943820224719,
          0,
          0,
          0.04044943820224719,
          0.04044943820224719,
          0.04044943820224719
         ],
         "yaxis": "y"
        },
        {
         "fill": "tozeroy",
         "fillcolor": "rgba(227, 111, 71, 1.000)",
         "legendgroup": "V2",
         "line": {
          "color": "rgba(0, 0, 0, 0)",
          "dash": "solid",
          "width": 1
         },
         "mode": "lines",
         "name": "V2",
         "showlegend": false,
         "type": "scatter",
         "x": [
          10.5,
          10.5,
          10.899999999999999,
          10.899999999999999,
          10.5,
          10.5
         ],
         "xaxis": "x",
         "y": [
          0.03877670052493149,
          0,
          0,
          0.03877670052493149,
          0.03877670052493149,
          0.03877670052493149
         ],
         "yaxis": "y"
        },
        {
         "fill": "tozeroy",
         "fillcolor": "rgba(227, 111, 71, 1.000)",
         "legendgroup": "V2",
         "line": {
          "color": "rgba(0, 0, 0, 0)",
          "dash": "solid",
          "width": 1
         },
         "mode": "lines",
         "name": "V2",
         "showlegend": false,
         "type": "scatter",
         "x": [
          11.5,
          11.5,
          11.899999999999999,
          11.899999999999999,
          11.5,
          11.5
         ],
         "xaxis": "x",
         "y": [
          0.04246332632691017,
          0,
          0,
          0.04246332632691017,
          0.04246332632691017,
          0.04246332632691017
         ],
         "yaxis": "y"
        },
        {
         "fill": "tozeroy",
         "fillcolor": "rgba(227, 111, 71, 1.000)",
         "legendgroup": "V2",
         "line": {
          "color": "rgba(0, 0, 0, 0)",
          "dash": "solid",
          "width": 1
         },
         "mode": "lines",
         "name": "V2",
         "showlegend": false,
         "type": "scatter",
         "x": [
          12.5,
          12.5,
          12.899999999999999,
          12.899999999999999,
          12.5,
          12.5
         ],
         "xaxis": "x",
         "y": [
          0.04758058303711937,
          0,
          0,
          0.04758058303711937,
          0.04758058303711937,
          0.04758058303711937
         ],
         "yaxis": "y"
        },
        {
         "fill": "tozeroy",
         "fillcolor": "rgba(227, 111, 71, 1.000)",
         "legendgroup": "V2",
         "line": {
          "color": "rgba(0, 0, 0, 0)",
          "dash": "solid",
          "width": 1
         },
         "mode": "lines",
         "name": "V2",
         "showlegend": false,
         "type": "scatter",
         "x": [
          13.5,
          13.5,
          13.899999999999999,
          13.899999999999999,
          13.5,
          13.5
         ],
         "xaxis": "x",
         "y": [
          0.04962308377994696,
          0,
          0,
          0.04962308377994696,
          0.04962308377994696,
          0.04962308377994696
         ],
         "yaxis": "y"
        },
        {
         "fill": "tozeroy",
         "fillcolor": "rgba(227, 111, 71, 1.000)",
         "legendgroup": "V2",
         "line": {
          "color": "rgba(0, 0, 0, 0)",
          "dash": "solid",
          "width": 1
         },
         "mode": "lines",
         "name": "V2",
         "showlegend": false,
         "type": "scatter",
         "x": [
          14.5,
          14.5,
          14.899999999999999,
          14.899999999999999,
          14.5,
          14.5
         ],
         "xaxis": "x",
         "y": [
          0.06739372063079818,
          0,
          0,
          0.06739372063079818,
          0.06739372063079818,
          0.06739372063079818
         ],
         "yaxis": "y"
        },
        {
         "fill": "tozeroy",
         "fillcolor": "rgba(227, 111, 71, 1.000)",
         "legendgroup": "V2",
         "line": {
          "color": "rgba(0, 0, 0, 0)",
          "dash": "solid",
          "width": 1
         },
         "mode": "lines",
         "name": "V2",
         "showlegend": false,
         "type": "scatter",
         "x": [
          15.5,
          15.5,
          15.899999999999999,
          15.899999999999999,
          15.5,
          15.5
         ],
         "xaxis": "x",
         "y": [
          0.08588627584764881,
          0,
          0,
          0.08588627584764881,
          0.08588627584764881,
          0.08588627584764881
         ],
         "yaxis": "y"
        },
        {
         "fill": "tozeroy",
         "fillcolor": "rgba(227, 111, 71, 1.000)",
         "legendgroup": "V2",
         "line": {
          "color": "rgba(0, 0, 0, 0)",
          "dash": "solid",
          "width": 1
         },
         "mode": "lines",
         "name": "V2",
         "showlegend": false,
         "type": "scatter",
         "x": [
          16.5,
          16.5,
          16.9,
          16.9,
          16.5,
          16.5
         ],
         "xaxis": "x",
         "y": [
          0.08064576478226898,
          0,
          0,
          0.08064576478226898,
          0.08064576478226898,
          0.08064576478226898
         ],
         "yaxis": "y"
        },
        {
         "fill": "tozeroy",
         "fillcolor": "rgba(227, 111, 71, 1.000)",
         "legendgroup": "V2",
         "line": {
          "color": "rgba(0, 0, 0, 0)",
          "dash": "solid",
          "width": 1
         },
         "mode": "lines",
         "name": "V2",
         "showlegend": false,
         "type": "scatter",
         "x": [
          17.5,
          17.5,
          17.9,
          17.9,
          17.5,
          17.5
         ],
         "xaxis": "x",
         "y": [
          0.08266185387756,
          0,
          0,
          0.08266185387756,
          0.08266185387756,
          0.08266185387756
         ],
         "yaxis": "y"
        }
       ],
       "layout": {
        "annotations": [],
        "height": 400,
        "legend": {
         "bgcolor": "rgba(255, 255, 255, 1.000)",
         "bordercolor": "rgba(0, 0, 0, 1)",
         "font": {
          "color": "rgba(0, 0, 0, 1)",
          "family": "sans-serif",
          "size": 11
         },
         "tracegroupgap": 0,
         "x": 1,
         "y": 1
        },
        "margin": {
         "b": 20,
         "l": 0,
         "r": 0,
         "t": 20
        },
        "paper_bgcolor": "rgba(255, 255, 255, 1.000)",
        "plot_bgcolor": "rgba(255, 255, 255, 1.000)",
        "showlegend": true,
        "width": 750,
        "xaxis": {
         "anchor": "y",
         "domain": [
          0.0526567512394284,
          0.994750656167979
         ],
         "gridcolor": "rgba(0, 0, 0, 0.1)",
         "gridwidth": 0.5,
         "linecolor": "rgba(0, 0, 0, 1)",
         "mirror": false,
         "range": [
          -0.9873199999999999,
          18.987319999999997
         ],
         "showgrid": true,
         "showline": true,
         "showticklabels": true,
         "tickangle": 0,
         "tickcolor": "rgb(0, 0, 0)",
         "tickfont": {
          "color": "rgba(0, 0, 0, 1)",
          "family": "sans-serif",
          "size": 11
         },
         "tickmode": "array",
         "ticks": "inside",
         "ticktext": [
          "C1",
          "C2",
          "C3",
          "C4",
          "C5",
          "C6",
          "C7",
          "C8",
          "C9",
          "CA",
          "CB",
          "CC",
          "CD",
          "CE",
          "CF",
          "CG",
          "O1",
          "O2"
         ],
         "tickvals": [
          0.5,
          1.5,
          2.5,
          3.5,
          4.5,
          5.5,
          6.5,
          7.5,
          8.5,
          9.5,
          10.5,
          11.5,
          12.5,
          13.5,
          14.5,
          15.5,
          16.5,
          17.5
         ],
         "title": "",
         "titlefont": {
          "color": "rgba(0, 0, 0, 1)",
          "family": "sans-serif",
          "size": 15
         },
         "type": "linear",
         "visible": true,
         "zeroline": false,
         "zerolinecolor": "rgba(0, 0, 0, 1)"
        },
        "yaxis": {
         "anchor": "x",
         "domain": [
          0.03762029746281716,
          0.9901574803149606
         ],
         "gridcolor": "rgba(0, 0, 0, 0.1)",
         "gridwidth": 0.5,
         "linecolor": "rgba(0, 0, 0, 1)",
         "mirror": false,
         "range": [
          -0.0025765882754294643,
          0.08846286412307827
         ],
         "showgrid": true,
         "showline": true,
         "showticklabels": true,
         "tickangle": 0,
         "tickcolor": "rgb(0, 0, 0)",
         "tickfont": {
          "color": "rgba(0, 0, 0, 1)",
          "family": "sans-serif",
          "size": 11
         },
         "tickmode": "array",
         "ticks": "inside",
         "ticktext": [
          "0.00",
          "0.02",
          "0.04",
          "0.06",
          "0.08"
         ],
         "tickvals": [
          0,
          0.02,
          0.04,
          0.06,
          0.08
         ],
         "title": "",
         "titlefont": {
          "color": "rgba(0, 0, 0, 1)",
          "family": "sans-serif",
          "size": 15
         },
         "type": "linear",
         "visible": true,
         "zeroline": false,
         "zerolinecolor": "rgba(0, 0, 0, 1)"
        }
       }
      },
      "image/png": "[encoded data removed]",
      "text/html": [
       "<script src=\"file:///home/pbarletta/.julia/packages/Plots/7o1Vu/src/backends/../../deps/plotly-latest.min.js\"></script>    <div id=\"d60df16c-8307-426e-9bdb-d4495cdba339\" style=\"width:750px;height:400px;\"></div>\n",
       "    <script>\n",
       "    PLOT = document.getElementById('d60df16c-8307-426e-9bdb-d4495cdba339');\n",
       "    Plotly.plot(PLOT, [{\"xaxis\":\"x1\",\"fill\":\"tozeroy\",\"yaxis\":\"y1\",\"x\":[0.09999999999999998,0.09999999999999998,0.5,0.5,0.09999999999999998,0.09999999999999998],\"showlegend\":true,\"mode\":\"lines\",\"fillcolor\":\"rgba(0, 154, 250, 1.000)\",\"name\":\"V1\",\"legendgroup\":\"V1\",\"line\":{\"color\":\"rgba(0, 0, 0, 0.000)\",\"dash\":\"solid\",\"width\":1},\"y\":[0.06058434791538543,0.0,0.0,0.06058434791538543,0.06058434791538543,0.06058434791538543],\"type\":\"scatter\"},{\"xaxis\":\"x1\",\"fill\":\"tozeroy\",\"yaxis\":\"y1\",\"x\":[1.1,1.1,1.5,1.5,1.1,1.1],\"showlegend\":false,\"mode\":\"lines\",\"fillcolor\":\"rgba(0, 154, 250, 1.000)\",\"name\":\"V1\",\"legendgroup\":\"V1\",\"line\":{\"color\":\"rgba(0, 0, 0, 0.000)\",\"dash\":\"solid\",\"width\":1},\"y\":[0.056109022885423514,0.0,0.0,0.056109022885423514,0.056109022885423514,0.056109022885423514],\"type\":\"scatter\"},{\"xaxis\":\"x1\",\"fill\":\"tozeroy\",\"yaxis\":\"y1\",\"x\":[2.1,2.1,2.5000000000000004,2.5000000000000004,2.1,2.1],\"showlegend\":false,\"mode\":\"lines\",\"fillcolor\":\"rgba(0, 154, 250, 1.000)\",\"name\":\"V1\",\"legendgroup\":\"V1\",\"line\":{\"color\":\"rgba(0, 0, 0, 0.000)\",\"dash\":\"solid\",\"width\":1},\"y\":[0.05643460715748593,0.0,0.0,0.05643460715748593,0.05643460715748593,0.05643460715748593],\"type\":\"scatter\"},{\"xaxis\":\"x1\",\"fill\":\"tozeroy\",\"yaxis\":\"y1\",\"x\":[3.1,3.1,3.5000000000000004,3.5000000000000004,3.1,3.1],\"showlegend\":false,\"mode\":\"lines\",\"fillcolor\":\"rgba(0, 154, 250, 1.000)\",\"name\":\"V1\",\"legendgroup\":\"V1\",\"line\":{\"color\":\"rgba(0, 0, 0, 0.000)\",\"dash\":\"solid\",\"width\":1},\"y\":[0.05225919308781089,0.0,0.0,0.05225919308781089,0.05225919308781089,0.05225919308781089],\"type\":\"scatter\"},{\"xaxis\":\"x1\",\"fill\":\"tozeroy\",\"yaxis\":\"y1\",\"x\":[4.1,4.1,4.5,4.5,4.1,4.1],\"showlegend\":false,\"mode\":\"lines\",\"fillcolor\":\"rgba(0, 154, 250, 1.000)\",\"name\":\"V1\",\"legendgroup\":\"V1\",\"line\":{\"color\":\"rgba(0, 0, 0, 0.000)\",\"dash\":\"solid\",\"width\":1},\"y\":[0.05388828141684006,0.0,0.0,0.05388828141684006,0.05388828141684006,0.05388828141684006],\"type\":\"scatter\"},{\"xaxis\":\"x1\",\"fill\":\"tozeroy\",\"yaxis\":\"y1\",\"x\":[5.1,5.1,5.5,5.5,5.1,5.1],\"showlegend\":false,\"mode\":\"lines\",\"fillcolor\":\"rgba(0, 154, 250, 1.000)\",\"name\":\"V1\",\"legendgroup\":\"V1\",\"line\":{\"color\":\"rgba(0, 0, 0, 0.000)\",\"dash\":\"solid\",\"width\":1},\"y\":[0.05337948305619771,0.0,0.0,0.05337948305619771,0.05337948305619771,0.05337948305619771],\"type\":\"scatter\"},{\"xaxis\":\"x1\",\"fill\":\"tozeroy\",\"yaxis\":\"y1\",\"x\":[6.1,6.1,6.5,6.5,6.1,6.1],\"showlegend\":false,\"mode\":\"lines\",\"fillcolor\":\"rgba(0, 154, 250, 1.000)\",\"name\":\"V1\",\"legendgroup\":\"V1\",\"line\":{\"color\":\"rgba(0, 0, 0, 0.000)\",\"dash\":\"solid\",\"width\":1},\"y\":[0.0502204987390903,0.0,0.0,0.0502204987390903,0.0502204987390903,0.0502204987390903],\"type\":\"scatter\"},{\"xaxis\":\"x1\",\"fill\":\"tozeroy\",\"yaxis\":\"y1\",\"x\":[7.1,7.1,7.5,7.5,7.1,7.1],\"showlegend\":false,\"mode\":\"lines\",\"fillcolor\":\"rgba(0, 154, 250, 1.000)\",\"name\":\"V1\",\"legendgroup\":\"V1\",\"line\":{\"color\":\"rgba(0, 0, 0, 0.000)\",\"dash\":\"solid\",\"width\":1},\"y\":[0.05018432270886115,0.0,0.0,0.05018432270886115,0.05018432270886115,0.05018432270886115],\"type\":\"scatter\"},{\"xaxis\":\"x1\",\"fill\":\"tozeroy\",\"yaxis\":\"y1\",\"x\":[8.1,8.1,8.499999999999998,8.499999999999998,8.1,8.1],\"showlegend\":false,\"mode\":\"lines\",\"fillcolor\":\"rgba(0, 154, 250, 1.000)\",\"name\":\"V1\",\"legendgroup\":\"V1\",\"line\":{\"color\":\"rgba(0, 0, 0, 0.000)\",\"dash\":\"solid\",\"width\":1},\"y\":[0.043742655390636945,0.0,0.0,0.043742655390636945,0.043742655390636945,0.043742655390636945],\"type\":\"scatter\"},{\"xaxis\":\"x1\",\"fill\":\"tozeroy\",\"yaxis\":\"y1\",\"x\":[9.1,9.1,9.499999999999998,9.499999999999998,9.1,9.1],\"showlegend\":false,\"mode\":\"lines\",\"fillcolor\":\"rgba(0, 154, 250, 1.000)\",\"name\":\"V1\",\"legendgroup\":\"V1\",\"line\":{\"color\":\"rgba(0, 0, 0, 0.000)\",\"dash\":\"solid\",\"width\":1},\"y\":[0.039615087038361765,0.0,0.0,0.039615087038361765,0.039615087038361765,0.039615087038361765],\"type\":\"scatter\"},{\"xaxis\":\"x1\",\"fill\":\"tozeroy\",\"yaxis\":\"y1\",\"x\":[10.1,10.1,10.499999999999998,10.499999999999998,10.1,10.1],\"showlegend\":false,\"mode\":\"lines\",\"fillcolor\":\"rgba(0, 154, 250, 1.000)\",\"name\":\"V1\",\"legendgroup\":\"V1\",\"line\":{\"color\":\"rgba(0, 0, 0, 0.000)\",\"dash\":\"solid\",\"width\":1},\"y\":[0.045144184819837535,0.0,0.0,0.045144184819837535,0.045144184819837535,0.045144184819837535],\"type\":\"scatter\"},{\"xaxis\":\"x1\",\"fill\":\"tozeroy\",\"yaxis\":\"y1\",\"x\":[11.1,11.1,11.499999999999998,11.499999999999998,11.1,11.1],\"showlegend\":false,\"mode\":\"lines\",\"fillcolor\":\"rgba(0, 154, 250, 1.000)\",\"name\":\"V1\",\"legendgroup\":\"V1\",\"line\":{\"color\":\"rgba(0, 0, 0, 0.000)\",\"dash\":\"solid\",\"width\":1},\"y\":[0.04981439362555008,0.0,0.0,0.04981439362555008,0.04981439362555008,0.04981439362555008],\"type\":\"scatter\"},{\"xaxis\":\"x1\",\"fill\":\"tozeroy\",\"yaxis\":\"y1\",\"x\":[12.1,12.1,12.499999999999998,12.499999999999998,12.1,12.1],\"showlegend\":false,\"mode\":\"lines\",\"fillcolor\":\"rgba(0, 154, 250, 1.000)\",\"name\":\"V1\",\"legendgroup\":\"V1\",\"line\":{\"color\":\"rgba(0, 0, 0, 0.000)\",\"dash\":\"solid\",\"width\":1},\"y\":[0.049961431683900846,0.0,0.0,0.049961431683900846,0.049961431683900846,0.049961431683900846],\"type\":\"scatter\"},{\"xaxis\":\"x1\",\"fill\":\"tozeroy\",\"yaxis\":\"y1\",\"x\":[13.1,13.1,13.499999999999998,13.499999999999998,13.1,13.1],\"showlegend\":false,\"mode\":\"lines\",\"fillcolor\":\"rgba(0, 154, 250, 1.000)\",\"name\":\"V1\",\"legendgroup\":\"V1\",\"line\":{\"color\":\"rgba(0, 0, 0, 0.000)\",\"dash\":\"solid\",\"width\":1},\"y\":[0.05133845477004298,0.0,0.0,0.05133845477004298,0.05133845477004298,0.05133845477004298],\"type\":\"scatter\"},{\"xaxis\":\"x1\",\"fill\":\"tozeroy\",\"yaxis\":\"y1\",\"x\":[14.1,14.1,14.499999999999998,14.499999999999998,14.1,14.1],\"showlegend\":false,\"mode\":\"lines\",\"fillcolor\":\"rgba(0, 154, 250, 1.000)\",\"name\":\"V1\",\"legendgroup\":\"V1\",\"line\":{\"color\":\"rgba(0, 0, 0, 0.000)\",\"dash\":\"solid\",\"width\":1},\"y\":[0.06326254112106017,0.0,0.0,0.06326254112106017,0.06326254112106017,0.06326254112106017],\"type\":\"scatter\"},{\"xaxis\":\"x1\",\"fill\":\"tozeroy\",\"yaxis\":\"y1\",\"x\":[15.1,15.1,15.499999999999998,15.499999999999998,15.1,15.1],\"showlegend\":false,\"mode\":\"lines\",\"fillcolor\":\"rgba(0, 154, 250, 1.000)\",\"name\":\"V1\",\"legendgroup\":\"V1\",\"line\":{\"color\":\"rgba(0, 0, 0, 0.000)\",\"dash\":\"solid\",\"width\":1},\"y\":[0.08424230471653746,0.0,0.0,0.08424230471653746,0.08424230471653746,0.08424230471653746],\"type\":\"scatter\"},{\"xaxis\":\"x1\",\"fill\":\"tozeroy\",\"yaxis\":\"y1\",\"x\":[16.1,16.1,16.5,16.5,16.1,16.1],\"showlegend\":false,\"mode\":\"lines\",\"fillcolor\":\"rgba(0, 154, 250, 1.000)\",\"name\":\"V1\",\"legendgroup\":\"V1\",\"line\":{\"color\":\"rgba(0, 0, 0, 0.000)\",\"dash\":\"solid\",\"width\":1},\"y\":[0.07081282872050049,0.0,0.0,0.07081282872050049,0.07081282872050049,0.07081282872050049],\"type\":\"scatter\"},{\"xaxis\":\"x1\",\"fill\":\"tozeroy\",\"yaxis\":\"y1\",\"x\":[17.1,17.1,17.5,17.5,17.1,17.1],\"showlegend\":false,\"mode\":\"lines\",\"fillcolor\":\"rgba(0, 154, 250, 1.000)\",\"name\":\"V1\",\"legendgroup\":\"V1\",\"line\":{\"color\":\"rgba(0, 0, 0, 0.000)\",\"dash\":\"solid\",\"width\":1},\"y\":[0.06900636114647675,0.0,0.0,0.06900636114647675,0.06900636114647675,0.06900636114647675],\"type\":\"scatter\"},{\"xaxis\":\"x1\",\"fill\":\"tozeroy\",\"yaxis\":\"y1\",\"x\":[0.49999999999999994,0.49999999999999994,0.8999999999999999,0.8999999999999999,0.49999999999999994,0.49999999999999994],\"showlegend\":true,\"mode\":\"lines\",\"fillcolor\":\"rgba(227, 111, 71, 1.000)\",\"name\":\"V2\",\"legendgroup\":\"V2\",\"line\":{\"color\":\"rgba(0, 0, 0, 0.000)\",\"dash\":\"solid\",\"width\":1},\"y\":[0.07293576467222045,0.0,0.0,0.07293576467222045,0.07293576467222045,0.07293576467222045],\"type\":\"scatter\"},{\"xaxis\":\"x1\",\"fill\":\"tozeroy\",\"yaxis\":\"y1\",\"x\":[1.5000000000000002,1.5000000000000002,1.9000000000000001,1.9000000000000001,1.5000000000000002,1.5000000000000002],\"showlegend\":false,\"mode\":\"lines\",\"fillcolor\":\"rgba(227, 111, 71, 1.000)\",\"name\":\"V2\",\"legendgroup\":\"V2\",\"line\":{\"color\":\"rgba(0, 0, 0, 0.000)\",\"dash\":\"solid\",\"width\":1},\"y\":[0.06344077738282583,0.0,0.0,0.06344077738282583,0.06344077738282583,0.06344077738282583],\"type\":\"scatter\"},{\"xaxis\":\"x1\",\"fill\":\"tozeroy\",\"yaxis\":\"y1\",\"x\":[2.5,2.5,2.9000000000000004,2.9000000000000004,2.5,2.5],\"showlegend\":false,\"mode\":\"lines\",\"fillcolor\":\"rgba(227, 111, 71, 1.000)\",\"name\":\"V2\",\"legendgroup\":\"V2\",\"line\":{\"color\":\"rgba(0, 0, 0, 0.000)\",\"dash\":\"solid\",\"width\":1},\"y\":[0.055592116123210335,0.0,0.0,0.055592116123210335,0.055592116123210335,0.055592116123210335],\"type\":\"scatter\"},{\"xaxis\":\"x1\",\"fill\":\"tozeroy\",\"yaxis\":\"y1\",\"x\":[3.5,3.5,3.9000000000000004,3.9000000000000004,3.5,3.5],\"showlegend\":false,\"mode\":\"lines\",\"fillcolor\":\"rgba(227, 111, 71, 1.000)\",\"name\":\"V2\",\"legendgroup\":\"V2\",\"line\":{\"color\":\"rgba(0, 0, 0, 0.000)\",\"dash\":\"solid\",\"width\":1},\"y\":[0.05091945547986662,0.0,0.0,0.05091945547986662,0.05091945547986662,0.05091945547986662],\"type\":\"scatter\"},{\"xaxis\":\"x1\",\"fill\":\"tozeroy\",\"yaxis\":\"y1\",\"x\":[4.5,4.5,4.9,4.9,4.5,4.5],\"showlegend\":false,\"mode\":\"lines\",\"fillcolor\":\"rgba(227, 111, 71, 1.000)\",\"name\":\"V2\",\"legendgroup\":\"V2\",\"line\":{\"color\":\"rgba(0, 0, 0, 0.000)\",\"dash\":\"solid\",\"width\":1},\"y\":[0.048201256754228615,0.0,0.0,0.048201256754228615,0.048201256754228615,0.048201256754228615],\"type\":\"scatter\"},{\"xaxis\":\"x1\",\"fill\":\"tozeroy\",\"yaxis\":\"y1\",\"x\":[5.5,5.5,5.9,5.9,5.5,5.5],\"showlegend\":false,\"mode\":\"lines\",\"fillcolor\":\"rgba(227, 111, 71, 1.000)\",\"name\":\"V2\",\"legendgroup\":\"V2\",\"line\":{\"color\":\"rgba(0, 0, 0, 0.000)\",\"dash\":\"solid\",\"width\":1},\"y\":[0.04636784822106549,0.0,0.0,0.04636784822106549,0.04636784822106549,0.04636784822106549],\"type\":\"scatter\"},{\"xaxis\":\"x1\",\"fill\":\"tozeroy\",\"yaxis\":\"y1\",\"x\":[6.5,6.5,6.9,6.9,6.5,6.5],\"showlegend\":false,\"mode\":\"lines\",\"fillcolor\":\"rgba(227, 111, 71, 1.000)\",\"name\":\"V2\",\"legendgroup\":\"V2\",\"line\":{\"color\":\"rgba(0, 0, 0, 0.000)\",\"dash\":\"solid\",\"width\":1},\"y\":[0.043048784513970664,0.0,0.0,0.043048784513970664,0.043048784513970664,0.043048784513970664],\"type\":\"scatter\"},{\"xaxis\":\"x1\",\"fill\":\"tozeroy\",\"yaxis\":\"y1\",\"x\":[7.5,7.5,7.9,7.9,7.5,7.5],\"showlegend\":false,\"mode\":\"lines\",\"fillcolor\":\"rgba(227, 111, 71, 1.000)\",\"name\":\"V2\",\"legendgroup\":\"V2\",\"line\":{\"color\":\"rgba(0, 0, 0, 0.000)\",\"dash\":\"solid\",\"width\":1},\"y\":[0.043178641781025436,0.0,0.0,0.043178641781025436,0.043178641781025436,0.043178641781025436],\"type\":\"scatter\"},{\"xaxis\":\"x1\",\"fill\":\"tozeroy\",\"yaxis\":\"y1\",\"x\":[8.5,8.5,8.899999999999999,8.899999999999999,8.5,8.5],\"showlegend\":false,\"mode\":\"lines\",\"fillcolor\":\"rgba(227, 111, 71, 1.000)\",\"name\":\"V2\",\"legendgroup\":\"V2\",\"line\":{\"color\":\"rgba(0, 0, 0, 0.000)\",\"dash\":\"solid\",\"width\":1},\"y\":[0.04083460806215541,0.0,0.0,0.04083460806215541,0.04083460806215541,0.04083460806215541],\"type\":\"scatter\"},{\"xaxis\":\"x1\",\"fill\":\"tozeroy\",\"yaxis\":\"y1\",\"x\":[9.5,9.5,9.899999999999999,9.899999999999999,9.5,9.5],\"showlegend\":false,\"mode\":\"lines\",\"fillcolor\":\"rgba(227, 111, 71, 1.000)\",\"name\":\"V2\",\"legendgroup\":\"V2\",\"line\":{\"color\":\"rgba(0, 0, 0, 0.000)\",\"dash\":\"solid\",\"width\":1},\"y\":[0.04044943820224719,0.0,0.0,0.04044943820224719,0.04044943820224719,0.04044943820224719],\"type\":\"scatter\"},{\"xaxis\":\"x1\",\"fill\":\"tozeroy\",\"yaxis\":\"y1\",\"x\":[10.5,10.5,10.899999999999999,10.899999999999999,10.5,10.5],\"showlegend\":false,\"mode\":\"lines\",\"fillcolor\":\"rgba(227, 111, 71, 1.000)\",\"name\":\"V2\",\"legendgroup\":\"V2\",\"line\":{\"color\":\"rgba(0, 0, 0, 0.000)\",\"dash\":\"solid\",\"width\":1},\"y\":[0.03877670052493149,0.0,0.0,0.03877670052493149,0.03877670052493149,0.03877670052493149],\"type\":\"scatter\"},{\"xaxis\":\"x1\",\"fill\":\"tozeroy\",\"yaxis\":\"y1\",\"x\":[11.5,11.5,11.899999999999999,11.899999999999999,11.5,11.5],\"showlegend\":false,\"mode\":\"lines\",\"fillcolor\":\"rgba(227, 111, 71, 1.000)\",\"name\":\"V2\",\"legendgroup\":\"V2\",\"line\":{\"color\":\"rgba(0, 0, 0, 0.000)\",\"dash\":\"solid\",\"width\":1},\"y\":[0.04246332632691017,0.0,0.0,0.04246332632691017,0.04246332632691017,0.04246332632691017],\"type\":\"scatter\"},{\"xaxis\":\"x1\",\"fill\":\"tozeroy\",\"yaxis\":\"y1\",\"x\":[12.5,12.5,12.899999999999999,12.899999999999999,12.5,12.5],\"showlegend\":false,\"mode\":\"lines\",\"fillcolor\":\"rgba(227, 111, 71, 1.000)\",\"name\":\"V2\",\"legendgroup\":\"V2\",\"line\":{\"color\":\"rgba(0, 0, 0, 0.000)\",\"dash\":\"solid\",\"width\":1},\"y\":[0.04758058303711937,0.0,0.0,0.04758058303711937,0.04758058303711937,0.04758058303711937],\"type\":\"scatter\"},{\"xaxis\":\"x1\",\"fill\":\"tozeroy\",\"yaxis\":\"y1\",\"x\":[13.5,13.5,13.899999999999999,13.899999999999999,13.5,13.5],\"showlegend\":false,\"mode\":\"lines\",\"fillcolor\":\"rgba(227, 111, 71, 1.000)\",\"name\":\"V2\",\"legendgroup\":\"V2\",\"line\":{\"color\":\"rgba(0, 0, 0, 0.000)\",\"dash\":\"solid\",\"width\":1},\"y\":[0.04962308377994696,0.0,0.0,0.04962308377994696,0.04962308377994696,0.04962308377994696],\"type\":\"scatter\"},{\"xaxis\":\"x1\",\"fill\":\"tozeroy\",\"yaxis\":\"y1\",\"x\":[14.5,14.5,14.899999999999999,14.899999999999999,14.5,14.5],\"showlegend\":false,\"mode\":\"lines\",\"fillcolor\":\"rgba(227, 111, 71, 1.000)\",\"name\":\"V2\",\"legendgroup\":\"V2\",\"line\":{\"color\":\"rgba(0, 0, 0, 0.000)\",\"dash\":\"solid\",\"width\":1},\"y\":[0.06739372063079818,0.0,0.0,0.06739372063079818,0.06739372063079818,0.06739372063079818],\"type\":\"scatter\"},{\"xaxis\":\"x1\",\"fill\":\"tozeroy\",\"yaxis\":\"y1\",\"x\":[15.5,15.5,15.899999999999999,15.899999999999999,15.5,15.5],\"showlegend\":false,\"mode\":\"lines\",\"fillcolor\":\"rgba(227, 111, 71, 1.000)\",\"name\":\"V2\",\"legendgroup\":\"V2\",\"line\":{\"color\":\"rgba(0, 0, 0, 0.000)\",\"dash\":\"solid\",\"width\":1},\"y\":[0.08588627584764881,0.0,0.0,0.08588627584764881,0.08588627584764881,0.08588627584764881],\"type\":\"scatter\"},{\"xaxis\":\"x1\",\"fill\":\"tozeroy\",\"yaxis\":\"y1\",\"x\":[16.5,16.5,16.9,16.9,16.5,16.5],\"showlegend\":false,\"mode\":\"lines\",\"fillcolor\":\"rgba(227, 111, 71, 1.000)\",\"name\":\"V2\",\"legendgroup\":\"V2\",\"line\":{\"color\":\"rgba(0, 0, 0, 0.000)\",\"dash\":\"solid\",\"width\":1},\"y\":[0.08064576478226898,0.0,0.0,0.08064576478226898,0.08064576478226898,0.08064576478226898],\"type\":\"scatter\"},{\"xaxis\":\"x1\",\"fill\":\"tozeroy\",\"yaxis\":\"y1\",\"x\":[17.5,17.5,17.9,17.9,17.5,17.5],\"showlegend\":false,\"mode\":\"lines\",\"fillcolor\":\"rgba(227, 111, 71, 1.000)\",\"name\":\"V2\",\"legendgroup\":\"V2\",\"line\":{\"color\":\"rgba(0, 0, 0, 0.000)\",\"dash\":\"solid\",\"width\":1},\"y\":[0.08266185387756,0.0,0.0,0.08266185387756,0.08266185387756,0.08266185387756],\"type\":\"scatter\"}], {\"showlegend\":true,\"xaxis\":{\"showticklabels\":true,\"gridwidth\":0.5,\"tickvals\":[0.5,1.5,2.5,3.5,4.5,5.5,6.5,7.5,8.5,9.5,10.5,11.5,12.5,13.5,14.5,15.5,16.5,17.5],\"visible\":true,\"ticks\":\"inside\",\"range\":[-0.9873199999999999,18.987319999999997],\"domain\":[0.0526567512394284,0.994750656167979],\"tickmode\":\"array\",\"linecolor\":\"rgba(0, 0, 0, 1.000)\",\"showgrid\":true,\"title\":\"\",\"mirror\":false,\"tickangle\":0,\"showline\":true,\"gridcolor\":\"rgba(0, 0, 0, 0.100)\",\"titlefont\":{\"color\":\"rgba(0, 0, 0, 1.000)\",\"family\":\"sans-serif\",\"size\":15},\"tickcolor\":\"rgb(0, 0, 0)\",\"ticktext\":[\"C1\",\"C2\",\"C3\",\"C4\",\"C5\",\"C6\",\"C7\",\"C8\",\"C9\",\"CA\",\"CB\",\"CC\",\"CD\",\"CE\",\"CF\",\"CG\",\"O1\",\"O2\"],\"zeroline\":false,\"type\":\"-\",\"tickfont\":{\"color\":\"rgba(0, 0, 0, 1.000)\",\"family\":\"sans-serif\",\"size\":11},\"zerolinecolor\":\"rgba(0, 0, 0, 1.000)\",\"anchor\":\"y1\"},\"paper_bgcolor\":\"rgba(255, 255, 255, 1.000)\",\"annotations\":[],\"height\":400,\"margin\":{\"l\":0,\"b\":20,\"r\":0,\"t\":20},\"plot_bgcolor\":\"rgba(255, 255, 255, 1.000)\",\"yaxis\":{\"showticklabels\":true,\"gridwidth\":0.5,\"tickvals\":[0.0,0.02,0.04,0.06,0.08],\"visible\":true,\"ticks\":\"inside\",\"range\":[-0.0025765882754294643,0.08846286412307827],\"domain\":[0.03762029746281716,0.9901574803149606],\"tickmode\":\"array\",\"linecolor\":\"rgba(0, 0, 0, 1.000)\",\"showgrid\":true,\"title\":\"\",\"mirror\":false,\"tickangle\":0,\"showline\":true,\"gridcolor\":\"rgba(0, 0, 0, 0.100)\",\"titlefont\":{\"color\":\"rgba(0, 0, 0, 1.000)\",\"family\":\"sans-serif\",\"size\":15},\"tickcolor\":\"rgb(0, 0, 0)\",\"ticktext\":[\"0.00\",\"0.02\",\"0.04\",\"0.06\",\"0.08\"],\"zeroline\":false,\"type\":\"-\",\"tickfont\":{\"color\":\"rgba(0, 0, 0, 1.000)\",\"family\":\"sans-serif\",\"size\":11},\"zerolinecolor\":\"rgba(0, 0, 0, 1.000)\",\"anchor\":\"x1\"},\"legend\":{\"tracegroupgap\":0,\"bordercolor\":\"rgba(0, 0, 0, 1.000)\",\"bgcolor\":\"rgba(255, 255, 255, 1.000)\",\"font\":{\"color\":\"rgba(0, 0, 0, 1.000)\",\"family\":\"sans-serif\",\"size\":11},\"y\":1.0,\"x\":1.0},\"width\":750});\n",
       "    </script>\n"
      ]
     },
     "execution_count": 73,
     "metadata": {},
     "output_type": "execute_result"
    }
   ],
   "source": [
    "x_lig = repeat(name_lig_v1, outer = 2)\n",
    "g_lig = repeat([ \"V1\" ; \"V2\" ], inner = length(mask_lig))\n",
    "\n",
    "groupedbar(x_lig, hcat(dens_lig_v1, dens_lig_v2),\n",
    "    group = g_lig, \n",
    "    bar_position = :dodge, linecolor = false, size = (750, 400))"
   ]
  },
  {
   "cell_type": "code",
   "execution_count": 74,
   "metadata": {},
   "outputs": [
    {
     "data": {
      "application/vnd.plotly.v1+json": {
       "data": [
        {
         "fill": "tozeroy",
         "fillcolor": "rgba(0, 154, 250, 1.000)",
         "legendgroup": "V1",
         "line": {
          "color": "rgba(0, 0, 0, 0)",
          "dash": "solid",
          "width": 1
         },
         "mode": "lines",
         "name": "V1",
         "showlegend": true,
         "type": "scatter",
         "x": [
          0.09999999999999998,
          0.09999999999999998,
          0.5,
          0.5,
          0.09999999999999998,
          0.09999999999999998
         ],
         "xaxis": "x",
         "y": [
          0.06058434791538543,
          0,
          0,
          0.06058434791538543,
          0.06058434791538543,
          0.06058434791538543
         ],
         "yaxis": "y"
        },
        {
         "fill": "tozeroy",
         "fillcolor": "rgba(0, 154, 250, 1.000)",
         "legendgroup": "V1",
         "line": {
          "color": "rgba(0, 0, 0, 0)",
          "dash": "solid",
          "width": 1
         },
         "mode": "lines",
         "name": "V1",
         "showlegend": false,
         "type": "scatter",
         "x": [
          1.1,
          1.1,
          1.5,
          1.5,
          1.1,
          1.1
         ],
         "xaxis": "x",
         "y": [
          0.056109022885423514,
          0,
          0,
          0.056109022885423514,
          0.056109022885423514,
          0.056109022885423514
         ],
         "yaxis": "y"
        },
        {
         "fill": "tozeroy",
         "fillcolor": "rgba(0, 154, 250, 1.000)",
         "legendgroup": "V1",
         "line": {
          "color": "rgba(0, 0, 0, 0)",
          "dash": "solid",
          "width": 1
         },
         "mode": "lines",
         "name": "V1",
         "showlegend": false,
         "type": "scatter",
         "x": [
          2.1,
          2.1,
          2.5000000000000004,
          2.5000000000000004,
          2.1,
          2.1
         ],
         "xaxis": "x",
         "y": [
          0.05643460715748593,
          0,
          0,
          0.05643460715748593,
          0.05643460715748593,
          0.05643460715748593
         ],
         "yaxis": "y"
        },
        {
         "fill": "tozeroy",
         "fillcolor": "rgba(0, 154, 250, 1.000)",
         "legendgroup": "V1",
         "line": {
          "color": "rgba(0, 0, 0, 0)",
          "dash": "solid",
          "width": 1
         },
         "mode": "lines",
         "name": "V1",
         "showlegend": false,
         "type": "scatter",
         "x": [
          3.1,
          3.1,
          3.5000000000000004,
          3.5000000000000004,
          3.1,
          3.1
         ],
         "xaxis": "x",
         "y": [
          0.05225919308781089,
          0,
          0,
          0.05225919308781089,
          0.05225919308781089,
          0.05225919308781089
         ],
         "yaxis": "y"
        },
        {
         "fill": "tozeroy",
         "fillcolor": "rgba(0, 154, 250, 1.000)",
         "legendgroup": "V1",
         "line": {
          "color": "rgba(0, 0, 0, 0)",
          "dash": "solid",
          "width": 1
         },
         "mode": "lines",
         "name": "V1",
         "showlegend": false,
         "type": "scatter",
         "x": [
          4.1,
          4.1,
          4.5,
          4.5,
          4.1,
          4.1
         ],
         "xaxis": "x",
         "y": [
          0.05388828141684006,
          0,
          0,
          0.05388828141684006,
          0.05388828141684006,
          0.05388828141684006
         ],
         "yaxis": "y"
        },
        {
         "fill": "tozeroy",
         "fillcolor": "rgba(0, 154, 250, 1.000)",
         "legendgroup": "V1",
         "line": {
          "color": "rgba(0, 0, 0, 0)",
          "dash": "solid",
          "width": 1
         },
         "mode": "lines",
         "name": "V1",
         "showlegend": false,
         "type": "scatter",
         "x": [
          5.1,
          5.1,
          5.5,
          5.5,
          5.1,
          5.1
         ],
         "xaxis": "x",
         "y": [
          0.05337948305619771,
          0,
          0,
          0.05337948305619771,
          0.05337948305619771,
          0.05337948305619771
         ],
         "yaxis": "y"
        },
        {
         "fill": "tozeroy",
         "fillcolor": "rgba(0, 154, 250, 1.000)",
         "legendgroup": "V1",
         "line": {
          "color": "rgba(0, 0, 0, 0)",
          "dash": "solid",
          "width": 1
         },
         "mode": "lines",
         "name": "V1",
         "showlegend": false,
         "type": "scatter",
         "x": [
          6.1,
          6.1,
          6.5,
          6.5,
          6.1,
          6.1
         ],
         "xaxis": "x",
         "y": [
          0.0502204987390903,
          0,
          0,
          0.0502204987390903,
          0.0502204987390903,
          0.0502204987390903
         ],
         "yaxis": "y"
        },
        {
         "fill": "tozeroy",
         "fillcolor": "rgba(0, 154, 250, 1.000)",
         "legendgroup": "V1",
         "line": {
          "color": "rgba(0, 0, 0, 0)",
          "dash": "solid",
          "width": 1
         },
         "mode": "lines",
         "name": "V1",
         "showlegend": false,
         "type": "scatter",
         "x": [
          7.1,
          7.1,
          7.5,
          7.5,
          7.1,
          7.1
         ],
         "xaxis": "x",
         "y": [
          0.05018432270886115,
          0,
          0,
          0.05018432270886115,
          0.05018432270886115,
          0.05018432270886115
         ],
         "yaxis": "y"
        },
        {
         "fill": "tozeroy",
         "fillcolor": "rgba(0, 154, 250, 1.000)",
         "legendgroup": "V1",
         "line": {
          "color": "rgba(0, 0, 0, 0)",
          "dash": "solid",
          "width": 1
         },
         "mode": "lines",
         "name": "V1",
         "showlegend": false,
         "type": "scatter",
         "x": [
          8.1,
          8.1,
          8.499999999999998,
          8.499999999999998,
          8.1,
          8.1
         ],
         "xaxis": "x",
         "y": [
          0.043742655390636945,
          0,
          0,
          0.043742655390636945,
          0.043742655390636945,
          0.043742655390636945
         ],
         "yaxis": "y"
        },
        {
         "fill": "tozeroy",
         "fillcolor": "rgba(0, 154, 250, 1.000)",
         "legendgroup": "V1",
         "line": {
          "color": "rgba(0, 0, 0, 0)",
          "dash": "solid",
          "width": 1
         },
         "mode": "lines",
         "name": "V1",
         "showlegend": false,
         "type": "scatter",
         "x": [
          9.1,
          9.1,
          9.499999999999998,
          9.499999999999998,
          9.1,
          9.1
         ],
         "xaxis": "x",
         "y": [
          0.039615087038361765,
          0,
          0,
          0.039615087038361765,
          0.039615087038361765,
          0.039615087038361765
         ],
         "yaxis": "y"
        },
        {
         "fill": "tozeroy",
         "fillcolor": "rgba(0, 154, 250, 1.000)",
         "legendgroup": "V1",
         "line": {
          "color": "rgba(0, 0, 0, 0)",
          "dash": "solid",
          "width": 1
         },
         "mode": "lines",
         "name": "V1",
         "showlegend": false,
         "type": "scatter",
         "x": [
          10.1,
          10.1,
          10.499999999999998,
          10.499999999999998,
          10.1,
          10.1
         ],
         "xaxis": "x",
         "y": [
          0.045144184819837535,
          0,
          0,
          0.045144184819837535,
          0.045144184819837535,
          0.045144184819837535
         ],
         "yaxis": "y"
        },
        {
         "fill": "tozeroy",
         "fillcolor": "rgba(0, 154, 250, 1.000)",
         "legendgroup": "V1",
         "line": {
          "color": "rgba(0, 0, 0, 0)",
          "dash": "solid",
          "width": 1
         },
         "mode": "lines",
         "name": "V1",
         "showlegend": false,
         "type": "scatter",
         "x": [
          11.1,
          11.1,
          11.499999999999998,
          11.499999999999998,
          11.1,
          11.1
         ],
         "xaxis": "x",
         "y": [
          0.04981439362555008,
          0,
          0,
          0.04981439362555008,
          0.04981439362555008,
          0.04981439362555008
         ],
         "yaxis": "y"
        },
        {
         "fill": "tozeroy",
         "fillcolor": "rgba(0, 154, 250, 1.000)",
         "legendgroup": "V1",
         "line": {
          "color": "rgba(0, 0, 0, 0)",
          "dash": "solid",
          "width": 1
         },
         "mode": "lines",
         "name": "V1",
         "showlegend": false,
         "type": "scatter",
         "x": [
          12.1,
          12.1,
          12.499999999999998,
          12.499999999999998,
          12.1,
          12.1
         ],
         "xaxis": "x",
         "y": [
          0.049961431683900846,
          0,
          0,
          0.049961431683900846,
          0.049961431683900846,
          0.049961431683900846
         ],
         "yaxis": "y"
        },
        {
         "fill": "tozeroy",
         "fillcolor": "rgba(0, 154, 250, 1.000)",
         "legendgroup": "V1",
         "line": {
          "color": "rgba(0, 0, 0, 0)",
          "dash": "solid",
          "width": 1
         },
         "mode": "lines",
         "name": "V1",
         "showlegend": false,
         "type": "scatter",
         "x": [
          13.1,
          13.1,
          13.499999999999998,
          13.499999999999998,
          13.1,
          13.1
         ],
         "xaxis": "x",
         "y": [
          0.05133845477004298,
          0,
          0,
          0.05133845477004298,
          0.05133845477004298,
          0.05133845477004298
         ],
         "yaxis": "y"
        },
        {
         "fill": "tozeroy",
         "fillcolor": "rgba(0, 154, 250, 1.000)",
         "legendgroup": "V1",
         "line": {
          "color": "rgba(0, 0, 0, 0)",
          "dash": "solid",
          "width": 1
         },
         "mode": "lines",
         "name": "V1",
         "showlegend": false,
         "type": "scatter",
         "x": [
          14.1,
          14.1,
          14.499999999999998,
          14.499999999999998,
          14.1,
          14.1
         ],
         "xaxis": "x",
         "y": [
          0.06326254112106017,
          0,
          0,
          0.06326254112106017,
          0.06326254112106017,
          0.06326254112106017
         ],
         "yaxis": "y"
        },
        {
         "fill": "tozeroy",
         "fillcolor": "rgba(0, 154, 250, 1.000)",
         "legendgroup": "V1",
         "line": {
          "color": "rgba(0, 0, 0, 0)",
          "dash": "solid",
          "width": 1
         },
         "mode": "lines",
         "name": "V1",
         "showlegend": false,
         "type": "scatter",
         "x": [
          15.1,
          15.1,
          15.499999999999998,
          15.499999999999998,
          15.1,
          15.1
         ],
         "xaxis": "x",
         "y": [
          0.08424230471653746,
          0,
          0,
          0.08424230471653746,
          0.08424230471653746,
          0.08424230471653746
         ],
         "yaxis": "y"
        },
        {
         "fill": "tozeroy",
         "fillcolor": "rgba(0, 154, 250, 1.000)",
         "legendgroup": "V1",
         "line": {
          "color": "rgba(0, 0, 0, 0)",
          "dash": "solid",
          "width": 1
         },
         "mode": "lines",
         "name": "V1",
         "showlegend": false,
         "type": "scatter",
         "x": [
          16.1,
          16.1,
          16.5,
          16.5,
          16.1,
          16.1
         ],
         "xaxis": "x",
         "y": [
          0.07081282872050049,
          0,
          0,
          0.07081282872050049,
          0.07081282872050049,
          0.07081282872050049
         ],
         "yaxis": "y"
        },
        {
         "fill": "tozeroy",
         "fillcolor": "rgba(0, 154, 250, 1.000)",
         "legendgroup": "V1",
         "line": {
          "color": "rgba(0, 0, 0, 0)",
          "dash": "solid",
          "width": 1
         },
         "mode": "lines",
         "name": "V1",
         "showlegend": false,
         "type": "scatter",
         "x": [
          17.1,
          17.1,
          17.5,
          17.5,
          17.1,
          17.1
         ],
         "xaxis": "x",
         "y": [
          0.06900636114647675,
          0,
          0,
          0.06900636114647675,
          0.06900636114647675,
          0.06900636114647675
         ],
         "yaxis": "y"
        },
        {
         "fill": "tozeroy",
         "fillcolor": "rgba(227, 111, 71, 1.000)",
         "legendgroup": "V3",
         "line": {
          "color": "rgba(0, 0, 0, 0)",
          "dash": "solid",
          "width": 1
         },
         "mode": "lines",
         "name": "V3",
         "showlegend": true,
         "type": "scatter",
         "x": [
          0.49999999999999994,
          0.49999999999999994,
          0.8999999999999999,
          0.8999999999999999,
          0.49999999999999994,
          0.49999999999999994
         ],
         "xaxis": "x",
         "y": [
          0.07514279251258271,
          0,
          0,
          0.07514279251258271,
          0.07514279251258271,
          0.07514279251258271
         ],
         "yaxis": "y"
        },
        {
         "fill": "tozeroy",
         "fillcolor": "rgba(227, 111, 71, 1.000)",
         "legendgroup": "V3",
         "line": {
          "color": "rgba(0, 0, 0, 0)",
          "dash": "solid",
          "width": 1
         },
         "mode": "lines",
         "name": "V3",
         "showlegend": false,
         "type": "scatter",
         "x": [
          1.5000000000000002,
          1.5000000000000002,
          1.9000000000000001,
          1.9000000000000001,
          1.5000000000000002,
          1.5000000000000002
         ],
         "xaxis": "x",
         "y": [
          0.0617865423611055,
          0,
          0,
          0.0617865423611055,
          0.0617865423611055,
          0.0617865423611055
         ],
         "yaxis": "y"
        },
        {
         "fill": "tozeroy",
         "fillcolor": "rgba(227, 111, 71, 1.000)",
         "legendgroup": "V3",
         "line": {
          "color": "rgba(0, 0, 0, 0)",
          "dash": "solid",
          "width": 1
         },
         "mode": "lines",
         "name": "V3",
         "showlegend": false,
         "type": "scatter",
         "x": [
          2.5,
          2.5,
          2.9000000000000004,
          2.9000000000000004,
          2.5,
          2.5
         ],
         "xaxis": "x",
         "y": [
          0.05229801019542579,
          0,
          0,
          0.05229801019542579,
          0.05229801019542579,
          0.05229801019542579
         ],
         "yaxis": "y"
        },
        {
         "fill": "tozeroy",
         "fillcolor": "rgba(227, 111, 71, 1.000)",
         "legendgroup": "V3",
         "line": {
          "color": "rgba(0, 0, 0, 0)",
          "dash": "solid",
          "width": 1
         },
         "mode": "lines",
         "name": "V3",
         "showlegend": false,
         "type": "scatter",
         "x": [
          3.5,
          3.5,
          3.9000000000000004,
          3.9000000000000004,
          3.5,
          3.5
         ],
         "xaxis": "x",
         "y": [
          0.04208238744233768,
          0,
          0,
          0.04208238744233768,
          0.04208238744233768,
          0.04208238744233768
         ],
         "yaxis": "y"
        },
        {
         "fill": "tozeroy",
         "fillcolor": "rgba(227, 111, 71, 1.000)",
         "legendgroup": "V3",
         "line": {
          "color": "rgba(0, 0, 0, 0)",
          "dash": "solid",
          "width": 1
         },
         "mode": "lines",
         "name": "V3",
         "showlegend": false,
         "type": "scatter",
         "x": [
          4.5,
          4.5,
          4.9,
          4.9,
          4.5,
          4.5
         ],
         "xaxis": "x",
         "y": [
          0.03779457267270421,
          0,
          0,
          0.03779457267270421,
          0.03779457267270421,
          0.03779457267270421
         ],
         "yaxis": "y"
        },
        {
         "fill": "tozeroy",
         "fillcolor": "rgba(227, 111, 71, 1.000)",
         "legendgroup": "V3",
         "line": {
          "color": "rgba(0, 0, 0, 0)",
          "dash": "solid",
          "width": 1
         },
         "mode": "lines",
         "name": "V3",
         "showlegend": false,
         "type": "scatter",
         "x": [
          5.5,
          5.5,
          5.9,
          5.9,
          5.5,
          5.5
         ],
         "xaxis": "x",
         "y": [
          0.03637472633118168,
          0,
          0,
          0.03637472633118168,
          0.03637472633118168,
          0.03637472633118168
         ],
         "yaxis": "y"
        },
        {
         "fill": "tozeroy",
         "fillcolor": "rgba(227, 111, 71, 1.000)",
         "legendgroup": "V3",
         "line": {
          "color": "rgba(0, 0, 0, 0)",
          "dash": "solid",
          "width": 1
         },
         "mode": "lines",
         "name": "V3",
         "showlegend": false,
         "type": "scatter",
         "x": [
          6.5,
          6.5,
          6.9,
          6.9,
          6.5,
          6.5
         ],
         "xaxis": "x",
         "y": [
          0.041674408834958515,
          0,
          0,
          0.041674408834958515,
          0.041674408834958515,
          0.041674408834958515
         ],
         "yaxis": "y"
        },
        {
         "fill": "tozeroy",
         "fillcolor": "rgba(227, 111, 71, 1.000)",
         "legendgroup": "V3",
         "line": {
          "color": "rgba(0, 0, 0, 0)",
          "dash": "solid",
          "width": 1
         },
         "mode": "lines",
         "name": "V3",
         "showlegend": false,
         "type": "scatter",
         "x": [
          7.5,
          7.5,
          7.9,
          7.9,
          7.5,
          7.5
         ],
         "xaxis": "x",
         "y": [
          0.04487562711563164,
          0,
          0,
          0.04487562711563164,
          0.04487562711563164,
          0.04487562711563164
         ],
         "yaxis": "y"
        },
        {
         "fill": "tozeroy",
         "fillcolor": "rgba(227, 111, 71, 1.000)",
         "legendgroup": "V3",
         "line": {
          "color": "rgba(0, 0, 0, 0)",
          "dash": "solid",
          "width": 1
         },
         "mode": "lines",
         "name": "V3",
         "showlegend": false,
         "type": "scatter",
         "x": [
          8.5,
          8.5,
          8.899999999999999,
          8.899999999999999,
          8.5,
          8.5
         ],
         "xaxis": "x",
         "y": [
          0.04697611103481148,
          0,
          0,
          0.04697611103481148,
          0.04697611103481148,
          0.04697611103481148
         ],
         "yaxis": "y"
        },
        {
         "fill": "tozeroy",
         "fillcolor": "rgba(227, 111, 71, 1.000)",
         "legendgroup": "V3",
         "line": {
          "color": "rgba(0, 0, 0, 0)",
          "dash": "solid",
          "width": 1
         },
         "mode": "lines",
         "name": "V3",
         "showlegend": false,
         "type": "scatter",
         "x": [
          9.5,
          9.5,
          9.899999999999999,
          9.899999999999999,
          9.5,
          9.5
         ],
         "xaxis": "x",
         "y": [
          0.044510062125851305,
          0,
          0,
          0.044510062125851305,
          0.044510062125851305,
          0.044510062125851305
         ],
         "yaxis": "y"
        },
        {
         "fill": "tozeroy",
         "fillcolor": "rgba(227, 111, 71, 1.000)",
         "legendgroup": "V3",
         "line": {
          "color": "rgba(0, 0, 0, 0)",
          "dash": "solid",
          "width": 1
         },
         "mode": "lines",
         "name": "V3",
         "showlegend": false,
         "type": "scatter",
         "x": [
          10.5,
          10.5,
          10.899999999999999,
          10.899999999999999,
          10.5,
          10.5
         ],
         "xaxis": "x",
         "y": [
          0.04680241717226392,
          0,
          0,
          0.04680241717226392,
          0.04680241717226392,
          0.04680241717226392
         ],
         "yaxis": "y"
        },
        {
         "fill": "tozeroy",
         "fillcolor": "rgba(227, 111, 71, 1.000)",
         "legendgroup": "V3",
         "line": {
          "color": "rgba(0, 0, 0, 0)",
          "dash": "solid",
          "width": 1
         },
         "mode": "lines",
         "name": "V3",
         "showlegend": false,
         "type": "scatter",
         "x": [
          11.5,
          11.5,
          11.899999999999999,
          11.899999999999999,
          11.5,
          11.5
         ],
         "xaxis": "x",
         "y": [
          0.04864639968977468,
          0,
          0,
          0.04864639968977468,
          0.04864639968977468,
          0.04864639968977468
         ],
         "yaxis": "y"
        },
        {
         "fill": "tozeroy",
         "fillcolor": "rgba(227, 111, 71, 1.000)",
         "legendgroup": "V3",
         "line": {
          "color": "rgba(0, 0, 0, 0)",
          "dash": "solid",
          "width": 1
         },
         "mode": "lines",
         "name": "V3",
         "showlegend": false,
         "type": "scatter",
         "x": [
          12.5,
          12.5,
          12.899999999999999,
          12.899999999999999,
          12.5,
          12.5
         ],
         "xaxis": "x",
         "y": [
          0.051393186353317556,
          0,
          0,
          0.051393186353317556,
          0.051393186353317556,
          0.051393186353317556
         ],
         "yaxis": "y"
        },
        {
         "fill": "tozeroy",
         "fillcolor": "rgba(227, 111, 71, 1.000)",
         "legendgroup": "V3",
         "line": {
          "color": "rgba(0, 0, 0, 0)",
          "dash": "solid",
          "width": 1
         },
         "mode": "lines",
         "name": "V3",
         "showlegend": false,
         "type": "scatter",
         "x": [
          13.5,
          13.5,
          13.899999999999999,
          13.899999999999999,
          13.5,
          13.5
         ],
         "xaxis": "x",
         "y": [
          0.05614149182830967,
          0,
          0,
          0.05614149182830967,
          0.05614149182830967,
          0.05614149182830967
         ],
         "yaxis": "y"
        },
        {
         "fill": "tozeroy",
         "fillcolor": "rgba(227, 111, 71, 1.000)",
         "legendgroup": "V3",
         "line": {
          "color": "rgba(0, 0, 0, 0)",
          "dash": "solid",
          "width": 1
         },
         "mode": "lines",
         "name": "V3",
         "showlegend": false,
         "type": "scatter",
         "x": [
          14.5,
          14.5,
          14.899999999999999,
          14.899999999999999,
          14.5,
          14.5
         ],
         "xaxis": "x",
         "y": [
          0.06648233573811813,
          0,
          0,
          0.06648233573811813,
          0.06648233573811813,
          0.06648233573811813
         ],
         "yaxis": "y"
        },
        {
         "fill": "tozeroy",
         "fillcolor": "rgba(227, 111, 71, 1.000)",
         "legendgroup": "V3",
         "line": {
          "color": "rgba(0, 0, 0, 0)",
          "dash": "solid",
          "width": 1
         },
         "mode": "lines",
         "name": "V3",
         "showlegend": false,
         "type": "scatter",
         "x": [
          15.5,
          15.5,
          15.899999999999999,
          15.899999999999999,
          15.5,
          15.5
         ],
         "xaxis": "x",
         "y": [
          0.08340132976789652,
          0,
          0,
          0.08340132976789652,
          0.08340132976789652,
          0.08340132976789652
         ],
         "yaxis": "y"
        },
        {
         "fill": "tozeroy",
         "fillcolor": "rgba(227, 111, 71, 1.000)",
         "legendgroup": "V3",
         "line": {
          "color": "rgba(0, 0, 0, 0)",
          "dash": "solid",
          "width": 1
         },
         "mode": "lines",
         "name": "V3",
         "showlegend": false,
         "type": "scatter",
         "x": [
          16.5,
          16.5,
          16.9,
          16.9,
          16.5,
          16.5
         ],
         "xaxis": "x",
         "y": [
          0.0800001615756861,
          0,
          0,
          0.0800001615756861,
          0.0800001615756861,
          0.0800001615756861
         ],
         "yaxis": "y"
        },
        {
         "fill": "tozeroy",
         "fillcolor": "rgba(227, 111, 71, 1.000)",
         "legendgroup": "V3",
         "line": {
          "color": "rgba(0, 0, 0, 0)",
          "dash": "solid",
          "width": 1
         },
         "mode": "lines",
         "name": "V3",
         "showlegend": false,
         "type": "scatter",
         "x": [
          17.5,
          17.5,
          17.9,
          17.9,
          17.5,
          17.5
         ],
         "xaxis": "x",
         "y": [
          0.08361743724804291,
          0,
          0,
          0.08361743724804291,
          0.08361743724804291,
          0.08361743724804291
         ],
         "yaxis": "y"
        }
       ],
       "layout": {
        "annotations": [],
        "height": 400,
        "legend": {
         "bgcolor": "rgba(255, 255, 255, 1.000)",
         "bordercolor": "rgba(0, 0, 0, 1)",
         "font": {
          "color": "rgba(0, 0, 0, 1)",
          "family": "sans-serif",
          "size": 11
         },
         "tracegroupgap": 0,
         "x": 1,
         "y": 1
        },
        "margin": {
         "b": 20,
         "l": 0,
         "r": 0,
         "t": 20
        },
        "paper_bgcolor": "rgba(255, 255, 255, 1.000)",
        "plot_bgcolor": "rgba(255, 255, 255, 1.000)",
        "showlegend": true,
        "width": 750,
        "xaxis": {
         "anchor": "y",
         "domain": [
          0.0526567512394284,
          0.994750656167979
         ],
         "gridcolor": "rgba(0, 0, 0, 0.1)",
         "gridwidth": 0.5,
         "linecolor": "rgba(0, 0, 0, 1)",
         "mirror": false,
         "range": [
          -0.9873199999999999,
          18.987319999999997
         ],
         "showgrid": true,
         "showline": true,
         "showticklabels": true,
         "tickangle": 0,
         "tickcolor": "rgb(0, 0, 0)",
         "tickfont": {
          "color": "rgba(0, 0, 0, 1)",
          "family": "sans-serif",
          "size": 11
         },
         "tickmode": "array",
         "ticks": "inside",
         "ticktext": [
          "C1",
          "C2",
          "C3",
          "C4",
          "C5",
          "C6",
          "C7",
          "C8",
          "C9",
          "CA",
          "CB",
          "CC",
          "CD",
          "CE",
          "CF",
          "CG",
          "O1",
          "O2"
         ],
         "tickvals": [
          0.5,
          1.5,
          2.5,
          3.5,
          4.5,
          5.5,
          6.5,
          7.5,
          8.5,
          9.5,
          10.5,
          11.5,
          12.5,
          13.5,
          14.5,
          15.5,
          16.5,
          17.5
         ],
         "title": "",
         "titlefont": {
          "color": "rgba(0, 0, 0, 1)",
          "family": "sans-serif",
          "size": 15
         },
         "type": "linear",
         "visible": true,
         "zeroline": false,
         "zerolinecolor": "rgba(0, 0, 0, 1)"
        },
        "yaxis": {
         "anchor": "x",
         "domain": [
          0.03762029746281716,
          0.9901574803149606
         ],
         "gridcolor": "rgba(0, 0, 0, 0.1)",
         "gridwidth": 0.5,
         "linecolor": "rgba(0, 0, 0, 1)",
         "mirror": false,
         "range": [
          -0.002527269141496124,
          0.08676957385803358
         ],
         "showgrid": true,
         "showline": true,
         "showticklabels": true,
         "tickangle": 0,
         "tickcolor": "rgb(0, 0, 0)",
         "tickfont": {
          "color": "rgba(0, 0, 0, 1)",
          "family": "sans-serif",
          "size": 11
         },
         "tickmode": "array",
         "ticks": "inside",
         "ticktext": [
          "0.00",
          "0.02",
          "0.04",
          "0.06",
          "0.08"
         ],
         "tickvals": [
          0,
          0.02,
          0.04,
          0.06,
          0.08
         ],
         "title": "",
         "titlefont": {
          "color": "rgba(0, 0, 0, 1)",
          "family": "sans-serif",
          "size": 15
         },
         "type": "linear",
         "visible": true,
         "zeroline": false,
         "zerolinecolor": "rgba(0, 0, 0, 1)"
        }
       }
      },
      "image/png": "[encoded data removed]",
      "text/html": [
       "<script src=\"file:///home/pbarletta/.julia/packages/Plots/7o1Vu/src/backends/../../deps/plotly-latest.min.js\"></script>    <div id=\"2580cc82-a3f4-4a7e-ae83-d07a4b7c0079\" style=\"width:750px;height:400px;\"></div>\n",
       "    <script>\n",
       "    PLOT = document.getElementById('2580cc82-a3f4-4a7e-ae83-d07a4b7c0079');\n",
       "    Plotly.plot(PLOT, [{\"xaxis\":\"x1\",\"fill\":\"tozeroy\",\"yaxis\":\"y1\",\"x\":[0.09999999999999998,0.09999999999999998,0.5,0.5,0.09999999999999998,0.09999999999999998],\"showlegend\":true,\"mode\":\"lines\",\"fillcolor\":\"rgba(0, 154, 250, 1.000)\",\"name\":\"V1\",\"legendgroup\":\"V1\",\"line\":{\"color\":\"rgba(0, 0, 0, 0.000)\",\"dash\":\"solid\",\"width\":1},\"y\":[0.06058434791538543,0.0,0.0,0.06058434791538543,0.06058434791538543,0.06058434791538543],\"type\":\"scatter\"},{\"xaxis\":\"x1\",\"fill\":\"tozeroy\",\"yaxis\":\"y1\",\"x\":[1.1,1.1,1.5,1.5,1.1,1.1],\"showlegend\":false,\"mode\":\"lines\",\"fillcolor\":\"rgba(0, 154, 250, 1.000)\",\"name\":\"V1\",\"legendgroup\":\"V1\",\"line\":{\"color\":\"rgba(0, 0, 0, 0.000)\",\"dash\":\"solid\",\"width\":1},\"y\":[0.056109022885423514,0.0,0.0,0.056109022885423514,0.056109022885423514,0.056109022885423514],\"type\":\"scatter\"},{\"xaxis\":\"x1\",\"fill\":\"tozeroy\",\"yaxis\":\"y1\",\"x\":[2.1,2.1,2.5000000000000004,2.5000000000000004,2.1,2.1],\"showlegend\":false,\"mode\":\"lines\",\"fillcolor\":\"rgba(0, 154, 250, 1.000)\",\"name\":\"V1\",\"legendgroup\":\"V1\",\"line\":{\"color\":\"rgba(0, 0, 0, 0.000)\",\"dash\":\"solid\",\"width\":1},\"y\":[0.05643460715748593,0.0,0.0,0.05643460715748593,0.05643460715748593,0.05643460715748593],\"type\":\"scatter\"},{\"xaxis\":\"x1\",\"fill\":\"tozeroy\",\"yaxis\":\"y1\",\"x\":[3.1,3.1,3.5000000000000004,3.5000000000000004,3.1,3.1],\"showlegend\":false,\"mode\":\"lines\",\"fillcolor\":\"rgba(0, 154, 250, 1.000)\",\"name\":\"V1\",\"legendgroup\":\"V1\",\"line\":{\"color\":\"rgba(0, 0, 0, 0.000)\",\"dash\":\"solid\",\"width\":1},\"y\":[0.05225919308781089,0.0,0.0,0.05225919308781089,0.05225919308781089,0.05225919308781089],\"type\":\"scatter\"},{\"xaxis\":\"x1\",\"fill\":\"tozeroy\",\"yaxis\":\"y1\",\"x\":[4.1,4.1,4.5,4.5,4.1,4.1],\"showlegend\":false,\"mode\":\"lines\",\"fillcolor\":\"rgba(0, 154, 250, 1.000)\",\"name\":\"V1\",\"legendgroup\":\"V1\",\"line\":{\"color\":\"rgba(0, 0, 0, 0.000)\",\"dash\":\"solid\",\"width\":1},\"y\":[0.05388828141684006,0.0,0.0,0.05388828141684006,0.05388828141684006,0.05388828141684006],\"type\":\"scatter\"},{\"xaxis\":\"x1\",\"fill\":\"tozeroy\",\"yaxis\":\"y1\",\"x\":[5.1,5.1,5.5,5.5,5.1,5.1],\"showlegend\":false,\"mode\":\"lines\",\"fillcolor\":\"rgba(0, 154, 250, 1.000)\",\"name\":\"V1\",\"legendgroup\":\"V1\",\"line\":{\"color\":\"rgba(0, 0, 0, 0.000)\",\"dash\":\"solid\",\"width\":1},\"y\":[0.05337948305619771,0.0,0.0,0.05337948305619771,0.05337948305619771,0.05337948305619771],\"type\":\"scatter\"},{\"xaxis\":\"x1\",\"fill\":\"tozeroy\",\"yaxis\":\"y1\",\"x\":[6.1,6.1,6.5,6.5,6.1,6.1],\"showlegend\":false,\"mode\":\"lines\",\"fillcolor\":\"rgba(0, 154, 250, 1.000)\",\"name\":\"V1\",\"legendgroup\":\"V1\",\"line\":{\"color\":\"rgba(0, 0, 0, 0.000)\",\"dash\":\"solid\",\"width\":1},\"y\":[0.0502204987390903,0.0,0.0,0.0502204987390903,0.0502204987390903,0.0502204987390903],\"type\":\"scatter\"},{\"xaxis\":\"x1\",\"fill\":\"tozeroy\",\"yaxis\":\"y1\",\"x\":[7.1,7.1,7.5,7.5,7.1,7.1],\"showlegend\":false,\"mode\":\"lines\",\"fillcolor\":\"rgba(0, 154, 250, 1.000)\",\"name\":\"V1\",\"legendgroup\":\"V1\",\"line\":{\"color\":\"rgba(0, 0, 0, 0.000)\",\"dash\":\"solid\",\"width\":1},\"y\":[0.05018432270886115,0.0,0.0,0.05018432270886115,0.05018432270886115,0.05018432270886115],\"type\":\"scatter\"},{\"xaxis\":\"x1\",\"fill\":\"tozeroy\",\"yaxis\":\"y1\",\"x\":[8.1,8.1,8.499999999999998,8.499999999999998,8.1,8.1],\"showlegend\":false,\"mode\":\"lines\",\"fillcolor\":\"rgba(0, 154, 250, 1.000)\",\"name\":\"V1\",\"legendgroup\":\"V1\",\"line\":{\"color\":\"rgba(0, 0, 0, 0.000)\",\"dash\":\"solid\",\"width\":1},\"y\":[0.043742655390636945,0.0,0.0,0.043742655390636945,0.043742655390636945,0.043742655390636945],\"type\":\"scatter\"},{\"xaxis\":\"x1\",\"fill\":\"tozeroy\",\"yaxis\":\"y1\",\"x\":[9.1,9.1,9.499999999999998,9.499999999999998,9.1,9.1],\"showlegend\":false,\"mode\":\"lines\",\"fillcolor\":\"rgba(0, 154, 250, 1.000)\",\"name\":\"V1\",\"legendgroup\":\"V1\",\"line\":{\"color\":\"rgba(0, 0, 0, 0.000)\",\"dash\":\"solid\",\"width\":1},\"y\":[0.039615087038361765,0.0,0.0,0.039615087038361765,0.039615087038361765,0.039615087038361765],\"type\":\"scatter\"},{\"xaxis\":\"x1\",\"fill\":\"tozeroy\",\"yaxis\":\"y1\",\"x\":[10.1,10.1,10.499999999999998,10.499999999999998,10.1,10.1],\"showlegend\":false,\"mode\":\"lines\",\"fillcolor\":\"rgba(0, 154, 250, 1.000)\",\"name\":\"V1\",\"legendgroup\":\"V1\",\"line\":{\"color\":\"rgba(0, 0, 0, 0.000)\",\"dash\":\"solid\",\"width\":1},\"y\":[0.045144184819837535,0.0,0.0,0.045144184819837535,0.045144184819837535,0.045144184819837535],\"type\":\"scatter\"},{\"xaxis\":\"x1\",\"fill\":\"tozeroy\",\"yaxis\":\"y1\",\"x\":[11.1,11.1,11.499999999999998,11.499999999999998,11.1,11.1],\"showlegend\":false,\"mode\":\"lines\",\"fillcolor\":\"rgba(0, 154, 250, 1.000)\",\"name\":\"V1\",\"legendgroup\":\"V1\",\"line\":{\"color\":\"rgba(0, 0, 0, 0.000)\",\"dash\":\"solid\",\"width\":1},\"y\":[0.04981439362555008,0.0,0.0,0.04981439362555008,0.04981439362555008,0.04981439362555008],\"type\":\"scatter\"},{\"xaxis\":\"x1\",\"fill\":\"tozeroy\",\"yaxis\":\"y1\",\"x\":[12.1,12.1,12.499999999999998,12.499999999999998,12.1,12.1],\"showlegend\":false,\"mode\":\"lines\",\"fillcolor\":\"rgba(0, 154, 250, 1.000)\",\"name\":\"V1\",\"legendgroup\":\"V1\",\"line\":{\"color\":\"rgba(0, 0, 0, 0.000)\",\"dash\":\"solid\",\"width\":1},\"y\":[0.049961431683900846,0.0,0.0,0.049961431683900846,0.049961431683900846,0.049961431683900846],\"type\":\"scatter\"},{\"xaxis\":\"x1\",\"fill\":\"tozeroy\",\"yaxis\":\"y1\",\"x\":[13.1,13.1,13.499999999999998,13.499999999999998,13.1,13.1],\"showlegend\":false,\"mode\":\"lines\",\"fillcolor\":\"rgba(0, 154, 250, 1.000)\",\"name\":\"V1\",\"legendgroup\":\"V1\",\"line\":{\"color\":\"rgba(0, 0, 0, 0.000)\",\"dash\":\"solid\",\"width\":1},\"y\":[0.05133845477004298,0.0,0.0,0.05133845477004298,0.05133845477004298,0.05133845477004298],\"type\":\"scatter\"},{\"xaxis\":\"x1\",\"fill\":\"tozeroy\",\"yaxis\":\"y1\",\"x\":[14.1,14.1,14.499999999999998,14.499999999999998,14.1,14.1],\"showlegend\":false,\"mode\":\"lines\",\"fillcolor\":\"rgba(0, 154, 250, 1.000)\",\"name\":\"V1\",\"legendgroup\":\"V1\",\"line\":{\"color\":\"rgba(0, 0, 0, 0.000)\",\"dash\":\"solid\",\"width\":1},\"y\":[0.06326254112106017,0.0,0.0,0.06326254112106017,0.06326254112106017,0.06326254112106017],\"type\":\"scatter\"},{\"xaxis\":\"x1\",\"fill\":\"tozeroy\",\"yaxis\":\"y1\",\"x\":[15.1,15.1,15.499999999999998,15.499999999999998,15.1,15.1],\"showlegend\":false,\"mode\":\"lines\",\"fillcolor\":\"rgba(0, 154, 250, 1.000)\",\"name\":\"V1\",\"legendgroup\":\"V1\",\"line\":{\"color\":\"rgba(0, 0, 0, 0.000)\",\"dash\":\"solid\",\"width\":1},\"y\":[0.08424230471653746,0.0,0.0,0.08424230471653746,0.08424230471653746,0.08424230471653746],\"type\":\"scatter\"},{\"xaxis\":\"x1\",\"fill\":\"tozeroy\",\"yaxis\":\"y1\",\"x\":[16.1,16.1,16.5,16.5,16.1,16.1],\"showlegend\":false,\"mode\":\"lines\",\"fillcolor\":\"rgba(0, 154, 250, 1.000)\",\"name\":\"V1\",\"legendgroup\":\"V1\",\"line\":{\"color\":\"rgba(0, 0, 0, 0.000)\",\"dash\":\"solid\",\"width\":1},\"y\":[0.07081282872050049,0.0,0.0,0.07081282872050049,0.07081282872050049,0.07081282872050049],\"type\":\"scatter\"},{\"xaxis\":\"x1\",\"fill\":\"tozeroy\",\"yaxis\":\"y1\",\"x\":[17.1,17.1,17.5,17.5,17.1,17.1],\"showlegend\":false,\"mode\":\"lines\",\"fillcolor\":\"rgba(0, 154, 250, 1.000)\",\"name\":\"V1\",\"legendgroup\":\"V1\",\"line\":{\"color\":\"rgba(0, 0, 0, 0.000)\",\"dash\":\"solid\",\"width\":1},\"y\":[0.06900636114647675,0.0,0.0,0.06900636114647675,0.06900636114647675,0.06900636114647675],\"type\":\"scatter\"},{\"xaxis\":\"x1\",\"fill\":\"tozeroy\",\"yaxis\":\"y1\",\"x\":[0.49999999999999994,0.49999999999999994,0.8999999999999999,0.8999999999999999,0.49999999999999994,0.49999999999999994],\"showlegend\":true,\"mode\":\"lines\",\"fillcolor\":\"rgba(227, 111, 71, 1.000)\",\"name\":\"V3\",\"legendgroup\":\"V3\",\"line\":{\"color\":\"rgba(0, 0, 0, 0.000)\",\"dash\":\"solid\",\"width\":1},\"y\":[0.07514279251258271,0.0,0.0,0.07514279251258271,0.07514279251258271,0.07514279251258271],\"type\":\"scatter\"},{\"xaxis\":\"x1\",\"fill\":\"tozeroy\",\"yaxis\":\"y1\",\"x\":[1.5000000000000002,1.5000000000000002,1.9000000000000001,1.9000000000000001,1.5000000000000002,1.5000000000000002],\"showlegend\":false,\"mode\":\"lines\",\"fillcolor\":\"rgba(227, 111, 71, 1.000)\",\"name\":\"V3\",\"legendgroup\":\"V3\",\"line\":{\"color\":\"rgba(0, 0, 0, 0.000)\",\"dash\":\"solid\",\"width\":1},\"y\":[0.0617865423611055,0.0,0.0,0.0617865423611055,0.0617865423611055,0.0617865423611055],\"type\":\"scatter\"},{\"xaxis\":\"x1\",\"fill\":\"tozeroy\",\"yaxis\":\"y1\",\"x\":[2.5,2.5,2.9000000000000004,2.9000000000000004,2.5,2.5],\"showlegend\":false,\"mode\":\"lines\",\"fillcolor\":\"rgba(227, 111, 71, 1.000)\",\"name\":\"V3\",\"legendgroup\":\"V3\",\"line\":{\"color\":\"rgba(0, 0, 0, 0.000)\",\"dash\":\"solid\",\"width\":1},\"y\":[0.05229801019542579,0.0,0.0,0.05229801019542579,0.05229801019542579,0.05229801019542579],\"type\":\"scatter\"},{\"xaxis\":\"x1\",\"fill\":\"tozeroy\",\"yaxis\":\"y1\",\"x\":[3.5,3.5,3.9000000000000004,3.9000000000000004,3.5,3.5],\"showlegend\":false,\"mode\":\"lines\",\"fillcolor\":\"rgba(227, 111, 71, 1.000)\",\"name\":\"V3\",\"legendgroup\":\"V3\",\"line\":{\"color\":\"rgba(0, 0, 0, 0.000)\",\"dash\":\"solid\",\"width\":1},\"y\":[0.04208238744233768,0.0,0.0,0.04208238744233768,0.04208238744233768,0.04208238744233768],\"type\":\"scatter\"},{\"xaxis\":\"x1\",\"fill\":\"tozeroy\",\"yaxis\":\"y1\",\"x\":[4.5,4.5,4.9,4.9,4.5,4.5],\"showlegend\":false,\"mode\":\"lines\",\"fillcolor\":\"rgba(227, 111, 71, 1.000)\",\"name\":\"V3\",\"legendgroup\":\"V3\",\"line\":{\"color\":\"rgba(0, 0, 0, 0.000)\",\"dash\":\"solid\",\"width\":1},\"y\":[0.03779457267270421,0.0,0.0,0.03779457267270421,0.03779457267270421,0.03779457267270421],\"type\":\"scatter\"},{\"xaxis\":\"x1\",\"fill\":\"tozeroy\",\"yaxis\":\"y1\",\"x\":[5.5,5.5,5.9,5.9,5.5,5.5],\"showlegend\":false,\"mode\":\"lines\",\"fillcolor\":\"rgba(227, 111, 71, 1.000)\",\"name\":\"V3\",\"legendgroup\":\"V3\",\"line\":{\"color\":\"rgba(0, 0, 0, 0.000)\",\"dash\":\"solid\",\"width\":1},\"y\":[0.03637472633118168,0.0,0.0,0.03637472633118168,0.03637472633118168,0.03637472633118168],\"type\":\"scatter\"},{\"xaxis\":\"x1\",\"fill\":\"tozeroy\",\"yaxis\":\"y1\",\"x\":[6.5,6.5,6.9,6.9,6.5,6.5],\"showlegend\":false,\"mode\":\"lines\",\"fillcolor\":\"rgba(227, 111, 71, 1.000)\",\"name\":\"V3\",\"legendgroup\":\"V3\",\"line\":{\"color\":\"rgba(0, 0, 0, 0.000)\",\"dash\":\"solid\",\"width\":1},\"y\":[0.041674408834958515,0.0,0.0,0.041674408834958515,0.041674408834958515,0.041674408834958515],\"type\":\"scatter\"},{\"xaxis\":\"x1\",\"fill\":\"tozeroy\",\"yaxis\":\"y1\",\"x\":[7.5,7.5,7.9,7.9,7.5,7.5],\"showlegend\":false,\"mode\":\"lines\",\"fillcolor\":\"rgba(227, 111, 71, 1.000)\",\"name\":\"V3\",\"legendgroup\":\"V3\",\"line\":{\"color\":\"rgba(0, 0, 0, 0.000)\",\"dash\":\"solid\",\"width\":1},\"y\":[0.04487562711563164,0.0,0.0,0.04487562711563164,0.04487562711563164,0.04487562711563164],\"type\":\"scatter\"},{\"xaxis\":\"x1\",\"fill\":\"tozeroy\",\"yaxis\":\"y1\",\"x\":[8.5,8.5,8.899999999999999,8.899999999999999,8.5,8.5],\"showlegend\":false,\"mode\":\"lines\",\"fillcolor\":\"rgba(227, 111, 71, 1.000)\",\"name\":\"V3\",\"legendgroup\":\"V3\",\"line\":{\"color\":\"rgba(0, 0, 0, 0.000)\",\"dash\":\"solid\",\"width\":1},\"y\":[0.04697611103481148,0.0,0.0,0.04697611103481148,0.04697611103481148,0.04697611103481148],\"type\":\"scatter\"},{\"xaxis\":\"x1\",\"fill\":\"tozeroy\",\"yaxis\":\"y1\",\"x\":[9.5,9.5,9.899999999999999,9.899999999999999,9.5,9.5],\"showlegend\":false,\"mode\":\"lines\",\"fillcolor\":\"rgba(227, 111, 71, 1.000)\",\"name\":\"V3\",\"legendgroup\":\"V3\",\"line\":{\"color\":\"rgba(0, 0, 0, 0.000)\",\"dash\":\"solid\",\"width\":1},\"y\":[0.044510062125851305,0.0,0.0,0.044510062125851305,0.044510062125851305,0.044510062125851305],\"type\":\"scatter\"},{\"xaxis\":\"x1\",\"fill\":\"tozeroy\",\"yaxis\":\"y1\",\"x\":[10.5,10.5,10.899999999999999,10.899999999999999,10.5,10.5],\"showlegend\":false,\"mode\":\"lines\",\"fillcolor\":\"rgba(227, 111, 71, 1.000)\",\"name\":\"V3\",\"legendgroup\":\"V3\",\"line\":{\"color\":\"rgba(0, 0, 0, 0.000)\",\"dash\":\"solid\",\"width\":1},\"y\":[0.04680241717226392,0.0,0.0,0.04680241717226392,0.04680241717226392,0.04680241717226392],\"type\":\"scatter\"},{\"xaxis\":\"x1\",\"fill\":\"tozeroy\",\"yaxis\":\"y1\",\"x\":[11.5,11.5,11.899999999999999,11.899999999999999,11.5,11.5],\"showlegend\":false,\"mode\":\"lines\",\"fillcolor\":\"rgba(227, 111, 71, 1.000)\",\"name\":\"V3\",\"legendgroup\":\"V3\",\"line\":{\"color\":\"rgba(0, 0, 0, 0.000)\",\"dash\":\"solid\",\"width\":1},\"y\":[0.04864639968977468,0.0,0.0,0.04864639968977468,0.04864639968977468,0.04864639968977468],\"type\":\"scatter\"},{\"xaxis\":\"x1\",\"fill\":\"tozeroy\",\"yaxis\":\"y1\",\"x\":[12.5,12.5,12.899999999999999,12.899999999999999,12.5,12.5],\"showlegend\":false,\"mode\":\"lines\",\"fillcolor\":\"rgba(227, 111, 71, 1.000)\",\"name\":\"V3\",\"legendgroup\":\"V3\",\"line\":{\"color\":\"rgba(0, 0, 0, 0.000)\",\"dash\":\"solid\",\"width\":1},\"y\":[0.051393186353317556,0.0,0.0,0.051393186353317556,0.051393186353317556,0.051393186353317556],\"type\":\"scatter\"},{\"xaxis\":\"x1\",\"fill\":\"tozeroy\",\"yaxis\":\"y1\",\"x\":[13.5,13.5,13.899999999999999,13.899999999999999,13.5,13.5],\"showlegend\":false,\"mode\":\"lines\",\"fillcolor\":\"rgba(227, 111, 71, 1.000)\",\"name\":\"V3\",\"legendgroup\":\"V3\",\"line\":{\"color\":\"rgba(0, 0, 0, 0.000)\",\"dash\":\"solid\",\"width\":1},\"y\":[0.05614149182830967,0.0,0.0,0.05614149182830967,0.05614149182830967,0.05614149182830967],\"type\":\"scatter\"},{\"xaxis\":\"x1\",\"fill\":\"tozeroy\",\"yaxis\":\"y1\",\"x\":[14.5,14.5,14.899999999999999,14.899999999999999,14.5,14.5],\"showlegend\":false,\"mode\":\"lines\",\"fillcolor\":\"rgba(227, 111, 71, 1.000)\",\"name\":\"V3\",\"legendgroup\":\"V3\",\"line\":{\"color\":\"rgba(0, 0, 0, 0.000)\",\"dash\":\"solid\",\"width\":1},\"y\":[0.06648233573811813,0.0,0.0,0.06648233573811813,0.06648233573811813,0.06648233573811813],\"type\":\"scatter\"},{\"xaxis\":\"x1\",\"fill\":\"tozeroy\",\"yaxis\":\"y1\",\"x\":[15.5,15.5,15.899999999999999,15.899999999999999,15.5,15.5],\"showlegend\":false,\"mode\":\"lines\",\"fillcolor\":\"rgba(227, 111, 71, 1.000)\",\"name\":\"V3\",\"legendgroup\":\"V3\",\"line\":{\"color\":\"rgba(0, 0, 0, 0.000)\",\"dash\":\"solid\",\"width\":1},\"y\":[0.08340132976789652,0.0,0.0,0.08340132976789652,0.08340132976789652,0.08340132976789652],\"type\":\"scatter\"},{\"xaxis\":\"x1\",\"fill\":\"tozeroy\",\"yaxis\":\"y1\",\"x\":[16.5,16.5,16.9,16.9,16.5,16.5],\"showlegend\":false,\"mode\":\"lines\",\"fillcolor\":\"rgba(227, 111, 71, 1.000)\",\"name\":\"V3\",\"legendgroup\":\"V3\",\"line\":{\"color\":\"rgba(0, 0, 0, 0.000)\",\"dash\":\"solid\",\"width\":1},\"y\":[0.0800001615756861,0.0,0.0,0.0800001615756861,0.0800001615756861,0.0800001615756861],\"type\":\"scatter\"},{\"xaxis\":\"x1\",\"fill\":\"tozeroy\",\"yaxis\":\"y1\",\"x\":[17.5,17.5,17.9,17.9,17.5,17.5],\"showlegend\":false,\"mode\":\"lines\",\"fillcolor\":\"rgba(227, 111, 71, 1.000)\",\"name\":\"V3\",\"legendgroup\":\"V3\",\"line\":{\"color\":\"rgba(0, 0, 0, 0.000)\",\"dash\":\"solid\",\"width\":1},\"y\":[0.08361743724804291,0.0,0.0,0.08361743724804291,0.08361743724804291,0.08361743724804291],\"type\":\"scatter\"}], {\"showlegend\":true,\"xaxis\":{\"showticklabels\":true,\"gridwidth\":0.5,\"tickvals\":[0.5,1.5,2.5,3.5,4.5,5.5,6.5,7.5,8.5,9.5,10.5,11.5,12.5,13.5,14.5,15.5,16.5,17.5],\"visible\":true,\"ticks\":\"inside\",\"range\":[-0.9873199999999999,18.987319999999997],\"domain\":[0.0526567512394284,0.994750656167979],\"tickmode\":\"array\",\"linecolor\":\"rgba(0, 0, 0, 1.000)\",\"showgrid\":true,\"title\":\"\",\"mirror\":false,\"tickangle\":0,\"showline\":true,\"gridcolor\":\"rgba(0, 0, 0, 0.100)\",\"titlefont\":{\"color\":\"rgba(0, 0, 0, 1.000)\",\"family\":\"sans-serif\",\"size\":15},\"tickcolor\":\"rgb(0, 0, 0)\",\"ticktext\":[\"C1\",\"C2\",\"C3\",\"C4\",\"C5\",\"C6\",\"C7\",\"C8\",\"C9\",\"CA\",\"CB\",\"CC\",\"CD\",\"CE\",\"CF\",\"CG\",\"O1\",\"O2\"],\"zeroline\":false,\"type\":\"-\",\"tickfont\":{\"color\":\"rgba(0, 0, 0, 1.000)\",\"family\":\"sans-serif\",\"size\":11},\"zerolinecolor\":\"rgba(0, 0, 0, 1.000)\",\"anchor\":\"y1\"},\"paper_bgcolor\":\"rgba(255, 255, 255, 1.000)\",\"annotations\":[],\"height\":400,\"margin\":{\"l\":0,\"b\":20,\"r\":0,\"t\":20},\"plot_bgcolor\":\"rgba(255, 255, 255, 1.000)\",\"yaxis\":{\"showticklabels\":true,\"gridwidth\":0.5,\"tickvals\":[0.0,0.02,0.04,0.06,0.08],\"visible\":true,\"ticks\":\"inside\",\"range\":[-0.002527269141496124,0.08676957385803358],\"domain\":[0.03762029746281716,0.9901574803149606],\"tickmode\":\"array\",\"linecolor\":\"rgba(0, 0, 0, 1.000)\",\"showgrid\":true,\"title\":\"\",\"mirror\":false,\"tickangle\":0,\"showline\":true,\"gridcolor\":\"rgba(0, 0, 0, 0.100)\",\"titlefont\":{\"color\":\"rgba(0, 0, 0, 1.000)\",\"family\":\"sans-serif\",\"size\":15},\"tickcolor\":\"rgb(0, 0, 0)\",\"ticktext\":[\"0.00\",\"0.02\",\"0.04\",\"0.06\",\"0.08\"],\"zeroline\":false,\"type\":\"-\",\"tickfont\":{\"color\":\"rgba(0, 0, 0, 1.000)\",\"family\":\"sans-serif\",\"size\":11},\"zerolinecolor\":\"rgba(0, 0, 0, 1.000)\",\"anchor\":\"x1\"},\"legend\":{\"tracegroupgap\":0,\"bordercolor\":\"rgba(0, 0, 0, 1.000)\",\"bgcolor\":\"rgba(255, 255, 255, 1.000)\",\"font\":{\"color\":\"rgba(0, 0, 0, 1.000)\",\"family\":\"sans-serif\",\"size\":11},\"y\":1.0,\"x\":1.0},\"width\":750});\n",
       "    </script>\n"
      ]
     },
     "execution_count": 74,
     "metadata": {},
     "output_type": "execute_result"
    }
   ],
   "source": [
    "x_lig = repeat(name_lig_v1, outer = 2)\n",
    "g_lig = repeat([ \"V1\" ; \"V3\" ], inner = length(mask_lig))\n",
    "\n",
    "groupedbar(x_lig, hcat(dens_lig_v1, dens_lig_v3),\n",
    "    group = g_lig,\n",
    "    bar_position = :dodge, linecolor = false, size = (750, 400))"
   ]
  },
  {
   "cell_type": "code",
   "execution_count": 76,
   "metadata": {},
   "outputs": [
    {
     "data": {
      "application/vnd.plotly.v1+json": {
       "data": [
        {
         "fill": "tozeroy",
         "fillcolor": "rgba(0, 154, 250, 1.000)",
         "legendgroup": "V2",
         "line": {
          "color": "rgba(0, 0, 0, 0)",
          "dash": "solid",
          "width": 1
         },
         "mode": "lines",
         "name": "V2",
         "showlegend": true,
         "type": "scatter",
         "x": [
          0.09999999999999998,
          0.09999999999999998,
          0.5,
          0.5,
          0.09999999999999998,
          0.09999999999999998
         ],
         "xaxis": "x",
         "y": [
          0.07293576467222045,
          0,
          0,
          0.07293576467222045,
          0.07293576467222045,
          0.07293576467222045
         ],
         "yaxis": "y"
        },
        {
         "fill": "tozeroy",
         "fillcolor": "rgba(0, 154, 250, 1.000)",
         "legendgroup": "V2",
         "line": {
          "color": "rgba(0, 0, 0, 0)",
          "dash": "solid",
          "width": 1
         },
         "mode": "lines",
         "name": "V2",
         "showlegend": false,
         "type": "scatter",
         "x": [
          1.1,
          1.1,
          1.5,
          1.5,
          1.1,
          1.1
         ],
         "xaxis": "x",
         "y": [
          0.06344077738282583,
          0,
          0,
          0.06344077738282583,
          0.06344077738282583,
          0.06344077738282583
         ],
         "yaxis": "y"
        },
        {
         "fill": "tozeroy",
         "fillcolor": "rgba(0, 154, 250, 1.000)",
         "legendgroup": "V2",
         "line": {
          "color": "rgba(0, 0, 0, 0)",
          "dash": "solid",
          "width": 1
         },
         "mode": "lines",
         "name": "V2",
         "showlegend": false,
         "type": "scatter",
         "x": [
          2.1,
          2.1,
          2.5000000000000004,
          2.5000000000000004,
          2.1,
          2.1
         ],
         "xaxis": "x",
         "y": [
          0.055592116123210335,
          0,
          0,
          0.055592116123210335,
          0.055592116123210335,
          0.055592116123210335
         ],
         "yaxis": "y"
        },
        {
         "fill": "tozeroy",
         "fillcolor": "rgba(0, 154, 250, 1.000)",
         "legendgroup": "V2",
         "line": {
          "color": "rgba(0, 0, 0, 0)",
          "dash": "solid",
          "width": 1
         },
         "mode": "lines",
         "name": "V2",
         "showlegend": false,
         "type": "scatter",
         "x": [
          3.1,
          3.1,
          3.5000000000000004,
          3.5000000000000004,
          3.1,
          3.1
         ],
         "xaxis": "x",
         "y": [
          0.05091945547986662,
          0,
          0,
          0.05091945547986662,
          0.05091945547986662,
          0.05091945547986662
         ],
         "yaxis": "y"
        },
        {
         "fill": "tozeroy",
         "fillcolor": "rgba(0, 154, 250, 1.000)",
         "legendgroup": "V2",
         "line": {
          "color": "rgba(0, 0, 0, 0)",
          "dash": "solid",
          "width": 1
         },
         "mode": "lines",
         "name": "V2",
         "showlegend": false,
         "type": "scatter",
         "x": [
          4.1,
          4.1,
          4.5,
          4.5,
          4.1,
          4.1
         ],
         "xaxis": "x",
         "y": [
          0.048201256754228615,
          0,
          0,
          0.048201256754228615,
          0.048201256754228615,
          0.048201256754228615
         ],
         "yaxis": "y"
        },
        {
         "fill": "tozeroy",
         "fillcolor": "rgba(0, 154, 250, 1.000)",
         "legendgroup": "V2",
         "line": {
          "color": "rgba(0, 0, 0, 0)",
          "dash": "solid",
          "width": 1
         },
         "mode": "lines",
         "name": "V2",
         "showlegend": false,
         "type": "scatter",
         "x": [
          5.1,
          5.1,
          5.5,
          5.5,
          5.1,
          5.1
         ],
         "xaxis": "x",
         "y": [
          0.04636784822106549,
          0,
          0,
          0.04636784822106549,
          0.04636784822106549,
          0.04636784822106549
         ],
         "yaxis": "y"
        },
        {
         "fill": "tozeroy",
         "fillcolor": "rgba(0, 154, 250, 1.000)",
         "legendgroup": "V2",
         "line": {
          "color": "rgba(0, 0, 0, 0)",
          "dash": "solid",
          "width": 1
         },
         "mode": "lines",
         "name": "V2",
         "showlegend": false,
         "type": "scatter",
         "x": [
          6.1,
          6.1,
          6.5,
          6.5,
          6.1,
          6.1
         ],
         "xaxis": "x",
         "y": [
          0.043048784513970664,
          0,
          0,
          0.043048784513970664,
          0.043048784513970664,
          0.043048784513970664
         ],
         "yaxis": "y"
        },
        {
         "fill": "tozeroy",
         "fillcolor": "rgba(0, 154, 250, 1.000)",
         "legendgroup": "V2",
         "line": {
          "color": "rgba(0, 0, 0, 0)",
          "dash": "solid",
          "width": 1
         },
         "mode": "lines",
         "name": "V2",
         "showlegend": false,
         "type": "scatter",
         "x": [
          7.1,
          7.1,
          7.5,
          7.5,
          7.1,
          7.1
         ],
         "xaxis": "x",
         "y": [
          0.043178641781025436,
          0,
          0,
          0.043178641781025436,
          0.043178641781025436,
          0.043178641781025436
         ],
         "yaxis": "y"
        },
        {
         "fill": "tozeroy",
         "fillcolor": "rgba(0, 154, 250, 1.000)",
         "legendgroup": "V2",
         "line": {
          "color": "rgba(0, 0, 0, 0)",
          "dash": "solid",
          "width": 1
         },
         "mode": "lines",
         "name": "V2",
         "showlegend": false,
         "type": "scatter",
         "x": [
          8.1,
          8.1,
          8.499999999999998,
          8.499999999999998,
          8.1,
          8.1
         ],
         "xaxis": "x",
         "y": [
          0.04083460806215541,
          0,
          0,
          0.04083460806215541,
          0.04083460806215541,
          0.04083460806215541
         ],
         "yaxis": "y"
        },
        {
         "fill": "tozeroy",
         "fillcolor": "rgba(0, 154, 250, 1.000)",
         "legendgroup": "V2",
         "line": {
          "color": "rgba(0, 0, 0, 0)",
          "dash": "solid",
          "width": 1
         },
         "mode": "lines",
         "name": "V2",
         "showlegend": false,
         "type": "scatter",
         "x": [
          9.1,
          9.1,
          9.499999999999998,
          9.499999999999998,
          9.1,
          9.1
         ],
         "xaxis": "x",
         "y": [
          0.04044943820224719,
          0,
          0,
          0.04044943820224719,
          0.04044943820224719,
          0.04044943820224719
         ],
         "yaxis": "y"
        },
        {
         "fill": "tozeroy",
         "fillcolor": "rgba(0, 154, 250, 1.000)",
         "legendgroup": "V2",
         "line": {
          "color": "rgba(0, 0, 0, 0)",
          "dash": "solid",
          "width": 1
         },
         "mode": "lines",
         "name": "V2",
         "showlegend": false,
         "type": "scatter",
         "x": [
          10.1,
          10.1,
          10.499999999999998,
          10.499999999999998,
          10.1,
          10.1
         ],
         "xaxis": "x",
         "y": [
          0.03877670052493149,
          0,
          0,
          0.03877670052493149,
          0.03877670052493149,
          0.03877670052493149
         ],
         "yaxis": "y"
        },
        {
         "fill": "tozeroy",
         "fillcolor": "rgba(0, 154, 250, 1.000)",
         "legendgroup": "V2",
         "line": {
          "color": "rgba(0, 0, 0, 0)",
          "dash": "solid",
          "width": 1
         },
         "mode": "lines",
         "name": "V2",
         "showlegend": false,
         "type": "scatter",
         "x": [
          11.1,
          11.1,
          11.499999999999998,
          11.499999999999998,
          11.1,
          11.1
         ],
         "xaxis": "x",
         "y": [
          0.04246332632691017,
          0,
          0,
          0.04246332632691017,
          0.04246332632691017,
          0.04246332632691017
         ],
         "yaxis": "y"
        },
        {
         "fill": "tozeroy",
         "fillcolor": "rgba(0, 154, 250, 1.000)",
         "legendgroup": "V2",
         "line": {
          "color": "rgba(0, 0, 0, 0)",
          "dash": "solid",
          "width": 1
         },
         "mode": "lines",
         "name": "V2",
         "showlegend": false,
         "type": "scatter",
         "x": [
          12.1,
          12.1,
          12.499999999999998,
          12.499999999999998,
          12.1,
          12.1
         ],
         "xaxis": "x",
         "y": [
          0.04758058303711937,
          0,
          0,
          0.04758058303711937,
          0.04758058303711937,
          0.04758058303711937
         ],
         "yaxis": "y"
        },
        {
         "fill": "tozeroy",
         "fillcolor": "rgba(0, 154, 250, 1.000)",
         "legendgroup": "V2",
         "line": {
          "color": "rgba(0, 0, 0, 0)",
          "dash": "solid",
          "width": 1
         },
         "mode": "lines",
         "name": "V2",
         "showlegend": false,
         "type": "scatter",
         "x": [
          13.1,
          13.1,
          13.499999999999998,
          13.499999999999998,
          13.1,
          13.1
         ],
         "xaxis": "x",
         "y": [
          0.04962308377994696,
          0,
          0,
          0.04962308377994696,
          0.04962308377994696,
          0.04962308377994696
         ],
         "yaxis": "y"
        },
        {
         "fill": "tozeroy",
         "fillcolor": "rgba(0, 154, 250, 1.000)",
         "legendgroup": "V2",
         "line": {
          "color": "rgba(0, 0, 0, 0)",
          "dash": "solid",
          "width": 1
         },
         "mode": "lines",
         "name": "V2",
         "showlegend": false,
         "type": "scatter",
         "x": [
          14.1,
          14.1,
          14.499999999999998,
          14.499999999999998,
          14.1,
          14.1
         ],
         "xaxis": "x",
         "y": [
          0.06739372063079818,
          0,
          0,
          0.06739372063079818,
          0.06739372063079818,
          0.06739372063079818
         ],
         "yaxis": "y"
        },
        {
         "fill": "tozeroy",
         "fillcolor": "rgba(0, 154, 250, 1.000)",
         "legendgroup": "V2",
         "line": {
          "color": "rgba(0, 0, 0, 0)",
          "dash": "solid",
          "width": 1
         },
         "mode": "lines",
         "name": "V2",
         "showlegend": false,
         "type": "scatter",
         "x": [
          15.1,
          15.1,
          15.499999999999998,
          15.499999999999998,
          15.1,
          15.1
         ],
         "xaxis": "x",
         "y": [
          0.08588627584764881,
          0,
          0,
          0.08588627584764881,
          0.08588627584764881,
          0.08588627584764881
         ],
         "yaxis": "y"
        },
        {
         "fill": "tozeroy",
         "fillcolor": "rgba(0, 154, 250, 1.000)",
         "legendgroup": "V2",
         "line": {
          "color": "rgba(0, 0, 0, 0)",
          "dash": "solid",
          "width": 1
         },
         "mode": "lines",
         "name": "V2",
         "showlegend": false,
         "type": "scatter",
         "x": [
          16.1,
          16.1,
          16.5,
          16.5,
          16.1,
          16.1
         ],
         "xaxis": "x",
         "y": [
          0.08064576478226898,
          0,
          0,
          0.08064576478226898,
          0.08064576478226898,
          0.08064576478226898
         ],
         "yaxis": "y"
        },
        {
         "fill": "tozeroy",
         "fillcolor": "rgba(0, 154, 250, 1.000)",
         "legendgroup": "V2",
         "line": {
          "color": "rgba(0, 0, 0, 0)",
          "dash": "solid",
          "width": 1
         },
         "mode": "lines",
         "name": "V2",
         "showlegend": false,
         "type": "scatter",
         "x": [
          17.1,
          17.1,
          17.5,
          17.5,
          17.1,
          17.1
         ],
         "xaxis": "x",
         "y": [
          0.08266185387756,
          0,
          0,
          0.08266185387756,
          0.08266185387756,
          0.08266185387756
         ],
         "yaxis": "y"
        },
        {
         "fill": "tozeroy",
         "fillcolor": "rgba(227, 111, 71, 1.000)",
         "legendgroup": "V3",
         "line": {
          "color": "rgba(0, 0, 0, 0)",
          "dash": "solid",
          "width": 1
         },
         "mode": "lines",
         "name": "V3",
         "showlegend": true,
         "type": "scatter",
         "x": [
          0.49999999999999994,
          0.49999999999999994,
          0.8999999999999999,
          0.8999999999999999,
          0.49999999999999994,
          0.49999999999999994
         ],
         "xaxis": "x",
         "y": [
          0.07514279251258271,
          0,
          0,
          0.07514279251258271,
          0.07514279251258271,
          0.07514279251258271
         ],
         "yaxis": "y"
        },
        {
         "fill": "tozeroy",
         "fillcolor": "rgba(227, 111, 71, 1.000)",
         "legendgroup": "V3",
         "line": {
          "color": "rgba(0, 0, 0, 0)",
          "dash": "solid",
          "width": 1
         },
         "mode": "lines",
         "name": "V3",
         "showlegend": false,
         "type": "scatter",
         "x": [
          1.5000000000000002,
          1.5000000000000002,
          1.9000000000000001,
          1.9000000000000001,
          1.5000000000000002,
          1.5000000000000002
         ],
         "xaxis": "x",
         "y": [
          0.0617865423611055,
          0,
          0,
          0.0617865423611055,
          0.0617865423611055,
          0.0617865423611055
         ],
         "yaxis": "y"
        },
        {
         "fill": "tozeroy",
         "fillcolor": "rgba(227, 111, 71, 1.000)",
         "legendgroup": "V3",
         "line": {
          "color": "rgba(0, 0, 0, 0)",
          "dash": "solid",
          "width": 1
         },
         "mode": "lines",
         "name": "V3",
         "showlegend": false,
         "type": "scatter",
         "x": [
          2.5,
          2.5,
          2.9000000000000004,
          2.9000000000000004,
          2.5,
          2.5
         ],
         "xaxis": "x",
         "y": [
          0.05229801019542579,
          0,
          0,
          0.05229801019542579,
          0.05229801019542579,
          0.05229801019542579
         ],
         "yaxis": "y"
        },
        {
         "fill": "tozeroy",
         "fillcolor": "rgba(227, 111, 71, 1.000)",
         "legendgroup": "V3",
         "line": {
          "color": "rgba(0, 0, 0, 0)",
          "dash": "solid",
          "width": 1
         },
         "mode": "lines",
         "name": "V3",
         "showlegend": false,
         "type": "scatter",
         "x": [
          3.5,
          3.5,
          3.9000000000000004,
          3.9000000000000004,
          3.5,
          3.5
         ],
         "xaxis": "x",
         "y": [
          0.04208238744233768,
          0,
          0,
          0.04208238744233768,
          0.04208238744233768,
          0.04208238744233768
         ],
         "yaxis": "y"
        },
        {
         "fill": "tozeroy",
         "fillcolor": "rgba(227, 111, 71, 1.000)",
         "legendgroup": "V3",
         "line": {
          "color": "rgba(0, 0, 0, 0)",
          "dash": "solid",
          "width": 1
         },
         "mode": "lines",
         "name": "V3",
         "showlegend": false,
         "type": "scatter",
         "x": [
          4.5,
          4.5,
          4.9,
          4.9,
          4.5,
          4.5
         ],
         "xaxis": "x",
         "y": [
          0.03779457267270421,
          0,
          0,
          0.03779457267270421,
          0.03779457267270421,
          0.03779457267270421
         ],
         "yaxis": "y"
        },
        {
         "fill": "tozeroy",
         "fillcolor": "rgba(227, 111, 71, 1.000)",
         "legendgroup": "V3",
         "line": {
          "color": "rgba(0, 0, 0, 0)",
          "dash": "solid",
          "width": 1
         },
         "mode": "lines",
         "name": "V3",
         "showlegend": false,
         "type": "scatter",
         "x": [
          5.5,
          5.5,
          5.9,
          5.9,
          5.5,
          5.5
         ],
         "xaxis": "x",
         "y": [
          0.03637472633118168,
          0,
          0,
          0.03637472633118168,
          0.03637472633118168,
          0.03637472633118168
         ],
         "yaxis": "y"
        },
        {
         "fill": "tozeroy",
         "fillcolor": "rgba(227, 111, 71, 1.000)",
         "legendgroup": "V3",
         "line": {
          "color": "rgba(0, 0, 0, 0)",
          "dash": "solid",
          "width": 1
         },
         "mode": "lines",
         "name": "V3",
         "showlegend": false,
         "type": "scatter",
         "x": [
          6.5,
          6.5,
          6.9,
          6.9,
          6.5,
          6.5
         ],
         "xaxis": "x",
         "y": [
          0.041674408834958515,
          0,
          0,
          0.041674408834958515,
          0.041674408834958515,
          0.041674408834958515
         ],
         "yaxis": "y"
        },
        {
         "fill": "tozeroy",
         "fillcolor": "rgba(227, 111, 71, 1.000)",
         "legendgroup": "V3",
         "line": {
          "color": "rgba(0, 0, 0, 0)",
          "dash": "solid",
          "width": 1
         },
         "mode": "lines",
         "name": "V3",
         "showlegend": false,
         "type": "scatter",
         "x": [
          7.5,
          7.5,
          7.9,
          7.9,
          7.5,
          7.5
         ],
         "xaxis": "x",
         "y": [
          0.04487562711563164,
          0,
          0,
          0.04487562711563164,
          0.04487562711563164,
          0.04487562711563164
         ],
         "yaxis": "y"
        },
        {
         "fill": "tozeroy",
         "fillcolor": "rgba(227, 111, 71, 1.000)",
         "legendgroup": "V3",
         "line": {
          "color": "rgba(0, 0, 0, 0)",
          "dash": "solid",
          "width": 1
         },
         "mode": "lines",
         "name": "V3",
         "showlegend": false,
         "type": "scatter",
         "x": [
          8.5,
          8.5,
          8.899999999999999,
          8.899999999999999,
          8.5,
          8.5
         ],
         "xaxis": "x",
         "y": [
          0.04697611103481148,
          0,
          0,
          0.04697611103481148,
          0.04697611103481148,
          0.04697611103481148
         ],
         "yaxis": "y"
        },
        {
         "fill": "tozeroy",
         "fillcolor": "rgba(227, 111, 71, 1.000)",
         "legendgroup": "V3",
         "line": {
          "color": "rgba(0, 0, 0, 0)",
          "dash": "solid",
          "width": 1
         },
         "mode": "lines",
         "name": "V3",
         "showlegend": false,
         "type": "scatter",
         "x": [
          9.5,
          9.5,
          9.899999999999999,
          9.899999999999999,
          9.5,
          9.5
         ],
         "xaxis": "x",
         "y": [
          0.044510062125851305,
          0,
          0,
          0.044510062125851305,
          0.044510062125851305,
          0.044510062125851305
         ],
         "yaxis": "y"
        },
        {
         "fill": "tozeroy",
         "fillcolor": "rgba(227, 111, 71, 1.000)",
         "legendgroup": "V3",
         "line": {
          "color": "rgba(0, 0, 0, 0)",
          "dash": "solid",
          "width": 1
         },
         "mode": "lines",
         "name": "V3",
         "showlegend": false,
         "type": "scatter",
         "x": [
          10.5,
          10.5,
          10.899999999999999,
          10.899999999999999,
          10.5,
          10.5
         ],
         "xaxis": "x",
         "y": [
          0.04680241717226392,
          0,
          0,
          0.04680241717226392,
          0.04680241717226392,
          0.04680241717226392
         ],
         "yaxis": "y"
        },
        {
         "fill": "tozeroy",
         "fillcolor": "rgba(227, 111, 71, 1.000)",
         "legendgroup": "V3",
         "line": {
          "color": "rgba(0, 0, 0, 0)",
          "dash": "solid",
          "width": 1
         },
         "mode": "lines",
         "name": "V3",
         "showlegend": false,
         "type": "scatter",
         "x": [
          11.5,
          11.5,
          11.899999999999999,
          11.899999999999999,
          11.5,
          11.5
         ],
         "xaxis": "x",
         "y": [
          0.04864639968977468,
          0,
          0,
          0.04864639968977468,
          0.04864639968977468,
          0.04864639968977468
         ],
         "yaxis": "y"
        },
        {
         "fill": "tozeroy",
         "fillcolor": "rgba(227, 111, 71, 1.000)",
         "legendgroup": "V3",
         "line": {
          "color": "rgba(0, 0, 0, 0)",
          "dash": "solid",
          "width": 1
         },
         "mode": "lines",
         "name": "V3",
         "showlegend": false,
         "type": "scatter",
         "x": [
          12.5,
          12.5,
          12.899999999999999,
          12.899999999999999,
          12.5,
          12.5
         ],
         "xaxis": "x",
         "y": [
          0.051393186353317556,
          0,
          0,
          0.051393186353317556,
          0.051393186353317556,
          0.051393186353317556
         ],
         "yaxis": "y"
        },
        {
         "fill": "tozeroy",
         "fillcolor": "rgba(227, 111, 71, 1.000)",
         "legendgroup": "V3",
         "line": {
          "color": "rgba(0, 0, 0, 0)",
          "dash": "solid",
          "width": 1
         },
         "mode": "lines",
         "name": "V3",
         "showlegend": false,
         "type": "scatter",
         "x": [
          13.5,
          13.5,
          13.899999999999999,
          13.899999999999999,
          13.5,
          13.5
         ],
         "xaxis": "x",
         "y": [
          0.05614149182830967,
          0,
          0,
          0.05614149182830967,
          0.05614149182830967,
          0.05614149182830967
         ],
         "yaxis": "y"
        },
        {
         "fill": "tozeroy",
         "fillcolor": "rgba(227, 111, 71, 1.000)",
         "legendgroup": "V3",
         "line": {
          "color": "rgba(0, 0, 0, 0)",
          "dash": "solid",
          "width": 1
         },
         "mode": "lines",
         "name": "V3",
         "showlegend": false,
         "type": "scatter",
         "x": [
          14.5,
          14.5,
          14.899999999999999,
          14.899999999999999,
          14.5,
          14.5
         ],
         "xaxis": "x",
         "y": [
          0.06648233573811813,
          0,
          0,
          0.06648233573811813,
          0.06648233573811813,
          0.06648233573811813
         ],
         "yaxis": "y"
        },
        {
         "fill": "tozeroy",
         "fillcolor": "rgba(227, 111, 71, 1.000)",
         "legendgroup": "V3",
         "line": {
          "color": "rgba(0, 0, 0, 0)",
          "dash": "solid",
          "width": 1
         },
         "mode": "lines",
         "name": "V3",
         "showlegend": false,
         "type": "scatter",
         "x": [
          15.5,
          15.5,
          15.899999999999999,
          15.899999999999999,
          15.5,
          15.5
         ],
         "xaxis": "x",
         "y": [
          0.08340132976789652,
          0,
          0,
          0.08340132976789652,
          0.08340132976789652,
          0.08340132976789652
         ],
         "yaxis": "y"
        },
        {
         "fill": "tozeroy",
         "fillcolor": "rgba(227, 111, 71, 1.000)",
         "legendgroup": "V3",
         "line": {
          "color": "rgba(0, 0, 0, 0)",
          "dash": "solid",
          "width": 1
         },
         "mode": "lines",
         "name": "V3",
         "showlegend": false,
         "type": "scatter",
         "x": [
          16.5,
          16.5,
          16.9,
          16.9,
          16.5,
          16.5
         ],
         "xaxis": "x",
         "y": [
          0.0800001615756861,
          0,
          0,
          0.0800001615756861,
          0.0800001615756861,
          0.0800001615756861
         ],
         "yaxis": "y"
        },
        {
         "fill": "tozeroy",
         "fillcolor": "rgba(227, 111, 71, 1.000)",
         "legendgroup": "V3",
         "line": {
          "color": "rgba(0, 0, 0, 0)",
          "dash": "solid",
          "width": 1
         },
         "mode": "lines",
         "name": "V3",
         "showlegend": false,
         "type": "scatter",
         "x": [
          17.5,
          17.5,
          17.9,
          17.9,
          17.5,
          17.5
         ],
         "xaxis": "x",
         "y": [
          0.08361743724804291,
          0,
          0,
          0.08361743724804291,
          0.08361743724804291,
          0.08361743724804291
         ],
         "yaxis": "y"
        }
       ],
       "layout": {
        "annotations": [],
        "height": 400,
        "legend": {
         "bgcolor": "rgba(255, 255, 255, 1.000)",
         "bordercolor": "rgba(0, 0, 0, 1)",
         "font": {
          "color": "rgba(0, 0, 0, 1)",
          "family": "sans-serif",
          "size": 11
         },
         "tracegroupgap": 0,
         "x": 1,
         "y": 1
        },
        "margin": {
         "b": 20,
         "l": 0,
         "r": 0,
         "t": 20
        },
        "paper_bgcolor": "rgba(255, 255, 255, 1.000)",
        "plot_bgcolor": "rgba(255, 255, 255, 1.000)",
        "showlegend": true,
        "width": 750,
        "xaxis": {
         "anchor": "y",
         "domain": [
          0.0526567512394284,
          0.994750656167979
         ],
         "gridcolor": "rgba(0, 0, 0, 0.1)",
         "gridwidth": 0.5,
         "linecolor": "rgba(0, 0, 0, 1)",
         "mirror": false,
         "range": [
          -0.9873199999999999,
          18.987319999999997
         ],
         "showgrid": true,
         "showline": true,
         "showticklabels": true,
         "tickangle": 0,
         "tickcolor": "rgb(0, 0, 0)",
         "tickfont": {
          "color": "rgba(0, 0, 0, 1)",
          "family": "sans-serif",
          "size": 11
         },
         "tickmode": "array",
         "ticks": "inside",
         "ticktext": [
          "C1",
          "C2",
          "C3",
          "C4",
          "C5",
          "C6",
          "C7",
          "C8",
          "C9",
          "CA",
          "CB",
          "CC",
          "CD",
          "CE",
          "CF",
          "CG",
          "O1",
          "O2"
         ],
         "tickvals": [
          0.5,
          1.5,
          2.5,
          3.5,
          4.5,
          5.5,
          6.5,
          7.5,
          8.5,
          9.5,
          10.5,
          11.5,
          12.5,
          13.5,
          14.5,
          15.5,
          16.5,
          17.5
         ],
         "title": "",
         "titlefont": {
          "color": "rgba(0, 0, 0, 1)",
          "family": "sans-serif",
          "size": 15
         },
         "type": "linear",
         "visible": true,
         "zeroline": false,
         "zerolinecolor": "rgba(0, 0, 0, 1)"
        },
        "yaxis": {
         "anchor": "x",
         "domain": [
          0.03762029746281716,
          0.9901574803149606
         ],
         "gridcolor": "rgba(0, 0, 0, 0.1)",
         "gridwidth": 0.5,
         "linecolor": "rgba(0, 0, 0, 1)",
         "mirror": false,
         "range": [
          -0.0025765882754294643,
          0.08846286412307827
         ],
         "showgrid": true,
         "showline": true,
         "showticklabels": true,
         "tickangle": 0,
         "tickcolor": "rgb(0, 0, 0)",
         "tickfont": {
          "color": "rgba(0, 0, 0, 1)",
          "family": "sans-serif",
          "size": 11
         },
         "tickmode": "array",
         "ticks": "inside",
         "ticktext": [
          "0.00",
          "0.02",
          "0.04",
          "0.06",
          "0.08"
         ],
         "tickvals": [
          0,
          0.02,
          0.04,
          0.06,
          0.08
         ],
         "title": "",
         "titlefont": {
          "color": "rgba(0, 0, 0, 1)",
          "family": "sans-serif",
          "size": 15
         },
         "type": "linear",
         "visible": true,
         "zeroline": false,
         "zerolinecolor": "rgba(0, 0, 0, 1)"
        }
       }
      },
      "image/png": "[encoded data removed]",
      "text/html": [
       "<script src=\"file:///home/pbarletta/.julia/packages/Plots/7o1Vu/src/backends/../../deps/plotly-latest.min.js\"></script>    <div id=\"e2c84bb6-c8f6-4ec4-a970-1468dc33fab6\" style=\"width:750px;height:400px;\"></div>\n",
       "    <script>\n",
       "    PLOT = document.getElementById('e2c84bb6-c8f6-4ec4-a970-1468dc33fab6');\n",
       "    Plotly.plot(PLOT, [{\"xaxis\":\"x1\",\"fill\":\"tozeroy\",\"yaxis\":\"y1\",\"x\":[0.09999999999999998,0.09999999999999998,0.5,0.5,0.09999999999999998,0.09999999999999998],\"showlegend\":true,\"mode\":\"lines\",\"fillcolor\":\"rgba(0, 154, 250, 1.000)\",\"name\":\"V2\",\"legendgroup\":\"V2\",\"line\":{\"color\":\"rgba(0, 0, 0, 0.000)\",\"dash\":\"solid\",\"width\":1},\"y\":[0.07293576467222045,0.0,0.0,0.07293576467222045,0.07293576467222045,0.07293576467222045],\"type\":\"scatter\"},{\"xaxis\":\"x1\",\"fill\":\"tozeroy\",\"yaxis\":\"y1\",\"x\":[1.1,1.1,1.5,1.5,1.1,1.1],\"showlegend\":false,\"mode\":\"lines\",\"fillcolor\":\"rgba(0, 154, 250, 1.000)\",\"name\":\"V2\",\"legendgroup\":\"V2\",\"line\":{\"color\":\"rgba(0, 0, 0, 0.000)\",\"dash\":\"solid\",\"width\":1},\"y\":[0.06344077738282583,0.0,0.0,0.06344077738282583,0.06344077738282583,0.06344077738282583],\"type\":\"scatter\"},{\"xaxis\":\"x1\",\"fill\":\"tozeroy\",\"yaxis\":\"y1\",\"x\":[2.1,2.1,2.5000000000000004,2.5000000000000004,2.1,2.1],\"showlegend\":false,\"mode\":\"lines\",\"fillcolor\":\"rgba(0, 154, 250, 1.000)\",\"name\":\"V2\",\"legendgroup\":\"V2\",\"line\":{\"color\":\"rgba(0, 0, 0, 0.000)\",\"dash\":\"solid\",\"width\":1},\"y\":[0.055592116123210335,0.0,0.0,0.055592116123210335,0.055592116123210335,0.055592116123210335],\"type\":\"scatter\"},{\"xaxis\":\"x1\",\"fill\":\"tozeroy\",\"yaxis\":\"y1\",\"x\":[3.1,3.1,3.5000000000000004,3.5000000000000004,3.1,3.1],\"showlegend\":false,\"mode\":\"lines\",\"fillcolor\":\"rgba(0, 154, 250, 1.000)\",\"name\":\"V2\",\"legendgroup\":\"V2\",\"line\":{\"color\":\"rgba(0, 0, 0, 0.000)\",\"dash\":\"solid\",\"width\":1},\"y\":[0.05091945547986662,0.0,0.0,0.05091945547986662,0.05091945547986662,0.05091945547986662],\"type\":\"scatter\"},{\"xaxis\":\"x1\",\"fill\":\"tozeroy\",\"yaxis\":\"y1\",\"x\":[4.1,4.1,4.5,4.5,4.1,4.1],\"showlegend\":false,\"mode\":\"lines\",\"fillcolor\":\"rgba(0, 154, 250, 1.000)\",\"name\":\"V2\",\"legendgroup\":\"V2\",\"line\":{\"color\":\"rgba(0, 0, 0, 0.000)\",\"dash\":\"solid\",\"width\":1},\"y\":[0.048201256754228615,0.0,0.0,0.048201256754228615,0.048201256754228615,0.048201256754228615],\"type\":\"scatter\"},{\"xaxis\":\"x1\",\"fill\":\"tozeroy\",\"yaxis\":\"y1\",\"x\":[5.1,5.1,5.5,5.5,5.1,5.1],\"showlegend\":false,\"mode\":\"lines\",\"fillcolor\":\"rgba(0, 154, 250, 1.000)\",\"name\":\"V2\",\"legendgroup\":\"V2\",\"line\":{\"color\":\"rgba(0, 0, 0, 0.000)\",\"dash\":\"solid\",\"width\":1},\"y\":[0.04636784822106549,0.0,0.0,0.04636784822106549,0.04636784822106549,0.04636784822106549],\"type\":\"scatter\"},{\"xaxis\":\"x1\",\"fill\":\"tozeroy\",\"yaxis\":\"y1\",\"x\":[6.1,6.1,6.5,6.5,6.1,6.1],\"showlegend\":false,\"mode\":\"lines\",\"fillcolor\":\"rgba(0, 154, 250, 1.000)\",\"name\":\"V2\",\"legendgroup\":\"V2\",\"line\":{\"color\":\"rgba(0, 0, 0, 0.000)\",\"dash\":\"solid\",\"width\":1},\"y\":[0.043048784513970664,0.0,0.0,0.043048784513970664,0.043048784513970664,0.043048784513970664],\"type\":\"scatter\"},{\"xaxis\":\"x1\",\"fill\":\"tozeroy\",\"yaxis\":\"y1\",\"x\":[7.1,7.1,7.5,7.5,7.1,7.1],\"showlegend\":false,\"mode\":\"lines\",\"fillcolor\":\"rgba(0, 154, 250, 1.000)\",\"name\":\"V2\",\"legendgroup\":\"V2\",\"line\":{\"color\":\"rgba(0, 0, 0, 0.000)\",\"dash\":\"solid\",\"width\":1},\"y\":[0.043178641781025436,0.0,0.0,0.043178641781025436,0.043178641781025436,0.043178641781025436],\"type\":\"scatter\"},{\"xaxis\":\"x1\",\"fill\":\"tozeroy\",\"yaxis\":\"y1\",\"x\":[8.1,8.1,8.499999999999998,8.499999999999998,8.1,8.1],\"showlegend\":false,\"mode\":\"lines\",\"fillcolor\":\"rgba(0, 154, 250, 1.000)\",\"name\":\"V2\",\"legendgroup\":\"V2\",\"line\":{\"color\":\"rgba(0, 0, 0, 0.000)\",\"dash\":\"solid\",\"width\":1},\"y\":[0.04083460806215541,0.0,0.0,0.04083460806215541,0.04083460806215541,0.04083460806215541],\"type\":\"scatter\"},{\"xaxis\":\"x1\",\"fill\":\"tozeroy\",\"yaxis\":\"y1\",\"x\":[9.1,9.1,9.499999999999998,9.499999999999998,9.1,9.1],\"showlegend\":false,\"mode\":\"lines\",\"fillcolor\":\"rgba(0, 154, 250, 1.000)\",\"name\":\"V2\",\"legendgroup\":\"V2\",\"line\":{\"color\":\"rgba(0, 0, 0, 0.000)\",\"dash\":\"solid\",\"width\":1},\"y\":[0.04044943820224719,0.0,0.0,0.04044943820224719,0.04044943820224719,0.04044943820224719],\"type\":\"scatter\"},{\"xaxis\":\"x1\",\"fill\":\"tozeroy\",\"yaxis\":\"y1\",\"x\":[10.1,10.1,10.499999999999998,10.499999999999998,10.1,10.1],\"showlegend\":false,\"mode\":\"lines\",\"fillcolor\":\"rgba(0, 154, 250, 1.000)\",\"name\":\"V2\",\"legendgroup\":\"V2\",\"line\":{\"color\":\"rgba(0, 0, 0, 0.000)\",\"dash\":\"solid\",\"width\":1},\"y\":[0.03877670052493149,0.0,0.0,0.03877670052493149,0.03877670052493149,0.03877670052493149],\"type\":\"scatter\"},{\"xaxis\":\"x1\",\"fill\":\"tozeroy\",\"yaxis\":\"y1\",\"x\":[11.1,11.1,11.499999999999998,11.499999999999998,11.1,11.1],\"showlegend\":false,\"mode\":\"lines\",\"fillcolor\":\"rgba(0, 154, 250, 1.000)\",\"name\":\"V2\",\"legendgroup\":\"V2\",\"line\":{\"color\":\"rgba(0, 0, 0, 0.000)\",\"dash\":\"solid\",\"width\":1},\"y\":[0.04246332632691017,0.0,0.0,0.04246332632691017,0.04246332632691017,0.04246332632691017],\"type\":\"scatter\"},{\"xaxis\":\"x1\",\"fill\":\"tozeroy\",\"yaxis\":\"y1\",\"x\":[12.1,12.1,12.499999999999998,12.499999999999998,12.1,12.1],\"showlegend\":false,\"mode\":\"lines\",\"fillcolor\":\"rgba(0, 154, 250, 1.000)\",\"name\":\"V2\",\"legendgroup\":\"V2\",\"line\":{\"color\":\"rgba(0, 0, 0, 0.000)\",\"dash\":\"solid\",\"width\":1},\"y\":[0.04758058303711937,0.0,0.0,0.04758058303711937,0.04758058303711937,0.04758058303711937],\"type\":\"scatter\"},{\"xaxis\":\"x1\",\"fill\":\"tozeroy\",\"yaxis\":\"y1\",\"x\":[13.1,13.1,13.499999999999998,13.499999999999998,13.1,13.1],\"showlegend\":false,\"mode\":\"lines\",\"fillcolor\":\"rgba(0, 154, 250, 1.000)\",\"name\":\"V2\",\"legendgroup\":\"V2\",\"line\":{\"color\":\"rgba(0, 0, 0, 0.000)\",\"dash\":\"solid\",\"width\":1},\"y\":[0.04962308377994696,0.0,0.0,0.04962308377994696,0.04962308377994696,0.04962308377994696],\"type\":\"scatter\"},{\"xaxis\":\"x1\",\"fill\":\"tozeroy\",\"yaxis\":\"y1\",\"x\":[14.1,14.1,14.499999999999998,14.499999999999998,14.1,14.1],\"showlegend\":false,\"mode\":\"lines\",\"fillcolor\":\"rgba(0, 154, 250, 1.000)\",\"name\":\"V2\",\"legendgroup\":\"V2\",\"line\":{\"color\":\"rgba(0, 0, 0, 0.000)\",\"dash\":\"solid\",\"width\":1},\"y\":[0.06739372063079818,0.0,0.0,0.06739372063079818,0.06739372063079818,0.06739372063079818],\"type\":\"scatter\"},{\"xaxis\":\"x1\",\"fill\":\"tozeroy\",\"yaxis\":\"y1\",\"x\":[15.1,15.1,15.499999999999998,15.499999999999998,15.1,15.1],\"showlegend\":false,\"mode\":\"lines\",\"fillcolor\":\"rgba(0, 154, 250, 1.000)\",\"name\":\"V2\",\"legendgroup\":\"V2\",\"line\":{\"color\":\"rgba(0, 0, 0, 0.000)\",\"dash\":\"solid\",\"width\":1},\"y\":[0.08588627584764881,0.0,0.0,0.08588627584764881,0.08588627584764881,0.08588627584764881],\"type\":\"scatter\"},{\"xaxis\":\"x1\",\"fill\":\"tozeroy\",\"yaxis\":\"y1\",\"x\":[16.1,16.1,16.5,16.5,16.1,16.1],\"showlegend\":false,\"mode\":\"lines\",\"fillcolor\":\"rgba(0, 154, 250, 1.000)\",\"name\":\"V2\",\"legendgroup\":\"V2\",\"line\":{\"color\":\"rgba(0, 0, 0, 0.000)\",\"dash\":\"solid\",\"width\":1},\"y\":[0.08064576478226898,0.0,0.0,0.08064576478226898,0.08064576478226898,0.08064576478226898],\"type\":\"scatter\"},{\"xaxis\":\"x1\",\"fill\":\"tozeroy\",\"yaxis\":\"y1\",\"x\":[17.1,17.1,17.5,17.5,17.1,17.1],\"showlegend\":false,\"mode\":\"lines\",\"fillcolor\":\"rgba(0, 154, 250, 1.000)\",\"name\":\"V2\",\"legendgroup\":\"V2\",\"line\":{\"color\":\"rgba(0, 0, 0, 0.000)\",\"dash\":\"solid\",\"width\":1},\"y\":[0.08266185387756,0.0,0.0,0.08266185387756,0.08266185387756,0.08266185387756],\"type\":\"scatter\"},{\"xaxis\":\"x1\",\"fill\":\"tozeroy\",\"yaxis\":\"y1\",\"x\":[0.49999999999999994,0.49999999999999994,0.8999999999999999,0.8999999999999999,0.49999999999999994,0.49999999999999994],\"showlegend\":true,\"mode\":\"lines\",\"fillcolor\":\"rgba(227, 111, 71, 1.000)\",\"name\":\"V3\",\"legendgroup\":\"V3\",\"line\":{\"color\":\"rgba(0, 0, 0, 0.000)\",\"dash\":\"solid\",\"width\":1},\"y\":[0.07514279251258271,0.0,0.0,0.07514279251258271,0.07514279251258271,0.07514279251258271],\"type\":\"scatter\"},{\"xaxis\":\"x1\",\"fill\":\"tozeroy\",\"yaxis\":\"y1\",\"x\":[1.5000000000000002,1.5000000000000002,1.9000000000000001,1.9000000000000001,1.5000000000000002,1.5000000000000002],\"showlegend\":false,\"mode\":\"lines\",\"fillcolor\":\"rgba(227, 111, 71, 1.000)\",\"name\":\"V3\",\"legendgroup\":\"V3\",\"line\":{\"color\":\"rgba(0, 0, 0, 0.000)\",\"dash\":\"solid\",\"width\":1},\"y\":[0.0617865423611055,0.0,0.0,0.0617865423611055,0.0617865423611055,0.0617865423611055],\"type\":\"scatter\"},{\"xaxis\":\"x1\",\"fill\":\"tozeroy\",\"yaxis\":\"y1\",\"x\":[2.5,2.5,2.9000000000000004,2.9000000000000004,2.5,2.5],\"showlegend\":false,\"mode\":\"lines\",\"fillcolor\":\"rgba(227, 111, 71, 1.000)\",\"name\":\"V3\",\"legendgroup\":\"V3\",\"line\":{\"color\":\"rgba(0, 0, 0, 0.000)\",\"dash\":\"solid\",\"width\":1},\"y\":[0.05229801019542579,0.0,0.0,0.05229801019542579,0.05229801019542579,0.05229801019542579],\"type\":\"scatter\"},{\"xaxis\":\"x1\",\"fill\":\"tozeroy\",\"yaxis\":\"y1\",\"x\":[3.5,3.5,3.9000000000000004,3.9000000000000004,3.5,3.5],\"showlegend\":false,\"mode\":\"lines\",\"fillcolor\":\"rgba(227, 111, 71, 1.000)\",\"name\":\"V3\",\"legendgroup\":\"V3\",\"line\":{\"color\":\"rgba(0, 0, 0, 0.000)\",\"dash\":\"solid\",\"width\":1},\"y\":[0.04208238744233768,0.0,0.0,0.04208238744233768,0.04208238744233768,0.04208238744233768],\"type\":\"scatter\"},{\"xaxis\":\"x1\",\"fill\":\"tozeroy\",\"yaxis\":\"y1\",\"x\":[4.5,4.5,4.9,4.9,4.5,4.5],\"showlegend\":false,\"mode\":\"lines\",\"fillcolor\":\"rgba(227, 111, 71, 1.000)\",\"name\":\"V3\",\"legendgroup\":\"V3\",\"line\":{\"color\":\"rgba(0, 0, 0, 0.000)\",\"dash\":\"solid\",\"width\":1},\"y\":[0.03779457267270421,0.0,0.0,0.03779457267270421,0.03779457267270421,0.03779457267270421],\"type\":\"scatter\"},{\"xaxis\":\"x1\",\"fill\":\"tozeroy\",\"yaxis\":\"y1\",\"x\":[5.5,5.5,5.9,5.9,5.5,5.5],\"showlegend\":false,\"mode\":\"lines\",\"fillcolor\":\"rgba(227, 111, 71, 1.000)\",\"name\":\"V3\",\"legendgroup\":\"V3\",\"line\":{\"color\":\"rgba(0, 0, 0, 0.000)\",\"dash\":\"solid\",\"width\":1},\"y\":[0.03637472633118168,0.0,0.0,0.03637472633118168,0.03637472633118168,0.03637472633118168],\"type\":\"scatter\"},{\"xaxis\":\"x1\",\"fill\":\"tozeroy\",\"yaxis\":\"y1\",\"x\":[6.5,6.5,6.9,6.9,6.5,6.5],\"showlegend\":false,\"mode\":\"lines\",\"fillcolor\":\"rgba(227, 111, 71, 1.000)\",\"name\":\"V3\",\"legendgroup\":\"V3\",\"line\":{\"color\":\"rgba(0, 0, 0, 0.000)\",\"dash\":\"solid\",\"width\":1},\"y\":[0.041674408834958515,0.0,0.0,0.041674408834958515,0.041674408834958515,0.041674408834958515],\"type\":\"scatter\"},{\"xaxis\":\"x1\",\"fill\":\"tozeroy\",\"yaxis\":\"y1\",\"x\":[7.5,7.5,7.9,7.9,7.5,7.5],\"showlegend\":false,\"mode\":\"lines\",\"fillcolor\":\"rgba(227, 111, 71, 1.000)\",\"name\":\"V3\",\"legendgroup\":\"V3\",\"line\":{\"color\":\"rgba(0, 0, 0, 0.000)\",\"dash\":\"solid\",\"width\":1},\"y\":[0.04487562711563164,0.0,0.0,0.04487562711563164,0.04487562711563164,0.04487562711563164],\"type\":\"scatter\"},{\"xaxis\":\"x1\",\"fill\":\"tozeroy\",\"yaxis\":\"y1\",\"x\":[8.5,8.5,8.899999999999999,8.899999999999999,8.5,8.5],\"showlegend\":false,\"mode\":\"lines\",\"fillcolor\":\"rgba(227, 111, 71, 1.000)\",\"name\":\"V3\",\"legendgroup\":\"V3\",\"line\":{\"color\":\"rgba(0, 0, 0, 0.000)\",\"dash\":\"solid\",\"width\":1},\"y\":[0.04697611103481148,0.0,0.0,0.04697611103481148,0.04697611103481148,0.04697611103481148],\"type\":\"scatter\"},{\"xaxis\":\"x1\",\"fill\":\"tozeroy\",\"yaxis\":\"y1\",\"x\":[9.5,9.5,9.899999999999999,9.899999999999999,9.5,9.5],\"showlegend\":false,\"mode\":\"lines\",\"fillcolor\":\"rgba(227, 111, 71, 1.000)\",\"name\":\"V3\",\"legendgroup\":\"V3\",\"line\":{\"color\":\"rgba(0, 0, 0, 0.000)\",\"dash\":\"solid\",\"width\":1},\"y\":[0.044510062125851305,0.0,0.0,0.044510062125851305,0.044510062125851305,0.044510062125851305],\"type\":\"scatter\"},{\"xaxis\":\"x1\",\"fill\":\"tozeroy\",\"yaxis\":\"y1\",\"x\":[10.5,10.5,10.899999999999999,10.899999999999999,10.5,10.5],\"showlegend\":false,\"mode\":\"lines\",\"fillcolor\":\"rgba(227, 111, 71, 1.000)\",\"name\":\"V3\",\"legendgroup\":\"V3\",\"line\":{\"color\":\"rgba(0, 0, 0, 0.000)\",\"dash\":\"solid\",\"width\":1},\"y\":[0.04680241717226392,0.0,0.0,0.04680241717226392,0.04680241717226392,0.04680241717226392],\"type\":\"scatter\"},{\"xaxis\":\"x1\",\"fill\":\"tozeroy\",\"yaxis\":\"y1\",\"x\":[11.5,11.5,11.899999999999999,11.899999999999999,11.5,11.5],\"showlegend\":false,\"mode\":\"lines\",\"fillcolor\":\"rgba(227, 111, 71, 1.000)\",\"name\":\"V3\",\"legendgroup\":\"V3\",\"line\":{\"color\":\"rgba(0, 0, 0, 0.000)\",\"dash\":\"solid\",\"width\":1},\"y\":[0.04864639968977468,0.0,0.0,0.04864639968977468,0.04864639968977468,0.04864639968977468],\"type\":\"scatter\"},{\"xaxis\":\"x1\",\"fill\":\"tozeroy\",\"yaxis\":\"y1\",\"x\":[12.5,12.5,12.899999999999999,12.899999999999999,12.5,12.5],\"showlegend\":false,\"mode\":\"lines\",\"fillcolor\":\"rgba(227, 111, 71, 1.000)\",\"name\":\"V3\",\"legendgroup\":\"V3\",\"line\":{\"color\":\"rgba(0, 0, 0, 0.000)\",\"dash\":\"solid\",\"width\":1},\"y\":[0.051393186353317556,0.0,0.0,0.051393186353317556,0.051393186353317556,0.051393186353317556],\"type\":\"scatter\"},{\"xaxis\":\"x1\",\"fill\":\"tozeroy\",\"yaxis\":\"y1\",\"x\":[13.5,13.5,13.899999999999999,13.899999999999999,13.5,13.5],\"showlegend\":false,\"mode\":\"lines\",\"fillcolor\":\"rgba(227, 111, 71, 1.000)\",\"name\":\"V3\",\"legendgroup\":\"V3\",\"line\":{\"color\":\"rgba(0, 0, 0, 0.000)\",\"dash\":\"solid\",\"width\":1},\"y\":[0.05614149182830967,0.0,0.0,0.05614149182830967,0.05614149182830967,0.05614149182830967],\"type\":\"scatter\"},{\"xaxis\":\"x1\",\"fill\":\"tozeroy\",\"yaxis\":\"y1\",\"x\":[14.5,14.5,14.899999999999999,14.899999999999999,14.5,14.5],\"showlegend\":false,\"mode\":\"lines\",\"fillcolor\":\"rgba(227, 111, 71, 1.000)\",\"name\":\"V3\",\"legendgroup\":\"V3\",\"line\":{\"color\":\"rgba(0, 0, 0, 0.000)\",\"dash\":\"solid\",\"width\":1},\"y\":[0.06648233573811813,0.0,0.0,0.06648233573811813,0.06648233573811813,0.06648233573811813],\"type\":\"scatter\"},{\"xaxis\":\"x1\",\"fill\":\"tozeroy\",\"yaxis\":\"y1\",\"x\":[15.5,15.5,15.899999999999999,15.899999999999999,15.5,15.5],\"showlegend\":false,\"mode\":\"lines\",\"fillcolor\":\"rgba(227, 111, 71, 1.000)\",\"name\":\"V3\",\"legendgroup\":\"V3\",\"line\":{\"color\":\"rgba(0, 0, 0, 0.000)\",\"dash\":\"solid\",\"width\":1},\"y\":[0.08340132976789652,0.0,0.0,0.08340132976789652,0.08340132976789652,0.08340132976789652],\"type\":\"scatter\"},{\"xaxis\":\"x1\",\"fill\":\"tozeroy\",\"yaxis\":\"y1\",\"x\":[16.5,16.5,16.9,16.9,16.5,16.5],\"showlegend\":false,\"mode\":\"lines\",\"fillcolor\":\"rgba(227, 111, 71, 1.000)\",\"name\":\"V3\",\"legendgroup\":\"V3\",\"line\":{\"color\":\"rgba(0, 0, 0, 0.000)\",\"dash\":\"solid\",\"width\":1},\"y\":[0.0800001615756861,0.0,0.0,0.0800001615756861,0.0800001615756861,0.0800001615756861],\"type\":\"scatter\"},{\"xaxis\":\"x1\",\"fill\":\"tozeroy\",\"yaxis\":\"y1\",\"x\":[17.5,17.5,17.9,17.9,17.5,17.5],\"showlegend\":false,\"mode\":\"lines\",\"fillcolor\":\"rgba(227, 111, 71, 1.000)\",\"name\":\"V3\",\"legendgroup\":\"V3\",\"line\":{\"color\":\"rgba(0, 0, 0, 0.000)\",\"dash\":\"solid\",\"width\":1},\"y\":[0.08361743724804291,0.0,0.0,0.08361743724804291,0.08361743724804291,0.08361743724804291],\"type\":\"scatter\"}], {\"showlegend\":true,\"xaxis\":{\"showticklabels\":true,\"gridwidth\":0.5,\"tickvals\":[0.5,1.5,2.5,3.5,4.5,5.5,6.5,7.5,8.5,9.5,10.5,11.5,12.5,13.5,14.5,15.5,16.5,17.5],\"visible\":true,\"ticks\":\"inside\",\"range\":[-0.9873199999999999,18.987319999999997],\"domain\":[0.0526567512394284,0.994750656167979],\"tickmode\":\"array\",\"linecolor\":\"rgba(0, 0, 0, 1.000)\",\"showgrid\":true,\"title\":\"\",\"mirror\":false,\"tickangle\":0,\"showline\":true,\"gridcolor\":\"rgba(0, 0, 0, 0.100)\",\"titlefont\":{\"color\":\"rgba(0, 0, 0, 1.000)\",\"family\":\"sans-serif\",\"size\":15},\"tickcolor\":\"rgb(0, 0, 0)\",\"ticktext\":[\"C1\",\"C2\",\"C3\",\"C4\",\"C5\",\"C6\",\"C7\",\"C8\",\"C9\",\"CA\",\"CB\",\"CC\",\"CD\",\"CE\",\"CF\",\"CG\",\"O1\",\"O2\"],\"zeroline\":false,\"type\":\"-\",\"tickfont\":{\"color\":\"rgba(0, 0, 0, 1.000)\",\"family\":\"sans-serif\",\"size\":11},\"zerolinecolor\":\"rgba(0, 0, 0, 1.000)\",\"anchor\":\"y1\"},\"paper_bgcolor\":\"rgba(255, 255, 255, 1.000)\",\"annotations\":[],\"height\":400,\"margin\":{\"l\":0,\"b\":20,\"r\":0,\"t\":20},\"plot_bgcolor\":\"rgba(255, 255, 255, 1.000)\",\"yaxis\":{\"showticklabels\":true,\"gridwidth\":0.5,\"tickvals\":[0.0,0.02,0.04,0.06,0.08],\"visible\":true,\"ticks\":\"inside\",\"range\":[-0.0025765882754294643,0.08846286412307827],\"domain\":[0.03762029746281716,0.9901574803149606],\"tickmode\":\"array\",\"linecolor\":\"rgba(0, 0, 0, 1.000)\",\"showgrid\":true,\"title\":\"\",\"mirror\":false,\"tickangle\":0,\"showline\":true,\"gridcolor\":\"rgba(0, 0, 0, 0.100)\",\"titlefont\":{\"color\":\"rgba(0, 0, 0, 1.000)\",\"family\":\"sans-serif\",\"size\":15},\"tickcolor\":\"rgb(0, 0, 0)\",\"ticktext\":[\"0.00\",\"0.02\",\"0.04\",\"0.06\",\"0.08\"],\"zeroline\":false,\"type\":\"-\",\"tickfont\":{\"color\":\"rgba(0, 0, 0, 1.000)\",\"family\":\"sans-serif\",\"size\":11},\"zerolinecolor\":\"rgba(0, 0, 0, 1.000)\",\"anchor\":\"x1\"},\"legend\":{\"tracegroupgap\":0,\"bordercolor\":\"rgba(0, 0, 0, 1.000)\",\"bgcolor\":\"rgba(255, 255, 255, 1.000)\",\"font\":{\"color\":\"rgba(0, 0, 0, 1.000)\",\"family\":\"sans-serif\",\"size\":11},\"y\":1.0,\"x\":1.0},\"width\":750});\n",
       "    </script>\n"
      ]
     },
     "execution_count": 76,
     "metadata": {},
     "output_type": "execute_result"
    }
   ],
   "source": [
    "x_lig = repeat(name_lig_v1, outer = 2)\n",
    "g_lig = repeat([ \"V2\" ; \"V3\" ], inner = length(mask_lig))\n",
    "\n",
    "groupedbar(x_lig, hcat(dens_lig_v2, dens_lig_v3),\n",
    "    group = g_lig,\n",
    "    bar_position = :dodge, linecolor = false, size = (750, 400))"
   ]
  },
  {
   "cell_type": "code",
   "execution_count": 70,
   "metadata": {},
   "outputs": [
    {
     "data": {
      "text/plain": [
       "3×2 Array{Float64,2}:\n",
       " 0.299684  0.300547\n",
       " 0.497413  0.493428\n",
       " 0.202903  0.206025"
      ]
     },
     "execution_count": 70,
     "metadata": {},
     "output_type": "execute_result"
    }
   ],
   "source": [
    "hcat(dens_lig_v2, dens_lig_v3)"
   ]
  },
  {
   "cell_type": "code",
   "execution_count": null,
   "metadata": {},
   "outputs": [],
   "source": []
  }
 ],
 "metadata": {
  "anaconda-cloud": {},
  "kernelspec": {
   "display_name": "Julia 1.0.1",
   "language": "julia",
   "name": "julia-1.0.1"
  },
  "language_info": {
   "file_extension": ".jl",
   "mimetype": "application/julia",
   "name": "julia",
   "version": "1.0.1"
  }
 },
 "nbformat": 4,
 "nbformat_minor": 2
}
