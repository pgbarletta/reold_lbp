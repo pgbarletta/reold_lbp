{
 "cells": [
  {
   "cell_type": "code",
   "execution_count": 1,
   "metadata": {},
   "outputs": [],
   "source": [
    "#pragma cling add_include_path(\"/home/german/chemfiles/build/install/include\")\n",
    "#pragma cling add_library_path(\"/home/german/chemfiles/build/install/lib\")\n",
    "#include \"chemfiles.hpp\"\n",
    "#pragma cling load(\"libchemfiles.so\")\n",
    "#include <iostream>\n",
    "#include <string>\n",
    "#include <typeinfo>"
   ]
  },
  {
   "cell_type": "code",
   "execution_count": 3,
   "metadata": {},
   "outputs": [],
   "source": [
    "// Read PDB and get its topology\n",
    "chemfiles::Trajectory in_top_trj(\"/home/german/labo/18/lbp/run/4xcp/pca/full_avg_4xcp.pdb\");\n",
    "auto in_top_frm = in_top_trj.read();\n",
    "auto in_top = in_top_frm.topology();\n",
    "// Get ligand topology\n",
    "auto residuos = in_top.residues();\n",
    "auto lig_res = residuos[residuos.size() - 1];\n",
    "// Add it to the output topology\n",
    "chemfiles::Topology out_top;\n",
    "for (const auto &each : lig_res) {\n",
    "    out_top.add_atom(in_top[each]);\n",
    "}"
   ]
  },
  {
   "cell_type": "code",
   "execution_count": null,
   "metadata": {},
   "outputs": [],
   "source": [
    "chemfiles::Trajectory in_trj(\"/home/german/labo/18/lbp/run/4xcp/data/full_fit_4xcp.nc\");\n",
    "std::string out_folder = \"/home/german/labo/18/lbp/run/4xcp/lig_asa/pdbs/\";\n",
    "std::string out_filename = \"traj_\";"
   ]
  },
  {
   "cell_type": "code",
   "execution_count": null,
   "metadata": {},
   "outputs": [],
   "source": [
    "for (size_t i = 0 ; i < in_trj.nsteps() ; i+= 10) {\n",
    "    auto in_frm = in_trj.read_step(i);\n",
    "    auto in_xyz = in_frm.positions();\n",
    "    \n",
    "    chemfiles::Frame out_frm;\n",
    "\n",
    "    size_t j = 0;\n",
    "    auto res_ite = std::begin(lig_res);\n",
    "    for(const auto& lig_atm : lig_res) {\n",
    "        out_frm.add_atom(chemfiles::Atom(in_top[lig_atm].type()), in_xyz[*res_ite++]);\n",
    "        ++j;\n",
    "    }\n",
    "    chemfiles::Trajectory out_trj(out_folder + out_filename + std::to_string(i) + \".pdb\", 'w');\n",
    "    out_trj.set_topology(out_top);   \n",
    "    out_trj.write(out_frm);\n",
    "}"
   ]
  },
  {
   "cell_type": "code",
   "execution_count": 12,
   "metadata": {},
   "outputs": [
    {
     "data": {
      "text/plain": [
       "20000"
      ]
     },
     "execution_count": 12,
     "metadata": {},
     "output_type": "execute_result"
    }
   ],
   "source": []
  }
 ],
 "metadata": {
  "kernelspec": {
   "display_name": "C++17",
   "language": "C++17",
   "name": "xeus-cling-cpp17"
  },
  "language_info": {
   "codemirror_mode": "text/x-c++src",
   "file_extension": ".cpp",
   "mimetype": "text/x-c++src",
   "name": "c++",
   "version": "17"
  }
 },
 "nbformat": 4,
 "nbformat_minor": 2
}
