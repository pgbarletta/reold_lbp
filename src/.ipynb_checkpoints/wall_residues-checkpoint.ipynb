{
 "cells": [
  {
   "cell_type": "code",
   "execution_count": 1,
   "metadata": {},
   "outputs": [
    {
     "data": {
      "text/plain": [
       "\"/home/pbarletta/labo/18/lbp/rtdos_log\""
      ]
     },
     "execution_count": 1,
     "metadata": {},
     "output_type": "execute_result"
    }
   ],
   "source": [
    "using DataFrames, \n",
    "DelimitedFiles, DataStructures\n",
    "using Plots, JUMD, Chemfiles\n",
    "home = \"/home/pbarletta/labo/18/lbp/run\"\n",
    "rtdos = \"/home/pbarletta/labo/18/lbp/rtdos_log\""
   ]
  },
  {
   "cell_type": "code",
   "execution_count": 2,
   "metadata": {},
   "outputs": [],
   "source": [
    "# 4UET\n",
    "cutoff = .2\n",
    "nframes = 3000\n",
    "msk = collect(3:4:nframes*4)\n",
    "\n",
    "wall_4uet = readdlm(joinpath(home, \"4uet\", \"cavidad\", \"100\", \"wall_avg_4uet\"));\n",
    "proto_res_4uet = wall_4uet[msk, 3:end]\n",
    "\n",
    "# Contar ocurrencias de c/ residuo\n",
    "conteo_4uet = OrderedDict{Int64, Float64}()\n",
    "for i in proto_res_4uet\n",
    "    if typeof(i) == Int64\n",
    "        conteo_4uet[i] = get(conteo_4uet, i, 0) + 1.\n",
    "    end\n",
    "end\n",
    "\n",
    "# Pasar de conteo a fracción relativa\n",
    "conteo_4uet.vals = conteo_4uet.vals / nframes\n",
    "res_4uet = sort(conteo_4uet.keys[conteo_4uet.vals .> cutoff]);\n",
    "\n",
    "# 4XCP\n",
    "wall_4xcp = readdlm(joinpath(home, \"4xcp\", \"cavidad\", \"100\", \"wall_avg_4xcp\"));\n",
    "proto_res_4xcp = wall_4xcp[msk, 3:end]\n",
    "\n",
    "# Contar ocurrencias de c/ residuo\n",
    "conteo_4xcp = OrderedDict{Int64, Float64}()\n",
    "for i in proto_res_4xcp\n",
    "    if typeof(i) == Int64\n",
    "        conteo_4xcp[i] = get(conteo_4xcp, i, 0) + 1.\n",
    "    end\n",
    "end\n",
    "\n",
    "# Pasar de conteo a fracción relativa\n",
    "conteo_4xcp.vals = conteo_4xcp.vals / nframes\n",
    "res_4xcp = sort(conteo_4xcp.keys[conteo_4xcp.vals .> cutoff]);"
   ]
  },
  {
   "cell_type": "markdown",
   "metadata": {},
   "source": [
    "#### RESNAMES"
   ]
  },
  {
   "cell_type": "code",
   "execution_count": 11,
   "metadata": {},
   "outputs": [
    {
     "data": {
      "text/plain": [
       "Topology(Ptr{Chemfiles.lib.CHFL_TOPOLOGY} @0x0000000003caf380)"
      ]
     },
     "execution_count": 11,
     "metadata": {},
     "output_type": "execute_result"
    }
   ],
   "source": [
    "in_trj_4uet = Trajectory(joinpath(home, \"4uet\", \"cavidad\", \"100\", \"avg_4uet.pdb\"))\n",
    "in_frm_4uet = read(in_trj_4uet)\n",
    "in_top_4uet = Topology(in_frm_4uet)"
   ]
  },
  {
   "cell_type": "code",
   "execution_count": 49,
   "metadata": {},
   "outputs": [
    {
     "data": {
      "text/plain": [
       "19×2 Array{Any,2}:\n",
       " \"LEU\"    4\n",
       " \"MET\"    5\n",
       " \"PRO\"    6\n",
       " \"ALA\"    9\n",
       " \"PHE\"   12\n",
       " \"LEU\"   13\n",
       " \"LEU\"   24\n",
       " \"PHE\"   28\n",
       " \"THR\"   36\n",
       " \"VAL\"   54\n",
       " \"LEU\"   57\n",
       " \"HIE\"   58\n",
       " \"VAL\"   61\n",
       " \"ILE\"   80\n",
       " \"ALA\"   83\n",
       " \"ARG\"   84\n",
       " \"LYS\"   87\n",
       " \"TYR\"   91\n",
       " \"LEU\"  130"
      ]
     },
     "execution_count": 49,
     "metadata": {},
     "output_type": "execute_result"
    }
   ],
   "source": [
    "hcat(map(x -> name(Residue(in_top_4uet, x-1)), poc_apo), poc_apo)"
   ]
  },
  {
   "cell_type": "code",
   "execution_count": 52,
   "metadata": {},
   "outputs": [
    {
     "data": {
      "text/plain": [
       "18×2 Array{Any,2}:\n",
       " \"LEU\"   16\n",
       " \"LYS\"   21\n",
       " \"LYS\"   25\n",
       " \"VAL\"   27\n",
       " \"SER\"   39\n",
       " \"ILE\"   40\n",
       " \"LEU\"   43\n",
       " \"MET\"   60\n",
       " \"PHE\"   75\n",
       " \"ALA\"   76\n",
       " \"ILE\"   82\n",
       " \"ILE\"   86\n",
       " \"TYR\"   90\n",
       " \"LEU\"  101\n",
       " \"SER\"  104\n",
       " \"PHE\"  123\n",
       " \"PHE\"  127\n",
       " \"VAL\"  133"
      ]
     },
     "execution_count": 52,
     "metadata": {},
     "output_type": "execute_result"
    }
   ],
   "source": [
    "hcat(map(x -> name(Residue(in_top_4uet, x-1)), poc_extra_hol[1:end-1]), poc_extra_hol[1:end-1])"
   ]
  },
  {
   "cell_type": "code",
   "execution_count": 63,
   "metadata": {},
   "outputs": [
    {
     "data": {
      "text/plain": [
       "53×2 Array{Any,2}:\n",
       " \"TYR\"    1\n",
       " \"ASP\"    3\n",
       " \"PRO\"    6\n",
       " \"PRO\"    7\n",
       " \"ARG\"   10\n",
       " \"ASP\"   11\n",
       " \"LEU\"   13\n",
       " \"GLN\"   14\n",
       " \"ASN\"   15\n",
       " \"LEU\"   16\n",
       " \"SER\"   17\n",
       " \"ASP\"   18\n",
       " \"ASP\"   20\n",
       " ⋮         \n",
       " \"ASP\"  100\n",
       " \"LEU\"  101\n",
       " \"TYR\"  112\n",
       " \"LYS\"  113\n",
       " \"SER\"  116\n",
       " \"ASP\"  117\n",
       " \"ALA\"  118\n",
       " \"PHE\"  123\n",
       " \"GLN\"  126\n",
       " \"LEU\"  130\n",
       " \"LYS\"  132\n",
       " \"GLU\"  135"
      ]
     },
     "execution_count": 63,
     "metadata": {},
     "output_type": "execute_result"
    }
   ],
   "source": [
    "hcat(map(x -> name(Residue(in_top_4uet, x-1)), res_4uet), res_4uet)"
   ]
  },
  {
   "cell_type": "code",
   "execution_count": 69,
   "metadata": {},
   "outputs": [
    {
     "data": {
      "text/plain": [
       "15-element Array{Any,1}:\n",
       "  97\n",
       "  99\n",
       " 100\n",
       " 101\n",
       " 110\n",
       " 112\n",
       " 113\n",
       " 116\n",
       " 117\n",
       " 122\n",
       " 123\n",
       " 126\n",
       " 130\n",
       " 132\n",
       " 135"
      ]
     },
     "execution_count": 69,
     "metadata": {},
     "output_type": "execute_result"
    }
   ],
   "source": [
    "hcat(map(x -> name(Residue(in_top_4uet, x-1)), res_4xcp), res_4xcp)[41:end, 2]"
   ]
  }
 ],
 "metadata": {
  "kernelspec": {
   "display_name": "Julia 1.0.1",
   "language": "julia",
   "name": "julia-1.0.1"
  },
  "language_info": {
   "file_extension": ".jl",
   "mimetype": "application/julia",
   "name": "julia",
   "version": "1.0.1"
  }
 },
 "nbformat": 4,
 "nbformat_minor": 2
}
