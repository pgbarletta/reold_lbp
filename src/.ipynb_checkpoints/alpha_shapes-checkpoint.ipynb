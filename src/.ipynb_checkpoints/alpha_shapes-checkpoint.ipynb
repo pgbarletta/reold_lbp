{
 "cells": [
  {
   "cell_type": "code",
   "execution_count": 1,
   "metadata": {},
   "outputs": [],
   "source": [
    "#pragma cling add_include_path(\"/home/german/CGAL-4.12/build/install/include\")\n",
    "#pragma cling add_library_path(\"/home/german/CGAL-4.12/build/install/lib\")\n",
    "#pragma cling load(\"libCGAL.so\")\n",
    "#pragma cling load(\"libCGAL_Core.so\")"
   ]
  },
  {
   "cell_type": "code",
   "execution_count": 2,
   "metadata": {},
   "outputs": [],
   "source": [
    "#include <CGAL/Exact_predicates_inexact_constructions_kernel.h>\n",
    "#include <CGAL/Alpha_shape_2.h>\n",
    "#include <CGAL/Alpha_shape_face_base_2.h>\n",
    "#include <CGAL/Alpha_shape_vertex_base_2.h>\n",
    "#include <CGAL/Regular_triangulation_2.h>\n",
    "#include <fstream>\n",
    "#include <iostream>\n",
    "#include <list>\n",
    "#include <vector>\n",
    "#include <typeinfo>\n",
    "typedef CGAL::Exact_predicates_inexact_constructions_kernel K;\n",
    "typedef K::FT                                               FT;\n",
    "typedef K::Weighted_point_2                                 Weighted_point;\n",
    "typedef K::Segment_2                                        Segment;\n",
    "typedef CGAL::Regular_triangulation_vertex_base_2<K>        Rvb;\n",
    "typedef CGAL::Alpha_shape_vertex_base_2<K,Rvb>              Vb;\n",
    "typedef CGAL::Regular_triangulation_face_base_2<K>          Rf;\n",
    "typedef CGAL::Alpha_shape_face_base_2<K,Rf>                 Fb;\n",
    "typedef CGAL::Triangulation_data_structure_2<Vb,Fb>         Tds;\n",
    "typedef CGAL::Regular_triangulation_2<K,Tds>                Triangulation_2;\n",
    "typedef CGAL::Alpha_shape_2<Triangulation_2>                Alpha_shape_2;\n",
    "typedef Alpha_shape_2::Alpha_shape_edges_iterator           Alpha_shape_edges_iterator;"
   ]
  },
  {
   "cell_type": "code",
   "execution_count": 3,
   "metadata": {},
   "outputs": [],
   "source": [
    "template <class OutputIterator>\n",
    "void alpha_edges(const Alpha_shape_2& A, OutputIterator out)\n",
    "{\n",
    "  Alpha_shape_edges_iterator it = A.alpha_shape_edges_begin(),\n",
    "                             end = A.alpha_shape_edges_end();\n",
    "  for( ; it!=end; ++it)\n",
    "    *out++ = A.segment(*it);\n",
    "}\n",
    "bool file_input(std::list<Weighted_point>& L)\n",
    "{\n",
    "  std::ifstream is(\"./fin_weighted\", std::ios::in);\n",
    "  if(is.fail())\n",
    "  {\n",
    "    std::cerr << \"unable to open file for input\" << std::endl;\n",
    "    return false;\n",
    "  }\n",
    "  int n;\n",
    "  is >> n;\n",
    "  std::cout << \"Reading \" << n << \" points\" << std::endl;\n",
    "  for( ; n>0; n--)\n",
    "  {\n",
    "    Weighted_point wp;\n",
    "    is >> wp;\n",
    "    L.push_back(wp);\n",
    "  }\n",
    "  return true;\n",
    "}\n",
    "// Reads a list of points and returns a list of segments corresponding to\n",
    "// the weighted Alpha Shape."
   ]
  },
  {
   "cell_type": "code",
   "execution_count": 4,
   "metadata": {},
   "outputs": [
    {
     "name": "stdout",
     "output_type": "stream",
     "text": [
      "Reading 206 points\n",
      "Alpha Shape computed\n",
      "73 alpha shape edges\n",
      "Optimal alpha: 2822.19\n"
     ]
    },
    {
     "data": {
      "text/plain": [
       "@0x349af40"
      ]
     },
     "execution_count": 4,
     "metadata": {},
     "output_type": "execute_result"
    }
   ],
   "source": [
    "  std::list<Weighted_point> wpoints;\n",
    "  if(!file_input(wpoints))\n",
    "    return -1;\n",
    "  Alpha_shape_2 A(wpoints.begin(), wpoints.end(),\n",
    "                  FT(10000),\n",
    "                  Alpha_shape_2::GENERAL);\n",
    "  std::vector<Segment> segments;\n",
    "  alpha_edges(A, std::back_inserter(segments));\n",
    "  std::cout << \"Alpha Shape computed\" << std::endl;\n",
    "  std::cout << segments.size() << \" alpha shape edges\" << std::endl;\n",
    "  std::cout << \"Optimal alpha: \" << *A.find_optimal_alpha(1) <<std::endl;\n",
    "  "
   ]
  },
  {
   "cell_type": "code",
   "execution_count": 5,
   "metadata": {},
   "outputs": [
    {
     "data": {
      "text/plain": [
       "10000"
      ]
     },
     "execution_count": 5,
     "metadata": {},
     "output_type": "execute_result"
    }
   ],
   "source": [
    "A.set_alpha(3000)"
   ]
  },
  {
   "cell_type": "code",
   "execution_count": 6,
   "metadata": {},
   "outputs": [],
   "source": [
    "std::ofstream salida(\"sal\");"
   ]
  },
  {
   "cell_type": "code",
   "execution_count": 7,
   "metadata": {},
   "outputs": [],
   "source": [
    "for(size_t i = 0 ; i < segments.size() ; ++i) {\n",
    "    salida << segments[i].point(0) << '\\n';\n",
    "    salida << segments[i].point(1) << '\\n';\n",
    "}"
   ]
  },
  {
   "cell_type": "code",
   "execution_count": 8,
   "metadata": {},
   "outputs": [],
   "source": [
    "salida.close();"
   ]
  },
  {
   "cell_type": "code",
   "execution_count": null,
   "metadata": {},
   "outputs": [],
   "source": []
  }
 ],
 "metadata": {
  "kernelspec": {
   "display_name": "C++17",
   "language": "C++17",
   "name": "xeus-cling-cpp17"
  },
  "language_info": {
   "codemirror_mode": "text/x-c++src",
   "file_extension": ".cpp",
   "mimetype": "text/x-c++src",
   "name": "c++",
   "version": "17"
  }
 },
 "nbformat": 4,
 "nbformat_minor": 2
}
