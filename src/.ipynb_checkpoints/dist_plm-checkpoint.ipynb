{
 "cells": [
  {
   "cell_type": "code",
   "execution_count": 1,
   "metadata": {},
   "outputs": [],
   "source": [
    "#pragma cling add_include_path(\"/home/german/chemfiles/build/install/include\")\n",
    "#pragma cling add_library_path(\"/home/german/chemfiles/build/install/lib\")\n",
    "#include \"chemfiles.hpp\"\n",
    "#pragma cling load(\"libchemfiles.so\")\n",
    "#include <iostream>\n",
    "#include  <fstream>\n",
    "#include <string>\n",
    "#include <typeinfo>"
   ]
  },
  {
   "cell_type": "code",
   "execution_count": 2,
   "metadata": {},
   "outputs": [],
   "source": [
    "chemfiles::Trajectory in_trj(\"/home/german/labo/18/lbp/run/4xcp/data/full_fit_4xcp.nc\");\n",
    "std::string home = \"/home/german/labo/18/lbp/run/4xcp/lig_asa/\";\n",
    "std::string out_filename = \"dist_c1_cg\";\n",
    "const size_t C1 = 2426;\n",
    "const size_t CG = 2443;\n",
    "std::vector<double> trj_dis(in_trj.nsteps() / 10)"
   ]
  },
  {
   "cell_type": "code",
   "execution_count": 3,
   "metadata": {},
   "outputs": [],
   "source": [
    "std::ofstream out_stream(home + out_filename);\n",
    "\n",
    "if (out_stream) {\n",
    "    size_t j = 0;\n",
    "    for (size_t i = 0 ; i < in_trj.nsteps() ; i+= 10) {\n",
    "        const auto in_frm = in_trj.read_step(i);\n",
    "        const auto in_xyz = in_frm.positions();\n",
    "        trj_dis[j] = (in_xyz[2426] - in_xyz[2443]).norm();\n",
    "        out_stream << trj_dis[j] << '\\n';\n",
    "        ++j;\n",
    "    }\n",
    "}\n",
    "out_stream.close()"
   ]
  },
  {
   "cell_type": "code",
   "execution_count": 4,
   "metadata": {},
   "outputs": [],
   "source": []
  }
 ],
 "metadata": {
  "kernelspec": {
   "display_name": "C++17",
   "language": "C++17",
   "name": "xeus-cling-cpp17"
  },
  "language_info": {
   "codemirror_mode": "text/x-c++src",
   "file_extension": ".cpp",
   "mimetype": "text/x-c++src",
   "name": "c++",
   "version": "17"
  }
 },
 "nbformat": 4,
 "nbformat_minor": 2
}
