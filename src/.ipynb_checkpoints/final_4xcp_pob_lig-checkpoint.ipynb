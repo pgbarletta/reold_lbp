{
 "cells": [
  {
   "cell_type": "code",
   "execution_count": 1,
   "metadata": {},
   "outputs": [
    {
     "name": "stderr",
     "output_type": "stream",
     "text": [
      "┌ Info: Precompiling StatPlots [60ddc479-9b66-56df-82fc-76a74619b69c]\n",
      "└ @ Base loading.jl:1189\n",
      "┌ Info: Recompiling stale cache file /home/pbarletta/.julia/compiled/v1.0/JUMD.ji for JUMD [top-level]\n",
      "└ @ Base loading.jl:1187\n"
     ]
    },
    {
     "data": {
      "text/plain": [
       "Plots.PyPlotBackend()"
      ]
     },
     "execution_count": 1,
     "metadata": {},
     "output_type": "execute_result"
    }
   ],
   "source": [
    "using DelimitedFiles, HDF5, FileIO\n",
    "using Plots, Rsvg, LaTeXStrings, StatPlots\n",
    "using Chemfiles, JUMD\n",
    "using LinearAlgebra, Statistics\n",
    "home = \"/home/pbarletta/labo/18/lbp/run\"\n",
    "rtdos = \"/home/pbarletta/labo/18/lbp/rtdos_log\"\n",
    "pyplot()"
   ]
  },
  {
   "cell_type": "markdown",
   "metadata": {},
   "source": [
    "### Lee modos, volumen original y  volúmenes NDD. Obtiene VGV"
   ]
  },
  {
   "cell_type": "code",
   "execution_count": 12,
   "metadata": {
    "collapsed": true
   },
   "outputs": [],
   "source": [
    "pdb = \"4xcp\"\n",
    "# Leo modos\n",
    "modes_4xcp, evals_4xcp = JUMD.readPtrajModes(\n",
    "    joinpath(home, pdb,  \"pca\", string(\"full_modes_\", pdb)))\n",
    "\n",
    "# AAs\n",
    "aa3 = convert(Int64, length(evals_4xcp))\n",
    "aa = convert(Int64, aa3 / 3)\n",
    "\n",
    "# Leo volumen de la traj\n",
    "trj_vol = convert(Array{Float64, 1}, \n",
    "    readdlm(joinpath(home, pdb, \"cavidad\", string(\"vol_trj_\", pdb)))[:, 3]);\n",
    "\n",
    "# Leo volúmene del average\n",
    "vol_avg_4xcp = convert(Float64, readdlm(joinpath(home, pdb,  \"ndd\", string(\"vol_avg_\", pdb)))[3])\n",
    "\n",
    "# Leo volúmenes NDD\n",
    "ndd_out_4xcp = convert(Array{Float64, 1},\n",
    "    readdlm(joinpath(home, pdb,  \"ndd\", string(\"out_ndd_\", pdb)))[2:end, 2])\n",
    "\n",
    "# VGV\n",
    "vgv_4xcp = (ndd_out_4xcp .- vol_avg_4xcp) .* evals_4xcp\n",
    "vgv_4xcp = vgv_4xcp ./ norm(vgv_4xcp);"
   ]
  },
  {
   "cell_type": "markdown",
   "metadata": {},
   "source": [
    "### Obtengo proyecciones de PCA sobre trayectoria"
   ]
  },
  {
   "cell_type": "code",
   "execution_count": 14,
   "metadata": {},
   "outputs": [
    {
     "name": "stderr",
     "output_type": "stream",
     "text": [
      "HDF5-DIAG: Error detected in HDF5 (1.10.0-patch1) thread 139783114222784:\n",
      "  #000: ../../../src/H5F.c line 410 in H5Fis_hdf5(): unable open file\n",
      "    major: File accessibilty\n",
      "    minor: Not an HDF5 file\n",
      "  #001: ../../../src/H5Fint.c line 529 in H5F_is_hdf5(): unable to open file\n",
      "    major: Low-level I/O\n",
      "    minor: Unable to initialize object\n",
      "  #002: ../../../src/H5FD.c line 812 in H5FD_open(): open failed\n",
      "    major: Virtual File Layer\n",
      "    minor: Unable to initialize object\n",
      "  #003: ../../../src/H5FDsec2.c line 348 in H5FD_sec2_open(): unable to open file: name = '/home/pbarletta/labo/18/lbp/rtdos_log/diff_4xcp.h5', errno = 2, error message = 'No such file or directory', flags = 0, o_flags = 0\n",
      "    major: File accessibilty\n",
      "    minor: Unable to open file\n"
     ]
    },
    {
     "ename": "ErrorException",
     "evalue": "Cannot access file /home/pbarletta/labo/18/lbp/rtdos_log/diff_4xcp.h5",
     "output_type": "error",
     "traceback": [
      "Cannot access file /home/pbarletta/labo/18/lbp/rtdos_log/diff_4xcp.h5",
      "",
      "Stacktrace:",
      " [1] error(::String, ::String) at ./error.jl:42",
      " [2] h5f_is_hdf5 at /home/pbarletta/.julia/packages/HDF5/b6QoH/src/HDF5.jl:2259 [inlined]",
      " [3] #h5open#3(::Bool, ::Function, ::String, ::Bool, ::Bool, ::Bool, ::Bool, ::Bool, ::HDF5Properties, ::HDF5Properties) at /home/pbarletta/.julia/packages/HDF5/b6QoH/src/HDF5.jl:631",
      " [4] #h5open at /home/pbarletta/.julia/packages/HDF5/b6QoH/src/HDF5.jl:0 [inlined]",
      " [5] #h5open#4(::Bool, ::Function, ::String, ::String) at /home/pbarletta/.julia/packages/HDF5/b6QoH/src/HDF5.jl:679",
      " [6] h5open at /home/pbarletta/.julia/packages/HDF5/b6QoH/src/HDF5.jl:662 [inlined]",
      " [7] h5read(::String, ::String) at /home/pbarletta/.julia/packages/HDF5/b6QoH/src/HDF5.jl:728",
      " [8] top-level scope at In[14]:1"
     ]
    }
   ],
   "source": [
    "dif = h5read(joinpath(rtdos, string(\"diff_\", pdb, \".h5\")), \"dif\")\n",
    "norm_dif = mapslices(x -> x ./ norm(x), dif,  dims = 1)\n",
    "nframes = size(dif)[2]\n",
    "\n",
    "prj_1_4xcp = Array{Float64, 1}(undef, nframes)\n",
    "prj_2_4xcp = Array{Float64, 1}(undef, nframes)\n",
    "prj_3_4xcp = Array{Float64, 1}(undef, nframes)\n",
    "\n",
    "for i = 1:nframes\n",
    "    prj_1_4xcp[i] = dot(norm_dif[:, i], modes_4xcp[:, 1])\n",
    "    prj_2_4xcp[i] = dot(norm_dif[:, i], modes_4xcp[:, 2])\n",
    "    prj_3_4xcp[i] = dot(norm_dif[:, i], modes_4xcp[:, 3])\n",
    "end\n",
    "\n",
    "# Smooth\n",
    "smooth_prj_1_4xcp = [ mean(prj_1_4xcp[i:i+9]) for i = 1:10:length(prj_1_4xcp)-9 ]\n",
    "smooth_prj_2_4xcp = [ mean(prj_2_4xcp[i:i+9]) for i = 1:10:length(prj_2_4xcp)-9 ]\n",
    "smooth_prj_3_4xcp = [ mean(prj_3_4xcp[i:i+9]) for i = 1:10:length(prj_3_4xcp)-9 ];"
   ]
  },
  {
   "cell_type": "markdown",
   "metadata": {},
   "source": [
    "#### Leo los vectores diferencia y los normalizo\n",
    "#### Obtengo las proyecciónes de vectores diferencia sobre los 1eros PCA"
   ]
  },
  {
   "cell_type": "raw",
   "metadata": {},
   "source": [
    "cuentas = 125\n",
    "in_bins = collect(-1:.025:1)\n",
    "his_ind_12, his_12 = JUMD.MatHisInd2D(prj_1_4xcp, prj_2_4xcp, in_bins, in_bins);\n",
    "his_ind_13, his_13 = JUMD.MatHisInd2D(prj_1_4xcp, prj_3_4xcp, in_bins, in_bins);\n",
    "his_ind_23, his_23 = JUMD.MatHisInd2D(prj_2_4xcp, prj_3_4xcp, in_bins, in_bins);\n",
    "\n",
    "msk_12 = his_12 .> cuentas\n",
    "main_his_12 = his_12[msk_12]\n",
    "main_his_ind_12 = his_ind_12[msk_12];\n",
    "\n",
    "msk_13 = his_13 .> cuentas\n",
    "main_his_13 = his_13[msk_13]\n",
    "main_his_ind_13 = his_ind_13[msk_13];\n",
    "\n",
    "msk_23 = his_23 .> cuentas\n",
    "main_his_23 = his_23[msk_23]\n",
    "main_his_ind_23 = his_ind_23[msk_23];\n",
    "\n",
    "# 1\n",
    "spy(msk_12[15:50, 20:32])\n",
    "# 2\n",
    "spy(msk_12[69:80, 25:55])\n",
    "# 3\n",
    "spy(msk_12[25:48, 70:80])\n",
    "\n",
    "idx_vol1 = collect(Iterators.flatten(his_ind_12[15:50, 20:32]))\n",
    "idx_vol2 = collect(Iterators.flatten(his_ind_12[69:80, 25:55]))\n",
    "idx_vol3 = collect(Iterators.flatten(his_ind_12[25:48, 70:80]));\n",
    "\n",
    "# Indices de poblaciones\n",
    "writedlm(joinpath(rtdos, string(pdb, \"_idx_vol1\")), idx_vol1)\n",
    "writedlm(joinpath(rtdos, string(pdb, \"_idx_vol2\")), idx_vol2)\n",
    "writedlm(joinpath(rtdos, string(pdb, \"_idx_vol3\")), idx_vol3)"
   ]
  },
  {
   "cell_type": "raw",
   "metadata": {},
   "source": [
    "# Preparo\n",
    "in_trj = Trajectory(joinpath(home, pdb, \"pca\", string(\"full_avgfit_\", pdb, \".nc\")))\n",
    "nframes = convert(Int64, nsteps(in_trj))\n",
    "close(in_trj)\n",
    "\n",
    "# Uso esto p/ dividir las trayectorias a escribir en 10 partes y q\n",
    "# no me llenen la memoria\n",
    "function filter_trj(indices::Array{Int64, 1},\n",
    "    in_filename::AbstractString, ou_filename::AbstractString)\n",
    "    # Divide la corrida en 10 secciones\n",
    "    idx_ = convert(Int64, ceil(length(indices) / 10))\n",
    "    secc = [ collect(1:idx_:length(indices)) ; length(indices) ]\n",
    "    secc[end] += 1\n",
    "    \n",
    "    ou_trj = Trajectory(ou_filename, 'w')\n",
    "    for j in 1:length(secc) - 1\n",
    "        in_trj = Trajectory(in_filename)\n",
    "        for i in secc[j]:secc[j+1]-1\n",
    "            in_frm = read_step(in_trj, indices[i] - 1)\n",
    "            write(ou_trj, in_frm)\n",
    "        end\n",
    "        close(in_trj)\n",
    "        println(j)\n",
    "        GC.gc()\n",
    "    end\n",
    "    close(ou_trj)\n",
    "end\n",
    "\n",
    "filter_trj(idx_vol1, joinpath(home, pdb, \"pca\", string(\"full_avgfit_\", pdb, \".nc\")),\n",
    "    joinpath(home, pdb, string(\"poblaciones/vol1_\", pdb, \".nc\")))\n",
    "filter_trj(idx_vol2, joinpath(home, pdb, \"pca\", string(\"full_avgfit_\", pdb, \".nc\")),\n",
    "    joinpath(home, pdb, string(\"poblaciones/vol2_\", pdb, \".nc\")))\n",
    "filter_trj(idx_vol3, joinpath(home, pdb, \"pca\", string(\"full_avgfit_\", pdb, \".nc\")),\n",
    "    joinpath(home, pdb, string(\"poblaciones/vol3_\", pdb, \".nc\")))"
   ]
  },
  {
   "cell_type": "code",
   "execution_count": 4,
   "metadata": {
    "collapsed": true
   },
   "outputs": [],
   "source": [
    "idx_vol1 = convert(Array{Int64}, readdlm(joinpath(rtdos, string(pdb, \"_idx_vol1\")))[:, 1])\n",
    "idx_vol2 = convert(Array{Int64}, readdlm(joinpath(rtdos, string(pdb, \"_idx_vol2\")))[:, 1])\n",
    "idx_vol3 = convert(Array{Int64}, readdlm(joinpath(rtdos, string(pdb, \"_idx_vol3\")))[:, 1])\n",
    "\n",
    "# Estiro el volumen \n",
    "full_trj_vol = Array{Float64}(undef, length(trj_vol)*10)\n",
    "for i = 1:length(trj_vol)\n",
    "    k = (i-1) * 10 + 1\n",
    "    full_trj_vol[k:k+9] =  fill(trj_vol[i], 10)\n",
    "end\n",
    "\n",
    "trj_vol1 = full_trj_vol[idx_vol1]\n",
    "trj_vol2 = full_trj_vol[idx_vol2]\n",
    "trj_vol3 = full_trj_vol[idx_vol3];"
   ]
  },
  {
   "cell_type": "code",
   "execution_count": 46,
   "metadata": {},
   "outputs": [
    {
     "data": {
      "image/png": "[encoded data removed]"
     },
     "execution_count": 46,
     "metadata": {},
     "output_type": "execute_result"
    }
   ],
   "source": [
    "st = 40\n",
    "bw = 28\n",
    "fa = .7\n",
    "bin_range = 700:st:2300\n",
    "bin_vol = collect(bin_range)\n",
    "\n",
    "# Histograma ponderado\n",
    "wgh_vol = fill(1.0, length(idx_vol1))\n",
    "bin_vol1_4xcp, his_vol1_4xcp = JUMD.WeightedHist(trj_vol1, bin_vol, wgh_vol, true, false)\n",
    "\n",
    "wgh_vol = fill(1.0, length(idx_vol2))\n",
    "bin_vol2_4xcp, his_vol2_4xcp = JUMD.WeightedHist(trj_vol2, bin_vol, wgh_vol, true, false)\n",
    "\n",
    "wgh_vol = fill(1.0, length(idx_vol3))\n",
    "bin_vol3_4xcp, his_vol3_4xcp = JUMD.WeightedHist(trj_vol3, bin_vol, wgh_vol, true, false)\n",
    "\n",
    "grp = repeat([\"pop 1\", \"pop 2\", \"pop 3\"], inner = length(bin_vol1_4xcp))\n",
    "clr = repeat([colorant\"#d64161\", colorant\"#feb236\", colorant\"#6b5b95\"],\n",
    "    inner = length(bin_vol1_4xcp))\n",
    "\n",
    "plt_his_vols = groupedbar(\n",
    "    repeat(bin_vol1_4xcp, outer = 3), hcat(his_vol1_4xcp, his_vol2_4xcp, his_vol3_4xcp),\n",
    "    group = grp, fillcolor = clr, bar_width = 45,\n",
    "    xticks = 1E3:250:2E3, yticks = .05:.05:.15,\n",
    "    xlims = (700, 2300), ylims = (0, .15),\n",
    "    \n",
    "    linecolor = false, legend = (.9, .95),\n",
    "    grid = false, guidefont = font(16, \"cursive\"), tickfont = font(11, \"cursive\"),\n",
    "    yaxis = L\"Frequency $[cm^{-1}]$\", xaxis = L\"Volume $[\\AA^3]$ \")"
   ]
  },
  {
   "cell_type": "code",
   "execution_count": 47,
   "metadata": {},
   "outputs": [],
   "source": [
    "savefig(plt_his_vols, joinpath(rtdos, \"papel\", \"3\", string(\"3_VolHis_\", pdb, \".svg\")))"
   ]
  },
  {
   "cell_type": "markdown",
   "metadata": {},
   "source": [
    "## Distancia entre extremos de ligando p/ las 3 poblaciones"
   ]
  },
  {
   "cell_type": "raw",
   "metadata": {},
   "source": [
    "const c1 = 2427\n",
    "const cg = 2444\n",
    "dis_lig_vol1 = JUMD.distancia(joinpath(home, pdb, \"poblaciones\", string(\"vol1_\", pdb , \".nc\")),\n",
    "    c1, cg, 2)\n",
    "dis_lig_vol2 = JUMD.distancia(joinpath(home, pdb, \"poblaciones\", string(\"vol2_\", pdb , \".nc\")),\n",
    "    c1, cg, 1)\n",
    "dis_lig_vol3 = JUMD.distancia(joinpath(home, pdb, \"poblaciones\", string(\"vol3_\", pdb , \".nc\")),\n",
    "    c1, cg, 1);\n",
    "# Guardo las distancias \n",
    "h5open(joinpath(rtdos, string(\"dis_lig_\", pdb, \".h5\")), \"w\") do fileID\n",
    "    write(fileID, \"vol1\", dis_lig_vol1)\n",
    "    write(fileID, \"vol2\", dis_lig_vol2)\n",
    "    write(fileID, \"vol3\", dis_lig_vol3)\n",
    "end"
   ]
  },
  {
   "cell_type": "code",
   "execution_count": 48,
   "metadata": {},
   "outputs": [
    {
     "data": {
      "image/png": "[encoded data removed]"
     },
     "execution_count": 48,
     "metadata": {},
     "output_type": "execute_result"
    }
   ],
   "source": [
    "# Leo distancias\n",
    "dis_lig_vol1 = h5read(joinpath(rtdos, string(\"dis_lig_\", pdb, \".h5\")), \"vol1\")\n",
    "dis_lig_vol2 = h5read(joinpath(rtdos, string(\"dis_lig_\", pdb, \".h5\")), \"vol2\")\n",
    "dis_lig_vol3 = h5read(joinpath(rtdos, string(\"dis_lig_\", pdb, \".h5\")), \"vol3\")\n",
    "\n",
    "st = 1\n",
    "bin_range = 2:st:20\n",
    "bin_vol = collect(bin_range)\n",
    "\n",
    "# Histograma ponderado\n",
    "wgh_vol = fill(1.0, length(dis_lig_vol1))\n",
    "bin_dis1_4xcp, his_dis1_4xcp = JUMD.WeightedHist(dis_lig_vol1, bin_vol, wgh_vol, true, false)\n",
    "\n",
    "wgh_vol = fill(1.0, length(dis_lig_vol2))\n",
    "bin_dis2_4xcp, his_dis2_4xcp = JUMD.WeightedHist(dis_lig_vol2, bin_vol, wgh_vol, true, false)\n",
    "\n",
    "wgh_vol = fill(1.0, length(dis_lig_vol3))\n",
    "bin_dis3_4xcp, his_dis3_4xcp = JUMD.WeightedHist(dis_lig_vol3, bin_vol, wgh_vol, true, false)\n",
    "\n",
    "grp = repeat([\"pop 1\", \"pop 2\", \"pop 3\"], inner = length(bin_dis1_4xcp))\n",
    "clr = repeat([colorant\"#d64161\", colorant\"#feb236\", colorant\"#6b5b95\"],\n",
    "    inner = length(bin_dis1_4xcp))\n",
    "\n",
    "plt_his_dis = groupedbar(\n",
    "    repeat(bin_dis1_4xcp, outer = 3), hcat(his_dis1_4xcp, his_dis2_4xcp, his_dis3_4xcp),\n",
    "    group = grp, fillcolor = clr,\n",
    "    #bar_width = 1.5, fillalpha = .7,\n",
    "    xticks = 4:2:20, yticks = .05:.05:.2,\n",
    "    xlims = (2, 20), ylims = (0, .2),\n",
    "    \n",
    "    linecolor = false, legend = (.9, .95),\n",
    "    grid = false, guidefont = font(16, \"cursive\"), tickfont = font(11, \"cursive\"),\n",
    "    yaxis = L\"Frequency $[cm^{-1}]$\", xaxis = L\"Distance $[\\AA]$ \")"
   ]
  },
  {
   "cell_type": "code",
   "execution_count": 49,
   "metadata": {},
   "outputs": [],
   "source": [
    "savefig(plt_his_dis, joinpath(rtdos, \"papel\", \"5\", string(\"5_Dis_\", pdb, \".svg\")))"
   ]
  }
 ],
 "metadata": {
  "anaconda-cloud": {},
  "kernelspec": {
   "display_name": "Julia 1.0.1",
   "language": "julia",
   "name": "julia-1.0.1"
  },
  "language_info": {
   "file_extension": ".jl",
   "mimetype": "application/julia",
   "name": "julia",
   "version": "1.0.1"
  }
 },
 "nbformat": 4,
 "nbformat_minor": 2
}
