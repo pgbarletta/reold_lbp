{
 "cells": [
  {
   "cell_type": "code",
   "execution_count": 1,
   "metadata": {},
   "outputs": [
    {
     "name": "stderr",
     "output_type": "stream",
     "text": [
      "┌ Info: Precompiling StatPlots [60ddc479-9b66-56df-82fc-76a74619b69c]\n",
      "└ @ Base loading.jl:1189\n"
     ]
    },
    {
     "data": {
      "text/plain": [
       "Plots.PyPlotBackend()"
      ]
     },
     "execution_count": 1,
     "metadata": {},
     "output_type": "execute_result"
    }
   ],
   "source": [
    "using DelimitedFiles, HDF5, FileIO\n",
    "using Plots, Rsvg, LaTeXStrings, StatPlots\n",
    "using Chemfiles, JUMD\n",
    "using LinearAlgebra, Statistics\n",
    "home = \"/home/pbarletta/labo/18/lbp/run\"\n",
    "rtdos = \"/home/pbarletta/labo/18/lbp/rtdos_log\"\n",
    "pyplot()"
   ]
  },
  {
   "cell_type": "markdown",
   "metadata": {},
   "source": [
    "### Lee modos, volumen original y  volúmenes NDD. Obtiene VGV"
   ]
  },
  {
   "cell_type": "code",
   "execution_count": 2,
   "metadata": {
    "collapsed": true
   },
   "outputs": [],
   "source": [
    "pdb = \"4xcp\"\n",
    "# Leo modos\n",
    "modes_4xcp, evals_4xcp = JUMD.readPtrajModes(\n",
    "    joinpath(home, pdb,  \"pca\", string(\"full_modes_\", pdb)))\n",
    "\n",
    "# AAs\n",
    "aa3 = convert(Int64, length(evals_4xcp))\n",
    "aa = convert(Int64, aa3 / 3)\n",
    "\n",
    "# Leo volumen de la traj\n",
    "trj_vol = convert(Array{Float64, 1}, \n",
    "    readdlm(joinpath(home, pdb, \"cavidad\", string(\"vol_trj_\", pdb)))[:, 3]);\n",
    "\n",
    "# Leo volúmene del average\n",
    "vol_avg_4xcp = convert(Float64, readdlm(joinpath(home, pdb,  \"ndd\", string(\"vol_avg_\", pdb)))[3])\n",
    "\n",
    "# Leo volúmenes NDD\n",
    "ndd_out_4xcp = convert(Array{Float64, 1},\n",
    "    readdlm(joinpath(home, pdb,  \"ndd\", string(\"out_ndd_\", pdb)))[2:end, 2])\n",
    "\n",
    "# VGV\n",
    "vgv_4xcp = (ndd_out_4xcp .- vol_avg_4xcp) .* evals_4xcp\n",
    "vgv_4xcp = vgv_4xcp ./ norm(vgv_4xcp);"
   ]
  },
  {
   "cell_type": "markdown",
   "metadata": {},
   "source": [
    "## Distancia entre extremos de ligando p/ las 3 poblaciones"
   ]
  },
  {
   "cell_type": "raw",
   "metadata": {},
   "source": [
    "const c1 = 2427\n",
    "const cg = 2444\n",
    "dis_lig_vol1 = JUMD.distancia(joinpath(home, pdb, \"poblaciones\", string(\"vol1_\", pdb , \".nc\")),\n",
    "    c1, cg, 2)\n",
    "dis_lig_vol2 = JUMD.distancia(joinpath(home, pdb, \"poblaciones\", string(\"vol2_\", pdb , \".nc\")),\n",
    "    c1, cg, 1)\n",
    "dis_lig_vol3 = JUMD.distancia(joinpath(home, pdb, \"poblaciones\", string(\"vol3_\", pdb , \".nc\")),\n",
    "    c1, cg, 1);\n",
    "# Guardo las distancias \n",
    "h5open(joinpath(rtdos, string(\"dis_lig_\", pdb, \".h5\")), \"w\") do fileID\n",
    "    write(fileID, \"vol1\", dis_lig_vol1)\n",
    "    write(fileID, \"vol2\", dis_lig_vol2)\n",
    "    write(fileID, \"vol3\", dis_lig_vol3)\n",
    "end"
   ]
  },
  {
   "cell_type": "code",
   "execution_count": 10,
   "metadata": {},
   "outputs": [
    {
     "data": {
      "image/png": "[encoded data removed]"
     },
     "execution_count": 10,
     "metadata": {},
     "output_type": "execute_result"
    }
   ],
   "source": [
    "# Leo distancias\n",
    "dis_lig_vol1 = h5read(joinpath(rtdos, string(\"dis_lig_\", pdb, \".h5\")), \"vol1\")\n",
    "dis_lig_vol2 = h5read(joinpath(rtdos, string(\"dis_lig_\", pdb, \".h5\")), \"vol2\")\n",
    "dis_lig_vol3 = h5read(joinpath(rtdos, string(\"dis_lig_\", pdb, \".h5\")), \"vol3\")\n",
    "\n",
    "st = 1\n",
    "bin_range = 2:st:20\n",
    "bin_vol = collect(bin_range)\n",
    "fa = .9\n",
    "\n",
    "# Histograma ponderado\n",
    "wgh_vol = fill(1.0, length(dis_lig_vol1))\n",
    "bin_dis1_4xcp, his_dis1_4xcp = JUMD.weightedHist(dis_lig_vol1, bin_vol, wgh_vol, true, false)\n",
    "\n",
    "wgh_vol = fill(1.0, length(dis_lig_vol2))\n",
    "bin_dis2_4xcp, his_dis2_4xcp = JUMD.weightedHist(dis_lig_vol2, bin_vol, wgh_vol, true, false)\n",
    "\n",
    "wgh_vol = fill(1.0, length(dis_lig_vol3))\n",
    "bin_dis3_4xcp, his_dis3_4xcp = JUMD.weightedHist(dis_lig_vol3, bin_vol, wgh_vol, true, false)\n",
    "\n",
    "grp = repeat([\"Conformer 1\", \"Conformer 2\", \"Conformer 3\"], inner = length(bin_dis1_4xcp))\n",
    "clr = repeat([colorant\"#d64161\", colorant\"#feb236\", colorant\"#6b5b95\"],\n",
    "    inner = length(bin_dis1_4xcp))\n",
    "\n",
    "plt_his_dis = groupedbar(\n",
    "    repeat(bin_dis1_4xcp, outer = 3), hcat(his_dis1_4xcp, his_dis2_4xcp, his_dis3_4xcp),\n",
    "    group = grp, fillcolor = clr,\n",
    "    fillalpha = fa,\n",
    "    xticks = 4:2:20, yticks = .05:.05:.22,\n",
    "    xlims = (2, 20), ylims = (0, .2),\n",
    "    \n",
    "    linecolor = false, legend = (.9, .95),\n",
    "    grid = false, guidefont = font(16, \"Arial\"), tickfont = font(11, \"Arial\"),\n",
    "    yaxis = \"Density\", xaxis = L\"Distance $[\\AA]$ \")"
   ]
  },
  {
   "cell_type": "code",
   "execution_count": 11,
   "metadata": {},
   "outputs": [],
   "source": [
    "savefig(plt_his_dis, joinpath(rtdos, \"papel\", \"5\", string(\"5_Dis_\", pdb, \".svg\")))"
   ]
  }
 ],
 "metadata": {
  "anaconda-cloud": {},
  "kernelspec": {
   "display_name": "Julia 1.0.1",
   "language": "julia",
   "name": "julia-1.0.1"
  },
  "language_info": {
   "file_extension": ".jl",
   "mimetype": "application/julia",
   "name": "julia",
   "version": "1.0.1"
  }
 },
 "nbformat": 4,
 "nbformat_minor": 2
}
